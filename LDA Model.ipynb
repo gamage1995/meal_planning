{
 "cells": [
  {
   "cell_type": "code",
   "execution_count": 2,
   "metadata": {},
   "outputs": [
    {
     "ename": "NameError",
     "evalue": "name 'pd' is not defined",
     "output_type": "error",
     "traceback": [
      "\u001b[1;31m---------------------------------------------------------------------------\u001b[0m",
      "\u001b[1;31mNameError\u001b[0m                                 Traceback (most recent call last)",
      "\u001b[1;32m<ipython-input-2-d615f98eb522>\u001b[0m in \u001b[0;36m<module>\u001b[1;34m\u001b[0m\n\u001b[1;32m----> 1\u001b[1;33m \u001b[0mdf\u001b[0m \u001b[1;33m=\u001b[0m \u001b[0mpd\u001b[0m\u001b[1;33m.\u001b[0m\u001b[0mread_csv\u001b[0m\u001b[1;33m(\u001b[0m\u001b[1;34m'preprocessed_foodrecipes.csv'\u001b[0m\u001b[1;33m)\u001b[0m\u001b[1;33m\u001b[0m\u001b[1;33m\u001b[0m\u001b[0m\n\u001b[0m\u001b[0;32m      2\u001b[0m \u001b[0mdf\u001b[0m\u001b[1;33m.\u001b[0m\u001b[0mhead\u001b[0m\u001b[1;33m(\u001b[0m\u001b[1;36m1\u001b[0m\u001b[1;33m)\u001b[0m\u001b[1;33m\u001b[0m\u001b[1;33m\u001b[0m\u001b[0m\n",
      "\u001b[1;31mNameError\u001b[0m: name 'pd' is not defined"
     ]
    }
   ],
   "source": [
    "df = pd.read_csv('preprocessed_foodrecipes.csv')\n",
    "df.head(1)"
   ]
  },
  {
   "cell_type": "code",
   "execution_count": 11,
   "metadata": {},
   "outputs": [],
   "source": [
    "import numpy as np\n",
    "import pandas as pd"
   ]
  },
  {
   "cell_type": "code",
   "execution_count": 12,
   "metadata": {},
   "outputs": [
    {
     "data": {
      "text/html": [
       "<div>\n",
       "<style scoped>\n",
       "    .dataframe tbody tr th:only-of-type {\n",
       "        vertical-align: middle;\n",
       "    }\n",
       "\n",
       "    .dataframe tbody tr th {\n",
       "        vertical-align: top;\n",
       "    }\n",
       "\n",
       "    .dataframe thead th {\n",
       "        text-align: right;\n",
       "    }\n",
       "</style>\n",
       "<table border=\"1\" class=\"dataframe\">\n",
       "  <thead>\n",
       "    <tr style=\"text-align: right;\">\n",
       "      <th></th>\n",
       "      <th>link</th>\n",
       "      <th>title</th>\n",
       "      <th>ratings</th>\n",
       "      <th>num_reviews</th>\n",
       "      <th>ingredients</th>\n",
       "      <th>servings</th>\n",
       "      <th>cook_time</th>\n",
       "      <th>calorie</th>\n",
       "      <th>fat_g</th>\n",
       "      <th>carb_g</th>\n",
       "      <th>protein_g</th>\n",
       "      <th>cholesterol_mg</th>\n",
       "      <th>sodium_mg</th>\n",
       "    </tr>\n",
       "  </thead>\n",
       "  <tbody>\n",
       "    <tr>\n",
       "      <th>0</th>\n",
       "      <td>https://www.allrecipes.com/recipe/100164/chip-...</td>\n",
       "      <td>Chip Truck Fries</td>\n",
       "      <td>4.44</td>\n",
       "      <td>44</td>\n",
       "      <td>['6 baking potatoes, cut into 1/4 inch slices'...</td>\n",
       "      <td>4.0</td>\n",
       "      <td>60</td>\n",
       "      <td>369.0</td>\n",
       "      <td>14.0</td>\n",
       "      <td>56.3</td>\n",
       "      <td>6.5</td>\n",
       "      <td>0.0</td>\n",
       "      <td>478.0</td>\n",
       "    </tr>\n",
       "  </tbody>\n",
       "</table>\n",
       "</div>"
      ],
      "text/plain": [
       "                                                link             title  \\\n",
       "0  https://www.allrecipes.com/recipe/100164/chip-...  Chip Truck Fries   \n",
       "\n",
       "   ratings  num_reviews                                        ingredients  \\\n",
       "0     4.44           44  ['6 baking potatoes, cut into 1/4 inch slices'...   \n",
       "\n",
       "   servings  cook_time  calorie  fat_g  carb_g  protein_g  cholesterol_mg  \\\n",
       "0       4.0         60    369.0   14.0    56.3        6.5             0.0   \n",
       "\n",
       "   sodium_mg  \n",
       "0      478.0  "
      ]
     },
     "execution_count": 12,
     "metadata": {},
     "output_type": "execute_result"
    }
   ],
   "source": [
    "df = pd.read_csv('preprocessed_foodrecipes.csv')\n",
    "df.head(1)"
   ]
  },
  {
   "cell_type": "code",
   "execution_count": 13,
   "metadata": {},
   "outputs": [
    {
     "data": {
      "text/plain": [
       "(4776, 13)"
      ]
     },
     "execution_count": 13,
     "metadata": {},
     "output_type": "execute_result"
    }
   ],
   "source": [
    "df.shape"
   ]
  },
  {
   "cell_type": "code",
   "execution_count": 14,
   "metadata": {},
   "outputs": [
    {
     "data": {
      "text/plain": [
       "\"['6 baking potatoes, cut into 1/4 inch slices', '1/4 cup vegetable oil', '2 teaspoons seasoned salt']\""
      ]
     },
     "execution_count": 14,
     "metadata": {},
     "output_type": "execute_result"
    }
   ],
   "source": [
    "df = df[['title', 'ingredients']]\n",
    "df.ingredients[0]"
   ]
  },
  {
   "cell_type": "code",
   "execution_count": 15,
   "metadata": {},
   "outputs": [],
   "source": [
    "import ast\n",
    "\n",
    "def list_to_str(x):\n",
    "    x = ast.literal_eval(x)\n",
    "    x = ','.join(x)\n",
    "    return x"
   ]
  },
  {
   "cell_type": "code",
   "execution_count": 16,
   "metadata": {},
   "outputs": [
    {
     "data": {
      "text/plain": [
       "'6 baking potatoes, cut into 1/4 inch slices,1/4 cup vegetable oil,2 teaspoons seasoned salt'"
      ]
     },
     "execution_count": 16,
     "metadata": {},
     "output_type": "execute_result"
    }
   ],
   "source": [
    "df.ingredients = df.ingredients.apply(list_to_str)\n",
    "df.ingredients[0]"
   ]
  },
  {
   "cell_type": "code",
   "execution_count": 12,
   "metadata": {},
   "outputs": [
    {
     "ename": "NameError",
     "evalue": "name 're' is not defined",
     "output_type": "error",
     "traceback": [
      "\u001b[1;31m---------------------------------------------------------------------------\u001b[0m",
      "\u001b[1;31mNameError\u001b[0m                                 Traceback (most recent call last)",
      "\u001b[1;32m<ipython-input-12-213fa52b7cb8>\u001b[0m in \u001b[0;36m<module>\u001b[1;34m\u001b[0m\n\u001b[0;32m      1\u001b[0m \u001b[0mdata\u001b[0m \u001b[1;33m=\u001b[0m \u001b[0mdf\u001b[0m\u001b[1;33m.\u001b[0m\u001b[0mingredients\u001b[0m\u001b[1;33m.\u001b[0m\u001b[0mvalues\u001b[0m\u001b[1;33m.\u001b[0m\u001b[0mtolist\u001b[0m\u001b[1;33m(\u001b[0m\u001b[1;33m)\u001b[0m\u001b[1;33m\u001b[0m\u001b[1;33m\u001b[0m\u001b[0m\n\u001b[1;32m----> 2\u001b[1;33m \u001b[0mdata\u001b[0m \u001b[1;33m=\u001b[0m \u001b[1;33m[\u001b[0m\u001b[0mre\u001b[0m\u001b[1;33m.\u001b[0m\u001b[0msub\u001b[0m\u001b[1;33m(\u001b[0m\u001b[1;34mr'[^a-zA-Z]'\u001b[0m\u001b[1;33m,\u001b[0m \u001b[1;34m' '\u001b[0m\u001b[1;33m,\u001b[0m \u001b[0msent\u001b[0m\u001b[1;33m.\u001b[0m\u001b[0mlower\u001b[0m\u001b[1;33m(\u001b[0m\u001b[1;33m)\u001b[0m\u001b[1;33m)\u001b[0m \u001b[1;32mfor\u001b[0m \u001b[0msent\u001b[0m \u001b[1;32min\u001b[0m \u001b[0mdata\u001b[0m\u001b[1;33m]\u001b[0m\u001b[1;33m\u001b[0m\u001b[1;33m\u001b[0m\u001b[0m\n\u001b[0m\u001b[0;32m      3\u001b[0m \u001b[0mdata\u001b[0m\u001b[1;33m[\u001b[0m\u001b[1;36m0\u001b[0m\u001b[1;33m]\u001b[0m\u001b[1;33m\u001b[0m\u001b[1;33m\u001b[0m\u001b[0m\n",
      "\u001b[1;32m<ipython-input-12-213fa52b7cb8>\u001b[0m in \u001b[0;36m<listcomp>\u001b[1;34m(.0)\u001b[0m\n\u001b[0;32m      1\u001b[0m \u001b[0mdata\u001b[0m \u001b[1;33m=\u001b[0m \u001b[0mdf\u001b[0m\u001b[1;33m.\u001b[0m\u001b[0mingredients\u001b[0m\u001b[1;33m.\u001b[0m\u001b[0mvalues\u001b[0m\u001b[1;33m.\u001b[0m\u001b[0mtolist\u001b[0m\u001b[1;33m(\u001b[0m\u001b[1;33m)\u001b[0m\u001b[1;33m\u001b[0m\u001b[1;33m\u001b[0m\u001b[0m\n\u001b[1;32m----> 2\u001b[1;33m \u001b[0mdata\u001b[0m \u001b[1;33m=\u001b[0m \u001b[1;33m[\u001b[0m\u001b[0mre\u001b[0m\u001b[1;33m.\u001b[0m\u001b[0msub\u001b[0m\u001b[1;33m(\u001b[0m\u001b[1;34mr'[^a-zA-Z]'\u001b[0m\u001b[1;33m,\u001b[0m \u001b[1;34m' '\u001b[0m\u001b[1;33m,\u001b[0m \u001b[0msent\u001b[0m\u001b[1;33m.\u001b[0m\u001b[0mlower\u001b[0m\u001b[1;33m(\u001b[0m\u001b[1;33m)\u001b[0m\u001b[1;33m)\u001b[0m \u001b[1;32mfor\u001b[0m \u001b[0msent\u001b[0m \u001b[1;32min\u001b[0m \u001b[0mdata\u001b[0m\u001b[1;33m]\u001b[0m\u001b[1;33m\u001b[0m\u001b[1;33m\u001b[0m\u001b[0m\n\u001b[0m\u001b[0;32m      3\u001b[0m \u001b[0mdata\u001b[0m\u001b[1;33m[\u001b[0m\u001b[1;36m0\u001b[0m\u001b[1;33m]\u001b[0m\u001b[1;33m\u001b[0m\u001b[1;33m\u001b[0m\u001b[0m\n",
      "\u001b[1;31mNameError\u001b[0m: name 're' is not defined"
     ]
    }
   ],
   "source": [
    "data = df.ingredients.values.tolist()\n",
    "data = [re.sub(r'[^a-zA-Z]', ' ', sent.lower()) for sent in data] \n",
    "data[0]"
   ]
  },
  {
   "cell_type": "code",
   "execution_count": 17,
   "metadata": {},
   "outputs": [
    {
     "data": {
      "text/plain": [
       "'  baking potatoes  cut into     inch slices     cup vegetable oil   teaspoons seasoned salt'"
      ]
     },
     "execution_count": 17,
     "metadata": {},
     "output_type": "execute_result"
    }
   ],
   "source": [
    "import re\n",
    "data = df.ingredients.values.tolist()\n",
    "data = [re.sub(r'[^a-zA-Z]', ' ', sent.lower()) for sent in data] \n",
    "data[0]"
   ]
  },
  {
   "cell_type": "code",
   "execution_count": 18,
   "metadata": {},
   "outputs": [
    {
     "name": "stderr",
     "output_type": "stream",
     "text": [
      "<>:3: DeprecationWarning: invalid escape sequence \\w\n",
      "<>:3: DeprecationWarning: invalid escape sequence \\w\n",
      "<>:3: DeprecationWarning: invalid escape sequence \\w\n",
      "<>:3: DeprecationWarning: invalid escape sequence \\w\n",
      "<>:3: DeprecationWarning: invalid escape sequence \\w\n",
      "<>:3: DeprecationWarning: invalid escape sequence \\w\n",
      "<ipython-input-18-355e78664d3a>:3: DeprecationWarning: invalid escape sequence \\w\n",
      "  expre = re.compile('\\w*' + unit + '\\w*')\n",
      "<ipython-input-18-355e78664d3a>:3: DeprecationWarning: invalid escape sequence \\w\n",
      "  expre = re.compile('\\w*' + unit + '\\w*')\n"
     ]
    },
    {
     "data": {
      "text/plain": [
       "'baking potatoes  cut into      slices      vegetable oil    seasoned salt'"
      ]
     },
     "execution_count": 18,
     "metadata": {},
     "output_type": "execute_result"
    }
   ],
   "source": [
    "units = ['spoon','pound','cup','quart','ounce','pint','degree','dash','pinch','pack','halve','bunch','inch']\n",
    "for unit in units:\n",
    "    expre = re.compile('\\w*' + unit + '\\w*')\n",
    "    data = [re.sub(expre, '', sent).strip() for sent in data]\n",
    "\n",
    "data[0]"
   ]
  },
  {
   "cell_type": "code",
   "execution_count": 19,
   "metadata": {},
   "outputs": [
    {
     "data": {
      "text/plain": [
       "'baking potatoes cut into slices vegetable oil seasoned salt'"
      ]
     },
     "execution_count": 19,
     "metadata": {},
     "output_type": "execute_result"
    }
   ],
   "source": [
    "data = [' '.join(sent.split()) for sent in data]\n",
    "\n",
    "data[0]"
   ]
  },
  {
   "cell_type": "code",
   "execution_count": 20,
   "metadata": {},
   "outputs": [
    {
     "name": "stderr",
     "output_type": "stream",
     "text": [
      "C:\\Users\\chamo\\anaconda3\\lib\\site-packages\\scipy\\sparse\\sparsetools.py:21: DeprecationWarning: `scipy.sparse.sparsetools` is deprecated!\n",
      "scipy.sparse.sparsetools is a private module for scipy.sparse, and should not be used.\n",
      "  _deprecated()\n",
      "C:\\Users\\chamo\\anaconda3\\lib\\site-packages\\gensim\\similarities\\__init__.py:15: UserWarning: The gensim.similarities.levenshtein submodule is disabled, because the optional Levenshtein package <https://pypi.org/project/python-Levenshtein/> is unavailable. Install Levenhstein (e.g. `pip install python-Levenshtein`) to suppress this warning.\n",
      "  warnings.warn(msg)\n"
     ]
    },
    {
     "data": {
      "text/plain": [
       "['baking',\n",
       " 'potatoes',\n",
       " 'cut',\n",
       " 'into',\n",
       " 'slices',\n",
       " 'vegetable',\n",
       " 'oil',\n",
       " 'seasoned',\n",
       " 'salt']"
      ]
     },
     "execution_count": 20,
     "metadata": {},
     "output_type": "execute_result"
    }
   ],
   "source": [
    "import gensim\n",
    "import gensim.corpora as corpora\n",
    "from gensim.utils import simple_preprocess\n",
    "from gensim.models import TfidfModel, LdaMulticore, CoherenceModel\n",
    "\n",
    "def sent_to_words(sentences):\n",
    "    for sentence in sentences:\n",
    "        yield(gensim.utils.simple_preprocess(sentence))\n",
    "\n",
    "data_words = list(sent_to_words(data))\n",
    "data_words[0]"
   ]
  },
  {
   "cell_type": "code",
   "execution_count": 13,
   "metadata": {},
   "outputs": [
    {
     "name": "stdout",
     "output_type": "stream",
     "text": [
      "Collecting gensim\n",
      "  Downloading gensim-4.0.1-cp37-cp37m-win_amd64.whl (23.9 MB)\n",
      "Requirement already satisfied, skipping upgrade: numpy>=1.11.3 in c:\\users\\chamo\\anaconda3\\lib\\site-packages (from gensim) (1.18.1)\n",
      "Requirement already satisfied, skipping upgrade: smart-open>=1.8.1 in c:\\users\\chamo\\anaconda3\\lib\\site-packages (from gensim) (2.1.0)\n",
      "Requirement already satisfied, skipping upgrade: scipy>=0.18.1 in c:\\users\\chamo\\anaconda3\\lib\\site-packages (from gensim) (1.4.1)\n",
      "Collecting Cython==0.29.21\n",
      "  Downloading Cython-0.29.21-cp37-cp37m-win_amd64.whl (1.6 MB)\n",
      "Requirement already satisfied, skipping upgrade: boto3 in c:\\users\\chamo\\anaconda3\\lib\\site-packages (from smart-open>=1.8.1->gensim) (1.14.39)\n",
      "Requirement already satisfied, skipping upgrade: boto in c:\\users\\chamo\\anaconda3\\lib\\site-packages (from smart-open>=1.8.1->gensim) (2.49.0)\n",
      "Requirement already satisfied, skipping upgrade: requests in c:\\users\\chamo\\anaconda3\\lib\\site-packages (from smart-open>=1.8.1->gensim) (2.22.0)\n",
      "Requirement already satisfied, skipping upgrade: s3transfer<0.4.0,>=0.3.0 in c:\\users\\chamo\\anaconda3\\lib\\site-packages (from boto3->smart-open>=1.8.1->gensim) (0.3.3)\n",
      "Requirement already satisfied, skipping upgrade: jmespath<1.0.0,>=0.7.1 in c:\\users\\chamo\\anaconda3\\lib\\site-packages (from boto3->smart-open>=1.8.1->gensim) (0.10.0)\n",
      "Requirement already satisfied, skipping upgrade: botocore<1.18.0,>=1.17.39 in c:\\users\\chamo\\anaconda3\\lib\\site-packages (from boto3->smart-open>=1.8.1->gensim) (1.17.39)\n",
      "Requirement already satisfied, skipping upgrade: idna<2.9,>=2.5 in c:\\users\\chamo\\anaconda3\\lib\\site-packages (from requests->smart-open>=1.8.1->gensim) (2.8)\n",
      "Requirement already satisfied, skipping upgrade: chardet<3.1.0,>=3.0.2 in c:\\users\\chamo\\anaconda3\\lib\\site-packages (from requests->smart-open>=1.8.1->gensim) (3.0.4)\n",
      "Requirement already satisfied, skipping upgrade: urllib3!=1.25.0,!=1.25.1,<1.26,>=1.21.1 in c:\\users\\chamo\\anaconda3\\lib\\site-packages (from requests->smart-open>=1.8.1->gensim) (1.25.8)\n",
      "Requirement already satisfied, skipping upgrade: certifi>=2017.4.17 in c:\\users\\chamo\\anaconda3\\lib\\site-packages (from requests->smart-open>=1.8.1->gensim) (2019.11.28)\n",
      "Requirement already satisfied, skipping upgrade: python-dateutil<3.0.0,>=2.1 in c:\\users\\chamo\\anaconda3\\lib\\site-packages (from botocore<1.18.0,>=1.17.39->boto3->smart-open>=1.8.1->gensim) (2.8.1)\n",
      "Requirement already satisfied, skipping upgrade: docutils<0.16,>=0.10 in c:\\users\\chamo\\anaconda3\\lib\\site-packages (from botocore<1.18.0,>=1.17.39->boto3->smart-open>=1.8.1->gensim) (0.15.2)\n",
      "Requirement already satisfied, skipping upgrade: six>=1.5 in c:\\users\\chamo\\anaconda3\\lib\\site-packages (from python-dateutil<3.0.0,>=2.1->botocore<1.18.0,>=1.17.39->boto3->smart-open>=1.8.1->gensim) (1.14.0)\n",
      "Installing collected packages: Cython, gensim\n",
      "  Attempting uninstall: Cython\n",
      "    Found existing installation: Cython 0.29.14\n",
      "    Uninstalling Cython-0.29.14:\n",
      "      Successfully uninstalled Cython-0.29.14\n",
      "  Attempting uninstall: gensim\n",
      "    Found existing installation: gensim 3.8.3\n",
      "    Uninstalling gensim-3.8.3:\n",
      "      Successfully uninstalled gensim-3.8.3\n",
      "Note: you may need to restart the kernel to use updated packages.\n"
     ]
    },
    {
     "name": "stderr",
     "output_type": "stream",
     "text": [
      "ERROR: Could not install packages due to an EnvironmentError: [WinError 5] Access is denied: 'c:\\\\users\\\\chamo\\\\anaconda3\\\\lib\\\\site-packages\\\\~ensim\\\\corpora\\\\_mmreader.cp37-win_amd64.pyd'\n",
      "Consider using the `--user` option or check the permissions.\n",
      "\n"
     ]
    }
   ],
   "source": [
    "pip install -U gensim"
   ]
  },
  {
   "cell_type": "code",
   "execution_count": 21,
   "metadata": {},
   "outputs": [
    {
     "data": {
      "text/plain": [
       "['baking',\n",
       " 'potatoes',\n",
       " 'cut',\n",
       " 'into',\n",
       " 'slices',\n",
       " 'vegetable',\n",
       " 'oil',\n",
       " 'seasoned',\n",
       " 'salt']"
      ]
     },
     "execution_count": 21,
     "metadata": {},
     "output_type": "execute_result"
    }
   ],
   "source": [
    "import gensim\n",
    "import gensim.corpora as corpora\n",
    "from gensim.utils import simple_preprocess\n",
    "from gensim.models import TfidfModel, LdaMulticore, CoherenceModel\n",
    "\n",
    "def sent_to_words(sentences):\n",
    "    for sentence in sentences:\n",
    "        yield(gensim.utils.simple_preprocess(sentence))\n",
    "\n",
    "data_words = list(sent_to_words(data))\n",
    "data_words[0]"
   ]
  },
  {
   "cell_type": "code",
   "execution_count": 22,
   "metadata": {},
   "outputs": [],
   "source": [
    "bigram = gensim.models.Phrases(data_words, min_count=5, threshold=100) "
   ]
  },
  {
   "cell_type": "code",
   "execution_count": 23,
   "metadata": {},
   "outputs": [],
   "source": [
    "bigram_mod = gensim.models.phrases.Phraser(bigram)"
   ]
  },
  {
   "cell_type": "code",
   "execution_count": 24,
   "metadata": {},
   "outputs": [
    {
     "data": {
      "text/plain": [
       "['baking',\n",
       " 'potatoes',\n",
       " 'cut',\n",
       " 'into',\n",
       " 'slices',\n",
       " 'vegetable',\n",
       " 'oil',\n",
       " 'seasoned',\n",
       " 'salt']"
      ]
     },
     "execution_count": 24,
     "metadata": {},
     "output_type": "execute_result"
    }
   ],
   "source": [
    "data_bigram = [bigram_mod[doc] for doc in data_words]\n",
    "data_bigram[0]"
   ]
  },
  {
   "cell_type": "code",
   "execution_count": 25,
   "metadata": {},
   "outputs": [
    {
     "data": {
      "text/plain": [
       "['irish',\n",
       " 'bacon',\n",
       " 'diced',\n",
       " 'large',\n",
       " 'potatoes',\n",
       " 'peeled',\n",
       " 'and',\n",
       " 'cubed',\n",
       " 'can',\n",
       " 'diced',\n",
       " 'tomatoes',\n",
       " 'with',\n",
       " 'juice',\n",
       " 'chicken',\n",
       " 'stock',\n",
       " 'or',\n",
       " 'as',\n",
       " 'needed',\n",
       " 'salt',\n",
       " 'and',\n",
       " 'black',\n",
       " 'pepper',\n",
       " 'to',\n",
       " 'taste',\n",
       " 'thinly',\n",
       " 'sliced',\n",
       " 'dark',\n",
       " 'green',\n",
       " 'savoy',\n",
       " 'cabbage',\n",
       " 'leaves']"
      ]
     },
     "execution_count": 25,
     "metadata": {},
     "output_type": "execute_result"
    }
   ],
   "source": [
    "data_bigram[1]"
   ]
  },
  {
   "cell_type": "code",
   "execution_count": 19,
   "metadata": {},
   "outputs": [
    {
     "ename": "NameError",
     "evalue": "name 'stopwords' is not defined",
     "output_type": "error",
     "traceback": [
      "\u001b[1;31m---------------------------------------------------------------------------\u001b[0m",
      "\u001b[1;31mNameError\u001b[0m                                 Traceback (most recent call last)",
      "\u001b[1;32m<ipython-input-19-4abe77d93835>\u001b[0m in \u001b[0;36m<module>\u001b[1;34m\u001b[0m\n\u001b[1;32m----> 1\u001b[1;33m \u001b[0mstop_words\u001b[0m \u001b[1;33m=\u001b[0m \u001b[0mstopwords\u001b[0m\u001b[1;33m.\u001b[0m\u001b[0mwords\u001b[0m\u001b[1;33m(\u001b[0m\u001b[1;34m'english'\u001b[0m\u001b[1;33m)\u001b[0m\u001b[1;33m\u001b[0m\u001b[1;33m\u001b[0m\u001b[0m\n\u001b[0m",
      "\u001b[1;31mNameError\u001b[0m: name 'stopwords' is not defined"
     ]
    }
   ],
   "source": [
    "stop_words = stopwords.words('english')"
   ]
  },
  {
   "cell_type": "code",
   "execution_count": 26,
   "metadata": {},
   "outputs": [
    {
     "name": "stderr",
     "output_type": "stream",
     "text": [
      "C:\\Users\\chamo\\anaconda3\\lib\\site-packages\\nltk\\decorators.py:68: DeprecationWarning: `formatargspec` is deprecated since Python 3.5. Use `signature` and the `Signature` object directly\n",
      "  regargs, varargs, varkwargs, defaults, formatvalue=lambda value: \"\"\n",
      "C:\\Users\\chamo\\anaconda3\\lib\\site-packages\\nltk\\lm\\counter.py:15: DeprecationWarning: Using or importing the ABCs from 'collections' instead of from 'collections.abc' is deprecated since Python 3.3,and in 3.9 it will stop working\n",
      "  from collections import Sequence, defaultdict\n",
      "C:\\Users\\chamo\\anaconda3\\lib\\site-packages\\nltk\\lm\\vocabulary.py:13: DeprecationWarning: Using or importing the ABCs from 'collections' instead of from 'collections.abc' is deprecated since Python 3.3,and in 3.9 it will stop working\n",
      "  from collections import Counter, Iterable\n",
      "C:\\Users\\chamo\\anaconda3\\lib\\site-packages\\sklearn\\feature_extraction\\image.py:167: DeprecationWarning: `np.int` is a deprecated alias for the builtin `int`. To silence this warning, use `int` by itself. Doing this will not modify any behavior and is safe. When replacing `np.int`, you may wish to use e.g. `np.int64` or `np.int32` to specify the precision. If you wish to review your current use, check the release note link for additional information.\n",
      "Deprecated in NumPy 1.20; for more details and guidance: https://numpy.org/devdocs/release/1.20.0-notes.html#deprecations\n",
      "  dtype=np.int):\n",
      "C:\\Users\\chamo\\anaconda3\\lib\\site-packages\\scipy\\io\\matlab\\mio5.py:98: DeprecationWarning: `np.bool` is a deprecated alias for the builtin `bool`. To silence this warning, use `bool` by itself. Doing this will not modify any behavior and is safe. If you specifically wanted the numpy scalar type, use `np.bool_` here.\n",
      "Deprecated in NumPy 1.20; for more details and guidance: https://numpy.org/devdocs/release/1.20.0-notes.html#deprecations\n",
      "  from .mio5_utils import VarReader5\n"
     ]
    }
   ],
   "source": [
    "import nltk\n",
    "from nltk.corpus import stopwords\n",
    "stop_words = stopwords.words('english')"
   ]
  },
  {
   "cell_type": "code",
   "execution_count": 27,
   "metadata": {},
   "outputs": [
    {
     "data": {
      "text/plain": [
       "['baking', 'potatoes', 'cut', 'slices', 'vegetable', 'oil', 'seasoned', 'salt']"
      ]
     },
     "execution_count": 27,
     "metadata": {},
     "output_type": "execute_result"
    }
   ],
   "source": [
    "data_nonstop = [[word for word in doc if word not in stop_words] for doc in data_bigram]\n",
    "data_nonstop[0]"
   ]
  },
  {
   "cell_type": "code",
   "execution_count": 28,
   "metadata": {},
   "outputs": [
    {
     "data": {
      "text/plain": [
       "['irish',\n",
       " 'bacon',\n",
       " 'diced',\n",
       " 'large',\n",
       " 'potatoes',\n",
       " 'peeled',\n",
       " 'cubed',\n",
       " 'diced',\n",
       " 'tomatoes',\n",
       " 'juice',\n",
       " 'chicken',\n",
       " 'stock',\n",
       " 'needed',\n",
       " 'salt',\n",
       " 'black',\n",
       " 'pepper',\n",
       " 'taste',\n",
       " 'thinly',\n",
       " 'sliced',\n",
       " 'dark',\n",
       " 'green',\n",
       " 'savoy',\n",
       " 'cabbage',\n",
       " 'leaves']"
      ]
     },
     "execution_count": 28,
     "metadata": {},
     "output_type": "execute_result"
    }
   ],
   "source": [
    "data_nonstop[1]"
   ]
  },
  {
   "cell_type": "code",
   "execution_count": 29,
   "metadata": {},
   "outputs": [],
   "source": [
    "from nltk.tokenize import word_tokenize\n",
    "from nltk.stem.wordnet import WordNetLemmatizer\n",
    "\n",
    "def lemmatization(texts, allowed_postages=['NOUN','ADJ']):\n",
    "    texts_out = []\n",
    "    for sent in texts:\n",
    "        doc = nlp(' '.join(sent))\n",
    "        texts_out.append([token.lemma_ for token in doc if token.pos_ in allowed_postages])\n",
    "    return texts_out"
   ]
  },
  {
   "cell_type": "code",
   "execution_count": 24,
   "metadata": {},
   "outputs": [
    {
     "ename": "ModuleNotFoundError",
     "evalue": "No module named 'spacy'",
     "output_type": "error",
     "traceback": [
      "\u001b[1;31m---------------------------------------------------------------------------\u001b[0m",
      "\u001b[1;31mModuleNotFoundError\u001b[0m                       Traceback (most recent call last)",
      "\u001b[1;32m<ipython-input-24-76a01d9c502b>\u001b[0m in \u001b[0;36m<module>\u001b[1;34m\u001b[0m\n\u001b[1;32m----> 1\u001b[1;33m \u001b[1;32mimport\u001b[0m \u001b[0mspacy\u001b[0m\u001b[1;33m\u001b[0m\u001b[1;33m\u001b[0m\u001b[0m\n\u001b[0m",
      "\u001b[1;31mModuleNotFoundError\u001b[0m: No module named 'spacy'"
     ]
    }
   ],
   "source": [
    "import spacy"
   ]
  },
  {
   "cell_type": "code",
   "execution_count": 25,
   "metadata": {},
   "outputs": [
    {
     "name": "stdout",
     "output_type": "stream",
     "text": [
      "Requirement already satisfied: spacy in c:\\users\\chamo\\anaconda3\\lib\\site-packages (2.3.2)\n",
      "Requirement already satisfied: tqdm<5.0.0,>=4.38.0 in c:\\users\\chamo\\anaconda3\\lib\\site-packages (from spacy) (4.42.1)\n",
      "Requirement already satisfied: cymem<2.1.0,>=2.0.2 in c:\\users\\chamo\\anaconda3\\lib\\site-packages (from spacy) (2.0.3)\n",
      "Requirement already satisfied: numpy>=1.15.0 in c:\\users\\chamo\\anaconda3\\lib\\site-packages (from spacy) (1.18.1)\n",
      "Requirement already satisfied: setuptools in c:\\users\\chamo\\anaconda3\\lib\\site-packages (from spacy) (45.2.0.post20200210)\n",
      "Requirement already satisfied: requests<3.0.0,>=2.13.0 in c:\\users\\chamo\\anaconda3\\lib\\site-packages (from spacy) (2.22.0)\n",
      "Requirement already satisfied: thinc==7.4.1 in c:\\users\\chamo\\anaconda3\\lib\\site-packages (from spacy) (7.4.1)\n",
      "Requirement already satisfied: blis<0.5.0,>=0.4.0 in c:\\users\\chamo\\anaconda3\\lib\\site-packages (from spacy) (0.4.1)\n",
      "Requirement already satisfied: srsly<1.1.0,>=1.0.2 in c:\\users\\chamo\\anaconda3\\lib\\site-packages (from spacy) (1.0.2)\n",
      "Requirement already satisfied: preshed<3.1.0,>=3.0.2 in c:\\users\\chamo\\anaconda3\\lib\\site-packages (from spacy) (3.0.2)\n",
      "Requirement already satisfied: plac<1.2.0,>=0.9.6 in c:\\users\\chamo\\anaconda3\\lib\\site-packages (from spacy) (1.1.3)\n",
      "Requirement already satisfied: catalogue<1.1.0,>=0.0.7 in c:\\users\\chamo\\anaconda3\\lib\\site-packages (from spacy) (1.0.0)\n",
      "Requirement already satisfied: murmurhash<1.1.0,>=0.28.0 in c:\\users\\chamo\\anaconda3\\lib\\site-packages (from spacy) (1.0.2)\n",
      "Requirement already satisfied: wasabi<1.1.0,>=0.4.0 in c:\\users\\chamo\\anaconda3\\lib\\site-packages (from spacy) (0.7.1)\n",
      "Requirement already satisfied: chardet<3.1.0,>=3.0.2 in c:\\users\\chamo\\anaconda3\\lib\\site-packages (from requests<3.0.0,>=2.13.0->spacy) (3.0.4)\n",
      "Requirement already satisfied: certifi>=2017.4.17 in c:\\users\\chamo\\anaconda3\\lib\\site-packages (from requests<3.0.0,>=2.13.0->spacy) (2019.11.28)\n",
      "Requirement already satisfied: urllib3!=1.25.0,!=1.25.1,<1.26,>=1.21.1 in c:\\users\\chamo\\anaconda3\\lib\\site-packages (from requests<3.0.0,>=2.13.0->spacy) (1.25.8)\n",
      "Requirement already satisfied: idna<2.9,>=2.5 in c:\\users\\chamo\\anaconda3\\lib\\site-packages (from requests<3.0.0,>=2.13.0->spacy) (2.8)\n",
      "Requirement already satisfied: importlib-metadata>=0.20; python_version < \"3.8\" in c:\\users\\chamo\\anaconda3\\lib\\site-packages (from catalogue<1.1.0,>=0.0.7->spacy) (1.5.0)\n",
      "Requirement already satisfied: zipp>=0.5 in c:\\users\\chamo\\anaconda3\\lib\\site-packages (from importlib-metadata>=0.20; python_version < \"3.8\"->catalogue<1.1.0,>=0.0.7->spacy) (2.2.0)\n",
      "Note: you may need to restart the kernel to use updated packages.\n"
     ]
    }
   ],
   "source": [
    "pip install spacy"
   ]
  },
  {
   "cell_type": "code",
   "execution_count": 30,
   "metadata": {},
   "outputs": [],
   "source": [
    "import spacy"
   ]
  },
  {
   "cell_type": "code",
   "execution_count": 27,
   "metadata": {},
   "outputs": [
    {
     "ename": "OSError",
     "evalue": "[E050] Can't find model 'en'. It doesn't seem to be a shortcut link, a Python package or a valid path to a data directory.",
     "output_type": "error",
     "traceback": [
      "\u001b[1;31m---------------------------------------------------------------------------\u001b[0m",
      "\u001b[1;31mOSError\u001b[0m                                   Traceback (most recent call last)",
      "\u001b[1;32m<ipython-input-27-63feafd9b5a2>\u001b[0m in \u001b[0;36m<module>\u001b[1;34m\u001b[0m\n\u001b[1;32m----> 1\u001b[1;33m \u001b[0mnlp\u001b[0m \u001b[1;33m=\u001b[0m \u001b[0mspacy\u001b[0m\u001b[1;33m.\u001b[0m\u001b[0mload\u001b[0m\u001b[1;33m(\u001b[0m\u001b[1;34m'en'\u001b[0m\u001b[1;33m,\u001b[0m \u001b[0mdisable\u001b[0m\u001b[1;33m=\u001b[0m\u001b[1;33m[\u001b[0m\u001b[1;34m'parser'\u001b[0m\u001b[1;33m,\u001b[0m \u001b[1;34m'ner'\u001b[0m\u001b[1;33m]\u001b[0m\u001b[1;33m)\u001b[0m\u001b[1;33m\u001b[0m\u001b[1;33m\u001b[0m\u001b[0m\n\u001b[0m",
      "\u001b[1;32m~\\anaconda3\\lib\\site-packages\\spacy\\__init__.py\u001b[0m in \u001b[0;36mload\u001b[1;34m(name, **overrides)\u001b[0m\n\u001b[0;32m     28\u001b[0m     \u001b[1;32mif\u001b[0m \u001b[0mdepr_path\u001b[0m \u001b[1;32mnot\u001b[0m \u001b[1;32min\u001b[0m \u001b[1;33m(\u001b[0m\u001b[1;32mTrue\u001b[0m\u001b[1;33m,\u001b[0m \u001b[1;32mFalse\u001b[0m\u001b[1;33m,\u001b[0m \u001b[1;32mNone\u001b[0m\u001b[1;33m)\u001b[0m\u001b[1;33m:\u001b[0m\u001b[1;33m\u001b[0m\u001b[1;33m\u001b[0m\u001b[0m\n\u001b[0;32m     29\u001b[0m         \u001b[0mwarnings\u001b[0m\u001b[1;33m.\u001b[0m\u001b[0mwarn\u001b[0m\u001b[1;33m(\u001b[0m\u001b[0mWarnings\u001b[0m\u001b[1;33m.\u001b[0m\u001b[0mW001\u001b[0m\u001b[1;33m.\u001b[0m\u001b[0mformat\u001b[0m\u001b[1;33m(\u001b[0m\u001b[0mpath\u001b[0m\u001b[1;33m=\u001b[0m\u001b[0mdepr_path\u001b[0m\u001b[1;33m)\u001b[0m\u001b[1;33m,\u001b[0m \u001b[0mDeprecationWarning\u001b[0m\u001b[1;33m)\u001b[0m\u001b[1;33m\u001b[0m\u001b[1;33m\u001b[0m\u001b[0m\n\u001b[1;32m---> 30\u001b[1;33m     \u001b[1;32mreturn\u001b[0m \u001b[0mutil\u001b[0m\u001b[1;33m.\u001b[0m\u001b[0mload_model\u001b[0m\u001b[1;33m(\u001b[0m\u001b[0mname\u001b[0m\u001b[1;33m,\u001b[0m \u001b[1;33m**\u001b[0m\u001b[0moverrides\u001b[0m\u001b[1;33m)\u001b[0m\u001b[1;33m\u001b[0m\u001b[1;33m\u001b[0m\u001b[0m\n\u001b[0m\u001b[0;32m     31\u001b[0m \u001b[1;33m\u001b[0m\u001b[0m\n\u001b[0;32m     32\u001b[0m \u001b[1;33m\u001b[0m\u001b[0m\n",
      "\u001b[1;32m~\\anaconda3\\lib\\site-packages\\spacy\\util.py\u001b[0m in \u001b[0;36mload_model\u001b[1;34m(name, **overrides)\u001b[0m\n\u001b[0;32m    173\u001b[0m     \u001b[1;32melif\u001b[0m \u001b[0mhasattr\u001b[0m\u001b[1;33m(\u001b[0m\u001b[0mname\u001b[0m\u001b[1;33m,\u001b[0m \u001b[1;34m\"exists\"\u001b[0m\u001b[1;33m)\u001b[0m\u001b[1;33m:\u001b[0m  \u001b[1;31m# Path or Path-like to model data\u001b[0m\u001b[1;33m\u001b[0m\u001b[1;33m\u001b[0m\u001b[0m\n\u001b[0;32m    174\u001b[0m         \u001b[1;32mreturn\u001b[0m \u001b[0mload_model_from_path\u001b[0m\u001b[1;33m(\u001b[0m\u001b[0mname\u001b[0m\u001b[1;33m,\u001b[0m \u001b[1;33m**\u001b[0m\u001b[0moverrides\u001b[0m\u001b[1;33m)\u001b[0m\u001b[1;33m\u001b[0m\u001b[1;33m\u001b[0m\u001b[0m\n\u001b[1;32m--> 175\u001b[1;33m     \u001b[1;32mraise\u001b[0m \u001b[0mIOError\u001b[0m\u001b[1;33m(\u001b[0m\u001b[0mErrors\u001b[0m\u001b[1;33m.\u001b[0m\u001b[0mE050\u001b[0m\u001b[1;33m.\u001b[0m\u001b[0mformat\u001b[0m\u001b[1;33m(\u001b[0m\u001b[0mname\u001b[0m\u001b[1;33m=\u001b[0m\u001b[0mname\u001b[0m\u001b[1;33m)\u001b[0m\u001b[1;33m)\u001b[0m\u001b[1;33m\u001b[0m\u001b[1;33m\u001b[0m\u001b[0m\n\u001b[0m\u001b[0;32m    176\u001b[0m \u001b[1;33m\u001b[0m\u001b[0m\n\u001b[0;32m    177\u001b[0m \u001b[1;33m\u001b[0m\u001b[0m\n",
      "\u001b[1;31mOSError\u001b[0m: [E050] Can't find model 'en'. It doesn't seem to be a shortcut link, a Python package or a valid path to a data directory."
     ]
    }
   ],
   "source": [
    "nlp = spacy.load('en', disable=['parser', 'ner'])"
   ]
  },
  {
   "cell_type": "code",
   "execution_count": 28,
   "metadata": {},
   "outputs": [
    {
     "ename": "SyntaxError",
     "evalue": "invalid syntax (<ipython-input-28-fc4d5d118d23>, line 1)",
     "output_type": "error",
     "traceback": [
      "\u001b[1;36m  File \u001b[1;32m\"<ipython-input-28-fc4d5d118d23>\"\u001b[1;36m, line \u001b[1;32m1\u001b[0m\n\u001b[1;33m    python -m spacy download en\u001b[0m\n\u001b[1;37m                  ^\u001b[0m\n\u001b[1;31mSyntaxError\u001b[0m\u001b[1;31m:\u001b[0m invalid syntax\n"
     ]
    }
   ],
   "source": [
    "python -m spacy download en"
   ]
  },
  {
   "cell_type": "code",
   "execution_count": 29,
   "metadata": {},
   "outputs": [
    {
     "ename": "OSError",
     "evalue": "[E050] Can't find model 'en'. It doesn't seem to be a shortcut link, a Python package or a valid path to a data directory.",
     "output_type": "error",
     "traceback": [
      "\u001b[1;31m---------------------------------------------------------------------------\u001b[0m",
      "\u001b[1;31mOSError\u001b[0m                                   Traceback (most recent call last)",
      "\u001b[1;32m<ipython-input-29-63feafd9b5a2>\u001b[0m in \u001b[0;36m<module>\u001b[1;34m\u001b[0m\n\u001b[1;32m----> 1\u001b[1;33m \u001b[0mnlp\u001b[0m \u001b[1;33m=\u001b[0m \u001b[0mspacy\u001b[0m\u001b[1;33m.\u001b[0m\u001b[0mload\u001b[0m\u001b[1;33m(\u001b[0m\u001b[1;34m'en'\u001b[0m\u001b[1;33m,\u001b[0m \u001b[0mdisable\u001b[0m\u001b[1;33m=\u001b[0m\u001b[1;33m[\u001b[0m\u001b[1;34m'parser'\u001b[0m\u001b[1;33m,\u001b[0m \u001b[1;34m'ner'\u001b[0m\u001b[1;33m]\u001b[0m\u001b[1;33m)\u001b[0m\u001b[1;33m\u001b[0m\u001b[1;33m\u001b[0m\u001b[0m\n\u001b[0m",
      "\u001b[1;32m~\\anaconda3\\lib\\site-packages\\spacy\\__init__.py\u001b[0m in \u001b[0;36mload\u001b[1;34m(name, **overrides)\u001b[0m\n\u001b[0;32m     28\u001b[0m     \u001b[1;32mif\u001b[0m \u001b[0mdepr_path\u001b[0m \u001b[1;32mnot\u001b[0m \u001b[1;32min\u001b[0m \u001b[1;33m(\u001b[0m\u001b[1;32mTrue\u001b[0m\u001b[1;33m,\u001b[0m \u001b[1;32mFalse\u001b[0m\u001b[1;33m,\u001b[0m \u001b[1;32mNone\u001b[0m\u001b[1;33m)\u001b[0m\u001b[1;33m:\u001b[0m\u001b[1;33m\u001b[0m\u001b[1;33m\u001b[0m\u001b[0m\n\u001b[0;32m     29\u001b[0m         \u001b[0mwarnings\u001b[0m\u001b[1;33m.\u001b[0m\u001b[0mwarn\u001b[0m\u001b[1;33m(\u001b[0m\u001b[0mWarnings\u001b[0m\u001b[1;33m.\u001b[0m\u001b[0mW001\u001b[0m\u001b[1;33m.\u001b[0m\u001b[0mformat\u001b[0m\u001b[1;33m(\u001b[0m\u001b[0mpath\u001b[0m\u001b[1;33m=\u001b[0m\u001b[0mdepr_path\u001b[0m\u001b[1;33m)\u001b[0m\u001b[1;33m,\u001b[0m \u001b[0mDeprecationWarning\u001b[0m\u001b[1;33m)\u001b[0m\u001b[1;33m\u001b[0m\u001b[1;33m\u001b[0m\u001b[0m\n\u001b[1;32m---> 30\u001b[1;33m     \u001b[1;32mreturn\u001b[0m \u001b[0mutil\u001b[0m\u001b[1;33m.\u001b[0m\u001b[0mload_model\u001b[0m\u001b[1;33m(\u001b[0m\u001b[0mname\u001b[0m\u001b[1;33m,\u001b[0m \u001b[1;33m**\u001b[0m\u001b[0moverrides\u001b[0m\u001b[1;33m)\u001b[0m\u001b[1;33m\u001b[0m\u001b[1;33m\u001b[0m\u001b[0m\n\u001b[0m\u001b[0;32m     31\u001b[0m \u001b[1;33m\u001b[0m\u001b[0m\n\u001b[0;32m     32\u001b[0m \u001b[1;33m\u001b[0m\u001b[0m\n",
      "\u001b[1;32m~\\anaconda3\\lib\\site-packages\\spacy\\util.py\u001b[0m in \u001b[0;36mload_model\u001b[1;34m(name, **overrides)\u001b[0m\n\u001b[0;32m    173\u001b[0m     \u001b[1;32melif\u001b[0m \u001b[0mhasattr\u001b[0m\u001b[1;33m(\u001b[0m\u001b[0mname\u001b[0m\u001b[1;33m,\u001b[0m \u001b[1;34m\"exists\"\u001b[0m\u001b[1;33m)\u001b[0m\u001b[1;33m:\u001b[0m  \u001b[1;31m# Path or Path-like to model data\u001b[0m\u001b[1;33m\u001b[0m\u001b[1;33m\u001b[0m\u001b[0m\n\u001b[0;32m    174\u001b[0m         \u001b[1;32mreturn\u001b[0m \u001b[0mload_model_from_path\u001b[0m\u001b[1;33m(\u001b[0m\u001b[0mname\u001b[0m\u001b[1;33m,\u001b[0m \u001b[1;33m**\u001b[0m\u001b[0moverrides\u001b[0m\u001b[1;33m)\u001b[0m\u001b[1;33m\u001b[0m\u001b[1;33m\u001b[0m\u001b[0m\n\u001b[1;32m--> 175\u001b[1;33m     \u001b[1;32mraise\u001b[0m \u001b[0mIOError\u001b[0m\u001b[1;33m(\u001b[0m\u001b[0mErrors\u001b[0m\u001b[1;33m.\u001b[0m\u001b[0mE050\u001b[0m\u001b[1;33m.\u001b[0m\u001b[0mformat\u001b[0m\u001b[1;33m(\u001b[0m\u001b[0mname\u001b[0m\u001b[1;33m=\u001b[0m\u001b[0mname\u001b[0m\u001b[1;33m)\u001b[0m\u001b[1;33m)\u001b[0m\u001b[1;33m\u001b[0m\u001b[1;33m\u001b[0m\u001b[0m\n\u001b[0m\u001b[0;32m    176\u001b[0m \u001b[1;33m\u001b[0m\u001b[0m\n\u001b[0;32m    177\u001b[0m \u001b[1;33m\u001b[0m\u001b[0m\n",
      "\u001b[1;31mOSError\u001b[0m: [E050] Can't find model 'en'. It doesn't seem to be a shortcut link, a Python package or a valid path to a data directory."
     ]
    }
   ],
   "source": [
    "nlp = spacy.load('en', disable=['parser', 'ner'])"
   ]
  },
  {
   "cell_type": "code",
   "execution_count": 30,
   "metadata": {},
   "outputs": [
    {
     "ename": "TypeError",
     "evalue": "lemmatization() got an unexpected keyword argument 'allowed_postags'",
     "output_type": "error",
     "traceback": [
      "\u001b[1;31m---------------------------------------------------------------------------\u001b[0m",
      "\u001b[1;31mTypeError\u001b[0m                                 Traceback (most recent call last)",
      "\u001b[1;32m<ipython-input-30-b26b51886bf3>\u001b[0m in \u001b[0;36m<module>\u001b[1;34m\u001b[0m\n\u001b[1;32m----> 1\u001b[1;33m \u001b[0mdata_lemmatized\u001b[0m \u001b[1;33m=\u001b[0m \u001b[0mlemmatization\u001b[0m\u001b[1;33m(\u001b[0m\u001b[0mdata_nonstop\u001b[0m\u001b[1;33m,\u001b[0m \u001b[0mallowed_postags\u001b[0m\u001b[1;33m=\u001b[0m\u001b[1;33m[\u001b[0m\u001b[1;34m'NOUN'\u001b[0m\u001b[1;33m,\u001b[0m\u001b[1;34m'ADJ'\u001b[0m\u001b[1;33m]\u001b[0m\u001b[1;33m)\u001b[0m\u001b[1;33m\u001b[0m\u001b[1;33m\u001b[0m\u001b[0m\n\u001b[0m\u001b[0;32m      2\u001b[0m \u001b[0mdata_lemmatized\u001b[0m\u001b[1;33m[\u001b[0m\u001b[1;36m0\u001b[0m\u001b[1;33m]\u001b[0m\u001b[1;33m\u001b[0m\u001b[1;33m\u001b[0m\u001b[0m\n",
      "\u001b[1;31mTypeError\u001b[0m: lemmatization() got an unexpected keyword argument 'allowed_postags'"
     ]
    }
   ],
   "source": [
    "data_lemmatized = lemmatization(data_nonstop, allowed_postags=['NOUN','ADJ'])\n",
    "data_lemmatized[0]"
   ]
  },
  {
   "cell_type": "code",
   "execution_count": 31,
   "metadata": {},
   "outputs": [],
   "source": [
    "import spacy"
   ]
  },
  {
   "cell_type": "code",
   "execution_count": 32,
   "metadata": {},
   "outputs": [
    {
     "ename": "OSError",
     "evalue": "[E050] Can't find model 'en'. It doesn't seem to be a shortcut link, a Python package or a valid path to a data directory.",
     "output_type": "error",
     "traceback": [
      "\u001b[1;31m---------------------------------------------------------------------------\u001b[0m",
      "\u001b[1;31mOSError\u001b[0m                                   Traceback (most recent call last)",
      "\u001b[1;32m<ipython-input-32-63feafd9b5a2>\u001b[0m in \u001b[0;36m<module>\u001b[1;34m\u001b[0m\n\u001b[1;32m----> 1\u001b[1;33m \u001b[0mnlp\u001b[0m \u001b[1;33m=\u001b[0m \u001b[0mspacy\u001b[0m\u001b[1;33m.\u001b[0m\u001b[0mload\u001b[0m\u001b[1;33m(\u001b[0m\u001b[1;34m'en'\u001b[0m\u001b[1;33m,\u001b[0m \u001b[0mdisable\u001b[0m\u001b[1;33m=\u001b[0m\u001b[1;33m[\u001b[0m\u001b[1;34m'parser'\u001b[0m\u001b[1;33m,\u001b[0m \u001b[1;34m'ner'\u001b[0m\u001b[1;33m]\u001b[0m\u001b[1;33m)\u001b[0m\u001b[1;33m\u001b[0m\u001b[1;33m\u001b[0m\u001b[0m\n\u001b[0m",
      "\u001b[1;32m~\\anaconda3\\lib\\site-packages\\spacy\\__init__.py\u001b[0m in \u001b[0;36mload\u001b[1;34m(name, **overrides)\u001b[0m\n\u001b[0;32m     28\u001b[0m     \u001b[1;32mif\u001b[0m \u001b[0mdepr_path\u001b[0m \u001b[1;32mnot\u001b[0m \u001b[1;32min\u001b[0m \u001b[1;33m(\u001b[0m\u001b[1;32mTrue\u001b[0m\u001b[1;33m,\u001b[0m \u001b[1;32mFalse\u001b[0m\u001b[1;33m,\u001b[0m \u001b[1;32mNone\u001b[0m\u001b[1;33m)\u001b[0m\u001b[1;33m:\u001b[0m\u001b[1;33m\u001b[0m\u001b[1;33m\u001b[0m\u001b[0m\n\u001b[0;32m     29\u001b[0m         \u001b[0mwarnings\u001b[0m\u001b[1;33m.\u001b[0m\u001b[0mwarn\u001b[0m\u001b[1;33m(\u001b[0m\u001b[0mWarnings\u001b[0m\u001b[1;33m.\u001b[0m\u001b[0mW001\u001b[0m\u001b[1;33m.\u001b[0m\u001b[0mformat\u001b[0m\u001b[1;33m(\u001b[0m\u001b[0mpath\u001b[0m\u001b[1;33m=\u001b[0m\u001b[0mdepr_path\u001b[0m\u001b[1;33m)\u001b[0m\u001b[1;33m,\u001b[0m \u001b[0mDeprecationWarning\u001b[0m\u001b[1;33m)\u001b[0m\u001b[1;33m\u001b[0m\u001b[1;33m\u001b[0m\u001b[0m\n\u001b[1;32m---> 30\u001b[1;33m     \u001b[1;32mreturn\u001b[0m \u001b[0mutil\u001b[0m\u001b[1;33m.\u001b[0m\u001b[0mload_model\u001b[0m\u001b[1;33m(\u001b[0m\u001b[0mname\u001b[0m\u001b[1;33m,\u001b[0m \u001b[1;33m**\u001b[0m\u001b[0moverrides\u001b[0m\u001b[1;33m)\u001b[0m\u001b[1;33m\u001b[0m\u001b[1;33m\u001b[0m\u001b[0m\n\u001b[0m\u001b[0;32m     31\u001b[0m \u001b[1;33m\u001b[0m\u001b[0m\n\u001b[0;32m     32\u001b[0m \u001b[1;33m\u001b[0m\u001b[0m\n",
      "\u001b[1;32m~\\anaconda3\\lib\\site-packages\\spacy\\util.py\u001b[0m in \u001b[0;36mload_model\u001b[1;34m(name, **overrides)\u001b[0m\n\u001b[0;32m    173\u001b[0m     \u001b[1;32melif\u001b[0m \u001b[0mhasattr\u001b[0m\u001b[1;33m(\u001b[0m\u001b[0mname\u001b[0m\u001b[1;33m,\u001b[0m \u001b[1;34m\"exists\"\u001b[0m\u001b[1;33m)\u001b[0m\u001b[1;33m:\u001b[0m  \u001b[1;31m# Path or Path-like to model data\u001b[0m\u001b[1;33m\u001b[0m\u001b[1;33m\u001b[0m\u001b[0m\n\u001b[0;32m    174\u001b[0m         \u001b[1;32mreturn\u001b[0m \u001b[0mload_model_from_path\u001b[0m\u001b[1;33m(\u001b[0m\u001b[0mname\u001b[0m\u001b[1;33m,\u001b[0m \u001b[1;33m**\u001b[0m\u001b[0moverrides\u001b[0m\u001b[1;33m)\u001b[0m\u001b[1;33m\u001b[0m\u001b[1;33m\u001b[0m\u001b[0m\n\u001b[1;32m--> 175\u001b[1;33m     \u001b[1;32mraise\u001b[0m \u001b[0mIOError\u001b[0m\u001b[1;33m(\u001b[0m\u001b[0mErrors\u001b[0m\u001b[1;33m.\u001b[0m\u001b[0mE050\u001b[0m\u001b[1;33m.\u001b[0m\u001b[0mformat\u001b[0m\u001b[1;33m(\u001b[0m\u001b[0mname\u001b[0m\u001b[1;33m=\u001b[0m\u001b[0mname\u001b[0m\u001b[1;33m)\u001b[0m\u001b[1;33m)\u001b[0m\u001b[1;33m\u001b[0m\u001b[1;33m\u001b[0m\u001b[0m\n\u001b[0m\u001b[0;32m    176\u001b[0m \u001b[1;33m\u001b[0m\u001b[0m\n\u001b[0;32m    177\u001b[0m \u001b[1;33m\u001b[0m\u001b[0m\n",
      "\u001b[1;31mOSError\u001b[0m: [E050] Can't find model 'en'. It doesn't seem to be a shortcut link, a Python package or a valid path to a data directory."
     ]
    }
   ],
   "source": [
    "nlp = spacy.load('en', disable=['parser', 'ner'])"
   ]
  },
  {
   "cell_type": "code",
   "execution_count": 33,
   "metadata": {},
   "outputs": [
    {
     "name": "stdout",
     "output_type": "stream",
     "text": [
      "Collecting https://github.com/explosion/spacy-models/releases/download/en_core_web_sm-2.2.0/en_core_web_sm-2.2.0.tar.gz\n",
      "  Downloading https://github.com/explosion/spacy-models/releases/download/en_core_web_sm-2.2.0/en_core_web_sm-2.2.0.tar.gz (12.0 MB)\n",
      "Building wheels for collected packages: en-core-web-sm\n",
      "  Building wheel for en-core-web-sm (setup.py): started\n",
      "  Building wheel for en-core-web-sm (setup.py): finished with status 'done'\n",
      "  Created wheel for en-core-web-sm: filename=en_core_web_sm-2.2.0-py3-none-any.whl size=12019125 sha256=222e80191b91d281df03fcaee5051594f559621febe78e776bc28168ef8d5c3e\n",
      "  Stored in directory: c:\\users\\chamo\\appdata\\local\\pip\\cache\\wheels\\64\\69\\41\\6f820cf1d7488a0381a2059f66ec9f8f23116f7c67d18f3d8d\n",
      "Successfully built en-core-web-sm\n",
      "Installing collected packages: en-core-web-sm\n",
      "  Attempting uninstall: en-core-web-sm\n",
      "    Found existing installation: en-core-web-sm 2.3.1\n",
      "    Uninstalling en-core-web-sm-2.3.1:\n",
      "      Successfully uninstalled en-core-web-sm-2.3.1\n",
      "Successfully installed en-core-web-sm-2.2.0\n",
      "Note: you may need to restart the kernel to use updated packages.\n"
     ]
    }
   ],
   "source": [
    "pip install https://github.com/explosion/spacy-models/releases/download/en_core_web_sm-2.2.0/en_core_web_sm-2.2.0.tar.gz --no-deps"
   ]
  },
  {
   "cell_type": "code",
   "execution_count": 4,
   "metadata": {},
   "outputs": [
    {
     "ename": "OSError",
     "evalue": "[E050] Can't find model 'en'. It doesn't seem to be a shortcut link, a Python package or a valid path to a data directory.",
     "output_type": "error",
     "traceback": [
      "\u001b[1;31m---------------------------------------------------------------------------\u001b[0m",
      "\u001b[1;31mOSError\u001b[0m                                   Traceback (most recent call last)",
      "\u001b[1;32m<ipython-input-4-63feafd9b5a2>\u001b[0m in \u001b[0;36m<module>\u001b[1;34m\u001b[0m\n\u001b[1;32m----> 1\u001b[1;33m \u001b[0mnlp\u001b[0m \u001b[1;33m=\u001b[0m \u001b[0mspacy\u001b[0m\u001b[1;33m.\u001b[0m\u001b[0mload\u001b[0m\u001b[1;33m(\u001b[0m\u001b[1;34m'en'\u001b[0m\u001b[1;33m,\u001b[0m \u001b[0mdisable\u001b[0m\u001b[1;33m=\u001b[0m\u001b[1;33m[\u001b[0m\u001b[1;34m'parser'\u001b[0m\u001b[1;33m,\u001b[0m \u001b[1;34m'ner'\u001b[0m\u001b[1;33m]\u001b[0m\u001b[1;33m)\u001b[0m\u001b[1;33m\u001b[0m\u001b[1;33m\u001b[0m\u001b[0m\n\u001b[0m",
      "\u001b[1;32m~\\anaconda3\\lib\\site-packages\\spacy\\__init__.py\u001b[0m in \u001b[0;36mload\u001b[1;34m(name, **overrides)\u001b[0m\n\u001b[0;32m     28\u001b[0m     \u001b[1;32mif\u001b[0m \u001b[0mdepr_path\u001b[0m \u001b[1;32mnot\u001b[0m \u001b[1;32min\u001b[0m \u001b[1;33m(\u001b[0m\u001b[1;32mTrue\u001b[0m\u001b[1;33m,\u001b[0m \u001b[1;32mFalse\u001b[0m\u001b[1;33m,\u001b[0m \u001b[1;32mNone\u001b[0m\u001b[1;33m)\u001b[0m\u001b[1;33m:\u001b[0m\u001b[1;33m\u001b[0m\u001b[1;33m\u001b[0m\u001b[0m\n\u001b[0;32m     29\u001b[0m         \u001b[0mwarnings\u001b[0m\u001b[1;33m.\u001b[0m\u001b[0mwarn\u001b[0m\u001b[1;33m(\u001b[0m\u001b[0mWarnings\u001b[0m\u001b[1;33m.\u001b[0m\u001b[0mW001\u001b[0m\u001b[1;33m.\u001b[0m\u001b[0mformat\u001b[0m\u001b[1;33m(\u001b[0m\u001b[0mpath\u001b[0m\u001b[1;33m=\u001b[0m\u001b[0mdepr_path\u001b[0m\u001b[1;33m)\u001b[0m\u001b[1;33m,\u001b[0m \u001b[0mDeprecationWarning\u001b[0m\u001b[1;33m)\u001b[0m\u001b[1;33m\u001b[0m\u001b[1;33m\u001b[0m\u001b[0m\n\u001b[1;32m---> 30\u001b[1;33m     \u001b[1;32mreturn\u001b[0m \u001b[0mutil\u001b[0m\u001b[1;33m.\u001b[0m\u001b[0mload_model\u001b[0m\u001b[1;33m(\u001b[0m\u001b[0mname\u001b[0m\u001b[1;33m,\u001b[0m \u001b[1;33m**\u001b[0m\u001b[0moverrides\u001b[0m\u001b[1;33m)\u001b[0m\u001b[1;33m\u001b[0m\u001b[1;33m\u001b[0m\u001b[0m\n\u001b[0m\u001b[0;32m     31\u001b[0m \u001b[1;33m\u001b[0m\u001b[0m\n\u001b[0;32m     32\u001b[0m \u001b[1;33m\u001b[0m\u001b[0m\n",
      "\u001b[1;32m~\\anaconda3\\lib\\site-packages\\spacy\\util.py\u001b[0m in \u001b[0;36mload_model\u001b[1;34m(name, **overrides)\u001b[0m\n\u001b[0;32m    173\u001b[0m     \u001b[1;32melif\u001b[0m \u001b[0mhasattr\u001b[0m\u001b[1;33m(\u001b[0m\u001b[0mname\u001b[0m\u001b[1;33m,\u001b[0m \u001b[1;34m\"exists\"\u001b[0m\u001b[1;33m)\u001b[0m\u001b[1;33m:\u001b[0m  \u001b[1;31m# Path or Path-like to model data\u001b[0m\u001b[1;33m\u001b[0m\u001b[1;33m\u001b[0m\u001b[0m\n\u001b[0;32m    174\u001b[0m         \u001b[1;32mreturn\u001b[0m \u001b[0mload_model_from_path\u001b[0m\u001b[1;33m(\u001b[0m\u001b[0mname\u001b[0m\u001b[1;33m,\u001b[0m \u001b[1;33m**\u001b[0m\u001b[0moverrides\u001b[0m\u001b[1;33m)\u001b[0m\u001b[1;33m\u001b[0m\u001b[1;33m\u001b[0m\u001b[0m\n\u001b[1;32m--> 175\u001b[1;33m     \u001b[1;32mraise\u001b[0m \u001b[0mIOError\u001b[0m\u001b[1;33m(\u001b[0m\u001b[0mErrors\u001b[0m\u001b[1;33m.\u001b[0m\u001b[0mE050\u001b[0m\u001b[1;33m.\u001b[0m\u001b[0mformat\u001b[0m\u001b[1;33m(\u001b[0m\u001b[0mname\u001b[0m\u001b[1;33m=\u001b[0m\u001b[0mname\u001b[0m\u001b[1;33m)\u001b[0m\u001b[1;33m)\u001b[0m\u001b[1;33m\u001b[0m\u001b[1;33m\u001b[0m\u001b[0m\n\u001b[0m\u001b[0;32m    176\u001b[0m \u001b[1;33m\u001b[0m\u001b[0m\n\u001b[0;32m    177\u001b[0m \u001b[1;33m\u001b[0m\u001b[0m\n",
      "\u001b[1;31mOSError\u001b[0m: [E050] Can't find model 'en'. It doesn't seem to be a shortcut link, a Python package or a valid path to a data directory."
     ]
    }
   ],
   "source": [
    "nlp = spacy.load('en', disable=['parser', 'ner'])"
   ]
  },
  {
   "cell_type": "code",
   "execution_count": 5,
   "metadata": {},
   "outputs": [
    {
     "ename": "OSError",
     "evalue": "[E050] Can't find model 'en'. It doesn't seem to be a shortcut link, a Python package or a valid path to a data directory.",
     "output_type": "error",
     "traceback": [
      "\u001b[1;31m---------------------------------------------------------------------------\u001b[0m",
      "\u001b[1;31mOSError\u001b[0m                                   Traceback (most recent call last)",
      "\u001b[1;32m<ipython-input-5-63feafd9b5a2>\u001b[0m in \u001b[0;36m<module>\u001b[1;34m\u001b[0m\n\u001b[1;32m----> 1\u001b[1;33m \u001b[0mnlp\u001b[0m \u001b[1;33m=\u001b[0m \u001b[0mspacy\u001b[0m\u001b[1;33m.\u001b[0m\u001b[0mload\u001b[0m\u001b[1;33m(\u001b[0m\u001b[1;34m'en'\u001b[0m\u001b[1;33m,\u001b[0m \u001b[0mdisable\u001b[0m\u001b[1;33m=\u001b[0m\u001b[1;33m[\u001b[0m\u001b[1;34m'parser'\u001b[0m\u001b[1;33m,\u001b[0m \u001b[1;34m'ner'\u001b[0m\u001b[1;33m]\u001b[0m\u001b[1;33m)\u001b[0m\u001b[1;33m\u001b[0m\u001b[1;33m\u001b[0m\u001b[0m\n\u001b[0m",
      "\u001b[1;32m~\\anaconda3\\lib\\site-packages\\spacy\\__init__.py\u001b[0m in \u001b[0;36mload\u001b[1;34m(name, **overrides)\u001b[0m\n\u001b[0;32m     28\u001b[0m     \u001b[1;32mif\u001b[0m \u001b[0mdepr_path\u001b[0m \u001b[1;32mnot\u001b[0m \u001b[1;32min\u001b[0m \u001b[1;33m(\u001b[0m\u001b[1;32mTrue\u001b[0m\u001b[1;33m,\u001b[0m \u001b[1;32mFalse\u001b[0m\u001b[1;33m,\u001b[0m \u001b[1;32mNone\u001b[0m\u001b[1;33m)\u001b[0m\u001b[1;33m:\u001b[0m\u001b[1;33m\u001b[0m\u001b[1;33m\u001b[0m\u001b[0m\n\u001b[0;32m     29\u001b[0m         \u001b[0mwarnings\u001b[0m\u001b[1;33m.\u001b[0m\u001b[0mwarn\u001b[0m\u001b[1;33m(\u001b[0m\u001b[0mWarnings\u001b[0m\u001b[1;33m.\u001b[0m\u001b[0mW001\u001b[0m\u001b[1;33m.\u001b[0m\u001b[0mformat\u001b[0m\u001b[1;33m(\u001b[0m\u001b[0mpath\u001b[0m\u001b[1;33m=\u001b[0m\u001b[0mdepr_path\u001b[0m\u001b[1;33m)\u001b[0m\u001b[1;33m,\u001b[0m \u001b[0mDeprecationWarning\u001b[0m\u001b[1;33m)\u001b[0m\u001b[1;33m\u001b[0m\u001b[1;33m\u001b[0m\u001b[0m\n\u001b[1;32m---> 30\u001b[1;33m     \u001b[1;32mreturn\u001b[0m \u001b[0mutil\u001b[0m\u001b[1;33m.\u001b[0m\u001b[0mload_model\u001b[0m\u001b[1;33m(\u001b[0m\u001b[0mname\u001b[0m\u001b[1;33m,\u001b[0m \u001b[1;33m**\u001b[0m\u001b[0moverrides\u001b[0m\u001b[1;33m)\u001b[0m\u001b[1;33m\u001b[0m\u001b[1;33m\u001b[0m\u001b[0m\n\u001b[0m\u001b[0;32m     31\u001b[0m \u001b[1;33m\u001b[0m\u001b[0m\n\u001b[0;32m     32\u001b[0m \u001b[1;33m\u001b[0m\u001b[0m\n",
      "\u001b[1;32m~\\anaconda3\\lib\\site-packages\\spacy\\util.py\u001b[0m in \u001b[0;36mload_model\u001b[1;34m(name, **overrides)\u001b[0m\n\u001b[0;32m    173\u001b[0m     \u001b[1;32melif\u001b[0m \u001b[0mhasattr\u001b[0m\u001b[1;33m(\u001b[0m\u001b[0mname\u001b[0m\u001b[1;33m,\u001b[0m \u001b[1;34m\"exists\"\u001b[0m\u001b[1;33m)\u001b[0m\u001b[1;33m:\u001b[0m  \u001b[1;31m# Path or Path-like to model data\u001b[0m\u001b[1;33m\u001b[0m\u001b[1;33m\u001b[0m\u001b[0m\n\u001b[0;32m    174\u001b[0m         \u001b[1;32mreturn\u001b[0m \u001b[0mload_model_from_path\u001b[0m\u001b[1;33m(\u001b[0m\u001b[0mname\u001b[0m\u001b[1;33m,\u001b[0m \u001b[1;33m**\u001b[0m\u001b[0moverrides\u001b[0m\u001b[1;33m)\u001b[0m\u001b[1;33m\u001b[0m\u001b[1;33m\u001b[0m\u001b[0m\n\u001b[1;32m--> 175\u001b[1;33m     \u001b[1;32mraise\u001b[0m \u001b[0mIOError\u001b[0m\u001b[1;33m(\u001b[0m\u001b[0mErrors\u001b[0m\u001b[1;33m.\u001b[0m\u001b[0mE050\u001b[0m\u001b[1;33m.\u001b[0m\u001b[0mformat\u001b[0m\u001b[1;33m(\u001b[0m\u001b[0mname\u001b[0m\u001b[1;33m=\u001b[0m\u001b[0mname\u001b[0m\u001b[1;33m)\u001b[0m\u001b[1;33m)\u001b[0m\u001b[1;33m\u001b[0m\u001b[1;33m\u001b[0m\u001b[0m\n\u001b[0m\u001b[0;32m    176\u001b[0m \u001b[1;33m\u001b[0m\u001b[0m\n\u001b[0;32m    177\u001b[0m \u001b[1;33m\u001b[0m\u001b[0m\n",
      "\u001b[1;31mOSError\u001b[0m: [E050] Can't find model 'en'. It doesn't seem to be a shortcut link, a Python package or a valid path to a data directory."
     ]
    }
   ],
   "source": [
    "nlp = spacy.load('en', disable=['parser', 'ner'])"
   ]
  },
  {
   "cell_type": "code",
   "execution_count": 6,
   "metadata": {},
   "outputs": [
    {
     "ename": "OSError",
     "evalue": "[E050] Can't find model 'en_core_web_sm'. It doesn't seem to be a shortcut link, a Python package or a valid path to a data directory.",
     "output_type": "error",
     "traceback": [
      "\u001b[1;31m---------------------------------------------------------------------------\u001b[0m",
      "\u001b[1;31mOSError\u001b[0m                                   Traceback (most recent call last)",
      "\u001b[1;32m<ipython-input-6-8cef6a0c986f>\u001b[0m in \u001b[0;36m<module>\u001b[1;34m\u001b[0m\n\u001b[1;32m----> 1\u001b[1;33m \u001b[0mnlp\u001b[0m \u001b[1;33m=\u001b[0m \u001b[0mspacy\u001b[0m\u001b[1;33m.\u001b[0m\u001b[0mload\u001b[0m\u001b[1;33m(\u001b[0m\u001b[1;34m'en_core_web_sm'\u001b[0m\u001b[1;33m,\u001b[0m \u001b[0mdisable\u001b[0m\u001b[1;33m=\u001b[0m\u001b[1;33m[\u001b[0m\u001b[1;34m'parser'\u001b[0m\u001b[1;33m,\u001b[0m \u001b[1;34m'ner'\u001b[0m\u001b[1;33m]\u001b[0m\u001b[1;33m)\u001b[0m\u001b[1;33m\u001b[0m\u001b[1;33m\u001b[0m\u001b[0m\n\u001b[0m",
      "\u001b[1;32m~\\anaconda3\\lib\\site-packages\\spacy\\__init__.py\u001b[0m in \u001b[0;36mload\u001b[1;34m(name, **overrides)\u001b[0m\n\u001b[0;32m     28\u001b[0m     \u001b[1;32mif\u001b[0m \u001b[0mdepr_path\u001b[0m \u001b[1;32mnot\u001b[0m \u001b[1;32min\u001b[0m \u001b[1;33m(\u001b[0m\u001b[1;32mTrue\u001b[0m\u001b[1;33m,\u001b[0m \u001b[1;32mFalse\u001b[0m\u001b[1;33m,\u001b[0m \u001b[1;32mNone\u001b[0m\u001b[1;33m)\u001b[0m\u001b[1;33m:\u001b[0m\u001b[1;33m\u001b[0m\u001b[1;33m\u001b[0m\u001b[0m\n\u001b[0;32m     29\u001b[0m         \u001b[0mwarnings\u001b[0m\u001b[1;33m.\u001b[0m\u001b[0mwarn\u001b[0m\u001b[1;33m(\u001b[0m\u001b[0mWarnings\u001b[0m\u001b[1;33m.\u001b[0m\u001b[0mW001\u001b[0m\u001b[1;33m.\u001b[0m\u001b[0mformat\u001b[0m\u001b[1;33m(\u001b[0m\u001b[0mpath\u001b[0m\u001b[1;33m=\u001b[0m\u001b[0mdepr_path\u001b[0m\u001b[1;33m)\u001b[0m\u001b[1;33m,\u001b[0m \u001b[0mDeprecationWarning\u001b[0m\u001b[1;33m)\u001b[0m\u001b[1;33m\u001b[0m\u001b[1;33m\u001b[0m\u001b[0m\n\u001b[1;32m---> 30\u001b[1;33m     \u001b[1;32mreturn\u001b[0m \u001b[0mutil\u001b[0m\u001b[1;33m.\u001b[0m\u001b[0mload_model\u001b[0m\u001b[1;33m(\u001b[0m\u001b[0mname\u001b[0m\u001b[1;33m,\u001b[0m \u001b[1;33m**\u001b[0m\u001b[0moverrides\u001b[0m\u001b[1;33m)\u001b[0m\u001b[1;33m\u001b[0m\u001b[1;33m\u001b[0m\u001b[0m\n\u001b[0m\u001b[0;32m     31\u001b[0m \u001b[1;33m\u001b[0m\u001b[0m\n\u001b[0;32m     32\u001b[0m \u001b[1;33m\u001b[0m\u001b[0m\n",
      "\u001b[1;32m~\\anaconda3\\lib\\site-packages\\spacy\\util.py\u001b[0m in \u001b[0;36mload_model\u001b[1;34m(name, **overrides)\u001b[0m\n\u001b[0;32m    173\u001b[0m     \u001b[1;32melif\u001b[0m \u001b[0mhasattr\u001b[0m\u001b[1;33m(\u001b[0m\u001b[0mname\u001b[0m\u001b[1;33m,\u001b[0m \u001b[1;34m\"exists\"\u001b[0m\u001b[1;33m)\u001b[0m\u001b[1;33m:\u001b[0m  \u001b[1;31m# Path or Path-like to model data\u001b[0m\u001b[1;33m\u001b[0m\u001b[1;33m\u001b[0m\u001b[0m\n\u001b[0;32m    174\u001b[0m         \u001b[1;32mreturn\u001b[0m \u001b[0mload_model_from_path\u001b[0m\u001b[1;33m(\u001b[0m\u001b[0mname\u001b[0m\u001b[1;33m,\u001b[0m \u001b[1;33m**\u001b[0m\u001b[0moverrides\u001b[0m\u001b[1;33m)\u001b[0m\u001b[1;33m\u001b[0m\u001b[1;33m\u001b[0m\u001b[0m\n\u001b[1;32m--> 175\u001b[1;33m     \u001b[1;32mraise\u001b[0m \u001b[0mIOError\u001b[0m\u001b[1;33m(\u001b[0m\u001b[0mErrors\u001b[0m\u001b[1;33m.\u001b[0m\u001b[0mE050\u001b[0m\u001b[1;33m.\u001b[0m\u001b[0mformat\u001b[0m\u001b[1;33m(\u001b[0m\u001b[0mname\u001b[0m\u001b[1;33m=\u001b[0m\u001b[0mname\u001b[0m\u001b[1;33m)\u001b[0m\u001b[1;33m)\u001b[0m\u001b[1;33m\u001b[0m\u001b[1;33m\u001b[0m\u001b[0m\n\u001b[0m\u001b[0;32m    176\u001b[0m \u001b[1;33m\u001b[0m\u001b[0m\n\u001b[0;32m    177\u001b[0m \u001b[1;33m\u001b[0m\u001b[0m\n",
      "\u001b[1;31mOSError\u001b[0m: [E050] Can't find model 'en_core_web_sm'. It doesn't seem to be a shortcut link, a Python package or a valid path to a data directory."
     ]
    }
   ],
   "source": [
    "nlp = spacy.load('en_core_web_sm', disable=['parser', 'ner'])"
   ]
  },
  {
   "cell_type": "code",
   "execution_count": 7,
   "metadata": {},
   "outputs": [
    {
     "ename": "SyntaxError",
     "evalue": "invalid syntax (<ipython-input-7-e8a31c0c54ec>, line 1)",
     "output_type": "error",
     "traceback": [
      "\u001b[1;36m  File \u001b[1;32m\"<ipython-input-7-e8a31c0c54ec>\"\u001b[1;36m, line \u001b[1;32m1\u001b[0m\n\u001b[1;33m    python -m spacy download en_core_web_sm\u001b[0m\n\u001b[1;37m                  ^\u001b[0m\n\u001b[1;31mSyntaxError\u001b[0m\u001b[1;31m:\u001b[0m invalid syntax\n"
     ]
    }
   ],
   "source": [
    "python -m spacy download en_core_web_sm"
   ]
  },
  {
   "cell_type": "code",
   "execution_count": 35,
   "metadata": {},
   "outputs": [
    {
     "name": "stdout",
     "output_type": "stream",
     "text": [
      "✔ Download and installation successful\n",
      "You can now load the model via spacy.load('en_core_web_sm')\n",
      "✔ Linking successful\n",
      "C:\\Users\\chamo\\anaconda3\\lib\\site-packages\\en_core_web_sm -->\n",
      "C:\\Users\\chamo\\anaconda3\\lib\\site-packages\\spacy\\data\\en\n",
      "You can now load the model via spacy.load('en')\n"
     ]
    }
   ],
   "source": [
    "spacy.cli.download(\"en\")"
   ]
  },
  {
   "cell_type": "code",
   "execution_count": 32,
   "metadata": {},
   "outputs": [],
   "source": [
    "nlp = spacy.load('en_core_web_sm', disable=['parser', 'ner'])"
   ]
  },
  {
   "cell_type": "raw",
   "metadata": {},
   "source": [
    "data_lemmatized = lemmatization(data_nonstop, allowed_postags=['NOUN','ADJ'])\n",
    "data_lemmatized[0]"
   ]
  },
  {
   "cell_type": "code",
   "execution_count": 33,
   "metadata": {},
   "outputs": [],
   "source": [
    "from nltk.tokenize import word_tokenize\n",
    "from nltk.stem.wordnet import WordNetLemmatizer\n",
    "\n",
    "def lemmatization(texts, allowed_postages=['NOUN','ADJ']):\n",
    "    texts_out = []\n",
    "    for sent in texts:\n",
    "        doc = nlp(' '.join(sent))\n",
    "        texts_out.append([token.lemma_ for token in doc if token.pos_ in allowed_postages])\n",
    "    return texts_out"
   ]
  },
  {
   "cell_type": "code",
   "execution_count": 34,
   "metadata": {},
   "outputs": [
    {
     "data": {
      "text/plain": [
       "['potato', 'slice', 'vegetable', 'oil', 'salt']"
      ]
     },
     "execution_count": 34,
     "metadata": {},
     "output_type": "execute_result"
    }
   ],
   "source": [
    "data_lemmatized = lemmatization(data_nonstop, allowed_postages=['NOUN','ADJ'])\n",
    "data_lemmatized[0]"
   ]
  },
  {
   "cell_type": "code",
   "execution_count": 35,
   "metadata": {},
   "outputs": [
    {
     "data": {
      "text/plain": [
       "['large',\n",
       " 'potato',\n",
       " 'tomato',\n",
       " 'juice',\n",
       " 'chicken',\n",
       " 'stock',\n",
       " 'salt',\n",
       " 'black',\n",
       " 'pepper',\n",
       " 'taste',\n",
       " 'dark',\n",
       " 'green',\n",
       " 'savoy',\n",
       " 'cabbage',\n",
       " 'leave']"
      ]
     },
     "execution_count": 35,
     "metadata": {},
     "output_type": "execute_result"
    }
   ],
   "source": [
    "data_lemmatized[1]"
   ]
  },
  {
   "cell_type": "code",
   "execution_count": 36,
   "metadata": {},
   "outputs": [
    {
     "data": {
      "text/plain": [
       "['potato', 'slice', 'vegetable', 'oil', 'salt']"
      ]
     },
     "execution_count": 36,
     "metadata": {},
     "output_type": "execute_result"
    }
   ],
   "source": [
    "data_lemmatized[0]"
   ]
  },
  {
   "cell_type": "code",
   "execution_count": 37,
   "metadata": {},
   "outputs": [
    {
     "data": {
      "text/plain": [
       "['pink',\n",
       " 'salmon',\n",
       " 'green',\n",
       " 'onion',\n",
       " 'celery',\n",
       " 'mayonnaise',\n",
       " 'lemon',\n",
       " 'juice',\n",
       " 'dill',\n",
       " 'salt']"
      ]
     },
     "execution_count": 37,
     "metadata": {},
     "output_type": "execute_result"
    }
   ],
   "source": [
    "data_lemmatized[2]"
   ]
  },
  {
   "cell_type": "code",
   "execution_count": 38,
   "metadata": {},
   "outputs": [],
   "source": [
    "#to check word frequencies\n",
    "vocab = dict()\n",
    "for doc in data_lemmatized:\n",
    "    for word in doc:\n",
    "        if word not in vocab.keys():\n",
    "            vocab[word] = 1\n",
    "        else:\n",
    "            vocab[word] +=1"
   ]
  },
  {
   "cell_type": "code",
   "execution_count": 39,
   "metadata": {},
   "outputs": [
    {
     "data": {
      "text/plain": [
       "1206"
      ]
     },
     "execution_count": 39,
     "metadata": {},
     "output_type": "execute_result"
    }
   ],
   "source": [
    "len(vocab)"
   ]
  },
  {
   "cell_type": "code",
   "execution_count": 40,
   "metadata": {},
   "outputs": [],
   "source": [
    "recipe_stopwords = ['slice','large','diced','stock','taste','leave','powder','sliced','fresh','low','fat',\n",
    "                    'whole','purpose','mix','ripe','medium','raw','coarse','style','active','dry','ground',\n",
    "                    'white','heart','piece','crushed','cut','minute','pocket','shredded','optional','cube',\n",
    "                    'hour','bag','baby','seeded','small','clove','country','leaf','dressing','center','fillet',\n",
    "                    'sea','chunk','light','food','head','container','link','frozen','can','cooked','stalk',\n",
    "                    'regular','dusting','heavy','round','rinsed','thawed','jar','solid','creamy','z','fluid',\n",
    "                    'uncooked','sheet','strip','short','soft','mixed','blue','flake','warm','unbleached','sun',\n",
    "                    'old','topping','wedge','thick','lean','extra','meal','preserve','mild','half','crosswise',\n",
    "                    'new','seasoning','kidney','black','green','red','yellow','white','unpeeled','boiling',\n",
    "                    'amount','cold','snow','cluster','necessary','firm','soda','cubed','temperature','deep',\n",
    "                    'flat','iron','seedless','boneless','strong','bottle','unsweetended','smoked','melted',\n",
    "                    'thin','hard','pure','bulk','unsalted','deveined','petite','cooking','box','prepared',\n",
    "                    'softened','split','kosher','blanched_slivered','carton','canned','flavor','broken','free',\n",
    "                    'blend','lengthwise','real','purple','dice','flaked','bite_sized','refrigerated_crescent',\n",
    "                    'reserved','undrained','original','stuffing','bulb','sharp','reduced_fat','color',\n",
    "                    'pressed','diagonal','good','season','bit','jumbo','instant','skim','chopped','paper',\n",
    "                    'towel','roasted','flaky','ear','flavoring','fine','minced', 'square','size','single',\n",
    "                    'refrigerated','skinless','pitted','bay','seasoned','divided','long','crumbled','filling',\n",
    "                    'miniature','mashed','peeled','top','bottom','flat_leaf','rubbed','liquid','ready','chop',\n",
    "                    'non','frying','condensed','stewed','light','food','container','link','can','optional',\n",
    "                    'diced','fluid','meal','preserve','seasoning','bottle','box','split','flavor','lengthwise',\n",
    "                    'flavoring','square','size','at_room','grade','shape','cuisine']"
   ]
  },
  {
   "cell_type": "code",
   "execution_count": 41,
   "metadata": {},
   "outputs": [],
   "source": [
    "data_clean = [[word for word in doc if word not in recipe_stopwords] for doc in data_lemmatized]"
   ]
  },
  {
   "cell_type": "code",
   "execution_count": 42,
   "metadata": {},
   "outputs": [
    {
     "data": {
      "text/plain": [
       "['potato', 'vegetable', 'oil', 'salt']"
      ]
     },
     "execution_count": 42,
     "metadata": {},
     "output_type": "execute_result"
    }
   ],
   "source": [
    "data_clean[0]"
   ]
  },
  {
   "cell_type": "code",
   "execution_count": 43,
   "metadata": {},
   "outputs": [
    {
     "data": {
      "text/plain": [
       "['potato',\n",
       " 'tomato',\n",
       " 'juice',\n",
       " 'chicken',\n",
       " 'salt',\n",
       " 'pepper',\n",
       " 'dark',\n",
       " 'savoy',\n",
       " 'cabbage']"
      ]
     },
     "execution_count": 43,
     "metadata": {},
     "output_type": "execute_result"
    }
   ],
   "source": [
    "data_clean[1]"
   ]
  },
  {
   "cell_type": "code",
   "execution_count": 44,
   "metadata": {},
   "outputs": [],
   "source": [
    "#checking the word frequencies\n",
    "vocab_clean = dict()\n",
    "for doc in data_clean:\n",
    "    for word in doc:\n",
    "        if word not in vocab_clean.keys():\n",
    "            vocab_clean[word] = 1\n",
    "        else:\n",
    "            vocab_clean[word] +=1"
   ]
  },
  {
   "cell_type": "code",
   "execution_count": 45,
   "metadata": {},
   "outputs": [
    {
     "data": {
      "text/plain": [
       "1017"
      ]
     },
     "execution_count": 45,
     "metadata": {},
     "output_type": "execute_result"
    }
   ],
   "source": [
    "len(vocab_clean)"
   ]
  },
  {
   "cell_type": "code",
   "execution_count": 46,
   "metadata": {},
   "outputs": [
    {
     "data": {
      "text/html": [
       "<div>\n",
       "<style scoped>\n",
       "    .dataframe tbody tr th:only-of-type {\n",
       "        vertical-align: middle;\n",
       "    }\n",
       "\n",
       "    .dataframe tbody tr th {\n",
       "        vertical-align: top;\n",
       "    }\n",
       "\n",
       "    .dataframe thead th {\n",
       "        text-align: right;\n",
       "    }\n",
       "</style>\n",
       "<table border=\"1\" class=\"dataframe\">\n",
       "  <thead>\n",
       "    <tr style=\"text-align: right;\">\n",
       "      <th></th>\n",
       "      <th>ingredient</th>\n",
       "      <th>count</th>\n",
       "    </tr>\n",
       "  </thead>\n",
       "  <tbody>\n",
       "    <tr>\n",
       "      <th>0</th>\n",
       "      <td>pepper</td>\n",
       "      <td>4394</td>\n",
       "    </tr>\n",
       "    <tr>\n",
       "      <th>1</th>\n",
       "      <td>salt</td>\n",
       "      <td>2820</td>\n",
       "    </tr>\n",
       "    <tr>\n",
       "      <th>2</th>\n",
       "      <td>onion</td>\n",
       "      <td>2773</td>\n",
       "    </tr>\n",
       "    <tr>\n",
       "      <th>3</th>\n",
       "      <td>oil</td>\n",
       "      <td>2151</td>\n",
       "    </tr>\n",
       "    <tr>\n",
       "      <th>4</th>\n",
       "      <td>cheese</td>\n",
       "      <td>1674</td>\n",
       "    </tr>\n",
       "  </tbody>\n",
       "</table>\n",
       "</div>"
      ],
      "text/plain": [
       "  ingredient  count\n",
       "0     pepper   4394\n",
       "1       salt   2820\n",
       "2      onion   2773\n",
       "3        oil   2151\n",
       "4     cheese   1674"
      ]
     },
     "execution_count": 46,
     "metadata": {},
     "output_type": "execute_result"
    }
   ],
   "source": [
    "#creating a df including word counts\n",
    "df_count = pd.DataFrame(vocab_clean, index=['count']).transpose().sort_values('count', ascending=False)\n",
    "df_count = df_count.reset_index().rename(columns={'index':'ingredient'})\n",
    "df_count.head()"
   ]
  },
  {
   "cell_type": "code",
   "execution_count": 47,
   "metadata": {},
   "outputs": [],
   "source": [
    "import matplotlib.pyplot as plt\n",
    "import seaborn as sns\n",
    "%matplotlib inline"
   ]
  },
  {
   "cell_type": "code",
   "execution_count": 52,
   "metadata": {},
   "outputs": [
    {
     "ename": "SyntaxError",
     "evalue": "EOL while scanning string literal (<ipython-input-52-7ec712878491>, line 7)",
     "output_type": "error",
     "traceback": [
      "\u001b[1;36m  File \u001b[1;32m\"<ipython-input-52-7ec712878491>\"\u001b[1;36m, line \u001b[1;32m7\u001b[0m\n\u001b[1;33m    plt.title(f'{top_n} frequent ingredients\\n)\u001b[0m\n\u001b[1;37m                                               ^\u001b[0m\n\u001b[1;31mSyntaxError\u001b[0m\u001b[1;31m:\u001b[0m EOL while scanning string literal\n"
     ]
    }
   ],
   "source": [
    "def plot_ingredient(df, top_n=10, figsize=(8,10)):\n",
    "    plt.figure(figsize=figsize)\n",
    "    \n",
    "    count = df['count'].iloc[:top_n]\n",
    "    ingred = df['ingredient'].iloc[:top_n]\n",
    "    sns.barplot(x=count, y= ingred, palette='Reds_r')\n",
    "    plt.title(f'{top_n} frequent ingredients\\n)\n",
    "    plt.xlabel('Count')\n",
    "    plt.ylabel('Ingredient')\n",
    "    plt.show()"
   ]
  },
  {
   "cell_type": "code",
   "execution_count": 48,
   "metadata": {},
   "outputs": [],
   "source": [
    "def plot_ingredient(df, top_n=10, figsize=(8,10)):\n",
    "    plt.figure(figsize=figsize)\n",
    "    \n",
    "    count = df['count'].iloc[:top_n]\n",
    "    ingred = df['ingredient'].iloc[:top_n]\n",
    "    sns.barplot(x=count, y= ingred, palette='Reds_r')\n",
    "    plt.title(f'{top_n} frequent ingredients\\n')\n",
    "    plt.xlabel('Count')\n",
    "    plt.ylabel('Ingredient')\n",
    "    plt.show()"
   ]
  },
  {
   "cell_type": "code",
   "execution_count": 49,
   "metadata": {},
   "outputs": [
    {
     "name": "stderr",
     "output_type": "stream",
     "text": [
      "C:\\Users\\chamo\\anaconda3\\lib\\site-packages\\seaborn\\categorical.py:340: DeprecationWarning: `np.float` is a deprecated alias for the builtin `float`. To silence this warning, use `float` by itself. Doing this will not modify any behavior and is safe. If you specifically wanted the numpy scalar type, use `np.float64` here.\n",
      "Deprecated in NumPy 1.20; for more details and guidance: https://numpy.org/devdocs/release/1.20.0-notes.html#deprecations\n",
      "  np.asarray(s, dtype=np.float)\n",
      "C:\\Users\\chamo\\anaconda3\\lib\\site-packages\\seaborn\\categorical.py:340: DeprecationWarning: `np.float` is a deprecated alias for the builtin `float`. To silence this warning, use `float` by itself. Doing this will not modify any behavior and is safe. If you specifically wanted the numpy scalar type, use `np.float64` here.\n",
      "Deprecated in NumPy 1.20; for more details and guidance: https://numpy.org/devdocs/release/1.20.0-notes.html#deprecations\n",
      "  np.asarray(s, dtype=np.float)\n",
      "C:\\Users\\chamo\\anaconda3\\lib\\site-packages\\seaborn\\utils.py:538: DeprecationWarning: `np.float` is a deprecated alias for the builtin `float`. To silence this warning, use `float` by itself. Doing this will not modify any behavior and is safe. If you specifically wanted the numpy scalar type, use `np.float64` here.\n",
      "Deprecated in NumPy 1.20; for more details and guidance: https://numpy.org/devdocs/release/1.20.0-notes.html#deprecations\n",
      "  np.asarray(values).astype(np.float)\n"
     ]
    },
    {
     "data": {
      "image/png": "[encoded data removed]",
      "text/plain": [
       "<Figure size 576x720 with 1 Axes>"
      ]
     },
     "metadata": {
      "needs_background": "light"
     },
     "output_type": "display_data"
    }
   ],
   "source": [
    "plot_ingredient(df_count, top_n=25)"
   ]
  },
  {
   "cell_type": "code",
   "execution_count": 50,
   "metadata": {},
   "outputs": [
    {
     "name": "stderr",
     "output_type": "stream",
     "text": [
      "C:\\Users\\chamo\\anaconda3\\lib\\site-packages\\seaborn\\categorical.py:340: DeprecationWarning: `np.float` is a deprecated alias for the builtin `float`. To silence this warning, use `float` by itself. Doing this will not modify any behavior and is safe. If you specifically wanted the numpy scalar type, use `np.float64` here.\n",
      "Deprecated in NumPy 1.20; for more details and guidance: https://numpy.org/devdocs/release/1.20.0-notes.html#deprecations\n",
      "  np.asarray(s, dtype=np.float)\n",
      "C:\\Users\\chamo\\anaconda3\\lib\\site-packages\\seaborn\\categorical.py:340: DeprecationWarning: `np.float` is a deprecated alias for the builtin `float`. To silence this warning, use `float` by itself. Doing this will not modify any behavior and is safe. If you specifically wanted the numpy scalar type, use `np.float64` here.\n",
      "Deprecated in NumPy 1.20; for more details and guidance: https://numpy.org/devdocs/release/1.20.0-notes.html#deprecations\n",
      "  np.asarray(s, dtype=np.float)\n",
      "C:\\Users\\chamo\\anaconda3\\lib\\site-packages\\seaborn\\utils.py:538: DeprecationWarning: `np.float` is a deprecated alias for the builtin `float`. To silence this warning, use `float` by itself. Doing this will not modify any behavior and is safe. If you specifically wanted the numpy scalar type, use `np.float64` here.\n",
      "Deprecated in NumPy 1.20; for more details and guidance: https://numpy.org/devdocs/release/1.20.0-notes.html#deprecations\n",
      "  np.asarray(values).astype(np.float)\n"
     ]
    },
    {
     "data": {
      "image/png": "[encoded data removed]",
      "text/plain": [
       "<Figure size 576x720 with 1 Axes>"
      ]
     },
     "metadata": {
      "needs_background": "light"
     },
     "output_type": "display_data"
    }
   ],
   "source": [
    "plot_ingredient(df_count, top_n=50)"
   ]
  },
  {
   "cell_type": "code",
   "execution_count": 51,
   "metadata": {},
   "outputs": [],
   "source": [
    "recipe_stopwords = ['slice','large','diced','stock','taste','leave','powder','sliced','fresh','low','fat',\n",
    "                    'whole','purpose','mix','ripe','medium','raw','coarse','style','active','dry','ground',\n",
    "                    'white','heart','piece','crushed','cut','minute','pocket','shredded','optional','cube',\n",
    "                    'hour','bag','baby','seeded','small','clove','country','leaf','dressing','center','fillet',\n",
    "                    'sea','chunk','light','food','head','container','link','frozen','can','cooked','stalk',\n",
    "                    'regular','dusting','heavy','round','rinsed','thawed','jar','solid','creamy','z','fluid',\n",
    "                    'uncooked','sheet','strip','short','soft','mixed','blue','flake','warm','unbleached','sun',\n",
    "                    'old','topping','wedge','thick','lean','extra','meal','preserve','mild','half','crosswise',\n",
    "                    'new','seasoning','kidney','black','green','red','yellow','white','unpeeled','boiling',\n",
    "                    'amount','cold','snow','cluster','necessary','firm','soda','cubed','temperature','deep',\n",
    "                    'flat','iron','seedless','boneless','strong','bottle','unsweetended','smoked','melted',\n",
    "                    'thin','hard','pure','bulk','unsalted','deveined','petite','cooking','box','prepared',\n",
    "                    'softened','split','kosher','blanched_slivered','carton','canned','flavor','broken','free',\n",
    "                    'blend','lengthwise','real','purple','dice','flaked','bite_sized','refrigerated_crescent',\n",
    "                    'reserved','undrained','original','stuffing','bulb','sharp','reduced_fat','color',\n",
    "                    'pressed','diagonal','good','season','bit','jumbo','instant','skim','chopped','paper',\n",
    "                    'towel','roasted','flaky','ear','flavoring','fine','minced', 'square','size','single',\n",
    "                    'refrigerated','skinless','pitted','bay','seasoned','divided','long','crumbled','filling',\n",
    "                    'miniature','mashed','peeled','top','bottom','flat_leaf','rubbed','liquid','ready','chop',\n",
    "                    'non','frying','condensed','stewed','light','food','container','link','can','optional',\n",
    "                    'diced','fluid','meal','preserve','seasoning','bottle','box','split','flavor','lengthwise',\n",
    "                    'flavoring','square','size','at_room','grade','shape','cuisine','hot','sour']"
   ]
  },
  {
   "cell_type": "code",
   "execution_count": 52,
   "metadata": {},
   "outputs": [],
   "source": [
    "data_clean = [[word for word in doc if word not in recipe_stopwords] for doc in data_lemmatized]"
   ]
  },
  {
   "cell_type": "code",
   "execution_count": 53,
   "metadata": {},
   "outputs": [
    {
     "name": "stderr",
     "output_type": "stream",
     "text": [
      "C:\\Users\\chamo\\anaconda3\\lib\\site-packages\\seaborn\\categorical.py:340: DeprecationWarning: `np.float` is a deprecated alias for the builtin `float`. To silence this warning, use `float` by itself. Doing this will not modify any behavior and is safe. If you specifically wanted the numpy scalar type, use `np.float64` here.\n",
      "Deprecated in NumPy 1.20; for more details and guidance: https://numpy.org/devdocs/release/1.20.0-notes.html#deprecations\n",
      "  np.asarray(s, dtype=np.float)\n",
      "C:\\Users\\chamo\\anaconda3\\lib\\site-packages\\seaborn\\categorical.py:340: DeprecationWarning: `np.float` is a deprecated alias for the builtin `float`. To silence this warning, use `float` by itself. Doing this will not modify any behavior and is safe. If you specifically wanted the numpy scalar type, use `np.float64` here.\n",
      "Deprecated in NumPy 1.20; for more details and guidance: https://numpy.org/devdocs/release/1.20.0-notes.html#deprecations\n",
      "  np.asarray(s, dtype=np.float)\n",
      "C:\\Users\\chamo\\anaconda3\\lib\\site-packages\\seaborn\\utils.py:538: DeprecationWarning: `np.float` is a deprecated alias for the builtin `float`. To silence this warning, use `float` by itself. Doing this will not modify any behavior and is safe. If you specifically wanted the numpy scalar type, use `np.float64` here.\n",
      "Deprecated in NumPy 1.20; for more details and guidance: https://numpy.org/devdocs/release/1.20.0-notes.html#deprecations\n",
      "  np.asarray(values).astype(np.float)\n"
     ]
    },
    {
     "data": {
      "image/png": "[encoded data removed]",
      "text/plain": [
       "<Figure size 576x720 with 1 Axes>"
      ]
     },
     "metadata": {
      "needs_background": "light"
     },
     "output_type": "display_data"
    }
   ],
   "source": [
    "plot_ingredient(df_count, top_n=50)"
   ]
  },
  {
   "cell_type": "code",
   "execution_count": 54,
   "metadata": {},
   "outputs": [
    {
     "name": "stderr",
     "output_type": "stream",
     "text": [
      "C:\\Users\\chamo\\anaconda3\\lib\\site-packages\\seaborn\\categorical.py:340: DeprecationWarning: `np.float` is a deprecated alias for the builtin `float`. To silence this warning, use `float` by itself. Doing this will not modify any behavior and is safe. If you specifically wanted the numpy scalar type, use `np.float64` here.\n",
      "Deprecated in NumPy 1.20; for more details and guidance: https://numpy.org/devdocs/release/1.20.0-notes.html#deprecations\n",
      "  np.asarray(s, dtype=np.float)\n",
      "C:\\Users\\chamo\\anaconda3\\lib\\site-packages\\seaborn\\categorical.py:340: DeprecationWarning: `np.float` is a deprecated alias for the builtin `float`. To silence this warning, use `float` by itself. Doing this will not modify any behavior and is safe. If you specifically wanted the numpy scalar type, use `np.float64` here.\n",
      "Deprecated in NumPy 1.20; for more details and guidance: https://numpy.org/devdocs/release/1.20.0-notes.html#deprecations\n",
      "  np.asarray(s, dtype=np.float)\n",
      "C:\\Users\\chamo\\anaconda3\\lib\\site-packages\\seaborn\\utils.py:538: DeprecationWarning: `np.float` is a deprecated alias for the builtin `float`. To silence this warning, use `float` by itself. Doing this will not modify any behavior and is safe. If you specifically wanted the numpy scalar type, use `np.float64` here.\n",
      "Deprecated in NumPy 1.20; for more details and guidance: https://numpy.org/devdocs/release/1.20.0-notes.html#deprecations\n",
      "  np.asarray(values).astype(np.float)\n"
     ]
    },
    {
     "data": {
      "image/png": "[encoded data removed]",
      "text/plain": [
       "<Figure size 576x720 with 1 Axes>"
      ]
     },
     "metadata": {
      "needs_background": "light"
     },
     "output_type": "display_data"
    }
   ],
   "source": [
    "plot_ingredient(df_count, top_n=75)"
   ]
  },
  {
   "cell_type": "markdown",
   "metadata": {},
   "source": [
    "# Topic Modeling\n",
    " /# unique words/ ingredients = 1015  \n",
    "    Goal: Provide label(s) to each recipe to build the content based recommender system. \n",
    "    The two main inputs to the LDA topic model are the dictionary(id2word) and the corpus. \n",
    "    "
   ]
  },
  {
   "cell_type": "code",
   "execution_count": 55,
   "metadata": {},
   "outputs": [],
   "source": [
    "#Create dictionary\n",
    "id2word = corpora.Dictionary(data_clean)"
   ]
  },
  {
   "cell_type": "code",
   "execution_count": 56,
   "metadata": {},
   "outputs": [],
   "source": [
    "import gensim\n",
    "import gensim.corpora as corpora\n",
    "# Create Dictionary\n",
    "id2word = corpora.Dictionary(data_clean)\n"
   ]
  },
  {
   "cell_type": "code",
   "execution_count": 57,
   "metadata": {},
   "outputs": [],
   "source": [
    "# Create Dictionary\n",
    "id2word = corpora.Dictionary(data_clean)"
   ]
  },
  {
   "cell_type": "code",
   "execution_count": 58,
   "metadata": {},
   "outputs": [],
   "source": [
    "#Create corpus\n",
    "texts = data_clean"
   ]
  },
  {
   "cell_type": "code",
   "execution_count": 64,
   "metadata": {},
   "outputs": [
    {
     "ename": "SyntaxError",
     "evalue": "invalid syntax (<ipython-input-64-059a371c83af>, line 2)",
     "output_type": "error",
     "traceback": [
      "\u001b[1;36m  File \u001b[1;32m\"<ipython-input-64-059a371c83af>\"\u001b[1;36m, line \u001b[1;32m2\u001b[0m\n\u001b[1;33m    corpus = [id2word.doc2bow(text) for texts]\u001b[0m\n\u001b[1;37m                                             ^\u001b[0m\n\u001b[1;31mSyntaxError\u001b[0m\u001b[1;31m:\u001b[0m invalid syntax\n"
     ]
    }
   ],
   "source": [
    "#Term Document Frequency\n",
    "corpus = [id2word.doc2bow(text) for texts]"
   ]
  },
  {
   "cell_type": "code",
   "execution_count": 59,
   "metadata": {},
   "outputs": [],
   "source": [
    "#Term Document Frequency\n",
    "corpus = [id2word.doc2bow(text) for text in texts]"
   ]
  },
  {
   "cell_type": "code",
   "execution_count": 60,
   "metadata": {},
   "outputs": [
    {
     "data": {
      "text/plain": [
       "[(0, 1), (1, 1), (2, 1), (3, 1)]"
      ]
     },
     "execution_count": 60,
     "metadata": {},
     "output_type": "execute_result"
    }
   ],
   "source": [
    "corpus[0]"
   ]
  },
  {
   "cell_type": "code",
   "execution_count": 61,
   "metadata": {},
   "outputs": [
    {
     "data": {
      "text/plain": [
       "[(1, 1), (2, 1), (4, 1), (5, 1), (6, 1), (7, 1), (8, 1), (9, 1), (10, 1)]"
      ]
     },
     "execution_count": 61,
     "metadata": {},
     "output_type": "execute_result"
    }
   ],
   "source": [
    "corpus[1]"
   ]
  },
  {
   "cell_type": "code",
   "execution_count": 62,
   "metadata": {},
   "outputs": [],
   "source": [
    "#The produced corpus shown above is a mapping of (word_id, word_frequency)"
   ]
  },
  {
   "cell_type": "code",
   "execution_count": 63,
   "metadata": {},
   "outputs": [
    {
     "data": {
      "text/plain": [
       "'oil'"
      ]
     },
     "execution_count": 63,
     "metadata": {},
     "output_type": "execute_result"
    }
   ],
   "source": [
    "#This shows what word a given id is corresponds to\n",
    "id2word[0]"
   ]
  },
  {
   "cell_type": "code",
   "execution_count": 64,
   "metadata": {},
   "outputs": [
    {
     "data": {
      "text/plain": [
       "'potato'"
      ]
     },
     "execution_count": 64,
     "metadata": {},
     "output_type": "execute_result"
    }
   ],
   "source": [
    "id2word[1]"
   ]
  },
  {
   "cell_type": "code",
   "execution_count": 65,
   "metadata": {},
   "outputs": [
    {
     "data": {
      "text/plain": [
       "[[('oil', 1), ('potato', 1), ('salt', 1), ('vegetable', 1)]]"
      ]
     },
     "execution_count": 65,
     "metadata": {},
     "output_type": "execute_result"
    }
   ],
   "source": [
    "#human readable format of corpus (term frequency)\n",
    "[[(id2word[id], freq) for id, freq in cp] for cp in corpus[:1]]"
   ]
  },
  {
   "cell_type": "markdown",
   "metadata": {},
   "source": [
    "Building the topic model\n",
    "\n",
    "*chunksize* is the number of documents to be used in each training chunk. \n",
    "*update_every* determines how often the model parameters should be updated.   \n",
    "*passes* is the total number of training passes."
   ]
  },
  {
   "cell_type": "code",
   "execution_count": 66,
   "metadata": {},
   "outputs": [],
   "source": [
    "lda_model = LdaMulticore(corpus=corpus,\n",
    "                         id2word=id2word,\n",
    "                         num_topics=10, \n",
    "                         random_state=100,\n",
    "                         chunksize=100, \n",
    "                         passes=10, \n",
    "                         per_word_topics=True)"
   ]
  },
  {
   "cell_type": "code",
   "execution_count": 67,
   "metadata": {},
   "outputs": [
    {
     "ename": "NameError",
     "evalue": "name 'pprint' is not defined",
     "output_type": "error",
     "traceback": [
      "\u001b[1;31m---------------------------------------------------------------------------\u001b[0m",
      "\u001b[1;31mNameError\u001b[0m                                 Traceback (most recent call last)",
      "\u001b[1;32m<ipython-input-67-0cc143ab8b07>\u001b[0m in \u001b[0;36m<module>\u001b[1;34m\u001b[0m\n\u001b[0;32m      1\u001b[0m \u001b[1;31m# Print keywords in the 10 topics\u001b[0m\u001b[1;33m\u001b[0m\u001b[1;33m\u001b[0m\u001b[1;33m\u001b[0m\u001b[0m\n\u001b[1;32m----> 2\u001b[1;33m \u001b[0mpprint\u001b[0m\u001b[1;33m(\u001b[0m\u001b[0mlda_model\u001b[0m\u001b[1;33m.\u001b[0m\u001b[0mprint_topics\u001b[0m\u001b[1;33m(\u001b[0m\u001b[1;33m)\u001b[0m\u001b[1;33m)\u001b[0m\u001b[1;33m\u001b[0m\u001b[1;33m\u001b[0m\u001b[0m\n\u001b[0m",
      "\u001b[1;31mNameError\u001b[0m: name 'pprint' is not defined"
     ]
    }
   ],
   "source": [
    "# Print keywords in the 10 topics\n",
    "pprint(lda_model.print_topics())"
   ]
  },
  {
   "cell_type": "code",
   "execution_count": 68,
   "metadata": {},
   "outputs": [],
   "source": [
    "from pprint import pprint"
   ]
  },
  {
   "cell_type": "code",
   "execution_count": 69,
   "metadata": {},
   "outputs": [
    {
     "name": "stdout",
     "output_type": "stream",
     "text": [
      "[(0,\n",
      "  '0.147*\"pepper\" + 0.083*\"salt\" + 0.083*\"lemon\" + 0.082*\"juice\" + '\n",
      "  '0.060*\"onion\" + 0.050*\"butter\" + 0.049*\"chicken\" + 0.034*\"broth\" + '\n",
      "  '0.031*\"garlic\" + 0.021*\"salmon\"'),\n",
      " (1,\n",
      "  '0.138*\"cream\" + 0.130*\"cheese\" + 0.088*\"mushroom\" + 0.072*\"onion\" + '\n",
      "  '0.069*\"butter\" + 0.052*\"soup\" + 0.045*\"bread\" + 0.036*\"salt\" + '\n",
      "  '0.032*\"flour\" + 0.027*\"milk\"'),\n",
      " (2,\n",
      "  '0.115*\"sauce\" + 0.084*\"rice\" + 0.084*\"oil\" + 0.064*\"soy\" + '\n",
      "  '0.054*\"vegetable\" + 0.054*\"onion\" + 0.049*\"water\" + 0.042*\"ginger\" + '\n",
      "  '0.036*\"pepper\" + 0.029*\"garlic\"'),\n",
      " (3,\n",
      "  '0.147*\"pepper\" + 0.088*\"onion\" + 0.063*\"bean\" + 0.062*\"tomato\" + '\n",
      "  '0.057*\"oil\" + 0.057*\"garlic\" + 0.048*\"salt\" + 0.035*\"olive\" + 0.025*\"sauce\" '\n",
      "  '+ 0.020*\"italian\"'),\n",
      " (4,\n",
      "  '0.088*\"salt\" + 0.070*\"flour\" + 0.055*\"water\" + 0.052*\"vegetable\" + '\n",
      "  '0.051*\"oil\" + 0.050*\"butter\" + 0.049*\"sugar\" + 0.043*\"onion\" + 0.036*\"milk\" '\n",
      "  '+ 0.036*\"pepper\"'),\n",
      " (5,\n",
      "  '0.134*\"beef\" + 0.121*\"pepper\" + 0.092*\"sauce\" + 0.077*\"onion\" + '\n",
      "  '0.077*\"salt\" + 0.049*\"garlic\" + 0.045*\"water\" + 0.033*\"pork\" + '\n",
      "  '0.031*\"shrimp\" + 0.023*\"chive\"'),\n",
      " (6,\n",
      "  '0.148*\"cheese\" + 0.087*\"pepper\" + 0.085*\"oil\" + 0.068*\"salt\" + '\n",
      "  '0.065*\"olive\" + 0.047*\"basil\" + 0.039*\"garlic\" + 0.038*\"spinach\" + '\n",
      "  '0.034*\"tomato\" + 0.025*\"onion\"'),\n",
      " (7,\n",
      "  '0.127*\"corn\" + 0.093*\"flour\" + 0.083*\"baking\" + 0.062*\"kernel\" + '\n",
      "  '0.061*\"salad\" + 0.056*\"cheese\" + 0.038*\"wheat\" + 0.038*\"egg\" + '\n",
      "  '0.036*\"lettuce\" + 0.026*\"mexican\"'),\n",
      " (8,\n",
      "  '0.111*\"pepper\" + 0.077*\"salt\" + 0.075*\"onion\" + 0.052*\"egg\" + 0.048*\"milk\" '\n",
      "  '+ 0.046*\"cheese\" + 0.039*\"mustard\" + 0.039*\"sauce\" + 0.038*\"potato\" + '\n",
      "  '0.038*\"bread\"'),\n",
      " (9,\n",
      "  '0.131*\"pepper\" + 0.113*\"oil\" + 0.086*\"olive\" + 0.081*\"salt\" + '\n",
      "  '0.055*\"garlic\" + 0.048*\"onion\" + 0.040*\"vinegar\" + 0.038*\"wine\" + '\n",
      "  '0.020*\"pork\" + 0.017*\"vegetable\"')]\n"
     ]
    }
   ],
   "source": [
    "# Print keywords in the 10 topics\n",
    "pprint(lda_model.print_topics())"
   ]
  },
  {
   "cell_type": "markdown",
   "metadata": {},
   "source": [
    "Model perplexity and topic coherence can be used to judge how good a given topic model is"
   ]
  },
  {
   "cell_type": "code",
   "execution_count": 70,
   "metadata": {},
   "outputs": [
    {
     "name": "stdout",
     "output_type": "stream",
     "text": [
      "Perplexity:  -4.76\n"
     ]
    }
   ],
   "source": [
    "#compute perplexity (when perpl. is lower -> the better model)\n",
    "perplexity = lda_model.log_perplexity(corpus)\n",
    "print('Perplexity: ', np.round(perplexity, 2))"
   ]
  },
  {
   "cell_type": "code",
   "execution_count": 71,
   "metadata": {},
   "outputs": [
    {
     "name": "stdout",
     "output_type": "stream",
     "text": [
      "Coherence Score:  0.383\n"
     ]
    }
   ],
   "source": [
    "#compute coherence score\n",
    "coherence_model_lda = CoherenceModel(model=lda_model, texts=texts, \n",
    "                                     dictionary=id2word, coherence='c_v')\n",
    "coherence_lda = coherence_model_lda.get_coherence()\n",
    "print('Coherence Score: ', np.round(coherence_lda, 3))"
   ]
  },
  {
   "cell_type": "code",
   "execution_count": 72,
   "metadata": {},
   "outputs": [],
   "source": [
    "import tqdm"
   ]
  },
  {
   "cell_type": "code",
   "execution_count": 2,
   "metadata": {},
   "outputs": [
    {
     "ename": "ModuleNotFoundError",
     "evalue": "No module named 'pyLDAvis'",
     "output_type": "error",
     "traceback": [
      "\u001b[1;31m---------------------------------------------------------------------------\u001b[0m",
      "\u001b[1;31mModuleNotFoundError\u001b[0m                       Traceback (most recent call last)",
      "\u001b[1;32m<ipython-input-2-fc42def2ed73>\u001b[0m in \u001b[0;36m<module>\u001b[1;34m\u001b[0m\n\u001b[1;32m----> 1\u001b[1;33m \u001b[1;32mimport\u001b[0m \u001b[0mpyLDAvis\u001b[0m\u001b[1;33m\u001b[0m\u001b[1;33m\u001b[0m\u001b[0m\n\u001b[0m\u001b[0;32m      2\u001b[0m \u001b[1;32mimport\u001b[0m \u001b[0mpyLDAvis\u001b[0m\u001b[1;33m.\u001b[0m\u001b[0mgensim\u001b[0m\u001b[1;33m\u001b[0m\u001b[1;33m\u001b[0m\u001b[0m\n",
      "\u001b[1;31mModuleNotFoundError\u001b[0m: No module named 'pyLDAvis'"
     ]
    }
   ],
   "source": [
    "import pyLDAvis\n",
    "import pyLDAvis.gensim"
   ]
  },
  {
   "cell_type": "code",
   "execution_count": 3,
   "metadata": {},
   "outputs": [
    {
     "name": "stdout",
     "output_type": "stream",
     "text": [
      "Collecting package metadata (current_repodata.json): ...working... done\n",
      "Solving environment: ...working... failed with initial frozen solve. Retrying with flexible solve.\n",
      "Collecting package metadata (repodata.json): ...working... done\n",
      "Solving environment: ...working... failed with initial frozen solve. Retrying with flexible solve.\n",
      "\n",
      "Note: you may need to restart the kernel to use updated packages.\n"
     ]
    },
    {
     "name": "stderr",
     "output_type": "stream",
     "text": [
      "\n",
      "PackagesNotFoundError: The following packages are not available from current channels:\n",
      "\n",
      "  - pyldavis\n",
      "\n",
      "Current channels:\n",
      "\n",
      "  - https://conda.anaconda.org/memex/win-64\n",
      "  - https://conda.anaconda.org/memex/noarch\n",
      "  - https://repo.anaconda.com/pkgs/main/win-64\n",
      "  - https://repo.anaconda.com/pkgs/main/noarch\n",
      "  - https://repo.anaconda.com/pkgs/r/win-64\n",
      "  - https://repo.anaconda.com/pkgs/r/noarch\n",
      "  - https://repo.anaconda.com/pkgs/msys2/win-64\n",
      "  - https://repo.anaconda.com/pkgs/msys2/noarch\n",
      "\n",
      "To search for alternate channels that may provide the conda package you're\n",
      "looking for, navigate to\n",
      "\n",
      "    https://anaconda.org\n",
      "\n",
      "and use the search bar at the top of the page.\n",
      "\n",
      "\n"
     ]
    }
   ],
   "source": [
    "conda install -c memex pyldavis"
   ]
  },
  {
   "cell_type": "code",
   "execution_count": 4,
   "metadata": {},
   "outputs": [
    {
     "ename": "ModuleNotFoundError",
     "evalue": "No module named 'pyLDAvis'",
     "output_type": "error",
     "traceback": [
      "\u001b[1;31m---------------------------------------------------------------------------\u001b[0m",
      "\u001b[1;31mModuleNotFoundError\u001b[0m                       Traceback (most recent call last)",
      "\u001b[1;32m<ipython-input-4-fc42def2ed73>\u001b[0m in \u001b[0;36m<module>\u001b[1;34m\u001b[0m\n\u001b[1;32m----> 1\u001b[1;33m \u001b[1;32mimport\u001b[0m \u001b[0mpyLDAvis\u001b[0m\u001b[1;33m\u001b[0m\u001b[1;33m\u001b[0m\u001b[0m\n\u001b[0m\u001b[0;32m      2\u001b[0m \u001b[1;32mimport\u001b[0m \u001b[0mpyLDAvis\u001b[0m\u001b[1;33m.\u001b[0m\u001b[0mgensim\u001b[0m\u001b[1;33m\u001b[0m\u001b[1;33m\u001b[0m\u001b[0m\n",
      "\u001b[1;31mModuleNotFoundError\u001b[0m: No module named 'pyLDAvis'"
     ]
    }
   ],
   "source": [
    "import pyLDAvis\n",
    "import pyLDAvis.gensim"
   ]
  },
  {
   "cell_type": "code",
   "execution_count": 5,
   "metadata": {},
   "outputs": [
    {
     "name": "stdout",
     "output_type": "stream",
     "text": [
      "Collecting pyLDAvis\n",
      "  Downloading pyLDAvis-3.3.1.tar.gz (1.7 MB)\n",
      "  Installing build dependencies: started\n",
      "  Installing build dependencies: finished with status 'done'\n",
      "  Getting requirements to build wheel: started\n",
      "  Getting requirements to build wheel: finished with status 'done'\n",
      "  Installing backend dependencies: started\n",
      "  Installing backend dependencies: finished with status 'done'\n",
      "    Preparing wheel metadata: started\n",
      "    Preparing wheel metadata: finished with status 'done'\n",
      "Requirement already satisfied: future in c:\\users\\chamo\\anaconda3\\lib\\site-packages (from pyLDAvis) (0.18.2)\n",
      "Collecting sklearn\n",
      "  Downloading sklearn-0.0.tar.gz (1.1 kB)\n",
      "Collecting funcy\n",
      "  Downloading funcy-1.15-py2.py3-none-any.whl (32 kB)\n",
      "Collecting pandas>=1.2.0\n",
      "  Downloading pandas-1.2.3-cp37-cp37m-win_amd64.whl (9.1 MB)\n",
      "Requirement already satisfied: setuptools in c:\\users\\chamo\\anaconda3\\lib\\site-packages (from pyLDAvis) (45.2.0.post20200210)\n",
      "Requirement already satisfied: scipy in c:\\users\\chamo\\anaconda3\\lib\\site-packages (from pyLDAvis) (1.4.1)\n",
      "Requirement already satisfied: jinja2 in c:\\users\\chamo\\anaconda3\\lib\\site-packages (from pyLDAvis) (2.11.1)\n",
      "Requirement already satisfied: scikit-learn in c:\\users\\chamo\\anaconda3\\lib\\site-packages (from pyLDAvis) (0.22.1)\n",
      "Requirement already satisfied: joblib in c:\\users\\chamo\\anaconda3\\lib\\site-packages (from pyLDAvis) (0.14.1)\n",
      "Collecting numpy>=1.20.0\n",
      "  Downloading numpy-1.20.2-cp37-cp37m-win_amd64.whl (13.6 MB)\n",
      "Requirement already satisfied: numexpr in c:\\users\\chamo\\anaconda3\\lib\\site-packages (from pyLDAvis) (2.7.1)\n",
      "Requirement already satisfied: gensim in c:\\users\\chamo\\anaconda3\\lib\\site-packages (from pyLDAvis) (4.0.1)\n",
      "Requirement already satisfied: python-dateutil>=2.7.3 in c:\\users\\chamo\\anaconda3\\lib\\site-packages (from pandas>=1.2.0->pyLDAvis) (2.8.1)\n",
      "Requirement already satisfied: pytz>=2017.3 in c:\\users\\chamo\\anaconda3\\lib\\site-packages (from pandas>=1.2.0->pyLDAvis) (2019.3)\n",
      "Requirement already satisfied: MarkupSafe>=0.23 in c:\\users\\chamo\\anaconda3\\lib\\site-packages (from jinja2->pyLDAvis) (1.1.1)\n",
      "Requirement already satisfied: Cython==0.29.21 in c:\\users\\chamo\\anaconda3\\lib\\site-packages (from gensim->pyLDAvis) (0.29.21)\n",
      "Requirement already satisfied: smart-open>=1.8.1 in c:\\users\\chamo\\anaconda3\\lib\\site-packages (from gensim->pyLDAvis) (2.1.0)\n",
      "Requirement already satisfied: six>=1.5 in c:\\users\\chamo\\anaconda3\\lib\\site-packages (from python-dateutil>=2.7.3->pandas>=1.2.0->pyLDAvis) (1.14.0)\n",
      "Requirement already satisfied: boto3 in c:\\users\\chamo\\anaconda3\\lib\\site-packages (from smart-open>=1.8.1->gensim->pyLDAvis) (1.14.39)\n",
      "Requirement already satisfied: boto in c:\\users\\chamo\\anaconda3\\lib\\site-packages (from smart-open>=1.8.1->gensim->pyLDAvis) (2.49.0)\n",
      "Requirement already satisfied: requests in c:\\users\\chamo\\anaconda3\\lib\\site-packages (from smart-open>=1.8.1->gensim->pyLDAvis) (2.22.0)\n",
      "Requirement already satisfied: jmespath<1.0.0,>=0.7.1 in c:\\users\\chamo\\anaconda3\\lib\\site-packages (from boto3->smart-open>=1.8.1->gensim->pyLDAvis) (0.10.0)\n",
      "Requirement already satisfied: botocore<1.18.0,>=1.17.39 in c:\\users\\chamo\\anaconda3\\lib\\site-packages (from boto3->smart-open>=1.8.1->gensim->pyLDAvis) (1.17.39)\n",
      "Requirement already satisfied: s3transfer<0.4.0,>=0.3.0 in c:\\users\\chamo\\anaconda3\\lib\\site-packages (from boto3->smart-open>=1.8.1->gensim->pyLDAvis) (0.3.3)\n",
      "Requirement already satisfied: certifi>=2017.4.17 in c:\\users\\chamo\\anaconda3\\lib\\site-packages (from requests->smart-open>=1.8.1->gensim->pyLDAvis) (2019.11.28)\n",
      "Requirement already satisfied: urllib3!=1.25.0,!=1.25.1,<1.26,>=1.21.1 in c:\\users\\chamo\\anaconda3\\lib\\site-packages (from requests->smart-open>=1.8.1->gensim->pyLDAvis) (1.25.8)\n",
      "Requirement already satisfied: chardet<3.1.0,>=3.0.2 in c:\\users\\chamo\\anaconda3\\lib\\site-packages (from requests->smart-open>=1.8.1->gensim->pyLDAvis) (3.0.4)\n",
      "Requirement already satisfied: idna<2.9,>=2.5 in c:\\users\\chamo\\anaconda3\\lib\\site-packages (from requests->smart-open>=1.8.1->gensim->pyLDAvis) (2.8)\n",
      "Requirement already satisfied: docutils<0.16,>=0.10 in c:\\users\\chamo\\anaconda3\\lib\\site-packages (from botocore<1.18.0,>=1.17.39->boto3->smart-open>=1.8.1->gensim->pyLDAvis) (0.15.2)\n",
      "Building wheels for collected packages: pyLDAvis, sklearn\n",
      "  Building wheel for pyLDAvis (PEP 517): started\n",
      "  Building wheel for pyLDAvis (PEP 517): finished with status 'done'\n",
      "  Created wheel for pyLDAvis: filename=pyLDAvis-3.3.1-py2.py3-none-any.whl size=136870 sha256=5df97f7d2b99fef637e15cb4244b3e0bb899aa77ca89b327ea97bc3875005acc\n",
      "  Stored in directory: c:\\users\\chamo\\appdata\\local\\pip\\cache\\wheels\\c9\\21\\f6\\17bcf2667e8a68532ba2fbf6d5c72fdf4c7f7d9abfa4852d2f\n",
      "  Building wheel for sklearn (setup.py): started\n",
      "  Building wheel for sklearn (setup.py): finished with status 'done'\n",
      "  Created wheel for sklearn: filename=sklearn-0.0-py2.py3-none-any.whl size=1320 sha256=6659c42564690da92064afe88ac130c091e7aeefefa8835d548a87cfb341bd42\n",
      "  Stored in directory: c:\\users\\chamo\\appdata\\local\\pip\\cache\\wheels\\46\\ef\\c3\\157e41f5ee1372d1be90b09f74f82b10e391eaacca8f22d33e\n",
      "Successfully built pyLDAvis sklearn\n",
      "Installing collected packages: sklearn, funcy, numpy, pandas, pyLDAvis\n",
      "  Attempting uninstall: numpy\n",
      "    Found existing installation: numpy 1.18.1\n",
      "    Uninstalling numpy-1.18.1:\n",
      "      Successfully uninstalled numpy-1.18.1\n",
      "  Attempting uninstall: pandas\n",
      "    Found existing installation: pandas 1.0.1\n",
      "    Uninstalling pandas-1.0.1:\n",
      "      Successfully uninstalled pandas-1.0.1\n",
      "Successfully installed funcy-1.15 numpy-1.20.2 pandas-1.2.3 pyLDAvis-3.3.1 sklearn-0.0\n",
      "Note: you may need to restart the kernel to use updated packages.\n"
     ]
    }
   ],
   "source": [
    "pip install pyLDAvis"
   ]
  },
  {
   "cell_type": "code",
   "execution_count": 7,
   "metadata": {},
   "outputs": [
    {
     "name": "stderr",
     "output_type": "stream",
     "text": [
      "C:\\Users\\chamo\\anaconda3\\lib\\site-packages\\scipy\\fft\\__init__.py:97: DeprecationWarning: The module numpy.dual is deprecated.  Instead of using dual, use the functions directly from numpy or scipy.\n",
      "  from numpy.dual import register_func\n",
      "C:\\Users\\chamo\\anaconda3\\lib\\site-packages\\scipy\\special\\orthogonal.py:81: DeprecationWarning: `np.int` is a deprecated alias for the builtin `int`. To silence this warning, use `int` by itself. Doing this will not modify any behavior and is safe. When replacing `np.int`, you may wish to use e.g. `np.int64` or `np.int32` to specify the precision. If you wish to review your current use, check the release note link for additional information.\n",
      "Deprecated in NumPy 1.20; for more details and guidance: https://numpy.org/devdocs/release/1.20.0-notes.html#deprecations\n",
      "  from numpy import (exp, inf, pi, sqrt, floor, sin, cos, around, int,\n",
      "C:\\Users\\chamo\\anaconda3\\lib\\site-packages\\scipy\\special\\orthogonal.py:81: DeprecationWarning: `np.int` is a deprecated alias for the builtin `int`. To silence this warning, use `int` by itself. Doing this will not modify any behavior and is safe. When replacing `np.int`, you may wish to use e.g. `np.int64` or `np.int32` to specify the precision. If you wish to review your current use, check the release note link for additional information.\n",
      "Deprecated in NumPy 1.20; for more details and guidance: https://numpy.org/devdocs/release/1.20.0-notes.html#deprecations\n",
      "  from numpy import (exp, inf, pi, sqrt, floor, sin, cos, around, int,\n",
      "C:\\Users\\chamo\\anaconda3\\lib\\site-packages\\sklearn\\linear_model\\_least_angle.py:30: DeprecationWarning: `np.float` is a deprecated alias for the builtin `float`. To silence this warning, use `float` by itself. Doing this will not modify any behavior and is safe. If you specifically wanted the numpy scalar type, use `np.float64` here.\n",
      "Deprecated in NumPy 1.20; for more details and guidance: https://numpy.org/devdocs/release/1.20.0-notes.html#deprecations\n",
      "  method='lar', copy_X=True, eps=np.finfo(np.float).eps,\n",
      "C:\\Users\\chamo\\anaconda3\\lib\\site-packages\\sklearn\\linear_model\\_least_angle.py:169: DeprecationWarning: `np.float` is a deprecated alias for the builtin `float`. To silence this warning, use `float` by itself. Doing this will not modify any behavior and is safe. If you specifically wanted the numpy scalar type, use `np.float64` here.\n",
      "Deprecated in NumPy 1.20; for more details and guidance: https://numpy.org/devdocs/release/1.20.0-notes.html#deprecations\n",
      "  method='lar', copy_X=True, eps=np.finfo(np.float).eps,\n",
      "C:\\Users\\chamo\\anaconda3\\lib\\site-packages\\sklearn\\linear_model\\_least_angle.py:286: DeprecationWarning: `np.float` is a deprecated alias for the builtin `float`. To silence this warning, use `float` by itself. Doing this will not modify any behavior and is safe. If you specifically wanted the numpy scalar type, use `np.float64` here.\n",
      "Deprecated in NumPy 1.20; for more details and guidance: https://numpy.org/devdocs/release/1.20.0-notes.html#deprecations\n",
      "  eps=np.finfo(np.float).eps, copy_Gram=True, verbose=0,\n",
      "C:\\Users\\chamo\\anaconda3\\lib\\site-packages\\sklearn\\linear_model\\_least_angle.py:858: DeprecationWarning: `np.float` is a deprecated alias for the builtin `float`. To silence this warning, use `float` by itself. Doing this will not modify any behavior and is safe. If you specifically wanted the numpy scalar type, use `np.float64` here.\n",
      "Deprecated in NumPy 1.20; for more details and guidance: https://numpy.org/devdocs/release/1.20.0-notes.html#deprecations\n",
      "  eps=np.finfo(np.float).eps, copy_X=True, fit_path=True):\n",
      "C:\\Users\\chamo\\anaconda3\\lib\\site-packages\\sklearn\\linear_model\\_least_angle.py:1094: DeprecationWarning: `np.float` is a deprecated alias for the builtin `float`. To silence this warning, use `float` by itself. Doing this will not modify any behavior and is safe. If you specifically wanted the numpy scalar type, use `np.float64` here.\n",
      "Deprecated in NumPy 1.20; for more details and guidance: https://numpy.org/devdocs/release/1.20.0-notes.html#deprecations\n",
      "  eps=np.finfo(np.float).eps, copy_X=True, fit_path=True,\n",
      "C:\\Users\\chamo\\anaconda3\\lib\\site-packages\\sklearn\\linear_model\\_least_angle.py:1120: DeprecationWarning: `np.float` is a deprecated alias for the builtin `float`. To silence this warning, use `float` by itself. Doing this will not modify any behavior and is safe. If you specifically wanted the numpy scalar type, use `np.float64` here.\n",
      "Deprecated in NumPy 1.20; for more details and guidance: https://numpy.org/devdocs/release/1.20.0-notes.html#deprecations\n",
      "  eps=np.finfo(np.float).eps, positive=False):\n",
      "C:\\Users\\chamo\\anaconda3\\lib\\site-packages\\sklearn\\linear_model\\_least_angle.py:1349: DeprecationWarning: `np.float` is a deprecated alias for the builtin `float`. To silence this warning, use `float` by itself. Doing this will not modify any behavior and is safe. If you specifically wanted the numpy scalar type, use `np.float64` here.\n",
      "Deprecated in NumPy 1.20; for more details and guidance: https://numpy.org/devdocs/release/1.20.0-notes.html#deprecations\n",
      "  max_n_alphas=1000, n_jobs=None, eps=np.finfo(np.float).eps,\n",
      "C:\\Users\\chamo\\anaconda3\\lib\\site-packages\\sklearn\\linear_model\\_least_angle.py:1590: DeprecationWarning: `np.float` is a deprecated alias for the builtin `float`. To silence this warning, use `float` by itself. Doing this will not modify any behavior and is safe. If you specifically wanted the numpy scalar type, use `np.float64` here.\n",
      "Deprecated in NumPy 1.20; for more details and guidance: https://numpy.org/devdocs/release/1.20.0-notes.html#deprecations\n",
      "  max_n_alphas=1000, n_jobs=None, eps=np.finfo(np.float).eps,\n",
      "C:\\Users\\chamo\\anaconda3\\lib\\site-packages\\sklearn\\linear_model\\_least_angle.py:1723: DeprecationWarning: `np.float` is a deprecated alias for the builtin `float`. To silence this warning, use `float` by itself. Doing this will not modify any behavior and is safe. If you specifically wanted the numpy scalar type, use `np.float64` here.\n",
      "Deprecated in NumPy 1.20; for more details and guidance: https://numpy.org/devdocs/release/1.20.0-notes.html#deprecations\n",
      "  eps=np.finfo(np.float).eps, copy_X=True, positive=False):\n",
      "C:\\Users\\chamo\\anaconda3\\lib\\site-packages\\sklearn\\decomposition\\_lda.py:29: DeprecationWarning: `np.float` is a deprecated alias for the builtin `float`. To silence this warning, use `float` by itself. Doing this will not modify any behavior and is safe. If you specifically wanted the numpy scalar type, use `np.float64` here.\n",
      "Deprecated in NumPy 1.20; for more details and guidance: https://numpy.org/devdocs/release/1.20.0-notes.html#deprecations\n",
      "  EPS = np.finfo(np.float).eps\n"
     ]
    },
    {
     "ename": "ModuleNotFoundError",
     "evalue": "No module named 'pyLDAvis.gensim'",
     "output_type": "error",
     "traceback": [
      "\u001b[1;31m---------------------------------------------------------------------------\u001b[0m",
      "\u001b[1;31mModuleNotFoundError\u001b[0m                       Traceback (most recent call last)",
      "\u001b[1;32m<ipython-input-7-fc42def2ed73>\u001b[0m in \u001b[0;36m<module>\u001b[1;34m\u001b[0m\n\u001b[0;32m      1\u001b[0m \u001b[1;32mimport\u001b[0m \u001b[0mpyLDAvis\u001b[0m\u001b[1;33m\u001b[0m\u001b[1;33m\u001b[0m\u001b[0m\n\u001b[1;32m----> 2\u001b[1;33m \u001b[1;32mimport\u001b[0m \u001b[0mpyLDAvis\u001b[0m\u001b[1;33m.\u001b[0m\u001b[0mgensim\u001b[0m\u001b[1;33m\u001b[0m\u001b[1;33m\u001b[0m\u001b[0m\n\u001b[0m",
      "\u001b[1;31mModuleNotFoundError\u001b[0m: No module named 'pyLDAvis.gensim'"
     ]
    }
   ],
   "source": [
    "import pyLDAvis\n",
    "import pyLDAvis.gensim"
   ]
  },
  {
   "cell_type": "code",
   "execution_count": 73,
   "metadata": {},
   "outputs": [],
   "source": [
    "import pyLDAvis.gensim_models as gensimvis\n",
    "pyLDAvis.enable_notebook()"
   ]
  },
  {
   "cell_type": "code",
   "execution_count": 74,
   "metadata": {},
   "outputs": [
    {
     "data": {
      "text/html": [
       "\n",
       "<link rel=\"stylesheet\" type=\"text/css\" href=\"https://cdn.jsdelivr.net/gh/bmabey/pyLDAvis@3.3.1/pyLDAvis/js/ldavis.v1.0.0.css\">\n",
       "\n",
       "\n",
       "<div id=\"ldavis_el2304018794890933206668542193\"></div>\n",
       "<script type=\"text/javascript\">\n",
       "\n",
       "var ldavis_el2304018794890933206668542193_data = {\"mdsDat\": {\"x\": [0.10572718128602034, 0.1743741349837106, 0.1425453045293328, -0.0896796552912791, 0.1368596488260482, -0.01822381218348163, -0.15265709543380238, -0.0032093174344795597, 0.08802565617352442, -0.38376204545559395], \"y\": [0.041640176266700094, 0.002817714348107006, 0.06142348543285806, 0.06532179446656558, -0.21048668473511636, -0.13268500744277734, 0.18151118035386676, 0.1233878827096649, -0.009137705971983942, -0.12379283542788465], \"topics\": [1, 2, 3, 4, 5, 6, 7, 8, 9, 10], \"cluster\": [1, 1, 1, 1, 1, 1, 1, 1, 1, 1], \"Freq\": [15.862474850854873, 13.652485522954294, 11.349478600718044, 10.33931176428102, 10.148308661147446, 10.136806824373235, 9.828162686636848, 8.63196017214259, 6.699356633928582, 3.3516542829630667]}, \"tinfo\": {\"Term\": [\"cheese\", \"cream\", \"sauce\", \"olive\", \"beef\", \"flour\", \"oil\", \"lemon\", \"corn\", \"juice\", \"rice\", \"mushroom\", \"bean\", \"pepper\", \"vegetable\", \"soy\", \"butter\", \"milk\", \"tomato\", \"egg\", \"soup\", \"bread\", \"basil\", \"chicken\", \"baking\", \"sugar\", \"ginger\", \"water\", \"kernel\", \"salt\", \"chip\", \"garbanzo\", \"squash\", \"vegetarian\", \"clam\", \"cod\", \"spaghetti\", \"bean\", \"salsa\", \"puree\", \"crouton\", \"pepperoni\", \"angel_hair\", \"cannellini\", \"seitan\", \"spanish\", \"wide\", \"okra\", \"tortilla\", \"dough\", \"substitute\", \"zucchini\", \"maple_syrup\", \"roma\", \"sirloin\", \"separated\", \"ditalini\", \"tahini\", \"grass\", \"refried\", \"bell\", \"oregano\", \"tomato\", \"cumin\", \"chile\", \"drained\", \"sausage\", \"jalapeno\", \"italian\", \"pepper\", \"garlic\", \"onion\", \"basil\", \"corn\", \"oil\", \"olive\", \"salt\", \"parsley\", \"sauce\", \"vegetable\", \"water\", \"broth\", \"cheese\", \"kernel\", \"celery\", \"carrot\", \"wine\", \"loin\", \"beet\", \"tenderloin\", \"duck\", \"leg\", \"asparagus\", \"cover\", \"poblano\", \"currant\", \"peel\", \"third\", \"rib\", \"ramen_noodle\", \"korean\", \"bouillon_granule\", \"steak\", \"dredging\", \"hock\", \"spear\", \"cashew\", \"sherry\", \"baby_back\", \"caper\", \"barbecue\", \"base\", \"grain\", \"wood\", \"shoulder\", \"length\", \"glaze\", \"allspice\", \"plain\", \"lentil\", \"mint\", \"provence\", \"olive\", \"vinegar\", \"wine\", \"shallot\", \"cider\", \"oil\", \"dijon\", \"pork\", \"cayenne\", \"paste\", \"rosemary\", \"pepper\", \"garlic\", \"salt\", \"mustard\", \"thyme\", \"onion\", \"vegetable\", \"salmon\", \"water\", \"butter\", \"seed\", \"broth\", \"sauce\", \"rice\", \"celery\", \"lemon\", \"orange\", \"leek\", \"heavy_whipping\", \"teriyaki\", \"crunchy\", \"juice\", \"cob\", \"rabbit\", \"oyster\", \"husk\", \"venison\", \"zest\", \"bouillon\", \"tip\", \"vodka\", \"silk\", \"scallop\", \"milliliter\", \"greek\", \"double\", \"tarragon\", \"bird\", \"pancetta\", \"based_curing\", \"grapeseed\", \"snapper\", \"baked\", \"ciabatta\", \"cocktail\", \"chicken\", \"skin\", \"ring\", \"lime\", \"cauliflower\", \"broth\", \"salmon\", \"sprig\", \"thyme\", \"cucumber\", \"parsley\", \"pepper\", \"butter\", \"jalapeno\", \"salt\", \"garnish\", \"cayenne\", \"onion\", \"sage\", \"shrimp\", \"rosemary\", \"garlic\", \"potato\", \"wine\", \"cream\", \"carrot\", \"celery\", \"oil\", \"tomato\", \"water\", \"olive\", \"worcestershire\", \"cracker\", \"pickle\", \"mayonnaise\", \"crabmeat\", \"ham\", \"saltine_cracker\", \"hamburger_bun\", \"pickle_relish\", \"button\", \"plain_yogurt\", \"tortillas_warmed\", \"pepperjack\", \"gallon\", \"veal\", \"yolk\", \"seafood\", \"tater_tot\", \"dill_weed\", \"room_temperature\", \"colby\", \"farfalle_bow\", \"liquid_smoke\", \"brussels_sprout\", \"vital\", \"velveeta\", \"poppy\", \"oatmeal\", \"ketchup\", \"rum\", \"bacon\", \"nutmeg\", \"savory\", \"mustard\", \"dill\", \"deli\", \"egg\", \"milk\", \"swiss\", \"bread\", \"russet\", \"potato\", \"dijon\", \"sweet\", \"crumb\", \"pepper\", \"salt\", \"onion\", \"cheese\", \"celery\", \"sauce\", \"flour\", \"butter\", \"sugar\", \"pea\", \"garlic\", \"seed\", \"root\", \"noodle\", \"sesame\", \"fish\", \"spice\", \"ginger\", \"sodium\", \"asian\", \"chocolate\", \"syrup\", \"soy\", \"ice\", \"crab\", \"semisweet_chocolate\", \"stick\", \"available\", \"reserve\", \"crumble\", \"corned\", \"pink\", \"calrose\", \"candy\", \"veggie\", \"cardamom\", \"fire\", \"eye\", \"tart\", \"dairy\", \"pod\", \"spectrum_natural\", \"rice\", \"coriander\", \"dark\", \"peanut\", \"sauce\", \"fennel\", \"pea\", \"seed\", \"vegetable\", \"chestnut\", \"water\", \"oil\", \"curry\", \"vinegar\", \"onion\", \"sugar\", \"garlic\", \"shrimp\", \"brown\", \"salmon\", \"pepper\", \"chile\", \"salt\", \"wine\", \"lime\", \"chicken\", \"butter\", \"walnut\", \"coconut\", \"raisin\", \"cinnamon\", \"poultry\", \"giblet\", \"almond\", \"neck\", \"golden\", \"scallion\", \"cranberry\", \"part\", \"brandy\", \"hoisin\", \"dripping\", \"lump\", \"tamari\", \"cabbage\", \"dried\", \"natural\", \"apple\", \"rutabaga\", \"coffee\", \"lobster\", \"pecan\", \"belly\", \"marshmallow\", \"soul\", \"pigeon\", \"catfish\", \"banana\", \"turmeric\", \"wild\", \"sugar\", \"unsweetened\", \"carrot\", \"brown\", \"flour\", \"vegetable\", \"curry\", \"milk\", \"water\", \"celery\", \"butter\", \"salt\", \"potato\", \"egg\", \"oil\", \"onion\", \"sage\", \"peanut\", \"honey\", \"pepper\", \"cider\", \"thyme\", \"rice\", \"vinegar\", \"soup\", \"cheddar\", \"gravy\", \"rolled_oat\", \"unbaked_pie\", \"confectioner\", \"breakfast\", \"stem\", \"cream\", \"quick\", \"loaf\", \"cereal\", \"meatball\", \"gruyere\", \"pheasant\", \"protein\", \"imitation\", \"oven\", \"cornflake\", \"pie\", \"portion\", \"shaped\", \"equivalent\", \"whipping\", \"coating\", \"envelope\", \"shortening\", \"tiny\", \"biscuit_dough\", \"pastry\", \"mushroom\", \"crust\", \"crumb\", \"panko\", \"bread\", \"cheese\", \"butter\", \"french\", \"sausage\", \"italian\", \"ranch\", \"milk\", \"flour\", \"onion\", \"potato\", \"shrimp\", \"salt\", \"egg\", \"pork\", \"garlic\", \"parsley\", \"pepper\", \"water\", \"swiss\", \"spinach\", \"celery\", \"sauce\", \"eggplant\", \"pasta\", \"american\", \"pizza\", \"fettuccine\", \"cottage\", \"orzo\", \"portobello\", \"fry\", \"lasagna_noodle\", \"ricotta\", \"nut\", \"cherry\", \"crimini\", \"rotini\", \"curd_cottage\", \"mozzarella\", \"peach\", \"parmesan\", \"tender\", \"barley\", \"flax\", \"guacamole\", \"pimento\", \"salami\", \"filet\", \"linguine\", \"ball\", \"slivered_almond\", \"cap\", \"spinach\", \"molasse\", \"basil\", \"cheese\", \"balsamic\", \"grape\", \"couscous\", \"olive\", \"anchovy\", \"oil\", \"tomato\", \"french\", \"salt\", \"pepper\", \"garlic\", \"egg\", \"mushroom\", \"italian\", \"vinegar\", \"onion\", \"sauce\", \"salad\", \"sweet\", \"water\", \"potato\", \"bread\", \"chive\", \"tail\", \"shell\", \"roast\", \"sweetened\", \"brisket\", \"burger\", \"butt\", \"firm_tofu\", \"beef\", \"bun\", \"sake\", \"domestic\", \"grind\", \"hoagie_roll\", \"port\", \"phyllo\", \"section\", \"chardonnay\", \"horseradish\", \"whiskey\", \"paprika\", \"cornstarch\", \"beverage\", \"hickory\", \"beer\", \"bone\", \"skinned\", \"brewer\", \"stone\", \"pork\", \"shrimp\", \"sauce\", \"chilie\", \"water\", \"pepper\", \"onion\", \"salt\", \"garlic\", \"broth\", \"mushroom\", \"cayenne\", \"mustard\", \"sugar\", \"flour\", \"butter\", \"celery\", \"soy\", \"dijon\", \"tomato\", \"bell\", \"oil\", \"mexican\", \"baking\", \"provolone\", \"japanese\", \"caraway\", \"seaweed\", \"chinese\", \"rye\", \"pumpkin\", \"radish\", \"toothpick\", \"miracle_whip\", \"applesauce\", \"glutinous\", \"muffin\", \"biscuit\", \"sauerkraut\", \"lettuce\", \"pillsbury\", \"garden\", \"direction\", \"grand\", \"wheat\", \"salad\", \"wooden\", \"amino\", \"giant\", \"vinaigrette\", \"least\", \"kernel\", \"corn\", \"dog\", \"tuna\", \"pepperoncini\", \"tempeh\", \"flour\", \"pineapple\", \"egg\", \"cheese\", \"breast\", \"milk\", \"bread\", \"sugar\", \"water\", \"seed\", \"beef\", \"tomato\"], \"Freq\": [1602.0, 696.0, 1309.0, 1073.0, 459.0, 789.0, 2153.0, 434.0, 312.0, 458.0, 486.0, 526.0, 475.0, 4295.0, 718.0, 315.0, 1080.0, 557.0, 669.0, 567.0, 234.0, 462.0, 330.0, 355.0, 130.0, 398.0, 198.0, 988.0, 147.0, 2775.0, 58.29955353229625, 25.729105492974828, 25.023721587595865, 23.564104698867897, 23.040724355618067, 20.669942712356903, 20.412966916082556, 453.64514879691524, 14.689711886855275, 13.407613070637813, 12.387969055303621, 11.265967843690902, 10.38482065641298, 10.366667418801295, 10.27263562661865, 9.623684211097665, 9.007793788498423, 8.802071627993408, 45.396659491276225, 7.752202958313139, 6.17291530258338, 66.70858392285511, 5.5716136205652464, 5.55038342091611, 5.628135401010961, 4.958725122373388, 4.959175348153799, 4.918707428496399, 4.852628620730547, 4.750468031426893, 129.35685233837228, 98.1206337271388, 445.65149989731947, 55.705481700591996, 88.6851288008863, 57.57467828810348, 94.83753032454561, 53.209601009481226, 142.2896842977665, 1057.1973392942443, 407.0622441449577, 635.3162850023423, 125.0296141471272, 106.59673685965845, 408.6750752981467, 249.8229176097782, 343.566169563782, 76.52734920394572, 182.51936492935994, 114.73338484511459, 132.81276195335323, 72.35600147956589, 134.7403118263706, 49.128251490264375, 68.20487618688723, 60.81092467316286, 60.44996600502671, 27.58769512979477, 27.968183551070247, 21.365228284663935, 18.156604044669116, 12.226629320867511, 24.998808857861544, 13.454201734415845, 11.110938185273898, 9.219836031446443, 9.133052020414217, 8.988701604378855, 23.80502033858513, 9.129226094329598, 8.269076802605944, 7.69476070239091, 77.53690788102215, 7.396934509839973, 7.127653391611061, 6.93332347869284, 6.980923136981382, 20.18981460164153, 6.19815323639919, 35.209020709618066, 5.674597404855692, 5.611321335547663, 20.84264805705601, 5.533744947457674, 31.88570094954668, 5.249444074704373, 4.955571170734082, 9.924014973573694, 21.5463788852454, 42.58957993831163, 32.968736774119286, 11.861907149879254, 533.9491192260872, 248.42480738715398, 233.785206461387, 64.49468810202684, 48.4190992071732, 698.2297381921517, 77.23037774270873, 122.05779683387584, 84.85061803531374, 51.39919111166232, 50.53217939876463, 810.0448944458208, 342.58836740731294, 502.9543784682946, 84.09134994285112, 75.36120142141262, 295.0121467044418, 107.30743888380178, 53.73460797648813, 88.29052246568605, 65.40654295913475, 37.14515867500101, 37.10358871085865, 44.974469736438365, 34.552849130086756, 33.748062475304664, 425.637937822962, 24.68957008709312, 16.24647169110389, 14.647680230622171, 12.185773677222256, 10.583404559977682, 420.2383299597231, 9.09880897597458, 9.16543533474059, 8.572821446788746, 7.5776209938268755, 7.116541780320393, 14.671005784875529, 31.61274623798522, 5.776138841143789, 5.5823437009438335, 4.979598817646659, 20.905791344862255, 4.814481019897553, 4.7501479847070645, 4.425733579890741, 4.4044038110247135, 4.161329808218498, 3.4279710591833696, 3.4042036967130707, 3.3740011711100464, 3.191424300380619, 2.7383927150267415, 2.4300579697557643, 8.260456138843447, 253.17624252535853, 27.928405238148486, 23.067643832728702, 78.8656209313137, 10.044844842589967, 173.57155113158456, 106.29741813685881, 26.646881867088066, 103.4732624385872, 35.639613679969095, 97.02667527913647, 755.2389179587814, 256.82344644020617, 40.442230364612485, 427.0556784956795, 21.945286595840475, 55.564829533619736, 307.14750071404825, 32.2330701693386, 69.48056102228611, 34.54593048621713, 161.38953147448672, 88.30871998305092, 70.73002945257186, 74.36105592818728, 45.474992837822526, 49.71420656611492, 76.48706706188416, 44.628722245558436, 48.43848279022273, 31.605814078100646, 97.44303058345908, 37.18955400176442, 31.987810628703222, 160.8694537846283, 23.75040156980042, 24.337440303756832, 21.447180662696137, 19.327663337986998, 18.999347204312887, 25.323785515654475, 11.929090579124171, 8.494821192644022, 8.366416784460098, 7.75986860283205, 7.3259440581777895, 7.332553771611639, 6.860201626358663, 6.324248135213024, 6.183565890591043, 5.123306649691173, 5.068638663492859, 4.973963740455744, 16.942367222846084, 4.869147730011275, 4.536110801835445, 3.8673679218863533, 6.330018997045306, 3.852456310012625, 30.991488820819768, 3.722317091138685, 113.27072086847963, 6.699423011185512, 7.340063542757399, 181.53943925819678, 55.64257109329612, 10.796543643011171, 246.1694019256786, 226.25454246659433, 38.44528042087399, 177.01538086850906, 20.27989707303132, 178.17824450263416, 56.75214606463812, 72.76722322833692, 46.01617898340581, 520.116060345344, 362.8828440886969, 351.98427423161, 217.7010060337056, 90.18912721012053, 180.98090727013232, 130.9740549174826, 150.63358871540856, 38.30462003557713, 28.11281025020886, 33.78829110325266, 24.896208372532598, 85.71459696352161, 67.28705396292034, 61.51367304933131, 33.75428889206098, 33.20815182844768, 192.9669015112492, 20.298536181076795, 17.80722459346428, 17.235340921157164, 14.193587222402677, 296.2289108215797, 10.565081184820391, 10.200099405527531, 9.665945242710483, 8.893572192116913, 6.939522597545867, 6.854367298454103, 6.821353173068772, 6.718566810898552, 6.336362695940252, 5.9973093607651125, 5.9408620667546375, 5.885574979298428, 9.747344218871355, 5.182762292355704, 4.992852088304006, 4.985919277525514, 4.898828691680264, 4.728055727315609, 4.265820424783295, 386.98752589430745, 17.399372565145487, 25.940403417457787, 52.44469189412181, 529.5811360028816, 14.469243288383055, 65.44375984229792, 75.45108902465802, 247.28610099793323, 9.412357238706795, 227.98385129577105, 385.0928501249351, 28.00407348964422, 83.18515572120893, 246.83532937292185, 72.31123001902645, 134.7780725599131, 52.15534292341777, 34.77234841972764, 43.08897075788924, 164.86485573887285, 29.444654175932975, 74.313106084797, 40.26579074809021, 29.106809322203404, 35.678032582648676, 34.36182947185831, 76.0878657798265, 77.77486048584943, 62.20050602033978, 44.02575523987953, 20.580526171741006, 16.978800361060014, 20.47235009651791, 16.66005962828121, 16.331173370102096, 15.962967307419492, 55.2750340797179, 12.119627330944574, 10.32755549978914, 9.950803750048287, 8.716482392086888, 6.380595183329766, 6.038306394632653, 72.35096059437785, 5.649217244522506, 5.206750500753114, 91.08214650873886, 4.7674861125666155, 4.740839642337471, 4.6204944015874805, 36.99821511321724, 4.155405429312736, 4.07594822040288, 4.006450621319091, 3.6632606510776546, 3.4717346591502403, 17.476886936754404, 41.298289112500676, 21.06930518156857, 225.53865580629616, 14.51831971389241, 163.35574907927858, 78.99775848369993, 323.31096836067326, 240.86533429388794, 32.96085535795519, 167.52157810368337, 253.92400993897047, 119.1825772550759, 231.53956048794058, 403.51107661714167, 122.13644676106475, 124.47690417111383, 236.25543386535392, 197.33106053690943, 33.073870595906186, 34.25538496564515, 34.92723777390876, 165.67148346841134, 31.35166444452476, 45.27650949864115, 42.76848589932303, 35.89738703114122, 233.57047958544592, 55.599814753670856, 15.818951928020539, 10.18144902688037, 9.472482319479237, 8.394064872918044, 7.954513181653445, 7.89511791264108, 615.0499495193742, 6.857939864853302, 6.423681536231686, 6.107332730615909, 6.129827184249773, 5.898792943272885, 5.553391420689813, 15.867076334494651, 5.409572471919101, 4.7417443868092715, 4.37435748766693, 10.989335643472144, 4.140903312453306, 4.055598357942867, 4.054479167578362, 3.9945194983195194, 3.9934143335478858, 3.9934143335478858, 3.9430879089929487, 3.5974479513310618, 3.4126906345672676, 3.3880354604315888, 391.3274225692415, 23.742496600613723, 71.47825285732422, 19.874460418275746, 201.51130717764784, 580.8241450820998, 307.41253729576675, 28.481245744145326, 63.33518895550165, 96.44738209743547, 20.268155693380194, 122.00822928320616, 141.95806635437174, 322.40136217263256, 89.88982939404377, 50.0383908239969, 159.0756063690518, 62.71525775058157, 40.14521967726601, 87.43607789449587, 35.91282768224515, 112.95894169690494, 50.137072817575124, 17.554211784208363, 23.194048128429227, 22.787522033179375, 25.42996658669074, 31.70007687995744, 70.30744929509038, 27.213029890446876, 25.510616738869007, 20.522919793336754, 19.36738661187267, 18.96676663897178, 19.200655981939462, 16.69304636037887, 16.577268754030506, 12.863351773993735, 10.311942079275973, 59.71655674885514, 8.325044254291086, 7.927359737637912, 7.443514059595066, 60.81157956488216, 6.856321068251576, 6.2688465760525, 5.114618700824772, 5.104171688521353, 4.93493629408706, 4.879883030325305, 4.988618552871447, 5.8567649102925605, 4.657741443484831, 4.58894208689009, 4.494614663240881, 4.357345812480231, 4.256010979364335, 148.95977747687988, 16.957799511901953, 182.97912576253188, 581.6084706099199, 39.44035945256373, 18.667193154712344, 11.869151888392224, 256.5897033596215, 9.563405298520998, 332.0341664138791, 133.60376254490578, 23.29527891649038, 266.2543677552097, 339.31919321057296, 151.23079315730112, 65.21540997407591, 57.36155982777029, 42.640950269493565, 49.16206860500064, 98.197652533833, 62.407255986860925, 22.536135438992023, 23.863445278692044, 29.42981308512777, 25.97070502217591, 23.08590250378028, 68.73304708978117, 32.638614175196395, 30.830427509956536, 64.3676720598541, 10.294458381324043, 9.111208182330312, 7.683117755784335, 7.407080455087503, 7.095333510872951, 407.0948764175993, 5.88456456430244, 4.808312635279031, 4.609068702012576, 4.609068702012576, 4.07015505601978, 3.986983752497055, 3.8584148012657002, 3.5303522806949887, 3.2898302260633625, 28.13318516421588, 3.1432024950901813, 24.641495314573262, 62.63764379333686, 2.809950908093458, 2.7995230250737144, 37.98394782553253, 43.755414855530276, 2.2531700470615865, 2.1860301596843783, 1.9322451706604018, 99.55744367549137, 92.84383806717604, 280.0086798931631, 8.096415946267866, 136.2299275068004, 369.3873511467314, 235.3488615189138, 233.96303501065066, 148.13214488479048, 40.30498400619192, 36.120437557413005, 21.37623140264575, 23.98691766299011, 24.288574352547347, 28.05654511936645, 27.74629669977675, 20.25266653297992, 17.34656696355691, 13.59428679767741, 18.368471526087873, 13.593380317753114, 14.82219742125384, 40.104109281726174, 126.83512656601465, 16.911846610363796, 16.364840244458026, 11.650290031015821, 11.301797994308092, 10.418039054021019, 10.157382883320087, 12.587223414016568, 10.10172548799026, 7.601317799978658, 7.364949781067467, 8.888855571784381, 5.911163309180111, 5.061165509281246, 4.936602281524591, 4.257433251408988, 54.92452748915009, 3.403346445211177, 3.388354485022837, 3.086526935068566, 2.533438610742578, 58.43126722750495, 92.67437536206512, 2.2493070584147854, 2.201234218828963, 2.1782676157347494, 7.551809680562923, 1.750340050499199, 94.96583450932822, 192.5090758733715, 11.592993631861463, 14.145614893937337, 6.29611450057, 7.437148147549934, 141.6046697545946, 12.855763526157943, 57.824842898479986, 85.82855187536161, 10.770654464379831, 33.712496058530924, 29.194298928430804, 26.999493530266808, 19.382418476485242, 12.960554897358607, 15.500191677773984, 13.641676134796556], \"Total\": [1602.0, 696.0, 1309.0, 1073.0, 459.0, 789.0, 2153.0, 434.0, 312.0, 458.0, 486.0, 526.0, 475.0, 4295.0, 718.0, 315.0, 1080.0, 557.0, 669.0, 567.0, 234.0, 462.0, 330.0, 355.0, 130.0, 398.0, 198.0, 988.0, 147.0, 2775.0, 59.21533453246389, 26.64500844751577, 25.95108641132315, 24.478730237428458, 23.95545377892594, 21.585416303739972, 21.327777099150612, 475.20457948480436, 15.60484511763712, 14.322323899544706, 13.303002411793122, 12.180634572113135, 11.29954169996574, 11.281135103907074, 11.187668274986743, 10.539062167067105, 9.92271324296874, 9.716587741235521, 50.62539515139527, 8.667566176710489, 7.088931089271117, 76.94586782819214, 6.486840548381188, 6.501116799168546, 6.610454437147913, 5.87326174947398, 5.873824698084973, 5.842023035426762, 5.767467357810727, 5.6649765919206345, 175.46152394531208, 133.17152339487947, 669.0457508516768, 75.4380560748311, 124.04718666377136, 78.8359617445278, 171.12792900586243, 94.48609867335729, 325.1962415843577, 4295.556569213208, 1482.5375775897414, 2693.2278913220157, 330.5910510835532, 312.3909900336614, 2153.2870664965535, 1073.139238587913, 2775.8625564001227, 278.4677152194063, 1309.5006094513199, 718.9407918281797, 988.3426128391526, 355.16984146212616, 1602.427683269607, 147.97734854671324, 406.41787684872867, 299.3829659850155, 430.9386939697863, 28.50387052941021, 28.941197194713297, 22.276825016878888, 19.06529782077361, 13.145429956238951, 26.96173199153865, 14.545670152031258, 12.019842755082601, 10.128485322313324, 10.042024584450782, 9.89740279915045, 26.249630089850832, 10.082228169140645, 9.177872989469126, 8.603607634180506, 86.82376276853927, 8.305803603478159, 8.036296204882978, 7.841948140840944, 7.895803354328362, 22.87997673775532, 7.109410375628333, 40.70690469331803, 6.5833214444464385, 6.520085196110987, 24.24018853310359, 6.442416591347347, 37.14723443044424, 6.158309445628839, 5.864319601038861, 11.759482177411867, 25.787352449195783, 51.702503060628786, 40.29702719409705, 14.198535015897134, 1073.139238587913, 452.317767848537, 430.9386939697863, 104.7102424726023, 80.60204768518355, 2153.2870664965535, 148.29488387118664, 282.5851355609181, 178.47672881527032, 93.41960807832726, 99.26314632810596, 4295.556569213208, 1482.5375775897414, 2775.8625564001227, 290.4098519588076, 261.77043450840324, 2693.2278913220157, 718.9407918281797, 230.57358841887262, 988.3426128391526, 1080.8123558456598, 162.15798987040517, 355.16984146212616, 1309.5006094513199, 486.8558335163991, 406.41787684872867, 434.88261293471726, 25.608651541002374, 17.170485879951865, 15.677100794237756, 13.1038740102527, 11.501703623383323, 458.9383536215951, 10.017418771315464, 10.104206396967585, 9.491161917346192, 8.495514275314758, 8.034503173747128, 16.597196873042954, 36.53020842925854, 6.694207102269162, 6.504095163507347, 5.899271547104794, 24.76757285849053, 5.732528349078176, 5.668144244380599, 5.345191063235593, 5.3227821489838485, 5.079232663978756, 4.345992866777252, 4.322520352311082, 4.292316741704344, 4.109439608674947, 3.6563881842150305, 3.348332347717286, 11.565529003125725, 355.84233229388343, 41.71749783709676, 34.531851168079505, 141.11635942518217, 14.436662303666061, 355.16984146212616, 230.57358841887262, 46.66382584973257, 261.77043450840324, 71.92022246927313, 278.4677152194063, 4295.556569213208, 1080.8123558456598, 94.48609867335729, 2775.8625564001227, 43.9759299016656, 178.47672881527032, 2693.2278913220157, 80.61929497317307, 301.3401978811377, 99.26314632810596, 1482.5375775897414, 529.7420145714477, 430.9386939697863, 696.5271367080479, 299.3829659850155, 406.41787684872867, 2153.2870664965535, 669.0457508516768, 988.3426128391526, 1073.139238587913, 98.39402313105673, 38.173493702941286, 32.90524879436668, 166.32566380309615, 24.663346671024716, 25.327140706098984, 22.363427341105336, 20.243943393660928, 20.02555014573597, 26.792055787230627, 12.842610609654319, 9.408265193778766, 9.282943844727894, 8.673351509240401, 8.239094089151868, 8.259877477065253, 7.773703053031546, 7.2372057074919764, 7.097208374495245, 6.036275036832932, 5.981664057026146, 5.888070293474813, 20.08380248353568, 5.782569406177061, 5.458916100935038, 4.780732217672988, 7.828024423452111, 4.765400062885462, 38.521395743662225, 4.6352767750401895, 151.03729439498372, 8.475209803792268, 9.366465937848272, 290.4098519588076, 81.89377111761311, 14.586421224496409, 567.9947171357506, 557.0738914302806, 69.86772985569453, 462.54669506082524, 33.82382002805003, 529.7420145714477, 148.29488387118664, 216.50783087861564, 118.80551186856006, 4295.556569213208, 2775.8625564001227, 2693.2278913220157, 1602.427683269607, 406.41787684872867, 1309.5006094513199, 789.2963030960018, 1080.8123558456598, 398.41597484124566, 127.70492898286165, 1482.5375775897414, 162.15798987040517, 86.65321334022887, 68.21145031199218, 62.89606837350536, 34.68091835919738, 34.14885312886562, 198.64526009138967, 21.223058032239496, 18.724724980241596, 18.152332269207918, 15.11017947519419, 315.714141968599, 11.481933663539468, 11.118575359669743, 10.582830186519823, 9.810284548064597, 7.856232281472813, 7.771134977061077, 7.737931220716425, 7.635331754955062, 7.253044994918633, 6.9138669066511484, 6.857565807924552, 6.80215889346982, 11.400461582933369, 6.100227123402648, 5.909936457626799, 5.9027294130423185, 5.815485573120732, 5.64458800560023, 5.183298948920721, 486.8558335163991, 21.46648793915883, 34.9192537943279, 87.52693828195729, 1309.5006094513199, 20.296404793288453, 127.70492898286165, 162.15798987040517, 718.9407918281797, 12.342062124224471, 988.3426128391526, 2153.2870664965535, 62.17216352078019, 452.317767848537, 2693.2278913220157, 398.41597484124566, 1482.5375775897414, 301.3401978811377, 138.75171046916427, 230.57358841887262, 4295.556569213208, 124.04718666377136, 2775.8625564001227, 430.9386939697863, 141.11635942518217, 355.84233229388343, 1080.8123558456598, 77.09430725470447, 78.83706330782915, 63.17889340813631, 45.524574038288556, 21.50041320691668, 17.90965805237014, 21.613052627670143, 17.59589493545747, 17.252158812053462, 16.883496062473935, 58.516460769135925, 13.042071996368094, 11.247518723932323, 10.87114378476507, 9.638033437798441, 7.300722983586875, 6.958165020803691, 84.01174016598816, 6.5694106012166085, 6.1266978724430565, 107.49317171990724, 5.68734089721247, 5.660985579121683, 5.541294767522399, 44.657639519011774, 5.075810266395768, 4.99794842038442, 4.926401167358605, 4.58313362072615, 4.39163448038495, 22.171842002584665, 57.08037984860493, 29.324144108150517, 398.41597484124566, 20.29666854635827, 299.3829659850155, 138.75171046916427, 789.2963030960018, 718.9407918281797, 62.17216352078019, 557.0738914302806, 988.3426128391526, 406.41787684872867, 1080.8123558456598, 2775.8625564001227, 529.7420145714477, 567.9947171357506, 2153.2870664965535, 2693.2278913220157, 80.61929497317307, 87.52693828195729, 95.40803049887171, 4295.556569213208, 80.60204768518355, 261.77043450840324, 486.8558335163991, 452.317767848537, 234.5040257301126, 56.776663897492256, 16.795216825212332, 11.10173860794439, 10.392674174330768, 9.31454593831678, 8.8747280920566, 8.815463023021872, 696.5271367080479, 7.77837294561316, 7.346238169371789, 7.027590743848132, 7.057777898785096, 6.818971976025451, 6.473629593086501, 18.51541212593705, 6.32984658334717, 5.662296440385166, 5.294529167793297, 13.36499529794771, 5.061308781267621, 4.976233252916993, 4.9751323648282275, 4.9147169286483425, 4.91363213284651, 4.91363213284651, 4.8636545808715415, 4.517808814516352, 4.332877499409574, 4.308253890512582, 526.2215493989602, 31.239355941476823, 118.80551186856006, 31.003437368797425, 462.54669506082524, 1602.427683269607, 1080.8123558456598, 57.49746632378888, 171.12792900586243, 325.1962415843577, 43.330663319259486, 557.0738914302806, 789.2963030960018, 2693.2278913220157, 529.7420145714477, 301.3401978811377, 2775.8625564001227, 567.9947171357506, 282.5851355609181, 1482.5375775897414, 278.4677152194063, 4295.556569213208, 988.3426128391526, 69.86772985569453, 202.26035264809383, 406.41787684872867, 1309.5006094513199, 32.607342676420046, 72.52761066450873, 28.116334807047313, 26.41635299874388, 21.425958340152977, 20.268979495170996, 19.8743406283443, 20.13385028195585, 17.59387079202506, 17.48701657508024, 13.76498953201601, 11.2136417151661, 65.73631964753987, 9.229664577125622, 8.829903680630885, 8.344668531627274, 68.62544511817717, 7.757204487075249, 7.169899056531533, 6.015722396592136, 6.005115749033373, 5.83589735144307, 5.780845576533986, 5.912389899872138, 6.9800529097166, 5.569323559356914, 5.490622743097308, 5.395415383967565, 5.25827941190631, 5.157093643750217, 202.26035264809383, 21.765638685366522, 330.5910510835532, 1602.427683269607, 67.60594917268267, 28.95431660135229, 17.83210142280963, 1073.139238587913, 14.16447738175107, 2153.2870664965535, 669.0457508516768, 57.49746632378888, 2775.8625564001227, 4295.556569213208, 1482.5375775897414, 567.9947171357506, 526.2215493989602, 325.1962415843577, 452.317767848537, 2693.2278913220157, 1309.5006094513199, 128.36445134911327, 216.50783087861564, 988.3426128391526, 529.7420145714477, 462.54669506082524, 69.64961214866553, 33.54958066818478, 31.753088150847503, 67.34564530753585, 11.201455328823805, 10.030397555629428, 8.590351486379733, 8.313007388248899, 8.001396371862665, 459.88480728900663, 6.791627896250303, 5.714338333358036, 5.515082418884492, 5.515082418884492, 4.97626463425865, 4.892956655650999, 4.764505293656914, 4.436439340461574, 4.195886621985455, 36.08833207722482, 4.04915660259661, 32.130231758377676, 81.92861177241964, 3.7158773323348187, 3.705478535284586, 51.6314626516282, 60.059973489773576, 3.1591326119876633, 3.092281730094098, 2.8382524710930324, 282.5851355609181, 301.3401978811377, 1309.5006094513199, 15.823869358064128, 988.3426128391526, 4295.556569213208, 2693.2278913220157, 2775.8625564001227, 1482.5375775897414, 355.16984146212616, 526.2215493989602, 178.47672881527032, 290.4098519588076, 398.41597484124566, 789.2963030960018, 1080.8123558456598, 406.41787684872867, 315.714141968599, 148.29488387118664, 669.0457508516768, 175.46152394531208, 2153.2870664965535, 41.020998418897065, 130.62869326373539, 17.822030715684868, 17.26287810715498, 12.549833799615323, 12.200000725292302, 11.316720054876393, 11.058152051619789, 13.794846040459127, 11.08448422565197, 8.498923790002245, 8.263997703994601, 10.107331699153724, 6.808737644092344, 5.959091036794855, 5.83434291966023, 5.155297112883019, 67.59717475536901, 4.301237917110656, 4.286113703945543, 3.984121249504857, 3.431194386234402, 80.87615433349976, 128.36445134911327, 3.1469839827998216, 3.098937512420286, 3.0762915473709653, 11.392768332486185, 2.6480955775373127, 147.97734854671324, 312.3909900336614, 19.997969180363697, 25.027352122531166, 10.908774934041727, 14.223620341097611, 789.2963030960018, 37.82454025702536, 567.9947171357506, 1602.427683269607, 36.85999230680413, 557.0738914302806, 462.54669506082524, 398.41597484124566, 988.3426128391526, 162.15798987040517, 459.88480728900663, 669.0457508516768], \"Category\": [\"Default\", \"Default\", \"Default\", \"Default\", \"Default\", \"Default\", \"Default\", \"Default\", \"Default\", \"Default\", \"Default\", \"Default\", \"Default\", \"Default\", \"Default\", \"Default\", \"Default\", \"Default\", \"Default\", \"Default\", \"Default\", \"Default\", \"Default\", \"Default\", \"Default\", \"Default\", \"Default\", \"Default\", \"Default\", \"Default\", \"Topic1\", \"Topic1\", \"Topic1\", \"Topic1\", \"Topic1\", \"Topic1\", \"Topic1\", \"Topic1\", \"Topic1\", \"Topic1\", \"Topic1\", \"Topic1\", \"Topic1\", \"Topic1\", \"Topic1\", \"Topic1\", \"Topic1\", \"Topic1\", \"Topic1\", \"Topic1\", \"Topic1\", \"Topic1\", \"Topic1\", \"Topic1\", \"Topic1\", \"Topic1\", \"Topic1\", \"Topic1\", \"Topic1\", \"Topic1\", \"Topic1\", \"Topic1\", \"Topic1\", \"Topic1\", \"Topic1\", \"Topic1\", \"Topic1\", \"Topic1\", \"Topic1\", \"Topic1\", \"Topic1\", \"Topic1\", \"Topic1\", \"Topic1\", \"Topic1\", \"Topic1\", \"Topic1\", \"Topic1\", \"Topic1\", \"Topic1\", \"Topic1\", \"Topic1\", \"Topic1\", \"Topic1\", \"Topic1\", \"Topic1\", \"Topic1\", \"Topic2\", \"Topic2\", \"Topic2\", \"Topic2\", \"Topic2\", \"Topic2\", \"Topic2\", \"Topic2\", \"Topic2\", \"Topic2\", \"Topic2\", \"Topic2\", \"Topic2\", \"Topic2\", \"Topic2\", \"Topic2\", \"Topic2\", \"Topic2\", \"Topic2\", \"Topic2\", \"Topic2\", \"Topic2\", \"Topic2\", \"Topic2\", \"Topic2\", \"Topic2\", \"Topic2\", \"Topic2\", \"Topic2\", \"Topic2\", \"Topic2\", \"Topic2\", \"Topic2\", \"Topic2\", \"Topic2\", \"Topic2\", \"Topic2\", \"Topic2\", \"Topic2\", \"Topic2\", \"Topic2\", \"Topic2\", \"Topic2\", \"Topic2\", \"Topic2\", \"Topic2\", \"Topic2\", \"Topic2\", \"Topic2\", \"Topic2\", \"Topic2\", \"Topic2\", \"Topic2\", \"Topic2\", \"Topic2\", \"Topic2\", \"Topic2\", \"Topic2\", \"Topic2\", \"Topic2\", \"Topic2\", \"Topic3\", \"Topic3\", \"Topic3\", \"Topic3\", \"Topic3\", \"Topic3\", \"Topic3\", \"Topic3\", \"Topic3\", \"Topic3\", \"Topic3\", \"Topic3\", \"Topic3\", \"Topic3\", \"Topic3\", \"Topic3\", \"Topic3\", \"Topic3\", \"Topic3\", \"Topic3\", \"Topic3\", \"Topic3\", \"Topic3\", \"Topic3\", \"Topic3\", \"Topic3\", \"Topic3\", \"Topic3\", \"Topic3\", \"Topic3\", \"Topic3\", \"Topic3\", \"Topic3\", \"Topic3\", \"Topic3\", \"Topic3\", \"Topic3\", \"Topic3\", \"Topic3\", \"Topic3\", \"Topic3\", \"Topic3\", \"Topic3\", \"Topic3\", \"Topic3\", \"Topic3\", \"Topic3\", \"Topic3\", \"Topic3\", \"Topic3\", \"Topic3\", \"Topic3\", \"Topic3\", \"Topic3\", \"Topic3\", \"Topic3\", \"Topic3\", \"Topic3\", \"Topic3\", \"Topic3\", \"Topic3\", \"Topic4\", \"Topic4\", \"Topic4\", \"Topic4\", \"Topic4\", \"Topic4\", \"Topic4\", \"Topic4\", \"Topic4\", \"Topic4\", \"Topic4\", \"Topic4\", \"Topic4\", \"Topic4\", \"Topic4\", \"Topic4\", \"Topic4\", \"Topic4\", \"Topic4\", \"Topic4\", \"Topic4\", \"Topic4\", \"Topic4\", \"Topic4\", \"Topic4\", \"Topic4\", \"Topic4\", \"Topic4\", \"Topic4\", \"Topic4\", \"Topic4\", \"Topic4\", \"Topic4\", \"Topic4\", \"Topic4\", \"Topic4\", \"Topic4\", \"Topic4\", \"Topic4\", \"Topic4\", \"Topic4\", \"Topic4\", \"Topic4\", \"Topic4\", \"Topic4\", \"Topic4\", \"Topic4\", \"Topic4\", \"Topic4\", \"Topic4\", \"Topic4\", \"Topic4\", \"Topic4\", \"Topic4\", \"Topic4\", \"Topic4\", \"Topic4\", \"Topic5\", \"Topic5\", \"Topic5\", \"Topic5\", \"Topic5\", \"Topic5\", \"Topic5\", \"Topic5\", \"Topic5\", \"Topic5\", \"Topic5\", \"Topic5\", \"Topic5\", \"Topic5\", \"Topic5\", \"Topic5\", \"Topic5\", \"Topic5\", \"Topic5\", \"Topic5\", \"Topic5\", \"Topic5\", \"Topic5\", \"Topic5\", \"Topic5\", \"Topic5\", \"Topic5\", \"Topic5\", \"Topic5\", \"Topic5\", \"Topic5\", \"Topic5\", \"Topic5\", \"Topic5\", \"Topic5\", \"Topic5\", \"Topic5\", \"Topic5\", \"Topic5\", \"Topic5\", \"Topic5\", \"Topic5\", \"Topic5\", \"Topic5\", \"Topic5\", \"Topic5\", \"Topic5\", \"Topic5\", \"Topic5\", \"Topic5\", \"Topic5\", \"Topic5\", \"Topic5\", \"Topic5\", \"Topic5\", \"Topic5\", \"Topic5\", \"Topic6\", \"Topic6\", \"Topic6\", \"Topic6\", \"Topic6\", \"Topic6\", \"Topic6\", \"Topic6\", \"Topic6\", \"Topic6\", \"Topic6\", \"Topic6\", \"Topic6\", \"Topic6\", \"Topic6\", \"Topic6\", \"Topic6\", \"Topic6\", \"Topic6\", \"Topic6\", \"Topic6\", \"Topic6\", \"Topic6\", \"Topic6\", \"Topic6\", \"Topic6\", \"Topic6\", \"Topic6\", \"Topic6\", \"Topic6\", \"Topic6\", \"Topic6\", \"Topic6\", \"Topic6\", \"Topic6\", \"Topic6\", \"Topic6\", \"Topic6\", \"Topic6\", \"Topic6\", \"Topic6\", \"Topic6\", \"Topic6\", \"Topic6\", \"Topic6\", \"Topic6\", \"Topic6\", \"Topic6\", \"Topic6\", \"Topic6\", \"Topic6\", \"Topic6\", \"Topic6\", \"Topic6\", \"Topic6\", \"Topic6\", \"Topic6\", \"Topic7\", \"Topic7\", \"Topic7\", \"Topic7\", \"Topic7\", \"Topic7\", \"Topic7\", \"Topic7\", \"Topic7\", \"Topic7\", \"Topic7\", \"Topic7\", \"Topic7\", \"Topic7\", \"Topic7\", \"Topic7\", \"Topic7\", \"Topic7\", \"Topic7\", \"Topic7\", \"Topic7\", \"Topic7\", \"Topic7\", \"Topic7\", \"Topic7\", \"Topic7\", \"Topic7\", \"Topic7\", \"Topic7\", \"Topic7\", \"Topic7\", \"Topic7\", \"Topic7\", \"Topic7\", \"Topic7\", \"Topic7\", \"Topic7\", \"Topic7\", \"Topic7\", \"Topic7\", \"Topic7\", \"Topic7\", \"Topic7\", \"Topic7\", \"Topic7\", \"Topic7\", \"Topic7\", \"Topic7\", \"Topic7\", \"Topic7\", \"Topic7\", \"Topic7\", \"Topic7\", \"Topic7\", \"Topic7\", \"Topic7\", \"Topic7\", \"Topic8\", \"Topic8\", \"Topic8\", \"Topic8\", \"Topic8\", \"Topic8\", \"Topic8\", \"Topic8\", \"Topic8\", \"Topic8\", \"Topic8\", \"Topic8\", \"Topic8\", \"Topic8\", \"Topic8\", \"Topic8\", \"Topic8\", \"Topic8\", \"Topic8\", \"Topic8\", \"Topic8\", \"Topic8\", \"Topic8\", \"Topic8\", \"Topic8\", \"Topic8\", \"Topic8\", \"Topic8\", \"Topic8\", \"Topic8\", \"Topic8\", \"Topic8\", \"Topic8\", \"Topic8\", \"Topic8\", \"Topic8\", \"Topic8\", \"Topic8\", \"Topic8\", \"Topic8\", \"Topic8\", \"Topic8\", \"Topic8\", \"Topic8\", \"Topic8\", \"Topic8\", \"Topic8\", \"Topic8\", \"Topic8\", \"Topic8\", \"Topic8\", \"Topic8\", \"Topic8\", \"Topic8\", \"Topic8\", \"Topic8\", \"Topic9\", \"Topic9\", \"Topic9\", \"Topic9\", \"Topic9\", \"Topic9\", \"Topic9\", \"Topic9\", \"Topic9\", \"Topic9\", \"Topic9\", \"Topic9\", \"Topic9\", \"Topic9\", \"Topic9\", \"Topic9\", \"Topic9\", \"Topic9\", \"Topic9\", \"Topic9\", \"Topic9\", \"Topic9\", \"Topic9\", \"Topic9\", \"Topic9\", \"Topic9\", \"Topic9\", \"Topic9\", \"Topic9\", \"Topic9\", \"Topic9\", \"Topic9\", \"Topic9\", \"Topic9\", \"Topic9\", \"Topic9\", \"Topic9\", \"Topic9\", \"Topic9\", \"Topic9\", \"Topic9\", \"Topic9\", \"Topic9\", \"Topic9\", \"Topic9\", \"Topic9\", \"Topic9\", \"Topic9\", \"Topic9\", \"Topic9\", \"Topic9\", \"Topic9\", \"Topic10\", \"Topic10\", \"Topic10\", \"Topic10\", \"Topic10\", \"Topic10\", \"Topic10\", \"Topic10\", \"Topic10\", \"Topic10\", \"Topic10\", \"Topic10\", \"Topic10\", \"Topic10\", \"Topic10\", \"Topic10\", \"Topic10\", \"Topic10\", \"Topic10\", \"Topic10\", \"Topic10\", \"Topic10\", \"Topic10\", \"Topic10\", \"Topic10\", \"Topic10\", \"Topic10\", \"Topic10\", \"Topic10\", \"Topic10\", \"Topic10\", \"Topic10\", \"Topic10\", \"Topic10\", \"Topic10\", \"Topic10\", \"Topic10\", \"Topic10\", \"Topic10\", \"Topic10\", \"Topic10\", \"Topic10\", \"Topic10\", \"Topic10\", \"Topic10\", \"Topic10\", \"Topic10\"], \"logprob\": [30.0, 29.0, 28.0, 27.0, 26.0, 25.0, 24.0, 23.0, 22.0, 21.0, 20.0, 19.0, 18.0, 17.0, 16.0, 15.0, 14.0, 13.0, 12.0, 11.0, 10.0, 9.0, 8.0, 7.0, 6.0, 5.0, 4.0, 3.0, 2.0, 1.0, -4.8165, -5.6345, -5.6623, -5.7224, -5.7448, -5.8534, -5.8659, -2.7648, -6.195, -6.2863, -6.3654, -6.4603, -6.5418, -6.5435, -6.5526, -6.6179, -6.684, -6.7071, -5.0667, -6.8341, -7.0619, -4.6818, -7.1644, -7.1682, -7.1543, -7.2809, -7.2809, -7.2891, -7.3026, -7.3239, -4.0195, -4.2959, -2.7826, -4.862, -4.397, -4.829, -4.3299, -4.9079, -3.9242, -1.9187, -2.8731, -2.428, -4.0535, -4.213, -2.8692, -3.3613, -3.0427, -4.5444, -3.6752, -4.1395, -3.9932, -4.6005, -3.9787, -4.9877, -4.6596, -4.7743, -4.7803, -5.4147, -5.401, -5.6703, -5.833, -6.2284, -5.5132, -6.1328, -6.3241, -6.5107, -6.5202, -6.5361, -5.5622, -6.5206, -6.6195, -6.6915, -4.3813, -6.731, -6.7681, -6.7957, -6.7889, -5.7269, -6.9078, -5.1708, -6.9961, -7.0073, -5.6951, -7.0212, -5.2699, -7.0739, -7.1316, -6.4371, -5.6619, -4.9805, -5.2365, -6.2587, -2.4518, -3.2169, -3.2777, -4.5655, -4.8522, -2.1835, -4.3853, -3.9276, -4.2912, -4.7924, -4.8095, -2.035, -2.8955, -2.5116, -4.3002, -4.4098, -3.045, -4.0564, -4.748, -4.2514, -4.5514, -5.1172, -5.1183, -4.926, -5.1896, -5.2131, -2.4937, -5.3409, -5.7594, -5.863, -6.047, -6.188, -2.5065, -6.3392, -6.3319, -6.3987, -6.5221, -6.5849, -5.8614, -5.0938, -6.7936, -6.8277, -6.942, -5.5073, -6.9757, -6.9891, -7.0599, -7.0647, -7.1215, -7.3153, -7.3223, -7.3312, -7.3868, -7.5399, -7.6594, -6.4358, -3.0132, -5.2177, -5.4089, -4.1796, -6.2403, -3.3907, -3.8811, -5.2646, -3.908, -4.9739, -3.9723, -1.9203, -2.9989, -4.8474, -2.4904, -5.4588, -4.5298, -2.82, -5.0743, -4.3063, -5.005, -3.4635, -4.0665, -4.2884, -4.2384, -4.7302, -4.641, -4.2102, -4.7489, -4.667, -5.094, -3.8748, -4.8381, -4.9887, -3.3735, -5.2865, -5.2621, -5.3885, -5.4926, -5.5097, -5.2224, -5.9751, -6.3146, -6.3299, -6.4051, -6.4627, -6.4618, -6.5284, -6.6097, -6.6322, -6.8203, -6.831, -6.8499, -5.6243, -6.8712, -6.942, -7.1015, -6.6088, -7.1054, -5.0204, -7.1397, -3.7243, -6.5521, -6.4607, -3.2526, -4.4351, -6.0749, -2.9481, -3.0324, -4.8049, -3.2779, -5.4445, -3.2713, -4.4154, -4.1668, -4.6251, -2.2, -2.56, -2.5905, -3.071, -3.9522, -3.2557, -3.5791, -3.4392, -4.8085, -5.1179, -4.934, -5.2394, -3.9844, -4.2265, -4.3162, -4.9163, -4.9327, -3.1729, -5.4249, -5.5558, -5.5885, -5.7827, -2.7443, -6.0779, -6.1131, -6.1668, -6.2501, -6.4982, -6.5106, -6.5154, -6.5306, -6.5891, -6.6441, -6.6536, -6.6629, -6.1585, -6.7901, -6.8274, -6.8288, -6.8465, -6.8819, -6.9848, -2.4771, -5.579, -5.1796, -4.4757, -2.1634, -5.7634, -4.2543, -4.112, -2.9249, -6.1934, -3.0062, -2.482, -5.1031, -4.0144, -2.9267, -4.1545, -3.5318, -4.4812, -4.8866, -4.6722, -3.3303, -5.0529, -4.1272, -4.7399, -5.0645, -4.8609, -4.8985, -4.1024, -4.0805, -4.304, -4.6495, -5.41, -5.6023, -5.4152, -5.6213, -5.6412, -5.664, -4.422, -5.9395, -6.0995, -6.1367, -6.2691, -6.5811, -6.6362, -4.1528, -6.7028, -6.7844, -3.9226, -6.8725, -6.8781, -6.9038, -4.8234, -7.0099, -7.0292, -7.0464, -7.136, -7.1897, -5.5734, -4.7135, -5.3865, -3.0158, -5.7589, -3.3384, -4.0649, -2.6557, -2.9501, -4.939, -3.3132, -2.8973, -3.6537, -2.9896, -2.4341, -3.6292, -3.6102, -2.9694, -3.1494, -4.9356, -4.9005, -4.881, -3.3243, -4.989, -4.6215, -4.6785, -4.8536, -2.9499, -4.3852, -5.6422, -6.0828, -6.155, -6.2759, -6.3297, -6.3371, -1.9817, -6.478, -6.5434, -6.5939, -6.5902, -6.6286, -6.689, -5.6391, -6.7152, -6.847, -6.9276, -6.0065, -6.9825, -7.0033, -7.0036, -7.0185, -7.0187, -7.0187, -7.0314, -7.1232, -7.1759, -7.1831, -2.4338, -5.2361, -4.134, -5.414, -3.0975, -2.0389, -2.6752, -5.0541, -4.255, -3.8344, -5.3943, -3.5993, -3.4479, -2.6276, -3.9048, -4.4906, -3.334, -4.2648, -4.7109, -3.9325, -4.8223, -3.6764, -4.4886, -5.5381, -5.2595, -5.2772, -5.1675, -4.8173, -4.0207, -4.9699, -5.0345, -5.2521, -5.31, -5.3309, -5.3187, -5.4586, -5.4656, -5.7192, -5.9403, -4.184, -6.1543, -6.2033, -6.2663, -4.1658, -6.3484, -6.438, -6.6415, -6.6436, -6.6773, -6.6885, -6.6665, -6.506, -6.7351, -6.75, -6.7707, -6.8017, -6.8253, -3.2699, -5.4429, -3.0642, -1.9078, -4.5988, -5.3468, -5.7997, -2.7261, -6.0157, -2.4684, -3.3787, -5.1254, -2.6892, -2.4467, -3.2548, -4.0959, -4.2242, -4.5208, -4.3785, -3.6866, -4.1399, -5.1585, -5.1013, -4.8916, -5.0166, -5.1344, -3.7899, -4.5347, -4.5917, -3.8555, -5.6885, -5.8106, -5.9811, -6.0177, -6.0607, -2.0111, -6.2478, -6.4498, -6.4921, -6.4921, -6.6165, -6.6371, -6.6699, -6.7588, -6.8293, -4.6832, -6.8749, -4.8157, -3.8828, -6.987, -6.9907, -4.383, -4.2415, -7.2078, -7.2381, -7.3615, -3.4194, -3.4892, -2.3853, -5.9287, -3.1058, -2.1083, -2.5591, -2.565, -3.022, -4.3237, -4.4333, -4.9579, -4.8426, -4.8301, -4.6859, -4.6971, -5.0119, -5.1668, -5.4105, -5.1095, -5.4106, -5.324, -3.6361, -2.4847, -4.4996, -4.5325, -4.8723, -4.9026, -4.9841, -5.0094, -4.7949, -5.0149, -5.2993, -5.3309, -5.1428, -5.5508, -5.706, -5.7309, -5.8789, -3.3216, -6.1028, -6.1073, -6.2005, -6.398, -3.2597, -2.7985, -6.517, -6.5386, -6.5491, -5.3058, -6.7678, -2.7741, -2.0675, -4.8772, -4.6782, -5.4877, -5.3211, -2.3746, -4.7738, -3.2702, -2.8752, -4.9508, -3.8097, -3.9536, -4.0318, -4.3632, -4.7657, -4.5867, -4.7145], \"loglift\": [30.0, 29.0, 28.0, 27.0, 26.0, 25.0, 24.0, 23.0, 22.0, 21.0, 20.0, 19.0, 18.0, 17.0, 16.0, 15.0, 14.0, 13.0, 12.0, 11.0, 10.0, 9.0, 8.0, 7.0, 6.0, 5.0, 4.0, 3.0, 2.0, 1.0, 1.8256, 1.8062, 1.8048, 1.8031, 1.8023, 1.7979, 1.7974, 1.7948, 1.7808, 1.7752, 1.7699, 1.7632, 1.7568, 1.7567, 1.7559, 1.7504, 1.7445, 1.7424, 1.7322, 1.7296, 1.7029, 1.6984, 1.6891, 1.6831, 1.6803, 1.672, 1.6719, 1.6692, 1.6685, 1.6652, 1.5364, 1.5358, 1.4349, 1.538, 1.5056, 1.5269, 1.251, 1.267, 1.0147, 0.4393, 0.5487, 0.3968, 0.8689, 0.766, 0.1794, 0.3836, -0.2481, 0.5496, -0.1293, 0.006, -0.1659, 0.2502, -0.6347, 0.7386, 0.0563, 0.2473, -0.1229, 1.9586, 1.9571, 1.9495, 1.9424, 1.9188, 1.9157, 1.9132, 1.9126, 1.8973, 1.8964, 1.8949, 1.8935, 1.892, 1.887, 1.8796, 1.8781, 1.8754, 1.8713, 1.8681, 1.8681, 1.8662, 1.8541, 1.8462, 1.8427, 1.8411, 1.8402, 1.8392, 1.8385, 1.8316, 1.8229, 1.8215, 1.8116, 1.7974, 1.7905, 1.8114, 1.2932, 1.392, 1.3797, 1.5066, 1.4816, 0.865, 1.3388, 1.1518, 1.2477, 1.3938, 1.3161, 0.323, 0.5263, 0.283, 0.7519, 0.7461, -0.2202, 0.0892, 0.5347, -0.4241, -0.8136, 0.5175, -0.2676, -1.3801, -0.6542, -0.4972, 2.1545, 2.1394, 2.1207, 2.1081, 2.1034, 2.0928, 2.0879, 2.0798, 2.0785, 2.0742, 2.0617, 2.0547, 2.0526, 2.0314, 2.0285, 2.0232, 2.0065, 2.0065, 2.0015, 1.9993, 1.9872, 1.9866, 1.9767, 1.9387, 1.9372, 1.9353, 1.9232, 1.8869, 1.8555, 1.8394, 1.8356, 1.7747, 1.7725, 1.5942, 1.8133, 1.46, 1.4017, 1.6157, 1.2478, 1.4739, 1.1217, 0.4377, 0.7389, 1.3274, 0.3042, 1.4809, 1.0091, 0.0048, 1.2593, 0.7088, 1.1205, -0.0417, 0.3844, 0.3689, -0.0612, 0.2914, 0.0749, -1.1616, -0.5315, -0.8397, -1.349, 2.2595, 2.2431, 2.2409, 2.2359, 2.2315, 2.2294, 2.2274, 2.2229, 2.2166, 2.2129, 2.1954, 2.1671, 2.1653, 2.1579, 2.1517, 2.1501, 2.1442, 2.1344, 2.1314, 2.1052, 2.1036, 2.1005, 2.0991, 2.0973, 2.084, 2.0572, 2.0568, 2.0565, 2.0517, 2.0499, 1.9815, 2.0341, 2.0254, 1.7994, 1.8827, 1.9684, 1.4331, 1.3682, 1.6718, 1.3087, 1.7577, 1.1796, 1.3087, 1.1789, 1.3207, 0.1579, 0.2346, 0.2343, 0.2731, 0.7637, 0.2902, 0.4731, 0.2986, -0.0727, 0.7557, -1.5122, 0.3954, 2.277, 2.2742, 2.2656, 2.2608, 2.2599, 2.2589, 2.2433, 2.2376, 2.236, 2.2253, 2.2242, 2.2046, 2.2016, 2.1972, 2.1898, 2.1638, 2.1623, 2.1618, 2.16, 2.1527, 2.1456, 2.1444, 2.1431, 2.1312, 2.1249, 2.1192, 2.1191, 2.1163, 2.1107, 2.0931, 2.0583, 2.0778, 1.9906, 1.7757, 1.3825, 1.9494, 1.6193, 1.5228, 1.2206, 2.0169, 0.8211, 0.5666, 1.4903, 0.5945, -0.1019, 0.5813, -0.11, 0.5338, 0.904, 0.6106, -0.9723, 0.8497, -1.3326, -0.0826, 0.7093, -0.0121, -1.1607, 2.2759, 2.2754, 2.2734, 2.2555, 2.2453, 2.2356, 2.2348, 2.2343, 2.2341, 2.2329, 2.232, 2.2156, 2.2037, 2.2005, 2.1885, 2.1543, 2.1472, 2.1396, 2.1381, 2.1263, 2.1233, 2.1126, 2.1116, 2.1073, 2.1008, 2.0889, 2.0851, 2.0823, 2.065, 2.054, 2.0511, 1.9654, 1.9584, 1.72, 1.954, 1.6832, 1.7257, 1.3965, 1.1955, 1.6544, 1.0874, 0.93, 1.0623, 0.7483, 0.3605, 0.8217, 0.771, 0.0792, -0.3246, 1.398, 1.3509, 1.2841, -0.9663, 1.3447, 0.5343, -0.1432, -0.2447, 2.3159, 2.299, 2.26, 2.2334, 2.2272, 2.2159, 2.2104, 2.2097, 2.1955, 2.194, 2.1857, 2.1796, 2.179, 2.175, 2.1666, 2.1656, 2.1628, 2.1425, 2.129, 2.1242, 2.1192, 2.1153, 2.1153, 2.1126, 2.1126, 2.1126, 2.1101, 2.0921, 2.0812, 2.0796, 2.0237, 2.0455, 1.8118, 1.8753, 1.489, 1.3051, 1.0626, 1.6174, 1.3259, 1.1045, 1.5601, 0.8013, 0.6043, 0.1972, 0.5461, 0.5245, -0.5394, 0.1164, 0.3684, -0.5107, 0.2717, -1.3184, -0.6614, 0.9386, 0.1543, -0.5613, -1.6216, 2.4215, 2.4186, 2.417, 2.4148, 2.4066, 2.4042, 2.403, 2.4022, 2.3971, 2.3963, 2.382, 2.3659, 2.3537, 2.3465, 2.3419, 2.3354, 2.3288, 2.3262, 2.3154, 2.2874, 2.2871, 2.282, 2.2803, 2.2798, 2.2742, 2.271, 2.2703, 2.267, 2.2618, 2.2577, 2.1438, 2.2001, 1.8582, 1.4362, 1.9108, 2.0107, 2.0426, 1.0188, 2.0569, 0.5802, 0.8387, 1.5462, 0.1054, -0.0887, 0.167, 0.2853, 0.2334, 0.4181, 0.2304, -0.8618, -0.594, 0.7099, 0.2444, -1.0643, -0.5657, -0.5478, 2.6899, 2.6756, 2.6737, 2.6579, 2.6187, 2.607, 2.5915, 2.5878, 2.583, 2.5812, 2.5598, 2.5305, 2.5237, 2.5237, 2.5022, 2.4984, 2.4922, 2.4747, 2.4599, 2.4541, 2.4499, 2.4378, 2.4347, 2.4237, 2.4228, 2.3962, 2.3864, 2.3652, 2.3563, 2.3187, 1.6599, 1.5258, 1.1606, 2.0331, 0.7215, 0.2497, 0.2657, 0.2296, 0.3998, 0.527, 0.0243, 0.581, 0.2094, -0.0943, -0.6338, -0.9592, -0.2959, -0.1983, 0.3136, -0.8921, 0.1453, -2.2755, 3.3731, 3.3662, 3.3433, 3.3423, 3.3213, 3.3192, 3.313, 3.3107, 3.3041, 3.3029, 3.2841, 3.2805, 3.2673, 3.2544, 3.2324, 3.2286, 3.2044, 3.1881, 3.1616, 3.1607, 3.1404, 3.0924, 3.0706, 3.0699, 3.0599, 3.0537, 3.0505, 2.9845, 2.9817, 2.9522, 2.9116, 2.8505, 2.8252, 2.8461, 2.7473, 1.6776, 2.3166, 1.111, 0.4688, 2.1654, 0.5909, 0.6329, 0.704, -0.5359, 0.8691, 0.0056, -0.497]}, \"token.table\": {\"Topic\": [2, 3, 6, 8, 10, 1, 2, 8, 1, 2, 6, 10, 5, 2, 4, 5, 2, 2, 4, 8, 10, 3, 6, 10, 8, 2, 8, 4, 5, 6, 2, 8, 2, 3, 1, 3, 5, 8, 1, 2, 3, 5, 10, 1, 2, 4, 5, 6, 8, 9, 10, 1, 4, 9, 2, 1, 2, 3, 4, 6, 9, 6, 9, 3, 10, 7, 2, 9, 3, 5, 2, 6, 2, 4, 6, 7, 8, 10, 7, 2, 3, 5, 7, 10, 9, 9, 1, 2, 3, 5, 6, 9, 2, 4, 5, 6, 7, 4, 9, 9, 9, 1, 2, 3, 4, 5, 6, 7, 8, 9, 1, 4, 1, 6, 5, 5, 1, 8, 2, 3, 8, 10, 2, 5, 1, 2, 3, 4, 5, 6, 9, 10, 2, 6, 1, 3, 1, 2, 3, 6, 8, 9, 1, 2, 3, 4, 5, 6, 7, 9, 7, 9, 7, 1, 2, 4, 7, 8, 10, 8, 9, 10, 5, 6, 1, 2, 3, 5, 1, 2, 5, 1, 9, 10, 1, 9, 5, 3, 2, 6, 5, 6, 1, 7, 3, 3, 6, 6, 1, 6, 4, 7, 1, 5, 1, 3, 10, 5, 7, 5, 9, 8, 1, 2, 8, 2, 5, 4, 4, 2, 6, 1, 3, 4, 6, 7, 8, 9, 10, 8, 1, 2, 4, 7, 5, 3, 7, 8, 1, 2, 3, 5, 6, 8, 9, 1, 2, 3, 5, 8, 2, 5, 6, 5, 2, 5, 4, 8, 2, 4, 9, 3, 4, 4, 10, 1, 9, 10, 9, 3, 1, 1, 3, 5, 10, 2, 6, 6, 2, 2, 4, 5, 6, 7, 8, 10, 8, 7, 7, 5, 4, 5, 8, 8, 8, 5, 9, 5, 8, 1, 3, 4, 5, 6, 7, 8, 9, 10, 2, 4, 5, 7, 8, 8, 4, 1, 10, 1, 2, 3, 4, 5, 6, 7, 8, 9, 2, 3, 10, 6, 5, 6, 2, 10, 6, 2, 7, 10, 2, 6, 8, 10, 3, 1, 7, 3, 9, 7, 8, 4, 4, 3, 9, 9, 2, 6, 2, 4, 5, 6, 4, 9, 3, 5, 7, 1, 2, 4, 7, 8, 9, 10, 1, 3, 10, 1, 2, 3, 5, 6, 9, 10, 1, 3, 10, 4, 9, 2, 8, 10, 3, 2, 1, 2, 3, 5, 2, 2, 6, 5, 10, 1, 3, 5, 9, 8, 2, 4, 7, 6, 2, 6, 1, 6, 3, 4, 10, 7, 10, 3, 4, 5, 6, 7, 8, 10, 3, 1, 2, 5, 6, 10, 2, 8, 9, 7, 8, 10, 1, 2, 6, 7, 8, 9, 2, 4, 9, 6, 6, 5, 8, 2, 4, 4, 1, 2, 3, 4, 5, 6, 8, 9, 1, 1, 2, 3, 8, 1, 2, 3, 4, 5, 6, 7, 8, 9, 10, 3, 1, 2, 8, 8, 7, 3, 3, 2, 4, 7, 3, 9, 8, 1, 2, 3, 4, 5, 6, 7, 8, 6, 1, 7, 8, 1, 2, 6, 8, 7, 1, 3, 4, 5, 6, 10, 8, 5, 6, 2, 6, 2, 1, 2, 3, 4, 5, 6, 7, 8, 9, 10, 4, 2, 3, 10, 1, 7, 9, 4, 4, 3, 7, 6, 10, 8, 3, 6, 10, 5, 8, 2, 6, 8, 4, 2, 5, 4, 6, 2, 4, 5, 6, 7, 9, 9, 7, 8, 1, 2, 3, 4, 6, 7, 8, 9, 6, 6, 7, 2, 4, 10, 10, 1, 7, 3, 10, 6, 2, 1, 4, 7, 1, 5, 2, 6, 1, 2, 3, 5, 6, 8, 1, 3, 4, 6, 2, 9, 7, 1, 4, 5, 1, 2, 3, 6, 8, 8, 4, 3, 4, 6, 6, 10, 1, 2, 3, 6, 9, 8, 9, 10, 8, 2, 3, 4, 5, 6, 8, 1, 1, 2, 3, 4, 5, 6, 7, 8, 9, 10, 4, 1, 2, 3, 4, 5, 6, 7, 8, 9, 10, 1, 2, 4, 7, 2, 4, 6, 3, 8, 4, 10, 9, 2, 4, 5, 6, 8, 10, 1, 5, 1, 5, 10, 2, 3, 5, 8, 7, 9, 2, 6, 7, 1, 2, 1, 3, 5, 7, 9, 3, 1, 3, 5, 9, 8, 3, 5, 6, 7, 2, 5, 6, 9, 1, 1, 2, 5, 5, 1, 7, 8, 2, 3, 6, 1, 2, 4, 7, 5, 9, 1, 2, 3, 4, 5, 6, 9, 10, 1, 2, 3, 4, 5, 6, 8, 9, 10, 9, 4, 7, 8, 10, 5, 1, 9, 6, 3, 5, 4, 6, 10, 8, 2, 3, 2, 1, 2, 3, 6, 7, 9, 7, 3, 1, 2, 3, 4, 5, 6, 8, 9, 10, 10, 1, 4, 4, 2, 10, 2, 6, 7, 6, 10, 4, 1, 2, 3, 5, 6, 9, 1, 5, 4, 3, 9, 10, 1, 2, 3, 4, 5, 6, 8, 4, 3, 6, 1, 2, 3, 4, 5, 6, 7, 8, 9, 10, 4, 8, 10, 7, 9, 1, 2, 6, 1, 2, 3, 5, 6, 7, 8, 9, 2, 10, 4, 4, 2, 3, 1, 8], \"Freq\": [0.8503775803332941, 0.08503775803332941, 0.9253667376164609, 0.9602958630736071, 0.6453824873796793, 0.07059914552783704, 0.14119829105567408, 0.7059914552783705, 0.8849916452833055, 0.14884666387638903, 0.8465654007969626, 0.8904427269121444, 0.9612958277888551, 0.9272401345672342, 0.03708960538268937, 0.8910123516215211, 0.8439518445254635, 0.17876379544638302, 0.748159588349677, 0.013241762625658, 0.052967050502632, 0.820481811245119, 0.022965857845206265, 0.9722213154470651, 0.7413701662129609, 0.3993731369858469, 0.5768723089795567, 0.13530675528223038, 0.04510225176074346, 0.7667382799326388, 0.9113940509560692, 0.8326234179257638, 0.9202333741863986, 0.6940395314497521, 0.37811065844128866, 0.039323508477894016, 0.027223967407772783, 0.5535540039580465, 0.95537799844481, 0.002104356824768304, 0.012626140948609824, 0.018939211422914735, 0.01052178412384152, 0.021744575688310733, 0.0021744575688310733, 0.02826794839480395, 0.0043489151376621465, 0.017395660550648586, 0.00652337270649322, 0.8850042305142468, 0.03479132110129717, 0.2324164256389041, 0.019368035469908677, 0.7359853478565297, 0.967478982006825, 0.7352039187816856, 0.017097765553062454, 0.03419553110612491, 0.12538361405579135, 0.005699255184354152, 0.07978957258095812, 0.7880515208540921, 0.807346349647929, 0.787520530092561, 0.8569945354345372, 0.69238052550731, 0.24975035998898756, 0.7326010559676969, 0.8759873369452195, 0.10949841711815243, 0.929842496328809, 0.8890849835815015, 0.06485831662045488, 0.3826640680606838, 0.0021619438873484963, 0.4367126652443962, 0.04972470940901541, 0.0626963727331064, 0.9014360684650685, 0.2712968553212112, 0.16277811319272675, 0.16277811319272675, 0.1085187421284845, 0.29842654085333237, 0.646771599280878, 0.8972725108935358, 0.2027199147979398, 0.1041755117711635, 0.48990646076168787, 0.05912664181606577, 0.028155543721936082, 0.11262217488774433, 0.007207118359973204, 0.10810677539959807, 0.2522491425990621, 0.5693623504378831, 0.057656946879785634, 0.8646675290501304, 0.8834406259672493, 0.9312773770298278, 0.8420538648738675, 0.0018504599703943433, 0.06013994903781616, 0.2377841061956731, 0.13970972776477292, 0.031457819496703836, 0.21465335656574383, 0.2840456054555317, 0.004626149925985858, 0.025906439585520805, 0.03732449678149037, 0.9331124195372593, 0.13093408109707635, 0.8570230762717724, 0.8678211601423789, 0.8749460330466599, 0.8864356208744127, 0.7756306703578135, 0.8598049953364593, 0.09826342803845249, 0.024565857009613123, 0.9561879616579324, 0.0877157466586276, 0.877157466586276, 0.20375240721963161, 0.040082440764517696, 0.15030915286694135, 0.006680406794086283, 0.02672162717634513, 0.544453153718032, 0.016701016985215707, 0.010020610191129424, 0.8865469016731152, 0.6831169609855677, 0.277072353419546, 0.692680883548865, 0.005602971360120765, 0.47625256561026497, 0.31376639616676283, 0.02241188544048306, 0.06723565632144918, 0.11766239856253606, 0.16731547472088693, 0.08365773736044346, 0.12302608435359333, 0.221446951836468, 0.004921043374143733, 0.2928020807615521, 0.056591998802652935, 0.04921043374143733, 0.853777662743427, 0.7149859541677577, 0.9863207197433352, 0.08424717159438037, 0.0006240531229213362, 0.13604358079685128, 0.3625748644172963, 0.36319891754021766, 0.053668568571234906, 0.9127374383248644, 0.04563687191624322, 0.03042458127749548, 0.7292136362152306, 0.16204747471449568, 0.12927073545035522, 0.056204667587110964, 0.7109890449769537, 0.10116840165679974, 0.7174689115782497, 0.04030724222349717, 0.2337820048962836, 0.4423696784650636, 0.5055653468172155, 0.8836482612902475, 0.9794760167774176, 0.9906731404723554, 0.9365187760934369, 0.597312271394891, 0.5955183693034571, 0.3846056135084827, 0.02196615830296287, 0.9665109653303662, 0.9601153963626241, 0.8140617555109413, 0.8984350365556436, 0.6917106859390437, 0.17292767148476093, 0.9893823631588009, 0.972879082084762, 0.8832384273227142, 0.8358877985009757, 0.8588717102237696, 0.13975271635037453, 0.791932059318789, 0.34251948171895197, 0.03841339981894788, 0.6178155137547452, 0.9167905501234109, 0.7554968295069676, 0.2197034663543451, 0.7689621322402078, 0.937393024869687, 0.22431456086737306, 0.056078640216843265, 0.6729436826021191, 0.8937367521828886, 0.899395801756479, 0.9731039473323368, 0.9692589388837923, 0.03417841704218184, 0.9399064686600004, 0.0014356942426195147, 0.10624137395384409, 0.0014356942426195147, 0.0014356942426195147, 0.8829519592110016, 0.0014356942426195147, 0.0014356942426195147, 0.0028713884852390294, 0.8667703937829804, 0.9020520051444921, 0.008417117895223123, 0.38718742318026367, 0.5976153705608417, 0.9046345593327588, 0.9563800598753611, 0.7682616775122098, 0.22407632260772783, 0.11123436114811636, 0.1251386562916309, 0.5005546251665236, 0.13904295143514545, 0.013904295143514545, 0.09733006600460181, 0.013904295143514545, 0.742330899200936, 0.07953545348581458, 0.02651181782860486, 0.14581499805732673, 0.8388589640761855, 0.8885830125233789, 0.45036232317444425, 0.5307841665984522, 0.8597734337284028, 0.22909997009442046, 0.7445749028068664, 0.7541260348032882, 0.20567073676453315, 0.5192357146109268, 0.3843692952314653, 0.09440649356562306, 0.3052735227456534, 0.6838126909502636, 0.8454028236738536, 0.7529891316367034, 0.8512341203560495, 0.40004062051737327, 0.6000609307760599, 0.9066047649404531, 0.7483362058864719, 0.9229811272160551, 0.735704857485625, 0.12684566508372844, 0.10147653206698275, 0.03805369952511853, 0.8427841945442416, 0.9133239439910853, 0.9338004540121015, 0.9441237251687274, 0.0017605797551124057, 0.4331026197576518, 0.017605797551124056, 0.2183118896339383, 0.11091652457208155, 0.11443768408230637, 0.10211362579651953, 0.9813740517757908, 0.8140617555109413, 0.8039987093163711, 0.8460327849290965, 0.8491746447967891, 0.6897773345863437, 0.24634904806655133, 0.9801195198184103, 0.897775097228746, 0.8196416131488311, 0.874847298481034, 0.9803661958387327, 0.8567662689892286, 0.011402561958921698, 0.0012669513287690774, 0.16597062406874916, 0.0025339026575381548, 0.40922527919241203, 0.179907088685209, 0.013936464616459853, 0.03547463720553417, 0.179907088685209, 0.0521762121326516, 0.017392070710883868, 0.017392070710883868, 0.4869779799047483, 0.40001762635032895, 0.9662455863723718, 0.9223654767683488, 0.9757925223110256, 0.6999347677683813, 0.2745292977070346, 0.23136007153197263, 0.10859758459664022, 0.02293365140550166, 0.0910600864630213, 0.010792306543765487, 0.05868316683172484, 0.10185239300678678, 0.09982883552983075, 0.4775339611227782, 0.5002736735571962, 0.6501334380056478, 0.9492085192408374, 0.9715811991245475, 0.02517049738664631, 0.8526138307868235, 0.881220618803832, 0.9274201666183003, 0.8663298955501674, 0.12376141365002391, 0.8743311110660739, 0.034537164657282765, 0.24176015260097938, 0.6562061284883726, 0.034537164657282765, 0.6989232576552108, 0.8669316512435279, 0.9526521846375581, 0.88212292849763, 0.9066047649404531, 0.8798980287784081, 0.8649253701389898, 0.9476000579181291, 0.9385523181194801, 0.9568095655488399, 0.8096120302501215, 0.8038157722686927, 0.8710480327674696, 0.9198664094585981, 0.26203245019606236, 0.11529427808626744, 0.2515511521882199, 0.3668454302744873, 0.1939685099610815, 0.775874039844326, 0.9416734220841034, 0.9580267855866618, 0.7899085600517101, 0.43665941312290474, 0.058426259502360495, 0.021525464027185446, 0.2952063638014004, 0.1322278504527106, 0.03075066289597921, 0.024600530316783366, 0.5609290757492633, 0.4233426986786893, 0.9268442898503957, 0.06101037269830497, 0.008715767528329282, 0.9151555904745746, 0.006536825646246961, 0.0021789418820823206, 0.0021789418820823206, 0.004357883764164641, 0.33113176091631186, 0.020273373117325216, 0.6419901487152986, 0.8047475799238222, 0.18171719546666953, 0.8716616594258124, 0.9721498190963997, 0.7552597485397293, 0.9318315225244431, 0.9128647780976293, 0.00229947109922768, 0.0114973554961384, 0.9795746882709917, 0.0068984132976830405, 0.8119111331030945, 0.8316812040913412, 0.15473138680769138, 0.17752221218456887, 0.8136434725126074, 0.2055041677529626, 0.5598216983615187, 0.2055041677529626, 0.02125905183651337, 0.9106435160357523, 0.09958273597042004, 0.8464532557485703, 0.816744551655761, 0.9023161931946059, 0.9823227330165453, 0.8218364144878395, 0.924949512054419, 0.8003283874811052, 0.018036903815105382, 0.9679805047439888, 0.012024602543403588, 0.8501259300087669, 0.9751103469381495, 0.0017950939998866433, 0.4056912439743814, 0.007180375999546573, 0.3015757919809561, 0.21900146798617048, 0.0035901879997732866, 0.06103319599614587, 0.8722154860000001, 0.049631452721479466, 0.8189189699044112, 0.0744471790822192, 0.024815726360739733, 0.8470476699934685, 0.09188795371048038, 0.7810476065390832, 0.09188795371048038, 0.10200298137149531, 0.8888831233801735, 0.8390541391509417, 0.05701020802790271, 0.01900340267596757, 0.001900340267596757, 0.7430330446303319, 0.10831939525301514, 0.06841224963348325, 0.2892463855252223, 0.626700501971315, 0.08264182443577779, 0.8161003046174726, 0.9661344343300958, 0.9822397807633303, 0.8917709566621264, 0.11799117935140034, 0.8259382554598024, 0.8393838811463795, 0.18994216162058328, 0.3241555716654453, 0.03529487599795679, 0.0004644062631310104, 0.17879641130543902, 0.10959987809891847, 0.15418287935949546, 0.006966093946965157, 0.9262510913996642, 0.2329613819069385, 0.49760551175322065, 0.02981905688408813, 0.23948430060033277, 0.2357765572107972, 0.10953399114517351, 0.11398961112396024, 0.13069818604441044, 0.09171151123002663, 0.07314642798508197, 0.11955913609744363, 0.03638756316009154, 0.08725589125123992, 0.001485206659595573, 0.9762325813982101, 0.7358930610819172, 0.1877278217045707, 0.06758201581364545, 0.9560065591762408, 0.8830339514438925, 0.9482506018100337, 0.690291054762967, 0.1612724402305183, 0.1612724402305183, 0.6450897609220732, 0.21786335226713113, 0.7780834009540398, 0.8368318650921878, 0.27651320347614183, 0.08977701411563047, 0.3483348147686462, 0.07182161129250436, 0.0035910805646252185, 0.028728644517001748, 0.12927890032650785, 0.05386620846937828, 0.9200991992178631, 0.013787852527304452, 0.013787852527304452, 0.9651496769113116, 0.28901855354993533, 0.5459239344832112, 0.09633951784997845, 0.05352195436109914, 0.6963377916530054, 0.007830551318298785, 0.1487804750476769, 0.219255436912366, 0.508985835689421, 0.08613606450128664, 0.023491653954896354, 0.9023869374158082, 0.5941028101827164, 0.3884518374271607, 0.1567480967510596, 0.8285256542556008, 0.8962336154738887, 0.24606822956905083, 0.1885669498116662, 0.1757630211207506, 0.12105532580502028, 0.03841178607274682, 0.03864458477621801, 0.02630625349224479, 0.07891876047673438, 0.08590272158087016, 0.00023279870347119285, 0.8617955827173809, 0.09166932181169289, 0.27500796543507866, 0.5500159308701573, 0.9030728189797164, 0.9268370878691743, 0.8395415165820646, 0.9724892280856525, 0.9487879165230155, 0.14964464673677172, 0.8230455570522445, 0.8727653023055962, 0.6974736245269689, 0.8456817098798121, 0.502319390292418, 0.13218931323484684, 0.3436922144106018, 0.8272387671941238, 0.9842388160559606, 0.8531313962277699, 0.11633609948560499, 0.038778699828535, 0.9343894605804762, 0.9151534029302205, 0.8858042420526161, 0.7664769136417738, 0.12774615227362898, 0.43172829935953916, 0.02477129586489159, 0.00707751310425474, 0.03892632207340107, 0.1415502620850948, 0.353875655212737, 0.8175016215155512, 0.7903094185449375, 0.9436843789897446, 0.024540247219237043, 0.0018877113245566958, 0.16611859656098923, 0.3360126157710918, 0.23030078159591688, 0.1698940192101026, 0.049080494438474086, 0.020764824570123654, 0.9767254144327004, 0.10801811952099778, 0.8641449561679823, 0.8451576156669978, 0.14085960261116628, 0.9538755864133142, 0.942380941539477, 0.907673928559405, 0.8999311358486421, 0.890718147117524, 0.9021619586825491, 0.9813403916317329, 0.8926598217194595, 0.06923503519657796, 0.4384885562449937, 0.4615669013105197, 0.8826161801146678, 0.900769323999992, 0.9142985984126065, 0.07619154986771721, 0.002053996134291603, 0.0718898647002061, 0.043133918820123664, 0.7948965039708503, 0.08832183377453892, 0.9444249826535124, 0.2027114030443479, 0.6660517528600002, 0.05791754372695654, 0.05791754372695654, 0.02969754006910086, 0.9503212822112275, 0.9007598136785542, 0.9229183516234263, 0.8283254108685152, 0.9924617528300521, 0.030222697052980297, 0.513785849900665, 0.3525981322847701, 0.04029692940397373, 0.07051962645695403, 0.9060121479635903, 0.8629473910897841, 0.20695474355631366, 0.5912992673037534, 0.177389780191126, 0.8791454724387356, 0.9043102277233752, 0.04961591392396873, 0.136443763290914, 0.39692731139174986, 0.40933128987274203, 0.8749919427787444, 0.1791773326514427, 0.09348382573118749, 0.7244996494167031, 0.8595923379961324, 0.23419854967040127, 0.45972307898263953, 0.07372917304438559, 0.18649143770050472, 0.004337010179081505, 0.039033091611733545, 0.9612399153546546, 0.12392544407750375, 0.1812049371249546, 0.15382605994504098, 0.13077016337248215, 0.026658380412021156, 0.14554034711427766, 0.05727949304745086, 0.09582607012969767, 0.08429812184341824, 0.0007204967678924636, 0.9390331669511465, 0.1397479303783424, 0.03436424517500223, 0.0007636498927778274, 0.13822063059278675, 0.4047344431722485, 0.0015272997855556548, 0.019091247319445684, 0.047346293352225295, 0.21382196997779165, 0.7759009640790737, 0.555140242460046, 0.023374325998317725, 0.04674865199663545, 0.3681456344735042, 0.10676385379881356, 0.7473469765916949, 0.9476710238682358, 0.8478828393877531, 0.12112611991253616, 0.9004717510106305, 0.9016392906596691, 0.9016239585468634, 0.22817253734811327, 0.1541706333433198, 0.46251190002995934, 0.05550142800359512, 0.012333650667465583, 0.08016872933852628, 0.8938413040327521, 0.9449268129368438, 0.8513157106352035, 0.9857531894015362, 0.01589924499034736, 0.6112105032776116, 0.24830426695652974, 0.06685114879598877, 0.06685114879598877, 0.8038208413271746, 0.9762829949871379, 0.8741267628562341, 0.08741267628562342, 0.8224268260603369, 0.10767961764393894, 0.8614369411515115, 0.1194663050370732, 0.22897708465439032, 0.17256244060910575, 0.16592542366260168, 0.3086212880124391, 0.8475622727443132, 0.9076531813429616, 0.6711811937843826, 0.3116198399713205, 0.6330851678751276, 0.7607051064922129, 0.7300265451442719, 0.942371262879196, 0.8119517400457027, 0.9978506734434799, 0.0031674222566167474, 0.9375569879585572, 0.0031674222566167474, 0.0538461783624847, 0.9377442340578713, 0.948851030715846, 0.8926353342664854, 0.7717092993127262, 0.9663574901174498, 0.1433795581799274, 0.11371482200477, 0.7366742816830752, 0.2357286356121407, 0.5786066510479817, 0.1714390077179205, 0.9633508055790618, 0.8983715691744176, 0.09214067376147873, 0.9074962913584614, 0.9174045824976144, 0.704658947845392, 0.8463899457396078, 0.015059637110160512, 0.010039758073440342, 0.09537770169768324, 0.18071564532192613, 0.5672463311493793, 0.06023854844064205, 0.0677683669957223, 0.221700987928289, 0.004618770581839354, 0.12470680570966255, 0.33717025247427285, 0.07851909989126901, 0.1108504939641445, 0.1108504939641445, 0.004618770581839354, 0.004618770581839354, 0.8927411400077455, 0.5438848532575132, 0.2576296673325063, 0.07156379648125175, 0.11450207437000279, 0.9265277108708914, 0.855867902211164, 0.9836188513465997, 0.862296306865539, 0.7514867015107174, 0.8470657640094934, 0.8290492549892263, 0.42183353155621356, 0.4921391201489158, 0.8311553742626927, 0.9426837075789996, 0.9157597204163433, 0.9093294657839449, 0.12224451573415847, 0.28651058375193394, 0.39347453501932256, 0.17190635025116036, 0.015280564466769809, 0.003820141116692452, 0.885384965195393, 0.8962973371358882, 0.6666210785021118, 0.013451994857665935, 0.06725997428832968, 0.001494666095296215, 0.00298933219059243, 0.00298933219059243, 0.2002852567696928, 0.02690398971533187, 0.02092532533414701, 0.941295650798851, 0.8888819507566801, 0.07901172895614934, 0.8503161672451597, 0.39956284432492495, 0.5593879820548949, 0.26278731921169246, 0.718285339178626, 0.8659946274683966, 0.7390375403598625, 0.2463458467866208, 0.8496079695480914, 0.15995753935114582, 0.14883005835280524, 0.0013909351247925724, 0.3435609758237654, 0.33521536507500993, 0.008345610748755434, 0.9804430118398678, 0.8820728968504535, 0.83669191619082, 0.8712424214197358, 0.26332493670090507, 0.7021998312024135, 0.030951691476970754, 0.548287106163482, 0.004421670210995822, 0.04421670210995822, 0.1834993137563266, 0.0795900637979248, 0.10833092016939765, 0.9159327433414057, 0.9224957275632, 0.9858056023372893, 0.13456871966487297, 0.08903794985344977, 0.04856615446551806, 0.002023589769396586, 0.2306892337112108, 0.2569959007133664, 0.05058974423491465, 0.029342051656250496, 0.13760410431896783, 0.019224102809267566, 0.12364583952352808, 0.14837500742823367, 0.7171458692364628, 0.8138820725734228, 0.7408950293688776, 0.9070099860416124, 0.2387111444474992, 0.7161334333424976, 0.13923094129070407, 0.5430006710337458, 0.16475661386066648, 0.09282062752713605, 0.006961547064535203, 0.02552567256996241, 0.009282062752713604, 0.016243609817248806, 0.931327540671377, 0.6355291323156439, 0.9858322377041139, 0.8474701978856848, 0.06025113804754541, 0.9037670707131812, 0.8707420150176267, 0.11696534530087524], \"Term\": [\"allspice\", \"allspice\", \"almond\", \"american\", \"amino\", \"anchovy\", \"anchovy\", \"anchovy\", \"angel_hair\", \"apple\", \"apple\", \"applesauce\", \"asian\", \"asparagus\", \"asparagus\", \"available\", \"baby_back\", \"bacon\", \"bacon\", \"bacon\", \"bacon\", \"baked\", \"baking\", \"baking\", \"ball\", \"balsamic\", \"balsamic\", \"banana\", \"banana\", \"banana\", \"barbecue\", \"barley\", \"base\", \"based_curing\", \"basil\", \"basil\", \"basil\", \"basil\", \"bean\", \"bean\", \"bean\", \"bean\", \"bean\", \"beef\", \"beef\", \"beef\", \"beef\", \"beef\", \"beef\", \"beef\", \"beef\", \"beer\", \"beer\", \"beer\", \"beet\", \"bell\", \"bell\", \"bell\", \"bell\", \"bell\", \"bell\", \"belly\", \"beverage\", \"bird\", \"biscuit\", \"biscuit_dough\", \"bone\", \"bone\", \"bouillon\", \"bouillon\", \"bouillon_granule\", \"brandy\", \"bread\", \"bread\", \"bread\", \"bread\", \"bread\", \"bread\", \"breakfast\", \"breast\", \"breast\", \"breast\", \"breast\", \"breast\", \"brewer\", \"brisket\", \"broth\", \"broth\", \"broth\", \"broth\", \"broth\", \"broth\", \"brown\", \"brown\", \"brown\", \"brown\", \"brown\", \"brussels_sprout\", \"bun\", \"burger\", \"butt\", \"butter\", \"butter\", \"butter\", \"butter\", \"butter\", \"butter\", \"butter\", \"butter\", \"butter\", \"button\", \"button\", \"cabbage\", \"cabbage\", \"calrose\", \"candy\", \"cannellini\", \"cap\", \"caper\", \"caper\", \"caper\", \"caraway\", \"cardamom\", \"cardamom\", \"carrot\", \"carrot\", \"carrot\", \"carrot\", \"carrot\", \"carrot\", \"carrot\", \"carrot\", \"cashew\", \"catfish\", \"cauliflower\", \"cauliflower\", \"cayenne\", \"cayenne\", \"cayenne\", \"cayenne\", \"cayenne\", \"cayenne\", \"celery\", \"celery\", \"celery\", \"celery\", \"celery\", \"celery\", \"celery\", \"celery\", \"cereal\", \"chardonnay\", \"cheddar\", \"cheese\", \"cheese\", \"cheese\", \"cheese\", \"cheese\", \"cheese\", \"cherry\", \"cherry\", \"cherry\", \"chestnut\", \"chestnut\", \"chicken\", \"chicken\", \"chicken\", \"chicken\", \"chile\", \"chile\", \"chile\", \"chilie\", \"chilie\", \"chinese\", \"chip\", \"chive\", \"chocolate\", \"ciabatta\", \"cider\", \"cider\", \"cinnamon\", \"cinnamon\", \"clam\", \"coating\", \"cob\", \"cocktail\", \"cocktail\", \"coconut\", \"cod\", \"coffee\", \"colby\", \"confectioner\", \"coriander\", \"coriander\", \"corn\", \"corn\", \"corn\", \"corned\", \"cornflake\", \"cornstarch\", \"cornstarch\", \"cottage\", \"couscous\", \"couscous\", \"couscous\", \"cover\", \"crab\", \"crabmeat\", \"cracker\", \"cranberry\", \"cranberry\", \"cream\", \"cream\", \"cream\", \"cream\", \"cream\", \"cream\", \"cream\", \"cream\", \"crimini\", \"crouton\", \"crumb\", \"crumb\", \"crumb\", \"crumble\", \"crunchy\", \"crust\", \"crust\", \"cucumber\", \"cucumber\", \"cucumber\", \"cucumber\", \"cucumber\", \"cucumber\", \"cucumber\", \"cumin\", \"cumin\", \"cumin\", \"cumin\", \"curd_cottage\", \"currant\", \"curry\", \"curry\", \"dairy\", \"dark\", \"dark\", \"deli\", \"deli\", \"dijon\", \"dijon\", \"dijon\", \"dill\", \"dill\", \"dill_weed\", \"direction\", \"ditalini\", \"dog\", \"dog\", \"domestic\", \"double\", \"dough\", \"drained\", \"drained\", \"drained\", \"drained\", \"dredging\", \"dried\", \"dripping\", \"duck\", \"egg\", \"egg\", \"egg\", \"egg\", \"egg\", \"egg\", \"egg\", \"eggplant\", \"envelope\", \"equivalent\", \"eye\", \"farfalle_bow\", \"fennel\", \"fennel\", \"fettuccine\", \"filet\", \"fire\", \"firm_tofu\", \"fish\", \"flax\", \"flour\", \"flour\", \"flour\", \"flour\", \"flour\", \"flour\", \"flour\", \"flour\", \"flour\", \"french\", \"french\", \"french\", \"french\", \"french\", \"fry\", \"gallon\", \"garbanzo\", \"garden\", \"garlic\", \"garlic\", \"garlic\", \"garlic\", \"garlic\", \"garlic\", \"garlic\", \"garlic\", \"garlic\", \"garnish\", \"garnish\", \"giant\", \"giblet\", \"ginger\", \"ginger\", \"glaze\", \"glutinous\", \"golden\", \"grain\", \"grain\", \"grand\", \"grape\", \"grape\", \"grape\", \"grape\", \"grapeseed\", \"grass\", \"gravy\", \"greek\", \"grind\", \"gruyere\", \"guacamole\", \"ham\", \"hamburger_bun\", \"heavy_whipping\", \"hickory\", \"hoagie_roll\", \"hock\", \"hoisin\", \"honey\", \"honey\", \"honey\", \"honey\", \"horseradish\", \"horseradish\", \"husk\", \"ice\", \"imitation\", \"italian\", \"italian\", \"italian\", \"italian\", \"italian\", \"italian\", \"italian\", \"jalapeno\", \"jalapeno\", \"japanese\", \"juice\", \"juice\", \"juice\", \"juice\", \"juice\", \"juice\", \"juice\", \"kernel\", \"kernel\", \"kernel\", \"ketchup\", \"ketchup\", \"korean\", \"lasagna_noodle\", \"least\", \"leek\", \"leg\", \"lemon\", \"lemon\", \"lemon\", \"lemon\", \"length\", \"lentil\", \"lentil\", \"lettuce\", \"lettuce\", \"lime\", \"lime\", \"lime\", \"lime\", \"linguine\", \"liquid_smoke\", \"liquid_smoke\", \"loaf\", \"lobster\", \"loin\", \"lump\", \"maple_syrup\", \"marshmallow\", \"mayonnaise\", \"mayonnaise\", \"mayonnaise\", \"meatball\", \"mexican\", \"milk\", \"milk\", \"milk\", \"milk\", \"milk\", \"milk\", \"milk\", \"milliliter\", \"mint\", \"mint\", \"mint\", \"mint\", \"miracle_whip\", \"molasse\", \"molasse\", \"molasse\", \"mozzarella\", \"mozzarella\", \"muffin\", \"mushroom\", \"mushroom\", \"mushroom\", \"mushroom\", \"mushroom\", \"mushroom\", \"mustard\", \"mustard\", \"mustard\", \"natural\", \"neck\", \"noodle\", \"nut\", \"nutmeg\", \"nutmeg\", \"oatmeal\", \"oil\", \"oil\", \"oil\", \"oil\", \"oil\", \"oil\", \"oil\", \"oil\", \"okra\", \"olive\", \"olive\", \"olive\", \"olive\", \"onion\", \"onion\", \"onion\", \"onion\", \"onion\", \"onion\", \"onion\", \"onion\", \"onion\", \"onion\", \"orange\", \"oregano\", \"oregano\", \"oregano\", \"orzo\", \"oven\", \"oyster\", \"pancetta\", \"panko\", \"panko\", \"panko\", \"paprika\", \"paprika\", \"parmesan\", \"parsley\", \"parsley\", \"parsley\", \"parsley\", \"parsley\", \"parsley\", \"parsley\", \"parsley\", \"part\", \"pasta\", \"pasta\", \"pasta\", \"paste\", \"paste\", \"paste\", \"paste\", \"pastry\", \"pea\", \"pea\", \"pea\", \"pea\", \"pea\", \"pea\", \"peach\", \"peanut\", \"peanut\", \"pecan\", \"pecan\", \"peel\", \"pepper\", \"pepper\", \"pepper\", \"pepper\", \"pepper\", \"pepper\", \"pepper\", \"pepper\", \"pepper\", \"pepper\", \"pepperjack\", \"pepperoncini\", \"pepperoncini\", \"pepperoncini\", \"pepperoni\", \"pheasant\", \"phyllo\", \"pickle\", \"pickle_relish\", \"pie\", \"pie\", \"pigeon\", \"pillsbury\", \"pimento\", \"pineapple\", \"pineapple\", \"pineapple\", \"pink\", \"pizza\", \"plain\", \"plain\", \"plain\", \"plain_yogurt\", \"poblano\", \"pod\", \"poppy\", \"poppy\", \"pork\", \"pork\", \"pork\", \"pork\", \"pork\", \"pork\", \"port\", \"portion\", \"portobello\", \"potato\", \"potato\", \"potato\", \"potato\", \"potato\", \"potato\", \"potato\", \"potato\", \"poultry\", \"protein\", \"protein\", \"provence\", \"provence\", \"provolone\", \"pumpkin\", \"puree\", \"quick\", \"rabbit\", \"radish\", \"raisin\", \"ramen_noodle\", \"ranch\", \"ranch\", \"ranch\", \"refried\", \"reserve\", \"rib\", \"rib\", \"rice\", \"rice\", \"rice\", \"rice\", \"rice\", \"ricotta\", \"ring\", \"ring\", \"ring\", \"ring\", \"roast\", \"roast\", \"rolled_oat\", \"roma\", \"room_temperature\", \"root\", \"rosemary\", \"rosemary\", \"rosemary\", \"rosemary\", \"rosemary\", \"rotini\", \"rum\", \"russet\", \"russet\", \"russet\", \"rutabaga\", \"rye\", \"sage\", \"sage\", \"sage\", \"sage\", \"sake\", \"salad\", \"salad\", \"salad\", \"salami\", \"salmon\", \"salmon\", \"salmon\", \"salmon\", \"salmon\", \"salmon\", \"salsa\", \"salt\", \"salt\", \"salt\", \"salt\", \"salt\", \"salt\", \"salt\", \"salt\", \"salt\", \"salt\", \"saltine_cracker\", \"sauce\", \"sauce\", \"sauce\", \"sauce\", \"sauce\", \"sauce\", \"sauce\", \"sauce\", \"sauce\", \"sauerkraut\", \"sausage\", \"sausage\", \"sausage\", \"sausage\", \"savory\", \"savory\", \"scallion\", \"scallop\", \"scallop\", \"seafood\", \"seaweed\", \"section\", \"seed\", \"seed\", \"seed\", \"seed\", \"seed\", \"seed\", \"seitan\", \"semisweet_chocolate\", \"separated\", \"sesame\", \"sesame\", \"shallot\", \"shallot\", \"shallot\", \"shallot\", \"shaped\", \"shell\", \"sherry\", \"sherry\", \"shortening\", \"shoulder\", \"shoulder\", \"shrimp\", \"shrimp\", \"shrimp\", \"shrimp\", \"shrimp\", \"silk\", \"sirloin\", \"skin\", \"skin\", \"skinned\", \"slivered_almond\", \"snapper\", \"sodium\", \"soul\", \"soup\", \"soy\", \"soy\", \"soy\", \"soy\", \"spaghetti\", \"spanish\", \"spear\", \"spectrum_natural\", \"spice\", \"spinach\", \"spinach\", \"spinach\", \"sprig\", \"sprig\", \"sprig\", \"squash\", \"steak\", \"steak\", \"stem\", \"stick\", \"stone\", \"substitute\", \"sugar\", \"sugar\", \"sugar\", \"sugar\", \"sugar\", \"sugar\", \"sugar\", \"sweet\", \"sweet\", \"sweet\", \"sweet\", \"sweet\", \"sweet\", \"sweet\", \"sweet\", \"sweet\", \"sweetened\", \"swiss\", \"swiss\", \"swiss\", \"swiss\", \"syrup\", \"tahini\", \"tail\", \"tamari\", \"tarragon\", \"tart\", \"tater_tot\", \"tempeh\", \"tempeh\", \"tender\", \"tenderloin\", \"teriyaki\", \"third\", \"thyme\", \"thyme\", \"thyme\", \"thyme\", \"thyme\", \"thyme\", \"tiny\", \"tip\", \"tomato\", \"tomato\", \"tomato\", \"tomato\", \"tomato\", \"tomato\", \"tomato\", \"tomato\", \"tomato\", \"toothpick\", \"tortilla\", \"tortilla\", \"tortillas_warmed\", \"tuna\", \"tuna\", \"turmeric\", \"turmeric\", \"unbaked_pie\", \"unsweetened\", \"unsweetened\", \"veal\", \"vegetable\", \"vegetable\", \"vegetable\", \"vegetable\", \"vegetable\", \"vegetable\", \"vegetarian\", \"veggie\", \"velveeta\", \"venison\", \"vinaigrette\", \"vinaigrette\", \"vinegar\", \"vinegar\", \"vinegar\", \"vinegar\", \"vinegar\", \"vinegar\", \"vinegar\", \"vital\", \"vodka\", \"walnut\", \"water\", \"water\", \"water\", \"water\", \"water\", \"water\", \"water\", \"water\", \"water\", \"water\", \"wheat\", \"wheat\", \"wheat\", \"whipping\", \"whiskey\", \"wide\", \"wild\", \"wild\", \"wine\", \"wine\", \"wine\", \"wine\", \"wine\", \"wine\", \"wine\", \"wine\", \"wood\", \"wooden\", \"worcestershire\", \"yolk\", \"zest\", \"zest\", \"zucchini\", \"zucchini\"]}, \"R\": 30, \"lambda.step\": 0.01, \"plot.opts\": {\"xlab\": \"PC1\", \"ylab\": \"PC2\"}, \"topic.order\": [4, 10, 1, 9, 3, 5, 2, 7, 6, 8]};\n",
       "\n",
       "function LDAvis_load_lib(url, callback){\n",
       "  var s = document.createElement('script');\n",
       "  s.src = url;\n",
       "  s.async = true;\n",
       "  s.onreadystatechange = s.onload = callback;\n",
       "  s.onerror = function(){console.warn(\"failed to load library \" + url);};\n",
       "  document.getElementsByTagName(\"head\")[0].appendChild(s);\n",
       "}\n",
       "\n",
       "if(typeof(LDAvis) !== \"undefined\"){\n",
       "   // already loaded: just create the visualization\n",
       "   !function(LDAvis){\n",
       "       new LDAvis(\"#\" + \"ldavis_el2304018794890933206668542193\", ldavis_el2304018794890933206668542193_data);\n",
       "   }(LDAvis);\n",
       "}else if(typeof define === \"function\" && define.amd){\n",
       "   // require.js is available: use it to load d3/LDAvis\n",
       "   require.config({paths: {d3: \"https://d3js.org/d3.v5\"}});\n",
       "   require([\"d3\"], function(d3){\n",
       "      window.d3 = d3;\n",
       "      LDAvis_load_lib(\"https://cdn.jsdelivr.net/gh/bmabey/pyLDAvis@3.3.1/pyLDAvis/js/ldavis.v3.0.0.js\", function(){\n",
       "        new LDAvis(\"#\" + \"ldavis_el2304018794890933206668542193\", ldavis_el2304018794890933206668542193_data);\n",
       "      });\n",
       "    });\n",
       "}else{\n",
       "    // require.js not available: dynamically load d3 & LDAvis\n",
       "    LDAvis_load_lib(\"https://d3js.org/d3.v5.js\", function(){\n",
       "         LDAvis_load_lib(\"https://cdn.jsdelivr.net/gh/bmabey/pyLDAvis@3.3.1/pyLDAvis/js/ldavis.v3.0.0.js\", function(){\n",
       "                 new LDAvis(\"#\" + \"ldavis_el2304018794890933206668542193\", ldavis_el2304018794890933206668542193_data);\n",
       "            })\n",
       "         });\n",
       "}\n",
       "</script>"
      ],
      "text/plain": [
       "PreparedData(topic_coordinates=              x         y  topics  cluster       Freq\n",
       "topic                                                \n",
       "3      0.105727  0.041640       1        1  15.862475\n",
       "9      0.174374  0.002818       2        1  13.652486\n",
       "0      0.142545  0.061423       3        1  11.349479\n",
       "8     -0.089680  0.065322       4        1  10.339312\n",
       "2      0.136860 -0.210487       5        1  10.148309\n",
       "4     -0.018224 -0.132685       6        1  10.136807\n",
       "1     -0.152657  0.181511       7        1   9.828163\n",
       "6     -0.003209  0.123388       8        1   8.631960\n",
       "5      0.088026 -0.009138       9        1   6.699357\n",
       "7     -0.383762 -0.123793      10        1   3.351654, topic_info=       Term         Freq        Total Category  logprob  loglift\n",
       "33   cheese  1602.000000  1602.000000  Default  30.0000  30.0000\n",
       "72    cream   696.000000   696.000000  Default  29.0000  29.0000\n",
       "21    sauce  1309.000000  1309.000000  Default  28.0000  28.0000\n",
       "37    olive  1073.000000  1073.000000  Default  27.0000  27.0000\n",
       "69     beef   459.000000   459.000000  Default  26.0000  26.0000\n",
       "..      ...          ...          ...      ...      ...      ...\n",
       "52    sugar    26.999494   398.415975  Topic10  -4.0318   0.7040\n",
       "44    water    19.382418   988.342613  Topic10  -4.3632  -0.5359\n",
       "102    seed    12.960555   162.157990  Topic10  -4.7657   0.8691\n",
       "69     beef    15.500192   459.884807  Topic10  -4.5867   0.0056\n",
       "10   tomato    13.641676   669.045751  Topic10  -4.7145  -0.4970\n",
       "\n",
       "[592 rows x 6 columns], token_table=      Topic      Freq      Term\n",
       "term                           \n",
       "567       2  0.850378  allspice\n",
       "567       3  0.085038  allspice\n",
       "45        6  0.925367    almond\n",
       "143       8  0.960296  american\n",
       "820      10  0.645382     amino\n",
       "...     ...       ...       ...\n",
       "698       4  0.847470      yolk\n",
       "329       2  0.060251      zest\n",
       "329       3  0.903767      zest\n",
       "41        1  0.870742  zucchini\n",
       "41        8  0.116965  zucchini\n",
       "\n",
       "[839 rows x 3 columns], R=30, lambda_step=0.01, plot_opts={'xlab': 'PC1', 'ylab': 'PC2'}, topic_order=[4, 10, 1, 9, 3, 5, 2, 7, 6, 8])"
      ]
     },
     "execution_count": 74,
     "metadata": {},
     "output_type": "execute_result"
    }
   ],
   "source": [
    "LDAvis_prepared = gensimvis.prepare(lda_model, corpus, id2word)\n",
    "LDAvis_prepared"
   ]
  },
  {
   "cell_type": "code",
   "execution_count": 75,
   "metadata": {},
   "outputs": [],
   "source": [
    "#tuning hyperparameters\n",
    "def compute_coherence_values(corpus, dictionary, k, a, b):\n",
    "    \n",
    "    lda_model = LdaMulticore(corpus=corpus,\n",
    "                             id2word=dictionary,\n",
    "                             num_topics=k, \n",
    "                             random_state=100,\n",
    "                             chunksize=100,\n",
    "                             passes=10,\n",
    "                             alpha=a,\n",
    "                             eta=b,\n",
    "                             per_word_topics=True)\n",
    "    \n",
    "    coherence_model_lda = CoherenceModel(model=lda_model, \n",
    "                                         texts=texts, \n",
    "                                         dictionary=dictionary, \n",
    "                                         coherence='c_v')\n",
    "    \n",
    "    return coherence_model_lda.get_coherence()"
   ]
  },
  {
   "cell_type": "code",
   "execution_count": 76,
   "metadata": {},
   "outputs": [],
   "source": [
    "#assigning a topic range\n",
    "topics_range = range(2,16,1)"
   ]
  },
  {
   "cell_type": "code",
   "execution_count": 77,
   "metadata": {},
   "outputs": [],
   "source": [
    "#alpha\n",
    "alpha = [0.01, 0.1, 1, 'symmetric', 'asymmetric']"
   ]
  },
  {
   "cell_type": "code",
   "execution_count": 78,
   "metadata": {},
   "outputs": [],
   "source": [
    "# beta\n",
    "beta = [0.01, 0.1, 1, 'symmetric']"
   ]
  },
  {
   "cell_type": "code",
   "execution_count": 79,
   "metadata": {},
   "outputs": [],
   "source": [
    "num_of_docs = len(corpus)\n",
    "model_results = {'Topics': [],\n",
    "                 'Alpha': [],\n",
    "                 'Beta': [],\n",
    "                 'Coherence': []}"
   ]
  },
  {
   "cell_type": "code",
   "execution_count": 80,
   "metadata": {},
   "outputs": [
    {
     "name": "stderr",
     "output_type": "stream",
     "text": [
      " 80%|████████████████████████████████████████████████████████████████████████████████████████████████████████                          | 280/350 [2:35:42<38:55, 33.37s/it]\n"
     ]
    }
   ],
   "source": [
    "if 1 == 1:\n",
    "    pbar = tqdm.tqdm(total=350)\n",
    "    \n",
    "    # iterate through number of topics\n",
    "    for k in topics_range:\n",
    "        # iterate through alpha \n",
    "        for a in alpha:\n",
    "            # iterare through beta\n",
    "            for b in beta:\n",
    "                # get the coherence score for the given parameters\n",
    "                cv = compute_coherence_values(corpus=corpus, \n",
    "                                              dictionary=id2word, \n",
    "                                              k=k, a=a, b=b)\n",
    "                # Save the model results\n",
    "                model_results['Topics'].append(k)\n",
    "                model_results['Alpha'].append(a)\n",
    "                model_results['Beta'].append(b)\n",
    "                model_results['Coherence'].append(cv)\n",
    "                    \n",
    "                pbar.update(1)\n",
    "    pd.DataFrame(model_results).to_csv('lda_tuning_results.csv', index=False)\n",
    "    pbar.close()"
   ]
  },
  {
   "cell_type": "code",
   "execution_count": 81,
   "metadata": {},
   "outputs": [
    {
     "data": {
      "text/html": [
       "<div>\n",
       "<style scoped>\n",
       "    .dataframe tbody tr th:only-of-type {\n",
       "        vertical-align: middle;\n",
       "    }\n",
       "\n",
       "    .dataframe tbody tr th {\n",
       "        vertical-align: top;\n",
       "    }\n",
       "\n",
       "    .dataframe thead th {\n",
       "        text-align: right;\n",
       "    }\n",
       "</style>\n",
       "<table border=\"1\" class=\"dataframe\">\n",
       "  <thead>\n",
       "    <tr style=\"text-align: right;\">\n",
       "      <th></th>\n",
       "      <th>Topics</th>\n",
       "      <th>Alpha</th>\n",
       "      <th>Beta</th>\n",
       "      <th>Coherence</th>\n",
       "    </tr>\n",
       "  </thead>\n",
       "  <tbody>\n",
       "    <tr>\n",
       "      <th>0</th>\n",
       "      <td>2</td>\n",
       "      <td>0.01</td>\n",
       "      <td>0.01</td>\n",
       "      <td>0.339302</td>\n",
       "    </tr>\n",
       "    <tr>\n",
       "      <th>1</th>\n",
       "      <td>2</td>\n",
       "      <td>0.01</td>\n",
       "      <td>0.1</td>\n",
       "      <td>0.343213</td>\n",
       "    </tr>\n",
       "    <tr>\n",
       "      <th>2</th>\n",
       "      <td>2</td>\n",
       "      <td>0.01</td>\n",
       "      <td>1</td>\n",
       "      <td>0.322465</td>\n",
       "    </tr>\n",
       "    <tr>\n",
       "      <th>3</th>\n",
       "      <td>2</td>\n",
       "      <td>0.01</td>\n",
       "      <td>symmetric</td>\n",
       "      <td>0.329778</td>\n",
       "    </tr>\n",
       "    <tr>\n",
       "      <th>4</th>\n",
       "      <td>2</td>\n",
       "      <td>0.1</td>\n",
       "      <td>0.01</td>\n",
       "      <td>0.343213</td>\n",
       "    </tr>\n",
       "  </tbody>\n",
       "</table>\n",
       "</div>"
      ],
      "text/plain": [
       "   Topics Alpha       Beta  Coherence\n",
       "0       2  0.01       0.01   0.339302\n",
       "1       2  0.01        0.1   0.343213\n",
       "2       2  0.01          1   0.322465\n",
       "3       2  0.01  symmetric   0.329778\n",
       "4       2   0.1       0.01   0.343213"
      ]
     },
     "execution_count": 81,
     "metadata": {},
     "output_type": "execute_result"
    }
   ],
   "source": [
    "df_result = pd.read_csv('lda_tuning_results.csv')\n",
    "df_result.head()"
   ]
  },
  {
   "cell_type": "code",
   "execution_count": 86,
   "metadata": {},
   "outputs": [
    {
     "name": "stderr",
     "output_type": "stream",
     "text": [
      "C:\\Users\\chamo\\anaconda3\\lib\\site-packages\\seaborn\\relational.py:730: DeprecationWarning: `np.float` is a deprecated alias for the builtin `float`. To silence this warning, use `float` by itself. Doing this will not modify any behavior and is safe. If you specifically wanted the numpy scalar type, use `np.float64` here.\n",
      "Deprecated in NumPy 1.20; for more details and guidance: https://numpy.org/devdocs/release/1.20.0-notes.html#deprecations\n",
      "  null_ci = pd.Series(index=[\"low\", \"high\"], dtype=np.float)\n"
     ]
    },
    {
     "data": {
      "image/png": "[encoded data removed]",
      "text/plain": [
       "<Figure size 720x432 with 1 Axes>"
      ]
     },
     "metadata": {
      "needs_background": "light"
     },
     "output_type": "display_data"
    }
   ],
   "source": [
    "#printing a graph to visualise coherence score vs topics distributed\n",
    "plt.figure(figsize=(10, 6))\n",
    "sns.lineplot(data=df_result, x='Topics', y='Coherence')\n",
    "plt.xticks(range(2, 16, 1), range(2, 16, 1), fontsize='12')\n",
    "plt.yticks(fontsize='16')\n",
    "plt.xlabel('No. of Topics', fontsize='16')\n",
    "plt.ylabel('Coherence Score', fontsize='16')\n",
    "plt.title('Coherence Score vs No. of Topics', fontsize='16');"
   ]
  },
  {
   "cell_type": "markdown",
   "metadata": {},
   "source": []
  },
  {
   "cell_type": "code",
   "execution_count": 87,
   "metadata": {},
   "outputs": [],
   "source": [
    "mallet_path = 'D:/Academics/Level4 Semester2/fyp/programs/mallet-2.0.8/bin/mallet'"
   ]
  },
  {
   "cell_type": "code",
   "execution_count": 88,
   "metadata": {},
   "outputs": [
    {
     "ename": "AttributeError",
     "evalue": "module 'gensim.models' has no attribute 'wrappers'",
     "output_type": "error",
     "traceback": [
      "\u001b[1;31m---------------------------------------------------------------------------\u001b[0m",
      "\u001b[1;31mAttributeError\u001b[0m                            Traceback (most recent call last)",
      "\u001b[1;32m<ipython-input-88-6e0dbb876ee6>\u001b[0m in \u001b[0;36m<module>\u001b[1;34m\u001b[0m\n\u001b[1;32m----> 1\u001b[1;33m \u001b[0mldamallet\u001b[0m \u001b[1;33m=\u001b[0m \u001b[0mgensim\u001b[0m\u001b[1;33m.\u001b[0m\u001b[0mmodels\u001b[0m\u001b[1;33m.\u001b[0m\u001b[0mwrappers\u001b[0m\u001b[1;33m.\u001b[0m\u001b[0mLdaMallet\u001b[0m\u001b[1;33m(\u001b[0m\u001b[0mmallet_path\u001b[0m\u001b[1;33m,\u001b[0m \u001b[0mcorpus\u001b[0m\u001b[1;33m=\u001b[0m\u001b[0mcorpus\u001b[0m\u001b[1;33m,\u001b[0m \u001b[0mnum_topics\u001b[0m\u001b[1;33m=\u001b[0m\u001b[1;36m20\u001b[0m\u001b[1;33m,\u001b[0m \u001b[0mid2word\u001b[0m\u001b[1;33m=\u001b[0m\u001b[0mid2word\u001b[0m\u001b[1;33m)\u001b[0m\u001b[1;33m\u001b[0m\u001b[1;33m\u001b[0m\u001b[0m\n\u001b[0m",
      "\u001b[1;31mAttributeError\u001b[0m: module 'gensim.models' has no attribute 'wrappers'"
     ]
    }
   ],
   "source": [
    "ldamallet = gensim.models.wrappers.LdaMallet(mallet_path, corpus=corpus, num_topics=20, id2word=id2word)"
   ]
  },
  {
   "cell_type": "code",
   "execution_count": 89,
   "metadata": {},
   "outputs": [
    {
     "ename": "ModuleNotFoundError",
     "evalue": "No module named 'gensim.models.wrappers'",
     "output_type": "error",
     "traceback": [
      "\u001b[1;31m---------------------------------------------------------------------------\u001b[0m",
      "\u001b[1;31mModuleNotFoundError\u001b[0m                       Traceback (most recent call last)",
      "\u001b[1;32m<ipython-input-89-70c216bdc13c>\u001b[0m in \u001b[0;36m<module>\u001b[1;34m\u001b[0m\n\u001b[1;32m----> 1\u001b[1;33m \u001b[1;32mfrom\u001b[0m \u001b[0mgensim\u001b[0m\u001b[1;33m.\u001b[0m\u001b[0mmodels\u001b[0m\u001b[1;33m.\u001b[0m\u001b[0mwrappers\u001b[0m \u001b[1;32mimport\u001b[0m \u001b[0mwrappers\u001b[0m\u001b[1;33m\u001b[0m\u001b[1;33m\u001b[0m\u001b[0m\n\u001b[0m",
      "\u001b[1;31mModuleNotFoundError\u001b[0m: No module named 'gensim.models.wrappers'"
     ]
    }
   ],
   "source": [
    "from gensim.models.wrappers import wrappers"
   ]
  },
  {
   "cell_type": "code",
   "execution_count": 90,
   "metadata": {},
   "outputs": [
    {
     "name": "stdout",
     "output_type": "stream",
     "text": [
      "Collecting wrappers\n",
      "  Downloading wrappers-0.1.9.tar.gz (2.8 kB)\n",
      "Building wheels for collected packages: wrappers\n",
      "  Building wheel for wrappers (setup.py): started\n",
      "  Building wheel for wrappers (setup.py): finished with status 'done'\n",
      "  Created wheel for wrappers: filename=wrappers-0.1.9-py3-none-any.whl size=3596 sha256=2a11e3c6918d44e8518807f9e5f8d2f9c558ef3c92986e9711728fd0b3aeaf84\n",
      "  Stored in directory: c:\\users\\chamo\\appdata\\local\\pip\\cache\\wheels\\3b\\a0\\6d\\c9ffb01d3744740a49d8e34ae73d7b8854df726f737024ff5c\n",
      "Successfully built wrappers\n",
      "Installing collected packages: wrappers\n",
      "Successfully installed wrappers-0.1.9\n",
      "Note: you may need to restart the kernel to use updated packages.\n"
     ]
    }
   ],
   "source": [
    "pip install wrappers"
   ]
  },
  {
   "cell_type": "code",
   "execution_count": 95,
   "metadata": {},
   "outputs": [],
   "source": [
    "from gensim.models import LdaModel, CoherenceModel\n",
    "from gensim import corpora"
   ]
  },
  {
   "cell_type": "markdown",
   "metadata": {},
   "source": [
    "#### Finding the optimal number of topics for a LDA-Model"
   ]
  },
  {
   "cell_type": "markdown",
   "metadata": {},
   "source": [
    "To build an LDA model, we would require to find the optimal number of topics to be extracted from the caption dataset. We can use the coherence score of the LDA model to identify the optimal number of topics.\n",
    "\n",
    "We can iterate through the list of several topics and build the LDA model for each number of topics using Gensim's LDAMulticore class. Then load the model object to the CoherenceModel class to obtain the coherence score. The LDA model and its corresponding Coherence score can be saved to find the optimal number of topics later in the course. Finally, we can plot the results of all topics and their coherence scores for better understanding.\n",
    "\n",
    "Once we obtain the optimal model, we can print the topics summary with the top 10 words that contribute most to each topic.\n",
    "\n",
    "Now we check the perplexity and the coherence score of the optimal model. An ideal LDA model should have low perplexity and high coherence scores."
   ]
  },
  {
   "cell_type": "code",
   "execution_count": 105,
   "metadata": {},
   "outputs": [
    {
     "data": {
      "text/html": [
       "<div>\n",
       "<style scoped>\n",
       "    .dataframe tbody tr th:only-of-type {\n",
       "        vertical-align: middle;\n",
       "    }\n",
       "\n",
       "    .dataframe tbody tr th {\n",
       "        vertical-align: top;\n",
       "    }\n",
       "\n",
       "    .dataframe thead th {\n",
       "        text-align: right;\n",
       "    }\n",
       "</style>\n",
       "<table border=\"1\" class=\"dataframe\">\n",
       "  <thead>\n",
       "    <tr style=\"text-align: right;\">\n",
       "      <th></th>\n",
       "      <th>Topics</th>\n",
       "      <th>Alpha</th>\n",
       "      <th>Beta</th>\n",
       "      <th>Coherence</th>\n",
       "    </tr>\n",
       "  </thead>\n",
       "  <tbody>\n",
       "    <tr>\n",
       "      <th>138</th>\n",
       "      <td>8</td>\n",
       "      <td>asymmetric</td>\n",
       "      <td>1</td>\n",
       "      <td>0.430212</td>\n",
       "    </tr>\n",
       "    <tr>\n",
       "      <th>123</th>\n",
       "      <td>8</td>\n",
       "      <td>0.01</td>\n",
       "      <td>symmetric</td>\n",
       "      <td>0.420679</td>\n",
       "    </tr>\n",
       "    <tr>\n",
       "      <th>122</th>\n",
       "      <td>8</td>\n",
       "      <td>0.01</td>\n",
       "      <td>1</td>\n",
       "      <td>0.418583</td>\n",
       "    </tr>\n",
       "    <tr>\n",
       "      <th>134</th>\n",
       "      <td>8</td>\n",
       "      <td>symmetric</td>\n",
       "      <td>1</td>\n",
       "      <td>0.414180</td>\n",
       "    </tr>\n",
       "    <tr>\n",
       "      <th>120</th>\n",
       "      <td>8</td>\n",
       "      <td>0.01</td>\n",
       "      <td>0.01</td>\n",
       "      <td>0.413959</td>\n",
       "    </tr>\n",
       "  </tbody>\n",
       "</table>\n",
       "</div>"
      ],
      "text/plain": [
       "     Topics       Alpha       Beta  Coherence\n",
       "138       8  asymmetric          1   0.430212\n",
       "123       8        0.01  symmetric   0.420679\n",
       "122       8        0.01          1   0.418583\n",
       "134       8   symmetric          1   0.414180\n",
       "120       8        0.01       0.01   0.413959"
      ]
     },
     "execution_count": 105,
     "metadata": {},
     "output_type": "execute_result"
    }
   ],
   "source": [
    "# Find the optimal number of topics \n",
    "# looking for the best alpha and beta based on coherence value score\n",
    "df_result[df_result.Topics == 8].sort_values('Coherence', ascending=False)[:5]"
   ]
  },
  {
   "cell_type": "markdown",
   "metadata": {},
   "source": [
    "According to the above result, with 8 number of topics, alpha of 0.01 and beta of 1, the coherence score value is 0.418583 which is a 9.138% improvement in coherence score over the baseline. (C_v over the baseline = 0.383)"
   ]
  },
  {
   "cell_type": "markdown",
   "metadata": {},
   "source": [
    "#### Building the model"
   ]
  },
  {
   "cell_type": "code",
   "execution_count": 107,
   "metadata": {},
   "outputs": [],
   "source": [
    "lda_model_final = LdaMulticore(corpus=corpus,\n",
    "                               id2word=id2word,\n",
    "                               num_topics=8, \n",
    "                               random_state=100,\n",
    "                               chunksize=100,\n",
    "                               passes=10,\n",
    "                               alpha=0.01,\n",
    "                               eta=1)"
   ]
  },
  {
   "cell_type": "code",
   "execution_count": 109,
   "metadata": {},
   "outputs": [
    {
     "data": {
      "text/html": [
       "\n",
       "<link rel=\"stylesheet\" type=\"text/css\" href=\"https://cdn.jsdelivr.net/gh/bmabey/pyLDAvis@3.3.1/pyLDAvis/js/ldavis.v1.0.0.css\">\n",
       "\n",
       "\n",
       "<div id=\"ldavis_el2304018794878997203303951997\"></div>\n",
       "<script type=\"text/javascript\">\n",
       "\n",
       "var ldavis_el2304018794878997203303951997_data = {\"mdsDat\": {\"x\": [-0.13727700786835872, -0.09746190271772391, -0.09900641588366084, -0.054376296187980185, -0.007789996530219173, 0.07109038016778542, 0.06431512405732263, 0.2605061149628347], \"y\": [-0.06308129696698592, 0.027597296187219317, 0.07097990570351616, -0.01192722550849479, -0.09579553352143055, 0.20304882285892537, -0.09841348408380664, -0.03240848466894323], \"topics\": [1, 2, 3, 4, 5, 6, 7, 8], \"cluster\": [1, 1, 1, 1, 1, 1, 1, 1], \"Freq\": [20.455187293407363, 18.983996733328347, 18.860930365080915, 12.621657755449153, 11.876299397247148, 10.035661198317436, 6.666905085515884, 0.49936217165375524]}, \"tinfo\": {\"Term\": [\"sauce\", \"flour\", \"cheese\", \"lemon\", \"milk\", \"butter\", \"bean\", \"juice\", \"tomato\", \"olive\", \"pork\", \"soy\", \"egg\", \"rice\", \"pepper\", \"ginger\", \"cream\", \"mushroom\", \"sugar\", \"salmon\", \"oil\", \"soup\", \"italian\", \"mustard\", \"vegetable\", \"potato\", \"bread\", \"chicken\", \"broth\", \"corn\", \"bean\", \"kernel\", \"bell\", \"corn\", \"garbanzo\", \"zucchini\", \"drained\", \"tortilla\", \"jalapeno\", \"chile\", \"squash\", \"cumin\", \"mexican\", \"tomato\", \"salsa\", \"cannellini\", \"lentil\", \"avocado\", \"husk\", \"orzo\", \"chili\", \"poblano\", \"couscous\", \"cob\", \"ditalini\", \"chilie\", \"mango\", \"refried\", \"fire\", \"lime\", \"oregano\", \"pepper\", \"onion\", \"garlic\", \"olive\", \"oil\", \"broth\", \"salt\", \"water\", \"vegetable\", \"sauce\", \"rice\", \"celery\", \"chicken\", \"basil\", \"cheese\", \"juice\", \"carrot\", \"beef\", \"sweet\", \"mozzarella\", \"balsamic\", \"pizza\", \"italian\", \"provolone\", \"spinach\", \"lasagna_noodle\", \"cottage\", \"cherry\", \"pepperoni\", \"portobello\", \"grape\", \"crumb\", \"ricotta\", \"basil\", \"fry\", \"herb\", \"spaghetti\", \"salad\", \"salami\", \"crouton\", \"cheese\", \"feta\", \"oregano\", \"olive\", \"marinated_artichoke\", \"dough\", \"loaf\", \"pasta\", \"colby\", \"french\", \"eggplant\", \"bread\", \"oil\", \"sausage\", \"garlic\", \"vinegar\", \"parsley\", \"tomato\", \"pepper\", \"salt\", \"wine\", \"mushroom\", \"egg\", \"onion\", \"sauce\", \"cream\", \"bacon\", \"shrimp\", \"butter\", \"beef\", \"water\", \"soup\", \"russet\", \"bouillon\", \"poultry\", \"chicken\", \"potato\", \"mushroom\", \"sage\", \"broth\", \"button\", \"giblet\", \"cream\", \"thyme\", \"gravy\", \"neck\", \"heavy_whipping\", \"wild\", \"bouillon_granule\", \"celery\", \"carrot\", \"sprig\", \"noodle\", \"shiitake\", \"dripping\", \"meat\", \"pea\", \"leek\", \"beef\", \"savory\", \"chive\", \"rosemary\", \"butter\", \"onion\", \"water\", \"flour\", \"salt\", \"pepper\", \"vegetable\", \"rice\", \"milk\", \"garlic\", \"cheese\", \"oil\", \"wine\", \"parsley\", \"pork\", \"sauce\", \"bread\", \"lemon\", \"dill\", \"salmon\", \"pickle\", \"juice\", \"mayonnaise\", \"dijon\", \"zest\", \"pickle_relish\", \"asparagus\", \"orange\", \"mustard\", \"skin\", \"angel_hair\", \"horseradish\", \"crabmeat\", \"plain_yogurt\", \"brussels_sprout\", \"mussel\", \"cocktail\", \"mint\", \"spear\", \"prawn\", \"clam\", \"cucumber\", \"seafood\", \"caper\", \"chardonnay\", \"paprika\", \"saltine_cracker\", \"garnish\", \"parsley\", \"panko\", \"sweet\", \"shrimp\", \"wine\", \"pepper\", \"salt\", \"olive\", \"shallot\", \"butter\", \"oil\", \"onion\", \"garlic\", \"celery\", \"bread\", \"egg\", \"potato\", \"vinegar\", \"lime\", \"sauce\", \"steak\", \"cheese\", \"cream\", \"vegetable\", \"ginger\", \"root\", \"soy\", \"sesame\", \"fish\", \"coconut\", \"turmeric\", \"asian\", \"peanut\", \"hoisin\", \"ramen_noodle\", \"unsweetened\", \"cardamom\", \"seaweed\", \"tamari\", \"curry\", \"seed\", \"sunflower\", \"tofu\", \"honey\", \"chinese\", \"rice\", \"coriander\", \"tamarind\", \"natural\", \"korean\", \"cashew\", \"cornstarch\", \"mirin_japanese\", \"wing\", \"vegetable\", \"sauce\", \"vinegar\", \"water\", \"paste\", \"oil\", \"noodle\", \"cabbage\", \"shrimp\", \"lime\", \"sugar\", \"onion\", \"garlic\", \"pepper\", \"pea\", \"salt\", \"wine\", \"milk\", \"baking\", \"cheddar\", \"yeast\", \"chip\", \"milk\", \"pie\", \"banana\", \"swiss\", \"walnut\", \"semisweet_chocolate\", \"flour\", \"american\", \"crust\", \"rolled_oat\", \"wheat\", \"breakfast\", \"rye\", \"confectioner\", \"raisin\", \"unbaked_pie\", \"syrup\", \"sugar\", \"cornmeal\", \"egg\", \"deli\", \"cinnamon\", \"cracker\", \"marshmallow\", \"margarine\", \"shortening\", \"brown\", \"butter\", \"bread\", \"cheese\", \"ranch\", \"salt\", \"apple\", \"peanut\", \"bacon\", \"water\", \"cream\", \"vegetable\", \"onion\", \"pepper\", \"potato\", \"oil\", \"mustard\", \"sausage\", \"worcestershire\", \"shoulder\", \"loin\", \"tenderloin\", \"roast\", \"pork\", \"liquid_smoke\", \"hamburger_bun\", \"mixture\", \"butt\", \"baby_back\", \"bun\", \"beer\", \"barbecue\", \"rib\", \"ketchup\", \"peppercorn\", \"quick\", \"belly\", \"brisket\", \"chipotle\", \"adobo\", \"spice\", \"based_curing\", \"tabasco\", \"cider\", \"dog\", \"glaze\", \"meatloaf\", \"roll\", \"bone\", \"sauce\", \"pineapple\", \"mustard\", \"pepper\", \"steak\", \"sugar\", \"cayenne\", \"salt\", \"vinegar\", \"onion\", \"dijon\", \"beef\", \"garlic\", \"soy\", \"apple\", \"water\", \"oil\", \"vegetable\", \"organic\", \"spectrum_natural\", \"veggie\", \"tender\", \"imagine\", \"cereal\", \"gourmet\", \"strawberry\", \"oven\", \"duty\", \"maraschino\", \"oat\", \"cool\", \"whip\", \"briquette\", \"charcoal\", \"kiwifruit\", \"soul\", \"calorie\", \"granular\", \"segment\", \"cantaloupe\", \"dip\", \"god\", \"traditional\", \"creamer\", \"aswad\", \"loomi\", \"flatbread\", \"hydrogenated\", \"sweeten\", \"greek\", \"pineapple\", \"orange\", \"twine\", \"kitchen\", \"cherry\", \"margarine\", \"ham\", \"shell\", \"cornflake\", \"golden\", \"blueberry\", \"neck\", \"bone\", \"giblet\", \"scallop\", \"banana\", \"apple\", \"dill\", \"unsweetened\"], \"Freq\": [1164.0, 649.0, 1491.0, 385.0, 466.0, 952.0, 419.0, 415.0, 614.0, 973.0, 246.0, 289.0, 485.0, 459.0, 3812.0, 187.0, 666.0, 485.0, 335.0, 202.0, 1908.0, 219.0, 334.0, 248.0, 624.0, 475.0, 410.0, 328.0, 320.0, 255.0, 407.17835027221685, 114.75998945561719, 147.84474533174065, 218.19632616236595, 23.987178439529625, 62.72481736341273, 55.568499691965016, 40.56414473675159, 70.55930991838501, 92.59158439757589, 21.867999233997033, 52.68728245451638, 25.09177442561431, 424.21419399051575, 13.635390253971964, 11.058158549781755, 29.91184909843745, 17.365018035994545, 8.012908786776409, 11.641313830858358, 28.576728920675354, 8.898844652177832, 11.741901389347671, 7.086071689336021, 6.013134128261642, 10.467034064048674, 8.528615578218405, 5.1833556944525085, 5.462501116249142, 61.00130251996171, 53.91015263848467, 1288.6667399698529, 724.9715928342689, 398.41219487770894, 277.2591972226192, 468.1546088827141, 98.20639343757776, 473.39598646316534, 203.7248819016058, 150.1248265741469, 223.86113652877572, 112.95709610099013, 87.28094360628313, 81.50792244681169, 74.59021601775775, 154.77383417656225, 83.15651314391975, 66.9826236178317, 77.03983989988862, 52.90012757489509, 63.64013189729898, 63.03383533525144, 24.92448558644593, 261.0061085191158, 16.564360139625425, 130.60690182608013, 15.911497933812285, 16.5207886322371, 41.2127139068298, 10.762945977902934, 12.9472567640527, 19.910886501246335, 74.27392764881849, 10.123690837576463, 200.61415302858137, 12.323960651568237, 20.813183144735973, 13.92482121989773, 72.55955579833352, 7.034331591913374, 11.058804580380825, 846.081676816082, 9.097837905472606, 66.5870885518994, 497.05161919702084, 5.4917317600255275, 7.259171266248194, 6.712072111657112, 31.84976449037019, 5.589168121995972, 24.70011801035692, 16.517421232209575, 164.27882306292955, 570.8998978497499, 64.56523173894878, 364.9795411496678, 132.78375937998783, 94.13076717894367, 179.9057746910191, 726.4659767070173, 506.6809544385422, 114.46686920881463, 128.45316253696214, 115.0901873960311, 331.08357342374035, 187.0196982342684, 125.84204282789582, 48.960394978739636, 52.96582700575824, 83.19284182422312, 60.19892600671586, 62.25481402924142, 213.71803541958747, 29.363381498559797, 28.57013040911328, 17.209883267561345, 231.06388083367858, 323.24727288664684, 318.69442610114606, 52.43640080699209, 208.0256530648023, 15.263646538581456, 11.682269257787654, 409.33783495521675, 148.63117961317516, 12.149811723454665, 11.092254591529908, 12.537918823894074, 18.800105848334695, 7.637300693763239, 201.49742839604366, 150.60791326989425, 25.755143952958036, 36.37229166042118, 12.42048192606258, 7.215817640764059, 17.510266840599265, 57.96244172079388, 9.48324557628855, 190.20962541436384, 5.561923551926418, 28.463343311198035, 43.30929000287244, 379.84035151106735, 706.6178989879429, 259.46481470240195, 198.67049717693826, 553.9234184606955, 703.2989655549027, 148.215020961688, 110.79613599031732, 105.7764724767082, 190.85632935536063, 157.97580831886984, 163.82271694768082, 69.53451052159924, 54.729548064143394, 45.58125928104585, 57.69998790411779, 38.789767331534385, 376.43996351142516, 66.55571019791488, 177.01877999341102, 27.1230594156092, 309.4255868873661, 112.49779565285556, 88.29062924168875, 12.906136041576215, 14.411905438052507, 15.59672788345675, 13.399209654536548, 148.75707858648784, 23.853909686714147, 7.236118380835073, 15.972948082870344, 12.170977955872544, 7.691025607008191, 4.754885624904303, 4.868790384702647, 7.3596396211273385, 18.635422309776352, 5.430168360935363, 3.9180626944811814, 10.514515007831152, 28.526677306074312, 5.050431124743138, 16.1957008614234, 3.43556721006416, 12.146146555460145, 7.957306385510425, 15.40067042807017, 88.94033640914986, 12.07556565804378, 57.756415067433664, 69.9821525921486, 92.20162217189421, 559.1099651657219, 384.2494716298203, 169.72414684645986, 26.812706270311935, 148.7197307513181, 215.34640076866953, 252.68650806396283, 159.90018253031874, 63.535386818410515, 62.982283418369704, 64.63170428745904, 57.3104878928685, 50.1968513852352, 26.43828061356422, 51.55835022523453, 21.191179287174794, 35.192681490051754, 28.490383514552196, 28.18707778513684, 177.3683561077698, 77.6996484775914, 253.676800407236, 51.08214396783502, 29.91024202223516, 52.052413907980174, 35.83794138970637, 13.575154283674022, 49.11362784455616, 8.766070880945685, 8.716453349290962, 12.529090871005746, 8.406577288439419, 7.495958362894808, 7.288501790964833, 33.490618600235436, 75.46887579106813, 11.142713862791252, 7.864591564490858, 41.36437676579347, 7.303987653344294, 229.49690998993643, 12.634893145187261, 5.123123446883251, 5.701052755054716, 6.333298395968925, 5.9937681954875455, 37.03747993039769, 4.550141830940197, 5.436397044424248, 233.11824406889068, 370.8138671290027, 117.90128869456963, 212.3262761753294, 32.55826046164156, 407.39572499186664, 24.7324877546865, 28.981655227831624, 61.701465812779944, 35.68014252353701, 66.76384506997819, 221.47860036962595, 133.21347841427084, 211.84276072390048, 28.667009119626147, 141.64913673361076, 52.39286936833781, 40.77527372056139, 86.11608771775852, 43.298864997386566, 20.30827971466528, 37.01634048331128, 313.77191297304944, 11.694319848604039, 16.714352773070978, 41.18869793724519, 41.51111675107729, 9.107763926708953, 396.685199638848, 15.677171380021269, 20.09905757190949, 7.426596252066717, 39.33241765825114, 8.010072249660949, 7.977886063815139, 6.399323360337065, 32.75043786563005, 7.975711285688146, 7.200124405728047, 169.1363777108747, 16.09861898108285, 240.62363046215208, 8.97591932884421, 20.927588629720706, 17.641771522750265, 4.746713174670697, 21.266618504973515, 4.43742949029195, 50.79248419829139, 298.07671109105434, 132.23021042660955, 294.71340504811803, 17.197097291292398, 261.94496001959646, 27.424966370599623, 21.92794625517721, 28.308730427632195, 72.96932691446503, 60.01322943999872, 44.93686969141226, 63.55068322840558, 72.22441978867252, 36.71375988946688, 44.47152658080893, 27.791294485249406, 20.879289459688632, 78.76302945783874, 29.3043583951875, 24.127822642979893, 19.247813383643404, 42.95841849404413, 184.18076792216914, 16.10122153550077, 16.64163622355424, 7.144282739872445, 6.609865533588038, 5.9067982237735315, 5.606316282438392, 22.37628874925307, 5.402458635225911, 13.499575962694225, 17.960958175522276, 6.949842407599928, 5.3880773646055244, 4.478257618346289, 6.194367608002587, 9.549167215721925, 13.487603551378967, 15.95936664414466, 3.765368463094116, 9.625480414123736, 30.109430466171183, 8.577305247216298, 4.003217243468015, 3.6443853016242196, 8.49127838357089, 18.184774892351765, 271.2825832705984, 11.891347350156735, 57.86555902824862, 250.47554161665482, 17.95220509402148, 45.39349193923081, 25.898845885806796, 120.77513694713018, 43.76745693722479, 112.17302002621686, 22.475842718077725, 39.32475078395963, 71.83821156053915, 30.054676488074588, 17.34329366706099, 37.773747027436755, 38.28866783705144, 18.039702080695122, 1.341723298717796, 1.070763484988519, 1.186063538691948, 0.9770554017198406, 0.819312490261682, 0.8985340588021239, 0.6068597077553928, 1.2780544459706342, 0.5939746589104756, 0.5384634214711963, 0.48008439983246093, 0.5368816453094959, 0.43923852102716954, 0.43923852102716954, 0.42229939545211415, 0.42229939545211415, 0.4222991051210983, 0.42221892097327174, 0.40083519705805776, 0.40083519705805776, 0.5324558920916375, 0.43755713493331067, 0.39341306939445936, 0.3925976615396358, 0.3925976615396358, 0.38561699538247163, 0.38951719667421986, 0.38951719667421986, 0.38312513706105833, 0.3762372184665875, 0.40083519705805776, 0.5653234745819146, 1.5251948697117115, 0.942723389585716, 0.45040064004923536, 0.45040064004923536, 1.32320609210306, 1.122837361562741, 0.8212520070223427, 0.8206349216450599, 0.4580371375774313, 0.5732749548685576, 0.5404755209858145, 0.5137181922672427, 0.6057835298608963, 0.4832972556410955, 0.491674783496605, 0.46361788036371965, 0.47677404558996483, 0.4678123717306049, 0.4587027346280864], \"Total\": [1164.0, 649.0, 1491.0, 385.0, 466.0, 952.0, 419.0, 415.0, 614.0, 973.0, 246.0, 289.0, 485.0, 459.0, 3812.0, 187.0, 666.0, 485.0, 335.0, 202.0, 1908.0, 219.0, 334.0, 248.0, 624.0, 475.0, 410.0, 328.0, 320.0, 255.0, 419.1003348917514, 121.20886011116123, 166.78744090413844, 255.32341368893432, 29.618035242519817, 77.61172945093112, 69.31314840659888, 51.59145997301597, 93.26722367264733, 122.48250992032686, 29.219636560329064, 71.3760857389457, 35.23084778303073, 614.835236826375, 20.08671971487006, 16.451676576530122, 49.150710641226645, 28.79508014024393, 13.598147356457101, 20.777818717637203, 51.52084075341695, 16.0623558387449, 21.588778718772254, 13.146901445976162, 11.454580266234071, 20.322540711393568, 16.880053827348547, 10.564787098452886, 11.142484790951345, 129.10307027203595, 126.90048377492899, 3812.2808988275315, 2412.7622940576052, 1320.8428516135218, 973.3421808579327, 1908.5927917521253, 320.73287478130214, 2442.8222880104363, 870.6113540811012, 624.93783815414, 1164.1557769148242, 459.22356444192593, 358.58684247581044, 328.93910491942785, 311.06326313993026, 1491.1146447549315, 415.156534094247, 269.83491630909856, 390.89106765870133, 195.22197197283418, 69.53623459951662, 70.65993708731907, 30.419478488253194, 334.1711059878782, 21.891139731833466, 173.96241812758575, 21.430771552672393, 24.32623760793536, 61.146317232979705, 16.13926478911873, 19.706433410857073, 30.38916455987964, 113.49420677133713, 15.614924818905607, 311.06326313993026, 19.179139368013498, 33.64381562490162, 22.56292373465636, 119.8707078118455, 12.311982264777553, 19.378346602186152, 1491.1146447549315, 16.299343752432573, 126.90048377492899, 973.3421808579327, 10.803257157712014, 14.345554767323605, 13.475383928522763, 64.02222681013643, 11.290338363346866, 52.86833653781829, 34.83526175949825, 410.8640409596418, 1908.5927917521253, 169.46557262105586, 1320.8428516135218, 413.4838758146455, 275.0917336101934, 614.835236826375, 3812.2808988275315, 2442.8222880104363, 395.06655610825266, 485.654159716917, 485.7605294139642, 2412.7622940576052, 1164.1557769148242, 666.8343458433072, 145.09740806072534, 262.02142146245063, 952.0299290227755, 390.89106765870133, 870.6113540811012, 219.51488080657552, 36.71388999286285, 39.74567545004549, 24.007200716448583, 328.93910491942785, 475.40659108441554, 485.654159716917, 79.9120937290965, 320.73287478130214, 24.229576787421877, 18.89229769148208, 666.8343458433072, 244.44377509679381, 20.33326397089358, 18.58341097371479, 21.144884154632052, 32.07437539639061, 13.37002871638494, 358.58684247581044, 269.83491630909856, 46.71770659856166, 68.22391930667898, 24.373657339040665, 14.170073770911198, 34.679558417780704, 115.49595530484396, 19.15383670766831, 390.89106765870133, 11.45111769892643, 59.07738764348558, 91.57178188435337, 952.0299290227755, 2412.7622940576052, 870.6113540811012, 649.0268748783596, 2442.8222880104363, 3812.2808988275315, 624.93783815414, 459.22356444192593, 466.1990624526811, 1320.8428516135218, 1491.1146447549315, 1908.5927917521253, 395.06655610825266, 275.0917336101934, 246.90131567350625, 1164.1557769148242, 410.8640409596418, 385.87547842513203, 72.71845474552673, 202.02768851645345, 33.82058972290904, 415.156534094247, 158.37746686337775, 128.34351955150834, 19.792483865272388, 22.60262262019081, 24.77937501279983, 22.010935550943827, 248.2129225171328, 42.53112568017129, 13.680628140615616, 30.566193486352308, 26.27587965952362, 17.243434966791884, 10.711612912232724, 11.124598928319633, 16.992958091834485, 43.128426040985175, 12.658132597243007, 9.399827312783751, 25.62598636603286, 70.60467556245266, 12.835564454307804, 41.789554365008165, 9.025661714426887, 32.480347225257866, 22.039399680622804, 42.73728554924146, 275.0917336101934, 33.72611664668912, 195.22197197283418, 262.02142146245063, 395.06655610825266, 3812.2808988275315, 2442.8222880104363, 973.3421808579327, 92.80200167357886, 952.0299290227755, 1908.5927917521253, 2412.7622940576052, 1320.8428516135218, 358.58684247581044, 410.8640409596418, 485.7605294139642, 475.40659108441554, 413.4838758146455, 129.10307027203595, 1164.1557769148242, 76.42984771756252, 1491.1146447549315, 666.8343458433072, 624.93783815414, 187.03165469911522, 84.57245267743984, 289.4340585929375, 58.9430408098631, 38.247509054598524, 75.87243427194825, 53.20362965529653, 20.172634570889716, 76.1866104289944, 14.227296924468002, 14.184935859056006, 21.008731499810228, 14.523387197680773, 12.957550393170564, 12.819984382316134, 59.50921123689182, 138.0727004881886, 20.55874329643721, 14.524579107512082, 82.34501147700695, 14.540272954477478, 459.22356444192593, 25.571645540880123, 10.560243136680787, 11.781728053003135, 13.107653575444287, 12.521227431430841, 77.88493001469794, 10.004961798600904, 12.146465914191996, 624.93783815414, 1164.1557769148242, 413.4838758146455, 870.6113540811012, 93.76004900494137, 1908.5927917521253, 68.22391930667898, 84.40359815781365, 262.02142146245063, 129.10307027203595, 335.78643421478927, 2412.7622940576052, 1320.8428516135218, 3812.2808988275315, 115.49595530484396, 2442.8222880104363, 395.06655610825266, 466.1990624526811, 91.81657234100474, 53.414474161431684, 26.563861017708017, 50.0626025766433, 466.1990624526811, 17.550288557812173, 25.524775753754398, 63.83378326315921, 65.21541555191402, 14.561131224641512, 649.0268748783596, 26.012081957173322, 34.93652135628764, 12.943898648318465, 70.16315769523375, 14.50094526485127, 14.55436541962608, 11.844127422475484, 62.28818049330936, 15.268291230541877, 14.261502117687158, 335.78643421478927, 32.08572562307198, 485.7605294139642, 18.29985675099343, 43.14490758218019, 36.56012853438398, 10.172786996533818, 45.76008994590526, 10.01716423502715, 126.98486083509648, 952.0299290227755, 410.8640409596418, 1491.1146447549315, 46.6556605678801, 2442.8222880104363, 98.90583061950821, 76.1866104289944, 145.09740806072534, 870.6113540811012, 666.8343458433072, 624.93783815414, 2412.7622940576052, 3812.2808988275315, 475.40659108441554, 1908.5927917521253, 248.2129225171328, 169.46557262105586, 92.33702617846372, 35.203270822999144, 30.013308110122807, 24.90366897617549, 56.76156864503367, 246.90131567350625, 21.692316458507705, 23.18716975724399, 12.9415135424283, 12.119759510040451, 11.32712041940535, 11.169054643572114, 45.021089421303806, 10.97419529846345, 27.718900478455208, 37.29858779046437, 14.695096709110256, 12.232835300484826, 10.25521134794342, 14.22422303140065, 22.0961631803588, 31.917290959263745, 37.97691525598372, 9.237006920405175, 23.796033998655382, 74.7116785544543, 21.385323824723592, 10.25924432176041, 9.664567953803706, 22.64072145828774, 55.182397599102224, 1164.1557769148242, 34.99164563081453, 248.2129225171328, 3812.2808988275315, 76.42984771756252, 335.78643421478927, 157.9069464078515, 2442.8222880104363, 413.4838758146455, 2412.7622940576052, 128.34351955150834, 390.89106765870133, 1320.8428516135218, 289.4340585929375, 98.90583061950821, 870.6113540811012, 1908.5927917521253, 624.93783815414, 8.620734589678193, 8.114794651458514, 9.37800417541796, 8.13793873932644, 7.009403626044868, 9.77968864146497, 6.764060528269101, 14.318364350867121, 6.772478173394022, 7.295670200453502, 6.531811072378132, 7.362144827875312, 6.527750649196292, 6.527750649196292, 6.462132885278706, 6.462132885278706, 6.46213259494769, 6.640256308816916, 6.440668686884649, 6.440668686884649, 8.568672709657374, 7.138007642480973, 6.515819674525022, 6.51178301252682, 6.51178301252682, 6.425716431400141, 6.52490113679659, 6.52490113679659, 6.554489971042414, 6.571204119782931, 7.021533854632807, 10.178665979565237, 34.99164563081453, 22.010935550943827, 8.01537703951655, 8.164370129107352, 61.146317232979705, 45.76008994590526, 25.55822321426865, 28.614949625742288, 9.858353344716425, 21.969734147353943, 19.576757341354078, 18.58341097371479, 55.182397599102224, 18.89229769148208, 23.456137818466296, 25.524775753754398, 98.90583061950821, 72.71845474552673, 21.008731499810228], \"Category\": [\"Default\", \"Default\", \"Default\", \"Default\", \"Default\", \"Default\", \"Default\", \"Default\", \"Default\", \"Default\", \"Default\", \"Default\", \"Default\", \"Default\", \"Default\", \"Default\", \"Default\", \"Default\", \"Default\", \"Default\", \"Default\", \"Default\", \"Default\", \"Default\", \"Default\", \"Default\", \"Default\", \"Default\", \"Default\", \"Default\", \"Topic1\", \"Topic1\", \"Topic1\", \"Topic1\", \"Topic1\", \"Topic1\", \"Topic1\", \"Topic1\", \"Topic1\", \"Topic1\", \"Topic1\", \"Topic1\", \"Topic1\", \"Topic1\", \"Topic1\", \"Topic1\", \"Topic1\", \"Topic1\", \"Topic1\", \"Topic1\", \"Topic1\", \"Topic1\", \"Topic1\", \"Topic1\", \"Topic1\", \"Topic1\", \"Topic1\", \"Topic1\", \"Topic1\", \"Topic1\", \"Topic1\", \"Topic1\", \"Topic1\", \"Topic1\", \"Topic1\", \"Topic1\", \"Topic1\", \"Topic1\", \"Topic1\", \"Topic1\", \"Topic1\", \"Topic1\", \"Topic1\", \"Topic1\", \"Topic1\", \"Topic1\", \"Topic1\", \"Topic1\", \"Topic1\", \"Topic1\", \"Topic2\", \"Topic2\", \"Topic2\", \"Topic2\", \"Topic2\", \"Topic2\", \"Topic2\", \"Topic2\", \"Topic2\", \"Topic2\", \"Topic2\", \"Topic2\", \"Topic2\", \"Topic2\", \"Topic2\", \"Topic2\", \"Topic2\", \"Topic2\", \"Topic2\", \"Topic2\", \"Topic2\", \"Topic2\", \"Topic2\", \"Topic2\", \"Topic2\", \"Topic2\", \"Topic2\", \"Topic2\", \"Topic2\", \"Topic2\", \"Topic2\", \"Topic2\", \"Topic2\", \"Topic2\", \"Topic2\", \"Topic2\", \"Topic2\", \"Topic2\", \"Topic2\", \"Topic2\", \"Topic2\", \"Topic2\", \"Topic2\", \"Topic2\", \"Topic2\", \"Topic2\", \"Topic2\", \"Topic2\", \"Topic2\", \"Topic2\", \"Topic2\", \"Topic2\", \"Topic3\", \"Topic3\", \"Topic3\", \"Topic3\", \"Topic3\", \"Topic3\", \"Topic3\", \"Topic3\", \"Topic3\", \"Topic3\", \"Topic3\", \"Topic3\", \"Topic3\", \"Topic3\", \"Topic3\", \"Topic3\", \"Topic3\", \"Topic3\", \"Topic3\", \"Topic3\", \"Topic3\", \"Topic3\", \"Topic3\", \"Topic3\", \"Topic3\", \"Topic3\", \"Topic3\", \"Topic3\", \"Topic3\", \"Topic3\", \"Topic3\", \"Topic3\", \"Topic3\", \"Topic3\", \"Topic3\", \"Topic3\", \"Topic3\", \"Topic3\", \"Topic3\", \"Topic3\", \"Topic3\", \"Topic3\", \"Topic3\", \"Topic3\", \"Topic3\", \"Topic3\", \"Topic3\", \"Topic3\", \"Topic4\", \"Topic4\", \"Topic4\", \"Topic4\", \"Topic4\", \"Topic4\", \"Topic4\", \"Topic4\", \"Topic4\", \"Topic4\", \"Topic4\", \"Topic4\", \"Topic4\", \"Topic4\", \"Topic4\", \"Topic4\", \"Topic4\", \"Topic4\", \"Topic4\", \"Topic4\", \"Topic4\", \"Topic4\", \"Topic4\", \"Topic4\", \"Topic4\", \"Topic4\", \"Topic4\", \"Topic4\", \"Topic4\", \"Topic4\", \"Topic4\", \"Topic4\", \"Topic4\", \"Topic4\", \"Topic4\", \"Topic4\", \"Topic4\", \"Topic4\", \"Topic4\", \"Topic4\", \"Topic4\", \"Topic4\", \"Topic4\", \"Topic4\", \"Topic4\", \"Topic4\", \"Topic4\", \"Topic4\", \"Topic4\", \"Topic4\", \"Topic4\", \"Topic4\", \"Topic4\", \"Topic4\", \"Topic4\", \"Topic5\", \"Topic5\", \"Topic5\", \"Topic5\", \"Topic5\", \"Topic5\", \"Topic5\", \"Topic5\", \"Topic5\", \"Topic5\", \"Topic5\", \"Topic5\", \"Topic5\", \"Topic5\", \"Topic5\", \"Topic5\", \"Topic5\", \"Topic5\", \"Topic5\", \"Topic5\", \"Topic5\", \"Topic5\", \"Topic5\", \"Topic5\", \"Topic5\", \"Topic5\", \"Topic5\", \"Topic5\", \"Topic5\", \"Topic5\", \"Topic5\", \"Topic5\", \"Topic5\", \"Topic5\", \"Topic5\", \"Topic5\", \"Topic5\", \"Topic5\", \"Topic5\", \"Topic5\", \"Topic5\", \"Topic5\", \"Topic5\", \"Topic5\", \"Topic5\", \"Topic5\", \"Topic5\", \"Topic5\", \"Topic6\", \"Topic6\", \"Topic6\", \"Topic6\", \"Topic6\", \"Topic6\", \"Topic6\", \"Topic6\", \"Topic6\", \"Topic6\", \"Topic6\", \"Topic6\", \"Topic6\", \"Topic6\", \"Topic6\", \"Topic6\", \"Topic6\", \"Topic6\", \"Topic6\", \"Topic6\", \"Topic6\", \"Topic6\", \"Topic6\", \"Topic6\", \"Topic6\", \"Topic6\", \"Topic6\", \"Topic6\", \"Topic6\", \"Topic6\", \"Topic6\", \"Topic6\", \"Topic6\", \"Topic6\", \"Topic6\", \"Topic6\", \"Topic6\", \"Topic6\", \"Topic6\", \"Topic6\", \"Topic6\", \"Topic6\", \"Topic6\", \"Topic6\", \"Topic6\", \"Topic6\", \"Topic6\", \"Topic6\", \"Topic7\", \"Topic7\", \"Topic7\", \"Topic7\", \"Topic7\", \"Topic7\", \"Topic7\", \"Topic7\", \"Topic7\", \"Topic7\", \"Topic7\", \"Topic7\", \"Topic7\", \"Topic7\", \"Topic7\", \"Topic7\", \"Topic7\", \"Topic7\", \"Topic7\", \"Topic7\", \"Topic7\", \"Topic7\", \"Topic7\", \"Topic7\", \"Topic7\", \"Topic7\", \"Topic7\", \"Topic7\", \"Topic7\", \"Topic7\", \"Topic7\", \"Topic7\", \"Topic7\", \"Topic7\", \"Topic7\", \"Topic7\", \"Topic7\", \"Topic7\", \"Topic7\", \"Topic7\", \"Topic7\", \"Topic7\", \"Topic7\", \"Topic7\", \"Topic7\", \"Topic7\", \"Topic7\", \"Topic7\", \"Topic7\", \"Topic8\", \"Topic8\", \"Topic8\", \"Topic8\", \"Topic8\", \"Topic8\", \"Topic8\", \"Topic8\", \"Topic8\", \"Topic8\", \"Topic8\", \"Topic8\", \"Topic8\", \"Topic8\", \"Topic8\", \"Topic8\", \"Topic8\", \"Topic8\", \"Topic8\", \"Topic8\", \"Topic8\", \"Topic8\", \"Topic8\", \"Topic8\", \"Topic8\", \"Topic8\", \"Topic8\", \"Topic8\", \"Topic8\", \"Topic8\", \"Topic8\", \"Topic8\", \"Topic8\", \"Topic8\", \"Topic8\", \"Topic8\", \"Topic8\", \"Topic8\", \"Topic8\", \"Topic8\", \"Topic8\", \"Topic8\", \"Topic8\", \"Topic8\", \"Topic8\", \"Topic8\", \"Topic8\", \"Topic8\", \"Topic8\", \"Topic8\", \"Topic8\"], \"logprob\": [30.0, 29.0, 28.0, 27.0, 26.0, 25.0, 24.0, 23.0, 22.0, 21.0, 20.0, 19.0, 18.0, 17.0, 16.0, 15.0, 14.0, 13.0, 12.0, 11.0, 10.0, 9.0, 8.0, 7.0, 6.0, 5.0, 4.0, 3.0, 2.0, 1.0, -3.1271, -4.3935, -4.1402, -3.751, -5.9589, -4.9976, -5.1188, -5.4335, -4.8799, -4.6082, -6.0514, -5.172, -5.9138, -3.0861, -6.5237, -6.7332, -5.7381, -6.2819, -7.0553, -6.6818, -5.7838, -6.9505, -6.6732, -7.1782, -7.3424, -6.7881, -6.993, -7.4909, -7.4385, -5.0255, -5.1491, -1.975, -2.5502, -3.1489, -3.5114, -2.9876, -4.5493, -2.9764, -3.8196, -4.1249, -3.7254, -4.4094, -4.6672, -4.7357, -4.8244, -4.0944, -4.7157, -4.9319, -4.7921, -5.168, -4.9085, -4.9181, -5.8459, -3.4972, -6.2545, -4.1895, -6.2947, -6.2571, -5.343, -6.6856, -6.5009, -6.0705, -4.754, -6.7469, -3.7604, -6.5502, -6.0262, -6.4281, -4.7773, -7.1109, -6.6585, -2.3211, -6.8537, -4.8632, -2.853, -7.3585, -7.0795, -7.1578, -5.6007, -7.3409, -5.8549, -6.2573, -3.9602, -2.7145, -4.8941, -3.1619, -4.173, -4.5171, -3.8693, -2.4735, -2.8339, -4.3215, -4.2062, -4.316, -3.2594, -3.8305, -4.2267, -5.1707, -5.0921, -4.6406, -4.9641, -4.9305, -3.6906, -5.6755, -5.7029, -6.2097, -3.6125, -3.2768, -3.291, -5.0956, -3.7176, -6.3298, -6.5972, -3.0407, -4.0538, -6.5579, -6.649, -6.5265, -6.1214, -7.0222, -3.7495, -4.0406, -5.8066, -5.4614, -6.5359, -7.079, -6.1924, -4.9954, -6.8057, -3.8071, -7.3393, -5.7066, -5.2869, -3.1155, -2.4947, -3.4966, -3.7636, -2.7382, -2.4995, -4.0566, -4.3475, -4.3939, -3.8037, -3.9928, -3.9564, -4.8134, -5.0528, -5.2357, -5.0, -5.3971, -2.7228, -4.4555, -3.4773, -5.3532, -2.9188, -3.9306, -4.1729, -6.0959, -5.9855, -5.9065, -6.0584, -3.6512, -5.4816, -6.6745, -5.8827, -6.1545, -6.6135, -7.0944, -7.0707, -6.6575, -5.7285, -6.9616, -7.288, -6.3008, -5.3027, -7.0341, -5.8688, -7.4194, -6.1565, -6.5795, -5.9191, -4.1656, -6.1624, -4.5973, -4.4053, -4.1296, -2.3272, -2.7023, -3.5194, -5.3647, -3.6515, -3.2813, -3.1214, -3.579, -4.502, -4.5107, -4.4849, -4.6051, -4.7376, -5.3787, -4.7108, -5.6, -5.0927, -5.304, -5.3147, -3.4145, -4.2398, -3.0566, -4.6593, -5.1945, -4.6404, -5.0137, -5.9844, -4.6985, -6.4218, -6.4275, -6.0646, -6.4637, -6.5783, -6.6064, -5.0814, -4.269, -6.1819, -6.5303, -4.8703, -6.6043, -3.1568, -6.0562, -6.9589, -6.852, -6.7469, -6.802, -4.9808, -7.0775, -6.8996, -3.1411, -2.677, -3.8228, -3.2346, -5.1097, -2.5829, -5.3846, -5.226, -4.4704, -5.0181, -4.3915, -3.1924, -3.7007, -3.2368, -5.2369, -3.6393, -4.6339, -4.8846, -3.9686, -4.6562, -5.4133, -4.8129, -2.6756, -5.9652, -5.608, -4.7061, -4.6983, -6.2152, -2.4411, -5.6721, -5.4236, -6.4192, -4.7522, -6.3436, -6.3476, -6.5681, -4.9354, -6.3479, -6.4502, -3.2936, -5.6456, -2.9411, -6.2297, -5.3832, -5.554, -6.8668, -5.3671, -6.9342, -4.4965, -2.7269, -3.5397, -2.7383, -5.5795, -2.8562, -5.1128, -5.3365, -5.0811, -4.1342, -4.3297, -4.619, -4.2724, -4.1445, -4.8211, -4.6294, -5.0996, -5.3855, -3.6489, -4.6376, -4.8319, -5.0579, -4.2551, -2.7994, -5.2364, -5.2034, -6.049, -6.1267, -6.2392, -6.2914, -4.9073, -6.3284, -5.4126, -5.1271, -6.0766, -6.3311, -6.5161, -6.1917, -5.7588, -5.4135, -5.2453, -6.6895, -5.7509, -4.6105, -5.8662, -6.6282, -6.7221, -5.8763, -5.1147, -2.4121, -5.5395, -3.9572, -2.4919, -5.1276, -4.1999, -4.7611, -3.2214, -4.2364, -3.2953, -4.9029, -4.3434, -3.7409, -4.6123, -5.1621, -4.3837, -4.3701, -5.1227, -5.1298, -5.3553, -5.2531, -5.4469, -5.623, -5.5307, -5.9232, -5.1784, -5.9446, -6.0428, -6.1575, -6.0457, -6.2464, -6.2464, -6.2858, -6.2858, -6.2858, -6.2859, -6.3379, -6.3379, -6.054, -6.2503, -6.3566, -6.3587, -6.3587, -6.3766, -6.3666, -6.3666, -6.3831, -6.4013, -6.3379, -5.9941, -5.0016, -5.4827, -6.2213, -6.2213, -5.1437, -5.3079, -5.6206, -5.6214, -6.2045, -5.9801, -6.039, -6.0898, -5.925, -6.1508, -6.1337, -6.1924, -6.1644, -6.1834, -6.2031], \"loglift\": [30.0, 29.0, 28.0, 27.0, 26.0, 25.0, 24.0, 23.0, 22.0, 21.0, 20.0, 19.0, 18.0, 17.0, 16.0, 15.0, 14.0, 13.0, 12.0, 11.0, 10.0, 9.0, 8.0, 7.0, 6.0, 5.0, 4.0, 3.0, 2.0, 1.0, 1.5581, 1.5323, 1.4664, 1.4298, 1.3761, 1.374, 1.3659, 1.3465, 1.3079, 1.3072, 1.2971, 1.2833, 1.2476, 1.2158, 1.1995, 1.1897, 1.0903, 1.0812, 1.0581, 1.0076, 0.9975, 0.9964, 0.9779, 0.9689, 0.9425, 0.9234, 0.9042, 0.8749, 0.8741, 0.8372, 0.7308, 0.5023, 0.3845, 0.3884, 0.3312, 0.1816, 0.4034, -0.054, 0.1345, 0.1607, -0.0618, 0.1844, 0.1739, 0.1918, 0.1589, -0.6784, -0.021, 0.1936, -0.0372, 0.2812, 1.573, 1.5474, 1.4623, 1.4145, 1.3827, 1.3749, 1.3638, 1.2746, 1.2671, 1.2564, 1.2415, 1.2388, 1.2376, 1.2282, 1.223, 1.2193, 1.1813, 1.1789, 1.1596, 1.1018, 1.1006, 1.0949, 1.0785, 1.0167, 0.9895, 0.985, 0.9804, 0.9646, 0.9634, 0.9585, 0.9006, 0.9154, 0.7449, 0.4547, 0.6966, 0.3754, 0.5257, 0.5892, 0.4327, 0.0038, 0.0885, 0.4228, 0.3316, 0.2216, -0.3246, -0.167, -0.0059, 0.5752, 0.0628, -0.7759, -0.2092, -0.9764, 1.6413, 1.4447, 1.3379, 1.3352, 1.3149, 1.2823, 1.2468, 1.2468, 1.2351, 1.206, 1.1874, 1.1801, 1.1706, 1.1531, 1.1521, 1.1454, 1.1339, 1.1081, 1.0917, 1.0849, 1.0726, 1.0391, 0.9939, 0.9932, 0.9847, 0.9786, 0.9651, 0.9478, 0.9459, 0.9378, 0.9193, 0.7492, 0.44, 0.4575, 0.4843, 0.1842, -0.0221, 0.2291, 0.2462, 0.1848, -0.2664, -0.5768, -0.7873, -0.0692, 0.0534, -0.0214, -1.3364, -0.692, 2.045, 1.9812, 1.9376, 1.8491, 1.7758, 1.7277, 1.6957, 1.6422, 1.6197, 1.6068, 1.5734, 1.5578, 1.4915, 1.4329, 1.4208, 1.3002, 1.2624, 1.2576, 1.2434, 1.233, 1.2306, 1.2234, 1.1947, 1.1789, 1.1635, 1.137, 1.1219, 1.1039, 1.0861, 1.051, 1.0491, 0.9406, 1.0427, 0.8519, 0.7496, 0.6147, 0.1501, 0.2201, 0.3232, 0.8282, 0.2132, -0.1121, -0.1866, -0.0417, 0.3392, 0.1943, 0.0527, -0.0459, -0.0389, 0.484, -1.0473, 0.787, -1.6767, -1.0832, -1.029, 2.0776, 2.0459, 1.9988, 1.9875, 1.8847, 1.7538, 1.7355, 1.7345, 1.6916, 1.6464, 1.6437, 1.6137, 1.5839, 1.5833, 1.5659, 1.5558, 1.5266, 1.5181, 1.5172, 1.4421, 1.4421, 1.437, 1.4256, 1.4073, 1.4047, 1.4033, 1.3939, 1.3873, 1.3427, 1.3267, 1.1445, 0.9866, 0.8759, 0.7196, 1.0729, 0.5863, 1.1159, 1.0617, 0.6845, 0.8446, 0.5153, -0.2576, -0.1634, -0.7595, 0.7371, -0.7169, 0.1103, -0.3059, 2.2349, 2.0891, 2.0305, 1.9971, 1.9031, 1.8931, 1.8756, 1.8609, 1.8473, 1.8298, 1.8067, 1.7927, 1.7462, 1.7435, 1.7203, 1.7055, 1.6978, 1.6834, 1.6562, 1.6496, 1.6156, 1.6133, 1.6093, 1.5965, 1.5867, 1.5755, 1.5703, 1.5368, 1.5328, 1.4848, 1.3827, 1.1378, 1.1653, 0.6777, 1.301, 0.0663, 1.0163, 1.0536, 0.6648, -0.1801, -0.109, -0.3334, -1.3377, -1.6672, -0.262, -1.4602, 0.1095, 0.2051, 2.549, 2.5246, 2.4897, 2.4504, 2.4294, 2.4149, 2.41, 2.3763, 2.1139, 2.1017, 2.0569, 2.0188, 2.0089, 1.9993, 1.9886, 1.9773, 1.9592, 1.8881, 1.8795, 1.8767, 1.8691, 1.8466, 1.8411, 1.8106, 1.8029, 1.7992, 1.7944, 1.7669, 1.7327, 1.7273, 1.598, 1.2514, 1.6287, 1.2518, -0.0146, 1.2594, 0.7069, 0.9002, -0.299, 0.4623, -0.3605, 0.9657, 0.4114, -0.2036, 0.4431, 0.9671, -0.4296, -1.201, -0.8371, 3.4394, 3.2743, 3.2319, 3.1798, 3.1531, 2.9123, 2.8885, 2.8834, 2.8658, 2.6933, 2.6891, 2.6813, 2.6008, 2.6008, 2.5716, 2.5716, 2.5716, 2.5442, 2.5228, 2.5228, 2.5212, 2.5076, 2.4925, 2.491, 2.491, 2.4864, 2.4811, 2.4811, 2.46, 2.4394, 2.4364, 2.4089, 2.1666, 2.1491, 2.4206, 2.4022, 1.4664, 1.592, 1.8617, 1.748, 2.2305, 1.6535, 1.7099, 1.7112, 0.7877, 1.6337, 1.4345, 1.2912, -0.0353, 0.2533, 1.4753]}, \"token.table\": {\"Topic\": [1, 2, 3, 4, 5, 6, 7, 1, 2, 3, 4, 5, 6, 7, 1, 2, 3, 4, 5, 6, 7, 1, 2, 3, 4, 5, 6, 7, 1, 2, 3, 4, 5, 6, 7, 1, 2, 3, 4, 5, 6, 7, 1, 2, 3, 4, 5, 6, 7, 1, 2, 3, 4, 5, 6, 7, 1, 2, 3, 4, 5, 6, 7, 1, 2, 3, 4, 5, 6, 7, 1, 2, 3, 4, 5, 6, 7, 1, 2, 3, 4, 5, 6, 7, 1, 2, 3, 4, 5, 6, 7, 1, 2, 3, 4, 5, 6, 7, 1, 2, 3, 4, 5, 6, 7, 1, 2, 3, 4, 5, 6, 7, 1, 2, 3, 4, 5, 6, 7, 1, 2, 3, 4, 5, 6, 7, 1, 2, 3, 4, 5, 6, 7, 1, 2, 3, 4, 5, 6, 7, 1, 2, 3, 4, 5, 6, 7, 1, 2, 3, 4, 5, 6, 7, 8, 1, 2, 3, 4, 5, 6, 7, 8, 1, 2, 3, 4, 5, 6, 7, 1, 2, 3, 4, 5, 6, 7, 1, 2, 3, 4, 5, 6, 7, 1, 2, 3, 4, 5, 6, 7, 1, 2, 3, 4, 5, 6, 7, 1, 2, 3, 4, 5, 6, 7, 1, 2, 3, 4, 5, 6, 7, 1, 2, 3, 4, 5, 6, 7, 1, 2, 3, 4, 5, 6, 7, 1, 2, 3, 4, 5, 6, 7, 1, 2, 3, 4, 5, 6, 7, 1, 2, 3, 4, 5, 6, 7, 1, 2, 3, 4, 5, 6, 7, 1, 2, 3, 4, 5, 6, 7, 1, 2, 3, 4, 5, 6, 7, 1, 2, 3, 4, 5, 6, 7, 1, 2, 3, 4, 5, 6, 7, 1, 2, 3, 4, 5, 6, 7, 1, 2, 3, 4, 5, 6, 7, 1, 2, 3, 4, 5, 6, 7, 1, 2, 3, 4, 5, 6, 7, 1, 2, 3, 4, 5, 6, 7, 1, 2, 3, 4, 5, 6, 7, 1, 2, 3, 4, 5, 6, 7, 8, 1, 2, 3, 4, 5, 6, 7, 1, 2, 3, 4, 5, 6, 7, 1, 2, 3, 4, 5, 6, 7, 1, 2, 3, 4, 5, 6, 7, 1, 2, 3, 4, 5, 6, 7, 8, 1, 2, 3, 4, 5, 6, 7, 1, 2, 3, 4, 5, 6, 7, 1, 2, 3, 4, 5, 6, 7, 1, 2, 3, 4, 5, 6, 7, 1, 2, 3, 4, 5, 6, 7, 1, 2, 3, 4, 5, 6, 7, 1, 2, 3, 4, 5, 6, 7, 1, 2, 3, 4, 5, 6, 7, 1, 2, 3, 4, 5, 6, 7, 1, 2, 3, 4, 5, 6, 7, 1, 2, 3, 4, 5, 6, 7, 1, 2, 3, 4, 5, 6, 7, 1, 2, 3, 4, 5, 6, 7, 1, 2, 3, 4, 5, 6, 7, 1, 2, 3, 4, 5, 6, 7, 1, 2, 3, 4, 5, 6, 7, 1, 2, 3, 4, 5, 6, 7, 1, 2, 3, 4, 5, 6, 7, 1, 2, 3, 4, 5, 6, 7, 1, 2, 3, 4, 5, 6, 7, 1, 2, 3, 4, 5, 6, 7, 1, 2, 3, 4, 5, 6, 7, 1, 2, 3, 4, 5, 6, 7, 1, 2, 3, 4, 5, 6, 7, 1, 2, 3, 4, 5, 6, 7, 1, 2, 3, 4, 5, 6, 7, 1, 2, 3, 4, 5, 6, 7, 1, 2, 3, 4, 5, 6, 7, 1, 2, 3, 4, 5, 6, 7, 1, 2, 3, 4, 5, 6, 7, 1, 2, 3, 4, 5, 6, 7, 1, 2, 3, 4, 5, 6, 7, 1, 2, 3, 4, 5, 6, 7, 1, 2, 3, 4, 5, 6, 7, 1, 2, 3, 4, 5, 6, 7, 1, 2, 3, 4, 5, 6, 7, 1, 2, 3, 4, 5, 6, 7, 1, 2, 3, 4, 5, 6, 7, 1, 2, 3, 4, 5, 6, 7, 1, 2, 3, 4, 5, 6, 7, 1, 2, 3, 4, 5, 6, 7, 1, 2, 3, 4, 5, 6, 7, 1, 2, 3, 4, 5, 6, 7, 1, 2, 3, 4, 5, 6, 7, 8, 1, 2, 3, 4, 5, 6, 7, 1, 2, 3, 4, 5, 6, 7, 1, 2, 3, 4, 5, 6, 7, 1, 2, 3, 4, 5, 6, 7, 1, 2, 3, 4, 5, 6, 7, 1, 2, 3, 4, 5, 6, 7, 1, 2, 3, 4, 5, 6, 7, 1, 2, 3, 4, 5, 6, 7, 1, 2, 3, 4, 5, 6, 7, 1, 2, 3, 4, 5, 6, 7, 1, 2, 3, 4, 5, 6, 7, 1, 2, 3, 4, 5, 6, 7, 1, 2, 3, 4, 5, 6, 7, 1, 2, 3, 4, 5, 6, 7, 1, 2, 3, 4, 5, 6, 7, 1, 2, 3, 4, 5, 6, 7, 1, 2, 3, 4, 5, 6, 7, 8, 1, 2, 3, 4, 5, 6, 7, 8, 1, 2, 3, 4, 5, 6, 7, 1, 2, 3, 4, 5, 6, 7, 1, 2, 3, 4, 5, 6, 7, 1, 2, 3, 4, 5, 6, 7, 8, 1, 2, 3, 4, 5, 6, 7, 8, 1, 2, 3, 4, 5, 6, 7, 1, 2, 3, 4, 5, 6, 7, 1, 2, 3, 4, 5, 6, 7, 1, 2, 3, 4, 5, 6, 7, 1, 2, 3, 4, 5, 6, 7, 1, 2, 3, 4, 5, 6, 7, 1, 2, 3, 4, 5, 6, 7, 1, 2, 3, 4, 5, 6, 7, 1, 2, 3, 4, 5, 6, 7, 8, 1, 2, 3, 4, 5, 6, 7, 1, 2, 3, 4, 5, 6, 7, 1, 2, 3, 4, 5, 6, 7, 1, 2, 3, 4, 5, 6, 7, 1, 2, 3, 4, 5, 6, 7, 1, 2, 3, 4, 5, 6, 7, 1, 2, 3, 4, 5, 6, 7, 1, 2, 3, 4, 5, 6, 7, 1, 2, 3, 4, 5, 6, 7, 1, 2, 3, 4, 5, 6, 7, 1, 2, 3, 4, 5, 6, 7, 1, 2, 3, 4, 5, 6, 7, 1, 2, 3, 4, 5, 6, 7, 1, 2, 3, 4, 5, 6, 7, 1, 2, 3, 4, 5, 6, 7, 1, 2, 3, 4, 5, 6, 7, 1, 2, 3, 4, 5, 6, 7, 1, 2, 3, 4, 5, 6, 7, 1, 2, 3, 4, 5, 6, 7, 1, 2, 3, 4, 5, 6, 7, 8, 1, 2, 3, 4, 5, 6, 7, 1, 2, 3, 4, 5, 6, 7, 1, 2, 3, 4, 5, 6, 7, 1, 2, 3, 4, 5, 6, 7, 1, 2, 3, 4, 5, 6, 7, 1, 2, 3, 4, 5, 6, 7, 1, 2, 3, 4, 5, 6, 7, 1, 2, 3, 4, 5, 6, 7, 1, 2, 3, 4, 5, 6, 7, 1, 2, 3, 4, 5, 6, 7, 1, 2, 3, 4, 5, 6, 7, 1, 2, 3, 4, 5, 6, 7, 1, 2, 3, 4, 5, 6, 7, 1, 2, 3, 4, 5, 6, 7, 1, 2, 3, 4, 5, 6, 7, 1, 2, 3, 4, 5, 6, 7, 8, 1, 2, 3, 4, 5, 6, 7, 1, 2, 3, 4, 5, 6, 7, 8, 1, 2, 3, 4, 5, 6, 7, 1, 2, 3, 4, 5, 6, 7, 1, 2, 3, 4, 5, 6, 7, 1, 2, 3, 4, 5, 6, 7, 8, 1, 2, 3, 4, 5, 6, 7, 1, 2, 3, 4, 5, 6, 7, 8, 1, 2, 3, 4, 5, 6, 7, 1, 2, 3, 4, 5, 6, 7, 8, 1, 2, 3, 4, 5, 6, 7, 1, 2, 3, 4, 5, 6, 7, 1, 2, 3, 4, 5, 6, 7, 1, 2, 3, 4, 5, 6, 7, 1, 2, 3, 4, 5, 6, 7, 1, 2, 3, 4, 5, 6, 7, 1, 2, 3, 4, 5, 6, 7, 1, 2, 3, 4, 5, 6, 7, 1, 2, 3, 4, 5, 6, 7, 1, 2, 3, 4, 5, 6, 7, 1, 2, 3, 4, 5, 6, 7, 1, 2, 3, 4, 5, 6, 7, 1, 2, 3, 4, 5, 6, 7, 1, 2, 3, 4, 5, 6, 7, 8, 1, 2, 3, 4, 5, 6, 7, 1, 2, 3, 4, 5, 6, 7, 1, 2, 3, 4, 5, 6, 7, 1, 2, 3, 4, 5, 6, 7, 1, 2, 3, 4, 5, 6, 7, 1, 2, 3, 4, 5, 6, 7, 1, 2, 3, 4, 5, 6, 7, 1, 2, 3, 4, 5, 6, 7, 1, 2, 3, 4, 5, 6, 7, 1, 2, 3, 4, 5, 6, 7, 1, 2, 3, 4, 5, 6, 7, 1, 2, 3, 4, 5, 6, 7, 1, 2, 3, 4, 5, 6, 7, 1, 2, 3, 4, 5, 6, 7, 1, 2, 3, 4, 5, 6, 7, 1, 2, 3, 4, 5, 6, 7, 1, 2, 3, 4, 5, 6, 7, 1, 2, 3, 4, 5, 6, 7, 1, 2, 3, 4, 5, 6, 7, 1, 2, 3, 4, 5, 6, 7, 1, 2, 3, 4, 5, 6, 7, 1, 2, 3, 4, 5, 6, 7, 1, 2, 3, 4, 5, 6, 7, 1, 2, 3, 4, 5, 6, 7, 1, 2, 3, 4, 5, 6, 7, 1, 2, 3, 4, 5, 6, 7, 1, 2, 3, 4, 5, 6, 7, 1, 2, 3, 4, 5, 6, 7, 1, 2, 3, 4, 5, 6, 7, 1, 2, 3, 4, 5, 6, 7, 1, 2, 3, 4, 5, 6, 7, 1, 2, 3, 4, 5, 6, 7, 1, 2, 3, 4, 5, 6, 7, 1, 2, 3, 4, 5, 6, 7, 1, 2, 3, 4, 5, 6, 7, 1, 2, 3, 4, 5, 6, 7, 1, 2, 3, 4, 5, 6, 7, 1, 2, 3, 4, 5, 6, 7, 1, 2, 3, 4, 5, 6, 7, 8, 1, 2, 3, 4, 5, 6, 7, 1, 2, 3, 4, 5, 6, 7, 1, 2, 3, 4, 5, 6, 7, 1, 2, 3, 4, 5, 6, 7, 8, 1, 2, 3, 4, 5, 6, 7, 1, 2, 3, 4, 5, 6, 7, 1, 2, 3, 4, 5, 6, 7, 1, 2, 3, 4, 5, 6, 7, 1, 2, 3, 4, 5, 6, 7, 1, 2, 3, 4, 5, 6, 7, 1, 2, 3, 4, 5, 6, 7, 1, 2, 3, 4, 5, 6, 7, 1, 2, 3, 4, 5, 6, 7, 1, 2, 3, 4, 5, 6, 7, 1, 2, 3, 4, 5, 6, 7, 8, 1, 2, 3, 4, 5, 6, 7, 1, 2, 3, 4, 5, 6, 7, 1, 2, 3, 4, 5, 6, 7, 1, 2, 3, 4, 5, 6, 7, 1, 2, 3, 4, 5, 6, 7, 1, 2, 3, 4, 5, 6, 7, 8, 1, 2, 3, 4, 5, 6, 7, 1, 2, 3, 4, 5, 6, 7, 1, 2, 3, 4, 5, 6, 7, 1, 2, 3, 4, 5, 6, 7, 1, 2, 3, 4, 5, 6, 7, 1, 2, 3, 4, 5, 6, 7, 1, 2, 3, 4, 5, 6, 7, 1, 2, 3, 4, 5, 6, 7, 1, 2, 3, 4, 5, 6, 7, 1, 2, 3, 4, 5, 6, 7, 8, 1, 2, 3, 4, 5, 6, 7, 1, 2, 3, 4, 5, 6, 7, 1, 2, 3, 4, 5, 6, 7, 1, 2, 3, 4, 5, 6, 7, 1, 2, 3, 4, 5, 6, 7, 1, 2, 3, 4, 5, 6, 7, 1, 2, 3, 4, 5, 6, 7, 1, 2, 3, 4, 5, 6, 7, 1, 2, 3, 4, 5, 6, 7, 1, 2, 3, 4, 5, 6, 7, 1, 2, 3, 4, 5, 6, 7, 1, 2, 3, 4, 5, 6, 7, 8, 1, 2, 3, 4, 5, 6, 7, 1, 2, 3, 4, 5, 6, 7, 1, 2, 3, 4, 5, 6, 7, 1, 2, 3, 4, 5, 6, 7, 1, 2, 3, 4, 5, 6, 7, 1, 2, 3, 4, 5, 6, 7, 1, 2, 3, 4, 5, 6, 7, 1, 2, 3, 4, 5, 6, 7, 1, 2, 3, 4, 5, 6, 7, 1, 2, 3, 4, 5, 6, 7, 1, 2, 3, 4, 5, 6, 7, 1, 2, 3, 4, 5, 6, 7], \"Freq\": [0.43863371793891576, 0.031330979852779696, 0.031330979852779696, 0.031330979852779696, 0.031330979852779696, 0.031330979852779696, 0.4073027380861361, 0.038443674045253846, 0.19221837022626925, 0.038443674045253846, 0.038443674045253846, 0.038443674045253846, 0.6150987847240615, 0.038443674045253846, 0.07309605887401899, 0.07309605887401899, 0.14619211774803798, 0.511672412118133, 0.07309605887401899, 0.07309605887401899, 0.07309605887401899, 0.010110627389066786, 0.030331882167200355, 0.3336507038392039, 0.040442509556267145, 0.12132752866880142, 0.2729869395048032, 0.17188066561413534, 0.04957210702874964, 0.09914421405749928, 0.04957210702874964, 0.04957210702874964, 0.6940094984024949, 0.04957210702874964, 0.04957210702874964, 0.04035614294079041, 0.12106842882237122, 0.08071228588158082, 0.6456982870526465, 0.04035614294079041, 0.04035614294079041, 0.04035614294079041, 0.1532590270771446, 0.1532590270771446, 0.1532590270771446, 0.1532590270771446, 0.1532590270771446, 0.1532590270771446, 0.1532590270771446, 0.5903786312523869, 0.06945630955910434, 0.03472815477955217, 0.17364077389776086, 0.06945630955910434, 0.03472815477955217, 0.03472815477955217, 0.08828369108593778, 0.08828369108593778, 0.08828369108593778, 0.08828369108593778, 0.08828369108593778, 0.08828369108593778, 0.5297021465156267, 0.07581114057803391, 0.3377041716657874, 0.2481091873462928, 0.08959498431949463, 0.0068919218707303555, 0.19297381238044997, 0.04824345309511249, 0.010891280021715707, 0.010891280021715707, 0.010891280021715707, 0.010891280021715707, 0.010891280021715707, 0.9366500818675508, 0.010891280021715707, 0.014152291117443754, 0.8915943403989565, 0.014152291117443754, 0.014152291117443754, 0.04245687335233126, 0.014152291117443754, 0.014152291117443754, 0.07835524273727745, 0.07835524273727745, 0.039177621368638726, 0.07835524273727745, 0.039177621368638726, 0.6660195632668584, 0.039177621368638726, 0.09112285436910485, 0.09112285436910485, 0.09112285436910485, 0.09112285436910485, 0.09112285436910485, 0.09112285436910485, 0.4556142718455242, 0.10826017655036418, 0.10826017655036418, 0.10826017655036418, 0.10826017655036418, 0.10826017655036418, 0.10826017655036418, 0.43304070620145674, 0.24110851034910422, 0.6461708077355993, 0.012859120551952225, 0.05465126234579695, 0.03857736165585667, 0.0032147801379880563, 0.0032147801379880563, 0.9711278329212579, 0.002386063471551002, 0.002386063471551002, 0.002386063471551002, 0.016702444300857017, 0.002386063471551002, 0.002386063471551002, 0.19698582641246487, 0.15349544915257002, 0.48606892231647175, 0.002558257485876167, 0.03581560480226634, 0.023024317372885503, 0.09977204194917051, 0.2665417508604678, 0.022211812571705646, 0.022211812571705646, 0.022211812571705646, 0.022211812571705646, 0.11105906285852823, 0.48865987657752424, 0.8873569808236547, 0.0059956552758355045, 0.02997827637917752, 0.05396089748251954, 0.0059956552758355045, 0.0059956552758355045, 0.0059956552758355045, 0.09751139845601914, 0.09751139845601914, 0.09751139845601914, 0.09751139845601914, 0.09751139845601914, 0.09751139845601914, 0.39004559382407655, 0.051080982542884824, 0.2554049127144241, 0.051080982542884824, 0.051080982542884824, 0.10216196508576965, 0.35756687780019375, 0.051080982542884824, 0.051080982542884824, 0.01812172075713269, 0.01812172075713269, 0.30806925287125575, 0.27182581135699035, 0.01812172075713269, 0.01812172075713269, 0.32619097362838845, 0.01812172075713269, 0.07547990985259671, 0.02515996995086557, 0.7296391285751016, 0.02515996995086557, 0.10063987980346228, 0.02515996995086557, 0.02515996995086557, 0.07479415498745356, 0.07479415498745356, 0.5983532398996285, 0.07479415498745356, 0.07479415498745356, 0.07479415498745356, 0.07479415498745356, 0.019471161266181047, 0.39915880595671144, 0.0949219111726326, 0.15333539497117574, 0.002433895158272631, 0.32127416089198724, 0.007301685474817892, 0.06896102162552757, 0.06896102162552757, 0.06896102162552757, 0.06896102162552757, 0.06896102162552757, 0.5516881730042206, 0.06896102162552757, 0.15474766888159883, 0.15474766888159883, 0.15474766888159883, 0.15474766888159883, 0.15474766888159883, 0.15474766888159883, 0.15474766888159883, 0.0703026096956194, 0.1406052193912388, 0.21090782908685818, 0.0703026096956194, 0.0703026096956194, 0.0703026096956194, 0.42181565817371636, 0.3055502185949076, 0.0031178593734174248, 0.6485147496708243, 0.0031178593734174248, 0.031178593734174247, 0.0031178593734174248, 0.0031178593734174248, 0.10237440837047418, 0.007874954490036475, 0.14962413531069302, 0.0629996359202918, 0.2204987257210213, 0.4016226789918602, 0.0629996359202918, 0.09335662221867579, 0.09335662221867579, 0.09335662221867579, 0.46678311109337894, 0.09335662221867579, 0.09335662221867579, 0.09335662221867579, 0.08953309227254148, 0.08953309227254148, 0.08953309227254148, 0.08953309227254148, 0.08953309227254148, 0.08953309227254148, 0.5371985536352489, 0.08250988801977165, 0.08250988801977165, 0.08250988801977165, 0.08250988801977165, 0.08250988801977165, 0.08250988801977165, 0.5775692161384015, 0.014705420043223323, 0.08718213311339541, 0.39914711545891873, 0.15650768474573393, 0.026259678648613075, 0.31301536949146785, 0.0031511614378335693, 0.041271872339063, 0.041271872339063, 0.6190780850859451, 0.041271872339063, 0.041271872339063, 0.12381561701718902, 0.041271872339063, 0.24880455879067198, 0.03554350839866743, 0.3080437394551177, 0.011847836132889143, 0.34358724785378514, 0.03554350839866743, 0.011847836132889143, 0.15526338158588002, 0.15526338158588002, 0.15526338158588002, 0.15526338158588002, 0.15526338158588002, 0.15526338158588002, 0.15526338158588002, 0.6686248631761059, 0.060784078470555086, 0.060784078470555086, 0.060784078470555086, 0.060784078470555086, 0.060784078470555086, 0.060784078470555086, 0.140095114783658, 0.140095114783658, 0.140095114783658, 0.140095114783658, 0.140095114783658, 0.140095114783658, 0.140095114783658, 0.1435765490005801, 0.3828707973348802, 0.023929424833430014, 0.3828707973348802, 0.023929424833430014, 0.023929424833430014, 0.023929424833430014, 0.06885446117966813, 0.06885446117966813, 0.06885446117966813, 0.06885446117966813, 0.5508356894373451, 0.06885446117966813, 0.06885446117966813, 0.24829996397964613, 0.003705969611636509, 0.5596014113571129, 0.07411939223273019, 0.10006117951418575, 0.011117908834909528, 0.003705969611636509, 0.0798643747568865, 0.0798643747568865, 0.0798643747568865, 0.159728749513773, 0.47918624854131897, 0.0798643747568865, 0.0798643747568865, 0.25331374527809314, 0.15198824716685588, 0.2216495271183315, 0.12665687263904657, 0.056995592687570956, 0.025331374527809314, 0.16465393443076054, 0.24261905261029998, 0.002788724742647126, 0.5605336732720724, 0.17847838352941606, 0.002788724742647126, 0.002788724742647126, 0.008366174227941378, 0.10225274409658534, 0.10225274409658534, 0.306758232289756, 0.10225274409658534, 0.10225274409658534, 0.10225274409658534, 0.10225274409658534, 0.10225274409658534, 0.15474766888159883, 0.15474766888159883, 0.15474766888159883, 0.15474766888159883, 0.15474766888159883, 0.15474766888159883, 0.15474766888159883, 0.11079520057809947, 0.11079520057809947, 0.11079520057809947, 0.3323856017342984, 0.11079520057809947, 0.11079520057809947, 0.11079520057809947, 0.07488606904396392, 0.01872151726099098, 0.03744303452198196, 0.01872151726099098, 0.01872151726099098, 0.8050252422226122, 0.01872151726099098, 0.10394908302002133, 0.5673608015157293, 0.10596100075589272, 0.023472373585166108, 0.0006706392452904603, 0.19783857736068577, 0.0006706392452904603, 0.17989636167437195, 0.6705228026044773, 0.016354214697670177, 0.016354214697670177, 0.04906264409301053, 0.016354214697670177, 0.032708429395340355, 0.016354214697670177, 0.24928626233139878, 0.0030400763698951072, 0.7022576414457697, 0.009120229109685322, 0.03040076369895107, 0.0030400763698951072, 0.0030400763698951072, 0.7592920822776671, 0.00816443099223298, 0.00816443099223298, 0.00816443099223298, 0.20411077480582449, 0.00816443099223298, 0.00816443099223298, 0.5628790131511329, 0.019409621143142514, 0.058228863429427534, 0.019409621143142514, 0.19409621143142514, 0.019409621143142514, 0.11645772685885507, 0.4920644589676541, 0.049206445896765406, 0.049206445896765406, 0.049206445896765406, 0.049206445896765406, 0.09841289179353081, 0.19682578358706163, 0.0687744998412883, 0.0687744998412883, 0.0687744998412883, 0.0687744998412883, 0.48142149888901814, 0.0687744998412883, 0.20632349952386492, 0.07989996113118976, 0.03994998056559488, 0.01997499028279744, 0.01997499028279744, 0.01997499028279744, 0.7390746404635052, 0.07989996113118976, 0.2715403552655412, 0.045256725877590206, 0.045256725877590206, 0.045256725877590206, 0.09051345175518041, 0.045256725877590206, 0.45256725877590204, 0.01692695022391142, 0.2539042533586713, 0.47395460626951974, 0.0846347511195571, 0.11848865156737994, 0.01692695022391142, 0.03385390044782284, 0.026769576573524332, 0.053539153147048664, 0.21415661258819466, 0.080308729720573, 0.21415661258819466, 0.013384788286762166, 0.401543648602865, 0.16224394470348005, 0.023177706386211437, 0.11588853193105718, 0.023177706386211437, 0.16224394470348005, 0.4867318341104402, 0.023177706386211437, 0.0780457763237942, 0.23413732897138256, 0.19511444080948548, 0.42925176978086804, 0.0390228881618971, 0.0390228881618971, 0.0390228881618971, 0.5324448524060756, 0.07606355034372508, 0.07606355034372508, 0.07606355034372508, 0.07606355034372508, 0.07606355034372508, 0.07606355034372508, 0.05884790597350578, 0.05884790597350578, 0.05884790597350578, 0.4119353418145405, 0.11769581194701156, 0.05884790597350578, 0.11769581194701156, 0.05272006939520181, 0.013180017348800453, 0.013180017348800453, 0.013180017348800453, 0.6853609021376236, 0.1977002602320068, 0.013180017348800453, 0.08857130475791726, 0.5314278285475036, 0.08857130475791726, 0.08857130475791726, 0.08857130475791726, 0.08857130475791726, 0.08857130475791726, 0.08443002716286167, 0.08443002716286167, 0.08443002716286167, 0.08443002716286167, 0.08443002716286167, 0.50658016297717, 0.08443002716286167, 0.15319212600792612, 0.15319212600792612, 0.15319212600792612, 0.15319212600792612, 0.15319212600792612, 0.15319212600792612, 0.15319212600792612, 0.27374069411409, 0.039105813444870005, 0.039105813444870005, 0.039105813444870005, 0.5083755747833101, 0.039105813444870005, 0.07821162688974001, 0.8538190714682901, 0.003916601245267386, 0.07441542366008032, 0.003916601245267386, 0.007833202490534772, 0.0548324174337434, 0.003916601245267386, 0.10143681860784073, 0.20287363721568147, 0.3043104558235222, 0.10143681860784073, 0.10143681860784073, 0.10143681860784073, 0.10143681860784073, 0.24933205793692306, 0.09349952172634615, 0.031166507242115383, 0.062333014484230766, 0.031166507242115383, 0.4986641158738461, 0.031166507242115383, 0.07703672583216957, 0.012839454305361596, 0.3081469033286783, 0.012839454305361596, 0.475059809298379, 0.02567890861072319, 0.08987618013753117, 0.0411078776799333, 0.6988339205588661, 0.0411078776799333, 0.0411078776799333, 0.0411078776799333, 0.12332363303979989, 0.0411078776799333, 0.5558443187694332, 0.23160179948726384, 0.04632035989745276, 0.04632035989745276, 0.04632035989745276, 0.04632035989745276, 0.04632035989745276, 0.038057717304149426, 0.07611543460829885, 0.266404021129046, 0.4566926076497931, 0.038057717304149426, 0.07611543460829885, 0.038057717304149426, 0.05470440286113997, 0.027352201430569986, 0.08205660429170995, 0.27352201430569983, 0.05470440286113997, 0.49233962575025975, 0.027352201430569986, 0.06148453548557048, 0.18895247490687514, 0.6133457320389836, 0.04198943886819447, 0.0014996228167212312, 0.08997736900327387, 0.0014996228167212312, 0.155624670132246, 0.155624670132246, 0.155624670132246, 0.155624670132246, 0.155624670132246, 0.155624670132246, 0.155624670132246, 0.051603989779354334, 0.5676438875728976, 0.15481196933806302, 0.051603989779354334, 0.051603989779354334, 0.051603989779354334, 0.051603989779354334, 0.017622044832909467, 0.6520156588176502, 0.017622044832909467, 0.1585984034961852, 0.008811022416454733, 0.132165336246821, 0.008811022416454733, 0.02862334202658178, 0.25761007823923604, 0.02862334202658178, 0.02862334202658178, 0.02862334202658178, 0.5724668405316357, 0.02862334202658178, 0.25494062335968504, 0.1557970476086964, 0.014163367964426946, 0.41073767096838143, 0.1557970476086964, 0.014163367964426946, 0.014163367964426946, 0.7425456222668854, 0.028020589519505108, 0.014010294759752554, 0.014010294759752554, 0.1821338318767832, 0.014010294759752554, 0.014010294759752554, 0.10082472738741985, 0.016804121231236643, 0.18484533354360305, 0.10082472738741985, 0.5545360006308092, 0.016804121231236643, 0.016804121231236643, 0.05464523649594764, 0.21858094598379055, 0.05464523649594764, 0.05464523649594764, 0.05464523649594764, 0.49180712846352875, 0.10929047299189527, 0.007791589349384081, 0.09349907219260897, 0.007791589349384081, 0.6856598627457992, 0.007791589349384081, 0.015583178698768163, 0.1714149656864498, 0.013751667351835676, 0.013751667351835676, 0.013751667351835676, 0.9213617125729903, 0.013751667351835676, 0.013751667351835676, 0.013751667351835676, 0.15347263275405118, 0.15347263275405118, 0.15347263275405118, 0.15347263275405118, 0.15347263275405118, 0.15347263275405118, 0.15347263275405118, 0.5238079318966284, 0.08730132198277141, 0.08730132198277141, 0.08730132198277141, 0.08730132198277141, 0.08730132198277141, 0.08730132198277141, 0.04676104080518524, 0.04676104080518524, 0.04676104080518524, 0.09352208161037048, 0.04676104080518524, 0.2805662448311114, 0.42084936724666716, 0.06970800475962116, 0.48795603331734816, 0.06970800475962116, 0.06970800475962116, 0.13941600951924232, 0.06970800475962116, 0.06970800475962116, 0.8079275186216844, 0.014427277118244366, 0.014427277118244366, 0.07213638559122183, 0.07213638559122183, 0.014427277118244366, 0.014427277118244366, 0.14114252560248958, 0.07057126280124479, 0.49399883960871355, 0.07057126280124479, 0.07057126280124479, 0.07057126280124479, 0.07057126280124479, 0.13706759934650548, 0.13706759934650548, 0.13706759934650548, 0.13706759934650548, 0.13706759934650548, 0.13706759934650548, 0.13706759934650548, 0.13706759934650548, 0.006175882597170438, 0.23674216622486677, 0.08028647376321568, 0.13381078960535947, 0.04528980571258321, 0.49612923530602515, 0.002058627532390146, 0.2583589026009268, 0.48801126046841736, 0.028706544733436316, 0.028706544733436316, 0.14353272366718156, 0.028706544733436316, 0.028706544733436316, 0.18405648997692126, 0.5521694699307638, 0.06135216332564042, 0.06135216332564042, 0.06135216332564042, 0.06135216332564042, 0.06135216332564042, 0.44873294366624844, 0.08974658873324969, 0.08974658873324969, 0.08974658873324969, 0.08974658873324969, 0.08974658873324969, 0.08974658873324969, 0.07843648054877204, 0.02614549351625735, 0.02614549351625735, 0.0522909870325147, 0.7843648054877205, 0.02614549351625735, 0.02614549351625735, 0.15256717218547547, 0.15256717218547547, 0.15256717218547547, 0.15256717218547547, 0.15256717218547547, 0.15256717218547547, 0.15256717218547547, 0.07241610759001116, 0.003081536493191964, 0.30661288107260043, 0.001540768246595982, 0.003081536493191964, 0.6116849938986049, 0.001540768246595982, 0.018914913263531005, 0.47287283158827514, 0.3026386122164961, 0.09457456631765503, 0.018914913263531005, 0.03782982652706201, 0.05674473979059302, 0.05213998296856717, 0.6256797956228061, 0.05213998296856717, 0.05213998296856717, 0.05213998296856717, 0.05213998296856717, 0.10427996593713434, 0.8103170856365741, 0.03376321190152392, 0.03376321190152392, 0.03376321190152392, 0.03376321190152392, 0.03376321190152392, 0.03376321190152392, 0.30132274972288275, 0.2763387026353071, 0.14460463617354424, 0.12113477375794282, 0.10069328068628997, 0.0007570923359871426, 0.05451064819107427, 0.14039263193463378, 0.14039263193463378, 0.18719017591284504, 0.35098157983658446, 0.11699385994552815, 0.02339877198910563, 0.02339877198910563, 0.05293162411107185, 0.05293162411107185, 0.6351794893328622, 0.05293162411107185, 0.05293162411107185, 0.05293162411107185, 0.1058632482221437, 0.005346688514351954, 0.005346688514351954, 0.021386754057407815, 0.005346688514351954, 0.9463638670402958, 0.005346688514351954, 0.010693377028703908, 0.0974730661086749, 0.0974730661086749, 0.0974730661086749, 0.0974730661086749, 0.1949461322173498, 0.0974730661086749, 0.3898922644346996, 0.1535677706207784, 0.1535677706207784, 0.1535677706207784, 0.1535677706207784, 0.1535677706207784, 0.1535677706207784, 0.1535677706207784, 0.045517164354054826, 0.1820686574162193, 0.31862015047838377, 0.045517164354054826, 0.1820686574162193, 0.1365514930621645, 0.045517164354054826, 0.045517164354054826, 0.1478401909357095, 0.1478401909357095, 0.1478401909357095, 0.1478401909357095, 0.1478401909357095, 0.1478401909357095, 0.1478401909357095, 0.1478401909357095, 0.15526338158588002, 0.15526338158588002, 0.15526338158588002, 0.15526338158588002, 0.15526338158588002, 0.15526338158588002, 0.15526338158588002, 0.032906465659152055, 0.6581293131830411, 0.032906465659152055, 0.06581293131830411, 0.06581293131830411, 0.06581293131830411, 0.032906465659152055, 0.049180495636680276, 0.049180495636680276, 0.5901659476401634, 0.049180495636680276, 0.049180495636680276, 0.14754148691004085, 0.049180495636680276, 0.09824470141839876, 0.19648940283679753, 0.19648940283679753, 0.19648940283679753, 0.09824470141839876, 0.09824470141839876, 0.09824470141839876, 0.09824470141839876, 0.11737905154240766, 0.03912635051413589, 0.2738844535989512, 0.03912635051413589, 0.03912635051413589, 0.3912635051413589, 0.07825270102827178, 0.03912635051413589, 0.043127298866977345, 0.043127298866977345, 0.043127298866977345, 0.043127298866977345, 0.08625459773395469, 0.043127298866977345, 0.7331640807386148, 0.04729276323705644, 0.18917105294822575, 0.6148059220817338, 0.04729276323705644, 0.04729276323705644, 0.04729276323705644, 0.04729276323705644, 0.029723144697649737, 0.6241860386506445, 0.029723144697649737, 0.029723144697649737, 0.029723144697649737, 0.20806201288354817, 0.029723144697649737, 0.0702874203939757, 0.0702874203939757, 0.0702874203939757, 0.0702874203939757, 0.6325867835457814, 0.0702874203939757, 0.0702874203939757, 0.012144026481546222, 0.04857610592618489, 0.012144026481546222, 0.2307365031493782, 0.4979050857433951, 0.15787234426010088, 0.04857610592618489, 0.03271588267758942, 0.06543176535517883, 0.06543176535517883, 0.5234541228414307, 0.06543176535517883, 0.03271588267758942, 0.22901117874312593, 0.588315436676099, 0.07353942958451237, 0.07353942958451237, 0.07353942958451237, 0.07353942958451237, 0.07353942958451237, 0.07353942958451237, 0.15217911082528257, 0.15217911082528257, 0.15217911082528257, 0.15217911082528257, 0.15217911082528257, 0.15217911082528257, 0.15217911082528257, 0.142665489583778, 0.142665489583778, 0.142665489583778, 0.142665489583778, 0.142665489583778, 0.142665489583778, 0.142665489583778, 0.142665489583778, 0.14962394744509633, 0.7810370056634027, 0.053864621080234674, 0.005984957897803853, 0.0029924789489019265, 0.0029924789489019265, 0.0029924789489019265, 0.7612534951099045, 0.12866256255378666, 0.010721880212815555, 0.04288752085126222, 0.04288752085126222, 0.010721880212815555, 0.010721880212815555, 0.1999245903261099, 0.0024087300039290346, 0.0024087300039290346, 0.7442975712140718, 0.038539680062864554, 0.0024087300039290346, 0.004817460007858069, 0.9487755259354221, 0.008250221964655845, 0.008250221964655845, 0.008250221964655845, 0.008250221964655845, 0.008250221964655845, 0.008250221964655845, 0.026810666549033704, 0.05362133309806741, 0.13405333274516854, 0.13405333274516854, 0.16086399929420223, 0.026810666549033704, 0.4825919978826067, 0.12248342299362835, 0.12248342299362835, 0.12248342299362835, 0.12248342299362835, 0.12248342299362835, 0.12248342299362835, 0.2449668459872567, 0.1547476758341098, 0.1547476758341098, 0.1547476758341098, 0.1547476758341098, 0.1547476758341098, 0.1547476758341098, 0.1547476758341098, 0.07629130524729365, 0.07629130524729365, 0.07629130524729365, 0.1525826104945873, 0.45774783148376186, 0.07629130524729365, 0.07629130524729365, 0.046661875777183635, 0.7465900124349382, 0.046661875777183635, 0.046661875777183635, 0.046661875777183635, 0.046661875777183635, 0.046661875777183635, 0.2088354443576615, 0.05220886108941537, 0.46987974980473834, 0.10441772217883075, 0.05220886108941537, 0.05220886108941537, 0.05220886108941537, 0.00518301916504923, 0.00518301916504923, 0.002591509582524615, 0.9744076030292552, 0.007774528747573845, 0.002591509582524615, 0.002591509582524615, 0.6103675737057724, 0.020345585790192414, 0.22380144369211658, 0.020345585790192414, 0.08138234316076966, 0.020345585790192414, 0.020345585790192414, 0.4724906996515694, 0.007745749174615893, 0.007745749174615893, 0.2013894785400132, 0.2788469702861721, 0.007745749174615893, 0.023237247523847676, 0.04609927215070666, 0.04609927215070666, 0.04609927215070666, 0.04609927215070666, 0.04609927215070666, 0.04609927215070666, 0.7375883544113065, 0.07420938841551988, 0.5194657189086392, 0.14841877683103977, 0.07420938841551988, 0.07420938841551988, 0.07420938841551988, 0.07420938841551988, 0.033318553100873366, 0.033318553100873366, 0.033318553100873366, 0.033318553100873366, 0.033318553100873366, 0.033318553100873366, 0.7996452744209608, 0.1532590270771446, 0.1532590270771446, 0.1532590270771446, 0.1532590270771446, 0.1532590270771446, 0.1532590270771446, 0.1532590270771446, 0.5331736552533071, 0.05924151725036745, 0.05924151725036745, 0.2369660690014698, 0.05924151725036745, 0.05924151725036745, 0.05924151725036745, 0.15309689593271034, 0.15309689593271034, 0.15309689593271034, 0.15309689593271034, 0.15309689593271034, 0.15309689593271034, 0.15309689593271034, 0.021853103898662306, 0.021853103898662306, 0.3496496623785969, 0.04370620779732461, 0.021853103898662306, 0.45891518187190844, 0.021853103898662306, 0.021853103898662306, 0.09256467613437674, 0.4628233806718837, 0.09256467613437674, 0.09256467613437674, 0.09256467613437674, 0.09256467613437674, 0.09256467613437674, 0.09830147828129408, 0.09830147828129408, 0.09830147828129408, 0.09830147828129408, 0.09830147828129408, 0.49150739140647043, 0.09830147828129408, 0.0063140295131922835, 0.16416476734299937, 0.0063140295131922835, 0.7071713054775357, 0.0063140295131922835, 0.09471044269788426, 0.0063140295131922835, 0.14417715300078413, 0.028835430600156826, 0.5190377508028229, 0.028835430600156826, 0.05767086120031365, 0.17301258360094096, 0.05767086120031365, 0.10347074021104355, 0.10347074021104355, 0.10347074021104355, 0.10347074021104355, 0.10347074021104355, 0.10347074021104355, 0.4138829608441742, 0.7096054047283382, 0.02838421618913353, 0.05676843237826706, 0.02838421618913353, 0.02838421618913353, 0.11353686475653411, 0.02838421618913353, 0.004290012917396201, 0.004290012917396201, 0.22737068462199864, 0.0021450064586981004, 0.08794526480662211, 0.6735320280312035, 0.0021450064586981004, 0.1391193825227512, 0.23186563753791864, 0.023186563753791863, 0.4405447113220454, 0.11593281876895932, 0.023186563753791863, 0.023186563753791863, 0.0999504066212267, 0.0999504066212267, 0.0999504066212267, 0.0999504066212267, 0.4997520331061335, 0.0999504066212267, 0.0999504066212267, 0.07727071464412064, 0.07727071464412064, 0.07727071464412064, 0.07727071464412064, 0.07727071464412064, 0.07727071464412064, 0.5408950025088445, 0.014380991518441402, 0.9203834571802497, 0.014380991518441402, 0.014380991518441402, 0.014380991518441402, 0.014380991518441402, 0.014380991518441402, 0.03706341156532464, 0.2635620377978641, 0.6568460160743644, 0.002059078420295813, 0.03294525472473301, 0.004118156840591626, 0.002059078420295813, 0.08989088114038189, 0.08989088114038189, 0.08989088114038189, 0.4494544057019095, 0.08989088114038189, 0.08989088114038189, 0.08989088114038189, 0.004028799104651674, 0.020143995523258372, 0.016115196418606696, 0.6002910665930995, 0.016115196418606696, 0.11280637493024688, 0.2336703480697971, 0.08487719250531355, 0.1697543850106271, 0.08487719250531355, 0.08487719250531355, 0.5092631550318812, 0.08487719250531355, 0.08487719250531355, 0.053811434370926024, 0.053811434370926024, 0.5919257780801863, 0.053811434370926024, 0.053811434370926024, 0.053811434370926024, 0.10762286874185205, 0.053811434370926024, 0.014657615835654609, 0.014657615835654609, 0.5276741700835659, 0.04397284750696383, 0.36644039589136523, 0.014657615835654609, 0.014657615835654609, 0.13582998207447602, 0.13582998207447602, 0.13582998207447602, 0.13582998207447602, 0.13582998207447602, 0.27165996414895205, 0.13582998207447602, 0.13582998207447602, 0.24520683616873923, 0.29917329797510706, 0.08592718190528469, 0.1126484396929037, 0.21324611606982236, 0.023053634169710523, 0.019909956782931816, 0.28458645422706735, 0.5106117969344856, 0.008219103371178841, 0.17465594663755038, 0.018492982585152393, 0.0010273879213973552, 0.0020547758427947103, 0.30048546505621515, 0.13718715714980304, 0.29302513626861254, 0.10485906573685852, 0.09159625900334283, 0.026525613467031407, 0.04641982356730496, 0.045431962566312635, 0.045431962566312635, 0.045431962566312635, 0.5906155133620643, 0.045431962566312635, 0.045431962566312635, 0.09086392513262527, 0.045431962566312635, 0.4255302926644041, 0.527972770528057, 0.007880190604896373, 0.007880190604896373, 0.007880190604896373, 0.007880190604896373, 0.015760381209792746, 0.11599939536444184, 0.23199879072888369, 0.11599939536444184, 0.11599939536444184, 0.11599939536444184, 0.11599939536444184, 0.11599939536444184, 0.11599939536444184, 0.5775389689878191, 0.19251298966260638, 0.09625649483130319, 0.048128247415651595, 0.048128247415651595, 0.048128247415651595, 0.048128247415651595, 0.14765643748082408, 0.14765643748082408, 0.14765643748082408, 0.14765643748082408, 0.14765643748082408, 0.14765643748082408, 0.14765643748082408, 0.14765643748082408, 0.029650612030904234, 0.11860244812361694, 0.14825306015452117, 0.3558073443708508, 0.029650612030904234, 0.2668555082781381, 0.05930122406180847, 0.18472708922687217, 0.030787848204478697, 0.18472708922687217, 0.36945417845374434, 0.030787848204478697, 0.09236354461343609, 0.09236354461343609, 0.11995998413664147, 0.341704197237706, 0.19993330689440245, 0.3235284420654876, 0.003635151034443681, 0.007270302068887362, 0.003635151034443681, 0.2811523574989135, 0.4998264133314017, 0.04685872624981891, 0.12495660333285043, 0.015619575416606303, 0.031239150833212607, 0.015619575416606303, 0.3732933202515223, 0.13865180466485114, 0.09598971092182002, 0.01066552343575778, 0.35196227338000674, 0.01066552343575778, 0.02133104687151556, 0.051949871180885905, 0.06060818304436689, 0.5021820880818971, 0.12121636608873378, 0.25109104404094856, 0.008658311863480985, 0.008658311863480985, 0.013125665971607909, 0.013125665971607909, 0.013125665971607909, 0.013125665971607909, 0.6431576326087876, 0.288764651375374, 0.013125665971607909, 0.3381177920012223, 0.19043717377260463, 0.18440404016823836, 0.14663137760177133, 0.05560975322285425, 0.01888633128323352, 0.06557753917789416, 0.06804990942183102, 0.06804990942183102, 0.13609981884366204, 0.13609981884366204, 0.06804990942183102, 0.06804990942183102, 0.4763493659528171, 0.06196069108886614, 0.6815676019775275, 0.06196069108886614, 0.06196069108886614, 0.06196069108886614, 0.06196069108886614, 0.06196069108886614, 0.029567787202794703, 0.059135574405589406, 0.029567787202794703, 0.798330254475457, 0.029567787202794703, 0.029567787202794703, 0.029567787202794703, 0.04424265346565159, 0.13272796039695478, 0.04424265346565159, 0.6193971485191223, 0.04424265346565159, 0.04424265346565159, 0.08848530693130317, 0.056979120127051655, 0.056979120127051655, 0.056979120127051655, 0.056979120127051655, 0.056979120127051655, 0.6837494415246199, 0.056979120127051655, 0.17146950055747728, 0.028578250092912882, 0.028578250092912882, 0.1428912504645644, 0.1428912504645644, 0.11431300037165153, 0.34293900111495457, 0.057156500185825763, 0.03287367337300541, 0.8218418343251354, 0.03287367337300541, 0.03287367337300541, 0.03287367337300541, 0.03287367337300541, 0.03287367337300541, 0.05799308559610316, 0.11598617119220632, 0.05799308559610316, 0.4639446847688253, 0.17397925678830947, 0.05799308559610316, 0.05799308559610316, 0.5603163128966798, 0.062257368099631095, 0.062257368099631095, 0.12451473619926219, 0.062257368099631095, 0.062257368099631095, 0.062257368099631095, 0.008100402359316427, 0.008100402359316427, 0.18630925426427783, 0.0040502011796582135, 0.008100402359316427, 0.04050201179658214, 0.7452370170571113, 0.05074484962099024, 0.6596830450728731, 0.10148969924198048, 0.05074484962099024, 0.05074484962099024, 0.05074484962099024, 0.05074484962099024, 0.07572465480102623, 0.035758864767151274, 0.6794184305758743, 0.11989737010162486, 0.008413850533447358, 0.07782811743438807, 0.0021034626333618395, 0.04165416917245366, 0.04165416917245366, 0.7081208759317122, 0.04165416917245366, 0.04165416917245366, 0.04165416917245366, 0.04165416917245366, 0.10638493311893098, 0.10638493311893098, 0.10638493311893098, 0.4255397324757239, 0.10638493311893098, 0.10638493311893098, 0.10638493311893098, 0.045680581835847896, 0.7765698912094142, 0.045680581835847896, 0.045680581835847896, 0.045680581835847896, 0.045680581835847896, 0.045680581835847896, 0.08174719723074886, 0.08174719723074886, 0.08174719723074886, 0.08174719723074886, 0.08174719723074886, 0.16349439446149772, 0.4087359861537443, 0.09632646117580021, 0.06421764078386681, 0.0802720509798335, 0.016054410195966703, 0.20870733254756713, 0.5297955364669011, 0.016054410195966703, 0.07049732264820752, 0.07049732264820752, 0.07049732264820752, 0.07049732264820752, 0.6344759038338676, 0.07049732264820752, 0.07049732264820752, 0.36437164950791806, 0.042867252883284475, 0.021433626441642237, 0.15003538509149567, 0.021433626441642237, 0.36437164950791806, 0.021433626441642237, 0.47327030383150864, 0.09465406076630173, 0.09465406076630173, 0.09465406076630173, 0.09465406076630173, 0.09465406076630173, 0.09465406076630173, 0.1443058682327259, 0.036076467058181474, 0.18038233529090736, 0.07215293411636295, 0.036076467058181474, 0.036076467058181474, 0.46899407175635915, 0.24606751210017697, 0.0021775886026564333, 0.2417123348948641, 0.0021775886026564333, 0.49866779000832323, 0.0021775886026564333, 0.0043551772053128665, 0.06404129456897932, 0.6404129456897932, 0.06404129456897932, 0.06404129456897932, 0.06404129456897932, 0.06404129456897932, 0.06404129456897932, 0.01761755398716407, 0.01761755398716407, 0.15855798588447664, 0.01761755398716407, 0.01761755398716407, 0.01761755398716407, 0.757554821448055, 0.04416820381993373, 0.1766728152797349, 0.08833640763986746, 0.04416820381993373, 0.1766728152797349, 0.08833640763986746, 0.3533456305594698, 0.07725647636540398, 0.07725647636540398, 0.07725647636540398, 0.07725647636540398, 0.07725647636540398, 0.5407953345578279, 0.07725647636540398, 0.01182418114103903, 0.01182418114103903, 0.01182418114103903, 0.01182418114103903, 0.9222861290010443, 0.01182418114103903, 0.02364836228207806, 0.08736315746376165, 0.19656710429346372, 0.46957697136771887, 0.14196513087861268, 0.010920394682970206, 0.010920394682970206, 0.08736315746376165, 0.027237647663987636, 0.027237647663987636, 0.7898917822556415, 0.05447529532797527, 0.027237647663987636, 0.027237647663987636, 0.027237647663987636, 0.06870790798281957, 0.06870790798281957, 0.06870790798281957, 0.13741581596563915, 0.06870790798281957, 0.5496632638625566, 0.06870790798281957, 0.025027500928458183, 0.17519250649920728, 0.6507150241399128, 0.012513750464229091, 0.012513750464229091, 0.012513750464229091, 0.11262375417806182, 0.17518875447838808, 0.6089894798534443, 0.008342321641828004, 0.09176553806010805, 0.04171160820914002, 0.05005392985096803, 0.033369286567312015, 0.08122168944807748, 0.5685518261365423, 0.08122168944807748, 0.08122168944807748, 0.08122168944807748, 0.08122168944807748, 0.08122168944807748, 0.004949816568923217, 0.004949816568923217, 0.004949816568923217, 0.8761175326994094, 0.09899633137846434, 0.004949816568923217, 0.004949816568923217, 0.6969779137026488, 0.04978413669304634, 0.04978413669304634, 0.04978413669304634, 0.09956827338609268, 0.04978413669304634, 0.04978413669304634, 0.19362849369826088, 0.207546820940842, 0.22678686154088062, 0.157195225327975, 0.05812948436607409, 0.10725299228106629, 0.04953287048095046, 0.045373286681633485, 0.045373286681633485, 0.09074657336326697, 0.3629862934530679, 0.045373286681633485, 0.3176130067714344, 0.09074657336326697, 0.19241411196157215, 0.16063142382506249, 0.04982151113290708, 0.04466756170536496, 0.31868587293635386, 0.0017179831425140372, 0.23278671581065202, 0.30094608132615674, 0.3835587311019645, 0.17702710666244514, 0.005900903555414838, 0.005900903555414838, 0.1239189746637116, 0.005900903555414838, 0.08732771999136403, 0.08732771999136403, 0.5239663199481842, 0.08732771999136403, 0.08732771999136403, 0.08732771999136403, 0.08732771999136403, 0.2131638225651818, 0.2131638225651818, 0.04263276451303636, 0.2984293515912545, 0.04263276451303636, 0.08526552902607272, 0.08526552902607272, 0.07790853324447179, 0.07790853324447179, 0.07790853324447179, 0.389542666222359, 0.07790853324447179, 0.07790853324447179, 0.15581706648894358, 0.07717508091089982, 0.07717508091089982, 0.07717508091089982, 0.07717508091089982, 0.5402255663762987, 0.07717508091089982, 0.07717508091089982, 0.0724256132069746, 0.014485122641394921, 0.0362128066034873, 0.1448512264139492, 0.5431920990523095, 0.10139585848976444, 0.07966817452767207, 0.1167041890715401, 0.1167041890715401, 0.1167041890715401, 0.3501125672146203, 0.1167041890715401, 0.1167041890715401, 0.1167041890715401, 0.1167041890715401, 0.06867598296949072, 0.06867598296949072, 0.06867598296949072, 0.06867598296949072, 0.06867598296949072, 0.6180838467254165, 0.06867598296949072, 0.016965531235922718, 0.016965531235922718, 0.016965531235922718, 0.016965531235922718, 0.8652420930320587, 0.05089659370776816, 0.016965531235922718, 0.010775629641237626, 0.31249325959589114, 0.19396133354227724, 0.2909420003134159, 0.14008318533608913, 0.02155125928247525, 0.0431025185649505, 0.10484030338117985, 0.34946767793726613, 0.10484030338117985, 0.2795741423498129, 0.06989353558745323, 0.034946767793726616, 0.034946767793726616, 0.034946767793726616, 0.0410279009871138, 0.0410279009871138, 0.4923348118453656, 0.0410279009871138, 0.2871953069097966, 0.0410279009871138, 0.0410279009871138, 0.09982865175588185, 0.09982865175588185, 0.09982865175588185, 0.09982865175588185, 0.09982865175588185, 0.3993146070235274, 0.09982865175588185, 0.028406451350159085, 0.028406451350159085, 0.028406451350159085, 0.028406451350159085, 0.028406451350159085, 0.028406451350159085, 0.8237870891546135, 0.16410871966116014, 0.20227353818701133, 0.11449445557755358, 0.26715372968095835, 0.23662187486027741, 0.011449445557755358, 0.0038164818525851197, 0.023512192165330258, 0.023512192165330258, 0.047024384330660515, 0.5642926119679262, 0.21160972948797233, 0.023512192165330258, 0.1175609608266513, 0.15059659650068064, 0.15059659650068064, 0.15059659650068064, 0.15059659650068064, 0.15059659650068064, 0.15059659650068064, 0.15059659650068064, 0.004555499819992364, 0.004555499819992364, 0.9748769614783659, 0.004555499819992364, 0.004555499819992364, 0.004555499819992364, 0.004555499819992364, 0.003455018406822704, 0.003455018406822704, 0.003455018406822704, 0.003455018406822704, 0.8775746753329667, 0.003455018406822704, 0.10365055220468111, 0.0886409945590529, 0.6204869619133704, 0.04432049727952645, 0.0886409945590529, 0.0886409945590529, 0.04432049727952645, 0.04432049727952645, 0.15800118893015927, 0.07900059446507963, 0.07900059446507963, 0.39500297232539816, 0.07900059446507963, 0.07900059446507963, 0.07900059446507963, 0.12323170738772359, 0.12323170738772359, 0.12323170738772359, 0.12323170738772359, 0.24646341477544717, 0.12323170738772359, 0.12323170738772359, 0.12323170738772359, 0.13165892928105027, 0.026331785856210054, 0.07899535756863017, 0.026331785856210054, 0.05266357171242011, 0.26331785856210055, 0.42130857369936087, 0.1954445124754708, 0.753036209831961, 0.005748368013984435, 0.005748368013984435, 0.02299347205593774, 0.01149673602796887, 0.005748368013984435, 0.021405160330168857, 0.06421548099050657, 0.5565341685843903, 0.27826708429219515, 0.042810320660337714, 0.021405160330168857, 0.021405160330168857, 0.7529183312933116, 0.03422356051333235, 0.03422356051333235, 0.03422356051333235, 0.03422356051333235, 0.0684471210266647, 0.03422356051333235, 0.013083893660175563, 0.32709734150438907, 0.09158725562122894, 0.2747617668636868, 0.039251680980526685, 0.013083893660175563, 0.23551008588316014, 0.06984037949414522, 0.20952113848243567, 0.06984037949414522, 0.06984037949414522, 0.13968075898829044, 0.2793615179765809, 0.06984037949414522, 0.06984037949414522, 0.05658358427859076, 0.02680275044775352, 0.011912333532334897, 0.06551783442784193, 0.19953158666660953, 0.5032960917411494, 0.13401375223876758, 0.0486411054207432, 0.0486411054207432, 0.0486411054207432, 0.0486411054207432, 0.5350521596281752, 0.243205527103716, 0.0486411054207432, 0.2714858346343061, 0.18952784682017595, 0.040978993907065074, 0.29709770582622175, 0.11269223324442894, 0.05634611662221447, 0.02561187119191567, 0.14241902420511726, 0.14241902420511726, 0.14241902420511726, 0.14241902420511726, 0.14241902420511726, 0.14241902420511726, 0.14241902420511726, 0.01566568592491895, 0.28198234664854105, 0.01566568592491895, 0.01566568592491895, 0.01566568592491895, 0.6422931229216768, 0.01566568592491895, 0.07011884104128113, 0.07011884104128113, 0.07011884104128113, 0.07011884104128113, 0.14023768208256226, 0.49083188728896787, 0.07011884104128113, 0.3361904761294276, 0.04202380951617845, 0.04202380951617845, 0.04202380951617845, 0.04202380951617845, 0.04202380951617845, 0.4202380951617845, 0.07800321515051128, 0.07800321515051128, 0.07800321515051128, 0.07800321515051128, 0.546022506053579, 0.07800321515051128, 0.07800321515051128, 0.09469478941507706, 0.09469478941507706, 0.09469478941507706, 0.09469478941507706, 0.4734739470753853, 0.09469478941507706, 0.09469478941507706, 0.12288123959050198, 0.12288123959050198, 0.12288123959050198, 0.12288123959050198, 0.24576247918100397, 0.12288123959050198, 0.12288123959050198, 0.12288123959050198, 0.04015472583403942, 0.04015472583403942, 0.04015472583403942, 0.04015472583403942, 0.04015472583403942, 0.04015472583403942, 0.762939790846749, 0.15545497112762605, 0.14727313054196153, 0.6095471236320075, 0.04909104351398717, 0.004090920292832265, 0.004090920292832265, 0.03272736234265812, 0.13769762174833722, 0.06884881087416861, 0.06884881087416861, 0.06884881087416861, 0.5507904869933489, 0.06884881087416861, 0.06884881087416861, 0.6896156475815887, 0.29276135982237256, 0.009758711994079084, 0.0016264519990131809, 0.0016264519990131809, 0.0016264519990131809, 0.0016264519990131809, 0.7947051706124297, 0.01938305294176658, 0.01938305294176658, 0.01938305294176658, 0.01938305294176658, 0.11629831765059948, 0.01938305294176658, 0.1535677706207784, 0.1535677706207784, 0.1535677706207784, 0.1535677706207784, 0.1535677706207784, 0.1535677706207784, 0.1535677706207784, 0.2255485213649399, 0.018795710113744993, 0.018795710113744993, 0.018795710113744993, 0.6766455640948197, 0.018795710113744993, 0.018795710113744993, 0.12476019469451127, 0.24952038938902255, 0.12476019469451127, 0.12476019469451127, 0.12476019469451127, 0.12476019469451127, 0.12476019469451127, 0.065495213897915, 0.13099042779583, 0.065495213897915, 0.065495213897915, 0.065495213897915, 0.52396171118332, 0.065495213897915, 0.04759925652860255, 0.04759925652860255, 0.04759925652860255, 0.04759925652860255, 0.6187903348718331, 0.1903970261144102, 0.04759925652860255, 0.24002387252314641, 0.003200318300308619, 0.2368235542228378, 0.044804456204320664, 0.3728370819859541, 0.07200716175694392, 0.02880286470277757, 0.10663249677593921, 0.10663249677593921, 0.10663249677593921, 0.10663249677593921, 0.21326499355187842, 0.10663249677593921, 0.10663249677593921, 0.10663249677593921, 0.1136682776502485, 0.3216570410102777, 0.050787953843728056, 0.12092369962792394, 0.2853799311219005, 0.002418473992558479, 0.10641285567257307, 0.015333797868756367, 0.21467317016258913, 0.015333797868756367, 0.07666898934378183, 0.015333797868756367, 0.6440195104877674, 0.015333797868756367, 0.23431810192197025, 0.07121432509393213, 0.2974920999891681, 0.025269599226879144, 0.24350704709538085, 0.0838491247073717, 0.04364748957370034, 0.08551496536205049, 0.17102993072410097, 0.05700997690803366, 0.04275748268102524, 0.07126247113504207, 0.5558472748533282, 0.014252494227008415, 0.15319212600792612, 0.15319212600792612, 0.15319212600792612, 0.15319212600792612, 0.15319212600792612, 0.15319212600792612, 0.15319212600792612, 0.031177536199583546, 0.031177536199583546, 0.5923731877920874, 0.15588768099791772, 0.12471014479833419, 0.031177536199583546, 0.031177536199583546, 0.13162339154254155, 0.2885589737663411, 0.17718533476880594, 0.23287215426757352, 0.13162339154254155, 0.002531219068125799, 0.035437066953761184, 0.08232847373585386, 0.08232847373585386, 0.16465694747170773, 0.08232847373585386, 0.41164236867926934, 0.08232847373585386, 0.08232847373585386, 0.010829891771338371, 0.010829891771338371, 0.05414945885669186, 0.043319567085353484, 0.010829891771338371, 0.010829891771338371, 0.8555614499357314, 0.037645129950551214, 0.07529025990110243, 0.037645129950551214, 0.037645129950551214, 0.037645129950551214, 0.7529025990110243, 0.037645129950551214, 0.05052422964227273, 0.10104845928454546, 0.05052422964227273, 0.6568149853495455, 0.05052422964227273, 0.05052422964227273, 0.05052422964227273, 0.8117329744575634, 0.10307720310572235, 0.012884650388215294, 0.012884650388215294, 0.03865395116464588, 0.012884650388215294, 0.012884650388215294], \"Term\": [\"adobo\", \"adobo\", \"adobo\", \"adobo\", \"adobo\", \"adobo\", \"adobo\", \"american\", \"american\", \"american\", \"american\", \"american\", \"american\", \"american\", \"angel_hair\", \"angel_hair\", \"angel_hair\", \"angel_hair\", \"angel_hair\", \"angel_hair\", \"angel_hair\", \"apple\", \"apple\", \"apple\", \"apple\", \"apple\", \"apple\", \"apple\", \"asian\", \"asian\", \"asian\", \"asian\", \"asian\", \"asian\", \"asian\", \"asparagus\", \"asparagus\", \"asparagus\", \"asparagus\", \"asparagus\", \"asparagus\", \"asparagus\", \"aswad\", \"aswad\", \"aswad\", \"aswad\", \"aswad\", \"aswad\", \"aswad\", \"avocado\", \"avocado\", \"avocado\", \"avocado\", \"avocado\", \"avocado\", \"avocado\", \"baby_back\", \"baby_back\", \"baby_back\", \"baby_back\", \"baby_back\", \"baby_back\", \"baby_back\", \"bacon\", \"bacon\", \"bacon\", \"bacon\", \"bacon\", \"bacon\", \"bacon\", \"baking\", \"baking\", \"baking\", \"baking\", \"baking\", \"baking\", \"baking\", \"balsamic\", \"balsamic\", \"balsamic\", \"balsamic\", \"balsamic\", \"balsamic\", \"balsamic\", \"banana\", \"banana\", \"banana\", \"banana\", \"banana\", \"banana\", \"banana\", \"barbecue\", \"barbecue\", \"barbecue\", \"barbecue\", \"barbecue\", \"barbecue\", \"barbecue\", \"based_curing\", \"based_curing\", \"based_curing\", \"based_curing\", \"based_curing\", \"based_curing\", \"based_curing\", \"basil\", \"basil\", \"basil\", \"basil\", \"basil\", \"basil\", \"basil\", \"bean\", \"bean\", \"bean\", \"bean\", \"bean\", \"bean\", \"bean\", \"beef\", \"beef\", \"beef\", \"beef\", \"beef\", \"beef\", \"beef\", \"beer\", \"beer\", \"beer\", \"beer\", \"beer\", \"beer\", \"beer\", \"bell\", \"bell\", \"bell\", \"bell\", \"bell\", \"bell\", \"bell\", \"belly\", \"belly\", \"belly\", \"belly\", \"belly\", \"belly\", \"belly\", \"blueberry\", \"blueberry\", \"blueberry\", \"blueberry\", \"blueberry\", \"blueberry\", \"blueberry\", \"blueberry\", \"bone\", \"bone\", \"bone\", \"bone\", \"bone\", \"bone\", \"bone\", \"bone\", \"bouillon\", \"bouillon\", \"bouillon\", \"bouillon\", \"bouillon\", \"bouillon\", \"bouillon\", \"bouillon_granule\", \"bouillon_granule\", \"bouillon_granule\", \"bouillon_granule\", \"bouillon_granule\", \"bouillon_granule\", \"bouillon_granule\", \"bread\", \"bread\", \"bread\", \"bread\", \"bread\", \"bread\", \"bread\", \"breakfast\", \"breakfast\", \"breakfast\", \"breakfast\", \"breakfast\", \"breakfast\", \"breakfast\", \"briquette\", \"briquette\", \"briquette\", \"briquette\", \"briquette\", \"briquette\", \"briquette\", \"brisket\", \"brisket\", \"brisket\", \"brisket\", \"brisket\", \"brisket\", \"brisket\", \"broth\", \"broth\", \"broth\", \"broth\", \"broth\", \"broth\", \"broth\", \"brown\", \"brown\", \"brown\", \"brown\", \"brown\", \"brown\", \"brown\", \"brussels_sprout\", \"brussels_sprout\", \"brussels_sprout\", \"brussels_sprout\", \"brussels_sprout\", \"brussels_sprout\", \"brussels_sprout\", \"bun\", \"bun\", \"bun\", \"bun\", \"bun\", \"bun\", \"bun\", \"butt\", \"butt\", \"butt\", \"butt\", \"butt\", \"butt\", \"butt\", \"butter\", \"butter\", \"butter\", \"butter\", \"butter\", \"butter\", \"butter\", \"button\", \"button\", \"button\", \"button\", \"button\", \"button\", \"button\", \"cabbage\", \"cabbage\", \"cabbage\", \"cabbage\", \"cabbage\", \"cabbage\", \"cabbage\", \"calorie\", \"calorie\", \"calorie\", \"calorie\", \"calorie\", \"calorie\", \"calorie\", \"cannellini\", \"cannellini\", \"cannellini\", \"cannellini\", \"cannellini\", \"cannellini\", \"cannellini\", \"cantaloupe\", \"cantaloupe\", \"cantaloupe\", \"cantaloupe\", \"cantaloupe\", \"cantaloupe\", \"cantaloupe\", \"caper\", \"caper\", \"caper\", \"caper\", \"caper\", \"caper\", \"caper\", \"cardamom\", \"cardamom\", \"cardamom\", \"cardamom\", \"cardamom\", \"cardamom\", \"cardamom\", \"carrot\", \"carrot\", \"carrot\", \"carrot\", \"carrot\", \"carrot\", \"carrot\", \"cashew\", \"cashew\", \"cashew\", \"cashew\", \"cashew\", \"cashew\", \"cashew\", \"cayenne\", \"cayenne\", \"cayenne\", \"cayenne\", \"cayenne\", \"cayenne\", \"cayenne\", \"celery\", \"celery\", \"celery\", \"celery\", \"celery\", \"celery\", \"celery\", \"cereal\", \"cereal\", \"cereal\", \"cereal\", \"cereal\", \"cereal\", \"cereal\", \"cereal\", \"charcoal\", \"charcoal\", \"charcoal\", \"charcoal\", \"charcoal\", \"charcoal\", \"charcoal\", \"chardonnay\", \"chardonnay\", \"chardonnay\", \"chardonnay\", \"chardonnay\", \"chardonnay\", \"chardonnay\", \"cheddar\", \"cheddar\", \"cheddar\", \"cheddar\", \"cheddar\", \"cheddar\", \"cheddar\", \"cheese\", \"cheese\", \"cheese\", \"cheese\", \"cheese\", \"cheese\", \"cheese\", \"cherry\", \"cherry\", \"cherry\", \"cherry\", \"cherry\", \"cherry\", \"cherry\", \"cherry\", \"chicken\", \"chicken\", \"chicken\", \"chicken\", \"chicken\", \"chicken\", \"chicken\", \"chile\", \"chile\", \"chile\", \"chile\", \"chile\", \"chile\", \"chile\", \"chili\", \"chili\", \"chili\", \"chili\", \"chili\", \"chili\", \"chili\", \"chilie\", \"chilie\", \"chilie\", \"chilie\", \"chilie\", \"chilie\", \"chilie\", \"chinese\", \"chinese\", \"chinese\", \"chinese\", \"chinese\", \"chinese\", \"chinese\", \"chip\", \"chip\", \"chip\", \"chip\", \"chip\", \"chip\", \"chip\", \"chipotle\", \"chipotle\", \"chipotle\", \"chipotle\", \"chipotle\", \"chipotle\", \"chipotle\", \"chive\", \"chive\", \"chive\", \"chive\", \"chive\", \"chive\", \"chive\", \"cider\", \"cider\", \"cider\", \"cider\", \"cider\", \"cider\", \"cider\", \"cinnamon\", \"cinnamon\", \"cinnamon\", \"cinnamon\", \"cinnamon\", \"cinnamon\", \"cinnamon\", \"clam\", \"clam\", \"clam\", \"clam\", \"clam\", \"clam\", \"clam\", \"cob\", \"cob\", \"cob\", \"cob\", \"cob\", \"cob\", \"cob\", \"cocktail\", \"cocktail\", \"cocktail\", \"cocktail\", \"cocktail\", \"cocktail\", \"cocktail\", \"coconut\", \"coconut\", \"coconut\", \"coconut\", \"coconut\", \"coconut\", \"coconut\", \"colby\", \"colby\", \"colby\", \"colby\", \"colby\", \"colby\", \"colby\", \"confectioner\", \"confectioner\", \"confectioner\", \"confectioner\", \"confectioner\", \"confectioner\", \"confectioner\", \"cool\", \"cool\", \"cool\", \"cool\", \"cool\", \"cool\", \"cool\", \"coriander\", \"coriander\", \"coriander\", \"coriander\", \"coriander\", \"coriander\", \"coriander\", \"corn\", \"corn\", \"corn\", \"corn\", \"corn\", \"corn\", \"corn\", \"cornflake\", \"cornflake\", \"cornflake\", \"cornflake\", \"cornflake\", \"cornflake\", \"cornflake\", \"cornmeal\", \"cornmeal\", \"cornmeal\", \"cornmeal\", \"cornmeal\", \"cornmeal\", \"cornmeal\", \"cornstarch\", \"cornstarch\", \"cornstarch\", \"cornstarch\", \"cornstarch\", \"cornstarch\", \"cornstarch\", \"cottage\", \"cottage\", \"cottage\", \"cottage\", \"cottage\", \"cottage\", \"cottage\", \"couscous\", \"couscous\", \"couscous\", \"couscous\", \"couscous\", \"couscous\", \"couscous\", \"crabmeat\", \"crabmeat\", \"crabmeat\", \"crabmeat\", \"crabmeat\", \"crabmeat\", \"crabmeat\", \"cracker\", \"cracker\", \"cracker\", \"cracker\", \"cracker\", \"cracker\", \"cracker\", \"cream\", \"cream\", \"cream\", \"cream\", \"cream\", \"cream\", \"cream\", \"creamer\", \"creamer\", \"creamer\", \"creamer\", \"creamer\", \"creamer\", \"creamer\", \"crouton\", \"crouton\", \"crouton\", \"crouton\", \"crouton\", \"crouton\", \"crouton\", \"crumb\", \"crumb\", \"crumb\", \"crumb\", \"crumb\", \"crumb\", \"crumb\", \"crust\", \"crust\", \"crust\", \"crust\", \"crust\", \"crust\", \"crust\", \"cucumber\", \"cucumber\", \"cucumber\", \"cucumber\", \"cucumber\", \"cucumber\", \"cucumber\", \"cumin\", \"cumin\", \"cumin\", \"cumin\", \"cumin\", \"cumin\", \"cumin\", \"curry\", \"curry\", \"curry\", \"curry\", \"curry\", \"curry\", \"curry\", \"deli\", \"deli\", \"deli\", \"deli\", \"deli\", \"deli\", \"deli\", \"dijon\", \"dijon\", \"dijon\", \"dijon\", \"dijon\", \"dijon\", \"dijon\", \"dill\", \"dill\", \"dill\", \"dill\", \"dill\", \"dill\", \"dill\", \"dip\", \"dip\", \"dip\", \"dip\", \"dip\", \"dip\", \"dip\", \"ditalini\", \"ditalini\", \"ditalini\", \"ditalini\", \"ditalini\", \"ditalini\", \"ditalini\", \"dog\", \"dog\", \"dog\", \"dog\", \"dog\", \"dog\", \"dog\", \"dough\", \"dough\", \"dough\", \"dough\", \"dough\", \"dough\", \"dough\", \"drained\", \"drained\", \"drained\", \"drained\", \"drained\", \"drained\", \"drained\", \"dripping\", \"dripping\", \"dripping\", \"dripping\", \"dripping\", \"dripping\", \"dripping\", \"duty\", \"duty\", \"duty\", \"duty\", \"duty\", \"duty\", \"duty\", \"duty\", \"egg\", \"egg\", \"egg\", \"egg\", \"egg\", \"egg\", \"egg\", \"eggplant\", \"eggplant\", \"eggplant\", \"eggplant\", \"eggplant\", \"eggplant\", \"eggplant\", \"feta\", \"feta\", \"feta\", \"feta\", \"feta\", \"feta\", \"feta\", \"fire\", \"fire\", \"fire\", \"fire\", \"fire\", \"fire\", \"fire\", \"fish\", \"fish\", \"fish\", \"fish\", \"fish\", \"fish\", \"fish\", \"flatbread\", \"flatbread\", \"flatbread\", \"flatbread\", \"flatbread\", \"flatbread\", \"flatbread\", \"flour\", \"flour\", \"flour\", \"flour\", \"flour\", \"flour\", \"flour\", \"french\", \"french\", \"french\", \"french\", \"french\", \"french\", \"french\", \"fry\", \"fry\", \"fry\", \"fry\", \"fry\", \"fry\", \"fry\", \"garbanzo\", \"garbanzo\", \"garbanzo\", \"garbanzo\", \"garbanzo\", \"garbanzo\", \"garbanzo\", \"garlic\", \"garlic\", \"garlic\", \"garlic\", \"garlic\", \"garlic\", \"garlic\", \"garnish\", \"garnish\", \"garnish\", \"garnish\", \"garnish\", \"garnish\", \"garnish\", \"giblet\", \"giblet\", \"giblet\", \"giblet\", \"giblet\", \"giblet\", \"giblet\", \"ginger\", \"ginger\", \"ginger\", \"ginger\", \"ginger\", \"ginger\", \"ginger\", \"glaze\", \"glaze\", \"glaze\", \"glaze\", \"glaze\", \"glaze\", \"glaze\", \"god\", \"god\", \"god\", \"god\", \"god\", \"god\", \"god\", \"golden\", \"golden\", \"golden\", \"golden\", \"golden\", \"golden\", \"golden\", \"golden\", \"gourmet\", \"gourmet\", \"gourmet\", \"gourmet\", \"gourmet\", \"gourmet\", \"gourmet\", \"gourmet\", \"granular\", \"granular\", \"granular\", \"granular\", \"granular\", \"granular\", \"granular\", \"grape\", \"grape\", \"grape\", \"grape\", \"grape\", \"grape\", \"grape\", \"gravy\", \"gravy\", \"gravy\", \"gravy\", \"gravy\", \"gravy\", \"gravy\", \"greek\", \"greek\", \"greek\", \"greek\", \"greek\", \"greek\", \"greek\", \"greek\", \"ham\", \"ham\", \"ham\", \"ham\", \"ham\", \"ham\", \"ham\", \"ham\", \"hamburger_bun\", \"hamburger_bun\", \"hamburger_bun\", \"hamburger_bun\", \"hamburger_bun\", \"hamburger_bun\", \"hamburger_bun\", \"heavy_whipping\", \"heavy_whipping\", \"heavy_whipping\", \"heavy_whipping\", \"heavy_whipping\", \"heavy_whipping\", \"heavy_whipping\", \"herb\", \"herb\", \"herb\", \"herb\", \"herb\", \"herb\", \"herb\", \"hoisin\", \"hoisin\", \"hoisin\", \"hoisin\", \"hoisin\", \"hoisin\", \"hoisin\", \"honey\", \"honey\", \"honey\", \"honey\", \"honey\", \"honey\", \"honey\", \"horseradish\", \"horseradish\", \"horseradish\", \"horseradish\", \"horseradish\", \"horseradish\", \"horseradish\", \"husk\", \"husk\", \"husk\", \"husk\", \"husk\", \"husk\", \"husk\", \"hydrogenated\", \"hydrogenated\", \"hydrogenated\", \"hydrogenated\", \"hydrogenated\", \"hydrogenated\", \"hydrogenated\", \"imagine\", \"imagine\", \"imagine\", \"imagine\", \"imagine\", \"imagine\", \"imagine\", \"imagine\", \"italian\", \"italian\", \"italian\", \"italian\", \"italian\", \"italian\", \"italian\", \"jalapeno\", \"jalapeno\", \"jalapeno\", \"jalapeno\", \"jalapeno\", \"jalapeno\", \"jalapeno\", \"juice\", \"juice\", \"juice\", \"juice\", \"juice\", \"juice\", \"juice\", \"kernel\", \"kernel\", \"kernel\", \"kernel\", \"kernel\", \"kernel\", \"kernel\", \"ketchup\", \"ketchup\", \"ketchup\", \"ketchup\", \"ketchup\", \"ketchup\", \"ketchup\", \"kitchen\", \"kitchen\", \"kitchen\", \"kitchen\", \"kitchen\", \"kitchen\", \"kitchen\", \"kiwifruit\", \"kiwifruit\", \"kiwifruit\", \"kiwifruit\", \"kiwifruit\", \"kiwifruit\", \"kiwifruit\", \"korean\", \"korean\", \"korean\", \"korean\", \"korean\", \"korean\", \"korean\", \"lasagna_noodle\", \"lasagna_noodle\", \"lasagna_noodle\", \"lasagna_noodle\", \"lasagna_noodle\", \"lasagna_noodle\", \"lasagna_noodle\", \"leek\", \"leek\", \"leek\", \"leek\", \"leek\", \"leek\", \"leek\", \"lemon\", \"lemon\", \"lemon\", \"lemon\", \"lemon\", \"lemon\", \"lemon\", \"lentil\", \"lentil\", \"lentil\", \"lentil\", \"lentil\", \"lentil\", \"lentil\", \"lime\", \"lime\", \"lime\", \"lime\", \"lime\", \"lime\", \"lime\", \"liquid_smoke\", \"liquid_smoke\", \"liquid_smoke\", \"liquid_smoke\", \"liquid_smoke\", \"liquid_smoke\", \"liquid_smoke\", \"loaf\", \"loaf\", \"loaf\", \"loaf\", \"loaf\", \"loaf\", \"loaf\", \"loin\", \"loin\", \"loin\", \"loin\", \"loin\", \"loin\", \"loin\", \"loomi\", \"loomi\", \"loomi\", \"loomi\", \"loomi\", \"loomi\", \"loomi\", \"mango\", \"mango\", \"mango\", \"mango\", \"mango\", \"mango\", \"mango\", \"maraschino\", \"maraschino\", \"maraschino\", \"maraschino\", \"maraschino\", \"maraschino\", \"maraschino\", \"margarine\", \"margarine\", \"margarine\", \"margarine\", \"margarine\", \"margarine\", \"margarine\", \"margarine\", \"marinated_artichoke\", \"marinated_artichoke\", \"marinated_artichoke\", \"marinated_artichoke\", \"marinated_artichoke\", \"marinated_artichoke\", \"marinated_artichoke\", \"marshmallow\", \"marshmallow\", \"marshmallow\", \"marshmallow\", \"marshmallow\", \"marshmallow\", \"marshmallow\", \"mayonnaise\", \"mayonnaise\", \"mayonnaise\", \"mayonnaise\", \"mayonnaise\", \"mayonnaise\", \"mayonnaise\", \"meat\", \"meat\", \"meat\", \"meat\", \"meat\", \"meat\", \"meat\", \"meatloaf\", \"meatloaf\", \"meatloaf\", \"meatloaf\", \"meatloaf\", \"meatloaf\", \"meatloaf\", \"mexican\", \"mexican\", \"mexican\", \"mexican\", \"mexican\", \"mexican\", \"mexican\", \"milk\", \"milk\", \"milk\", \"milk\", \"milk\", \"milk\", \"milk\", \"mint\", \"mint\", \"mint\", \"mint\", \"mint\", \"mint\", \"mint\", \"mirin_japanese\", \"mirin_japanese\", \"mirin_japanese\", \"mirin_japanese\", \"mirin_japanese\", \"mirin_japanese\", \"mirin_japanese\", \"mixture\", \"mixture\", \"mixture\", \"mixture\", \"mixture\", \"mixture\", \"mixture\", \"mozzarella\", \"mozzarella\", \"mozzarella\", \"mozzarella\", \"mozzarella\", \"mozzarella\", \"mozzarella\", \"mushroom\", \"mushroom\", \"mushroom\", \"mushroom\", \"mushroom\", \"mushroom\", \"mushroom\", \"mussel\", \"mussel\", \"mussel\", \"mussel\", \"mussel\", \"mussel\", \"mussel\", \"mustard\", \"mustard\", \"mustard\", \"mustard\", \"mustard\", \"mustard\", \"mustard\", \"natural\", \"natural\", \"natural\", \"natural\", \"natural\", \"natural\", \"natural\", \"neck\", \"neck\", \"neck\", \"neck\", \"neck\", \"neck\", \"neck\", \"neck\", \"noodle\", \"noodle\", \"noodle\", \"noodle\", \"noodle\", \"noodle\", \"noodle\", \"oat\", \"oat\", \"oat\", \"oat\", \"oat\", \"oat\", \"oat\", \"oat\", \"oil\", \"oil\", \"oil\", \"oil\", \"oil\", \"oil\", \"oil\", \"olive\", \"olive\", \"olive\", \"olive\", \"olive\", \"olive\", \"olive\", \"onion\", \"onion\", \"onion\", \"onion\", \"onion\", \"onion\", \"onion\", \"orange\", \"orange\", \"orange\", \"orange\", \"orange\", \"orange\", \"orange\", \"orange\", \"oregano\", \"oregano\", \"oregano\", \"oregano\", \"oregano\", \"oregano\", \"oregano\", \"organic\", \"organic\", \"organic\", \"organic\", \"organic\", \"organic\", \"organic\", \"organic\", \"orzo\", \"orzo\", \"orzo\", \"orzo\", \"orzo\", \"orzo\", \"orzo\", \"oven\", \"oven\", \"oven\", \"oven\", \"oven\", \"oven\", \"oven\", \"oven\", \"panko\", \"panko\", \"panko\", \"panko\", \"panko\", \"panko\", \"panko\", \"paprika\", \"paprika\", \"paprika\", \"paprika\", \"paprika\", \"paprika\", \"paprika\", \"parsley\", \"parsley\", \"parsley\", \"parsley\", \"parsley\", \"parsley\", \"parsley\", \"pasta\", \"pasta\", \"pasta\", \"pasta\", \"pasta\", \"pasta\", \"pasta\", \"paste\", \"paste\", \"paste\", \"paste\", \"paste\", \"paste\", \"paste\", \"pea\", \"pea\", \"pea\", \"pea\", \"pea\", \"pea\", \"pea\", \"peanut\", \"peanut\", \"peanut\", \"peanut\", \"peanut\", \"peanut\", \"peanut\", \"pepper\", \"pepper\", \"pepper\", \"pepper\", \"pepper\", \"pepper\", \"pepper\", \"peppercorn\", \"peppercorn\", \"peppercorn\", \"peppercorn\", \"peppercorn\", \"peppercorn\", \"peppercorn\", \"pepperoni\", \"pepperoni\", \"pepperoni\", \"pepperoni\", \"pepperoni\", \"pepperoni\", \"pepperoni\", \"pickle\", \"pickle\", \"pickle\", \"pickle\", \"pickle\", \"pickle\", \"pickle\", \"pickle_relish\", \"pickle_relish\", \"pickle_relish\", \"pickle_relish\", \"pickle_relish\", \"pickle_relish\", \"pickle_relish\", \"pie\", \"pie\", \"pie\", \"pie\", \"pie\", \"pie\", \"pie\", \"pineapple\", \"pineapple\", \"pineapple\", \"pineapple\", \"pineapple\", \"pineapple\", \"pineapple\", \"pineapple\", \"pizza\", \"pizza\", \"pizza\", \"pizza\", \"pizza\", \"pizza\", \"pizza\", \"plain_yogurt\", \"plain_yogurt\", \"plain_yogurt\", \"plain_yogurt\", \"plain_yogurt\", \"plain_yogurt\", \"plain_yogurt\", \"poblano\", \"poblano\", \"poblano\", \"poblano\", \"poblano\", \"poblano\", \"poblano\", \"pork\", \"pork\", \"pork\", \"pork\", \"pork\", \"pork\", \"pork\", \"portobello\", \"portobello\", \"portobello\", \"portobello\", \"portobello\", \"portobello\", \"portobello\", \"potato\", \"potato\", \"potato\", \"potato\", \"potato\", \"potato\", \"potato\", \"poultry\", \"poultry\", \"poultry\", \"poultry\", \"poultry\", \"poultry\", \"poultry\", \"prawn\", \"prawn\", \"prawn\", \"prawn\", \"prawn\", \"prawn\", \"prawn\", \"provolone\", \"provolone\", \"provolone\", \"provolone\", \"provolone\", \"provolone\", \"provolone\", \"quick\", \"quick\", \"quick\", \"quick\", \"quick\", \"quick\", \"quick\", \"raisin\", \"raisin\", \"raisin\", \"raisin\", \"raisin\", \"raisin\", \"raisin\", \"ramen_noodle\", \"ramen_noodle\", \"ramen_noodle\", \"ramen_noodle\", \"ramen_noodle\", \"ramen_noodle\", \"ramen_noodle\", \"ranch\", \"ranch\", \"ranch\", \"ranch\", \"ranch\", \"ranch\", \"ranch\", \"refried\", \"refried\", \"refried\", \"refried\", \"refried\", \"refried\", \"refried\", \"rib\", \"rib\", \"rib\", \"rib\", \"rib\", \"rib\", \"rib\", \"rice\", \"rice\", \"rice\", \"rice\", \"rice\", \"rice\", \"rice\", \"ricotta\", \"ricotta\", \"ricotta\", \"ricotta\", \"ricotta\", \"ricotta\", \"ricotta\", \"roast\", \"roast\", \"roast\", \"roast\", \"roast\", \"roast\", \"roast\", \"roll\", \"roll\", \"roll\", \"roll\", \"roll\", \"roll\", \"roll\", \"rolled_oat\", \"rolled_oat\", \"rolled_oat\", \"rolled_oat\", \"rolled_oat\", \"rolled_oat\", \"rolled_oat\", \"root\", \"root\", \"root\", \"root\", \"root\", \"root\", \"root\", \"rosemary\", \"rosemary\", \"rosemary\", \"rosemary\", \"rosemary\", \"rosemary\", \"rosemary\", \"russet\", \"russet\", \"russet\", \"russet\", \"russet\", \"russet\", \"russet\", \"rye\", \"rye\", \"rye\", \"rye\", \"rye\", \"rye\", \"rye\", \"sage\", \"sage\", \"sage\", \"sage\", \"sage\", \"sage\", \"sage\", \"salad\", \"salad\", \"salad\", \"salad\", \"salad\", \"salad\", \"salad\", \"salami\", \"salami\", \"salami\", \"salami\", \"salami\", \"salami\", \"salami\", \"salmon\", \"salmon\", \"salmon\", \"salmon\", \"salmon\", \"salmon\", \"salmon\", \"salsa\", \"salsa\", \"salsa\", \"salsa\", \"salsa\", \"salsa\", \"salsa\", \"salt\", \"salt\", \"salt\", \"salt\", \"salt\", \"salt\", \"salt\", \"saltine_cracker\", \"saltine_cracker\", \"saltine_cracker\", \"saltine_cracker\", \"saltine_cracker\", \"saltine_cracker\", \"saltine_cracker\", \"sauce\", \"sauce\", \"sauce\", \"sauce\", \"sauce\", \"sauce\", \"sauce\", \"sausage\", \"sausage\", \"sausage\", \"sausage\", \"sausage\", \"sausage\", \"sausage\", \"savory\", \"savory\", \"savory\", \"savory\", \"savory\", \"savory\", \"savory\", \"scallop\", \"scallop\", \"scallop\", \"scallop\", \"scallop\", \"scallop\", \"scallop\", \"seafood\", \"seafood\", \"seafood\", \"seafood\", \"seafood\", \"seafood\", \"seafood\", \"seaweed\", \"seaweed\", \"seaweed\", \"seaweed\", \"seaweed\", \"seaweed\", \"seaweed\", \"seed\", \"seed\", \"seed\", \"seed\", \"seed\", \"seed\", \"seed\", \"segment\", \"segment\", \"segment\", \"segment\", \"segment\", \"segment\", \"segment\", \"segment\", \"semisweet_chocolate\", \"semisweet_chocolate\", \"semisweet_chocolate\", \"semisweet_chocolate\", \"semisweet_chocolate\", \"semisweet_chocolate\", \"semisweet_chocolate\", \"sesame\", \"sesame\", \"sesame\", \"sesame\", \"sesame\", \"sesame\", \"sesame\", \"shallot\", \"shallot\", \"shallot\", \"shallot\", \"shallot\", \"shallot\", \"shallot\", \"shell\", \"shell\", \"shell\", \"shell\", \"shell\", \"shell\", \"shell\", \"shell\", \"shiitake\", \"shiitake\", \"shiitake\", \"shiitake\", \"shiitake\", \"shiitake\", \"shiitake\", \"shortening\", \"shortening\", \"shortening\", \"shortening\", \"shortening\", \"shortening\", \"shortening\", \"shoulder\", \"shoulder\", \"shoulder\", \"shoulder\", \"shoulder\", \"shoulder\", \"shoulder\", \"shrimp\", \"shrimp\", \"shrimp\", \"shrimp\", \"shrimp\", \"shrimp\", \"shrimp\", \"skin\", \"skin\", \"skin\", \"skin\", \"skin\", \"skin\", \"skin\", \"soul\", \"soul\", \"soul\", \"soul\", \"soul\", \"soul\", \"soul\", \"soup\", \"soup\", \"soup\", \"soup\", \"soup\", \"soup\", \"soup\", \"soy\", \"soy\", \"soy\", \"soy\", \"soy\", \"soy\", \"soy\", \"spaghetti\", \"spaghetti\", \"spaghetti\", \"spaghetti\", \"spaghetti\", \"spaghetti\", \"spaghetti\", \"spear\", \"spear\", \"spear\", \"spear\", \"spear\", \"spear\", \"spear\", \"spectrum_natural\", \"spectrum_natural\", \"spectrum_natural\", \"spectrum_natural\", \"spectrum_natural\", \"spectrum_natural\", \"spectrum_natural\", \"spectrum_natural\", \"spice\", \"spice\", \"spice\", \"spice\", \"spice\", \"spice\", \"spice\", \"spinach\", \"spinach\", \"spinach\", \"spinach\", \"spinach\", \"spinach\", \"spinach\", \"sprig\", \"sprig\", \"sprig\", \"sprig\", \"sprig\", \"sprig\", \"sprig\", \"squash\", \"squash\", \"squash\", \"squash\", \"squash\", \"squash\", \"squash\", \"steak\", \"steak\", \"steak\", \"steak\", \"steak\", \"steak\", \"steak\", \"strawberry\", \"strawberry\", \"strawberry\", \"strawberry\", \"strawberry\", \"strawberry\", \"strawberry\", \"strawberry\", \"sugar\", \"sugar\", \"sugar\", \"sugar\", \"sugar\", \"sugar\", \"sugar\", \"sunflower\", \"sunflower\", \"sunflower\", \"sunflower\", \"sunflower\", \"sunflower\", \"sunflower\", \"sweet\", \"sweet\", \"sweet\", \"sweet\", \"sweet\", \"sweet\", \"sweet\", \"sweeten\", \"sweeten\", \"sweeten\", \"sweeten\", \"sweeten\", \"sweeten\", \"sweeten\", \"swiss\", \"swiss\", \"swiss\", \"swiss\", \"swiss\", \"swiss\", \"swiss\", \"syrup\", \"syrup\", \"syrup\", \"syrup\", \"syrup\", \"syrup\", \"syrup\", \"tabasco\", \"tabasco\", \"tabasco\", \"tabasco\", \"tabasco\", \"tabasco\", \"tabasco\", \"tamari\", \"tamari\", \"tamari\", \"tamari\", \"tamari\", \"tamari\", \"tamari\", \"tamarind\", \"tamarind\", \"tamarind\", \"tamarind\", \"tamarind\", \"tamarind\", \"tamarind\", \"tender\", \"tender\", \"tender\", \"tender\", \"tender\", \"tender\", \"tender\", \"tender\", \"tenderloin\", \"tenderloin\", \"tenderloin\", \"tenderloin\", \"tenderloin\", \"tenderloin\", \"tenderloin\", \"thyme\", \"thyme\", \"thyme\", \"thyme\", \"thyme\", \"thyme\", \"thyme\", \"tofu\", \"tofu\", \"tofu\", \"tofu\", \"tofu\", \"tofu\", \"tofu\", \"tomato\", \"tomato\", \"tomato\", \"tomato\", \"tomato\", \"tomato\", \"tomato\", \"tortilla\", \"tortilla\", \"tortilla\", \"tortilla\", \"tortilla\", \"tortilla\", \"tortilla\", \"traditional\", \"traditional\", \"traditional\", \"traditional\", \"traditional\", \"traditional\", \"traditional\", \"turmeric\", \"turmeric\", \"turmeric\", \"turmeric\", \"turmeric\", \"turmeric\", \"turmeric\", \"twine\", \"twine\", \"twine\", \"twine\", \"twine\", \"twine\", \"twine\", \"unbaked_pie\", \"unbaked_pie\", \"unbaked_pie\", \"unbaked_pie\", \"unbaked_pie\", \"unbaked_pie\", \"unbaked_pie\", \"unsweetened\", \"unsweetened\", \"unsweetened\", \"unsweetened\", \"unsweetened\", \"unsweetened\", \"unsweetened\", \"vegetable\", \"vegetable\", \"vegetable\", \"vegetable\", \"vegetable\", \"vegetable\", \"vegetable\", \"veggie\", \"veggie\", \"veggie\", \"veggie\", \"veggie\", \"veggie\", \"veggie\", \"veggie\", \"vinegar\", \"vinegar\", \"vinegar\", \"vinegar\", \"vinegar\", \"vinegar\", \"vinegar\", \"walnut\", \"walnut\", \"walnut\", \"walnut\", \"walnut\", \"walnut\", \"walnut\", \"water\", \"water\", \"water\", \"water\", \"water\", \"water\", \"water\", \"wheat\", \"wheat\", \"wheat\", \"wheat\", \"wheat\", \"wheat\", \"wheat\", \"whip\", \"whip\", \"whip\", \"whip\", \"whip\", \"whip\", \"whip\", \"wild\", \"wild\", \"wild\", \"wild\", \"wild\", \"wild\", \"wild\", \"wine\", \"wine\", \"wine\", \"wine\", \"wine\", \"wine\", \"wine\", \"wing\", \"wing\", \"wing\", \"wing\", \"wing\", \"wing\", \"wing\", \"worcestershire\", \"worcestershire\", \"worcestershire\", \"worcestershire\", \"worcestershire\", \"worcestershire\", \"worcestershire\", \"yeast\", \"yeast\", \"yeast\", \"yeast\", \"yeast\", \"yeast\", \"yeast\", \"zest\", \"zest\", \"zest\", \"zest\", \"zest\", \"zest\", \"zest\", \"zucchini\", \"zucchini\", \"zucchini\", \"zucchini\", \"zucchini\", \"zucchini\", \"zucchini\"]}, \"R\": 30, \"lambda.step\": 0.01, \"plot.opts\": {\"xlab\": \"PC1\", \"ylab\": \"PC2\"}, \"topic.order\": [4, 7, 5, 1, 3, 8, 6, 2]};\n",
       "\n",
       "function LDAvis_load_lib(url, callback){\n",
       "  var s = document.createElement('script');\n",
       "  s.src = url;\n",
       "  s.async = true;\n",
       "  s.onreadystatechange = s.onload = callback;\n",
       "  s.onerror = function(){console.warn(\"failed to load library \" + url);};\n",
       "  document.getElementsByTagName(\"head\")[0].appendChild(s);\n",
       "}\n",
       "\n",
       "if(typeof(LDAvis) !== \"undefined\"){\n",
       "   // already loaded: just create the visualization\n",
       "   !function(LDAvis){\n",
       "       new LDAvis(\"#\" + \"ldavis_el2304018794878997203303951997\", ldavis_el2304018794878997203303951997_data);\n",
       "   }(LDAvis);\n",
       "}else if(typeof define === \"function\" && define.amd){\n",
       "   // require.js is available: use it to load d3/LDAvis\n",
       "   require.config({paths: {d3: \"https://d3js.org/d3.v5\"}});\n",
       "   require([\"d3\"], function(d3){\n",
       "      window.d3 = d3;\n",
       "      LDAvis_load_lib(\"https://cdn.jsdelivr.net/gh/bmabey/pyLDAvis@3.3.1/pyLDAvis/js/ldavis.v3.0.0.js\", function(){\n",
       "        new LDAvis(\"#\" + \"ldavis_el2304018794878997203303951997\", ldavis_el2304018794878997203303951997_data);\n",
       "      });\n",
       "    });\n",
       "}else{\n",
       "    // require.js not available: dynamically load d3 & LDAvis\n",
       "    LDAvis_load_lib(\"https://d3js.org/d3.v5.js\", function(){\n",
       "         LDAvis_load_lib(\"https://cdn.jsdelivr.net/gh/bmabey/pyLDAvis@3.3.1/pyLDAvis/js/ldavis.v3.0.0.js\", function(){\n",
       "                 new LDAvis(\"#\" + \"ldavis_el2304018794878997203303951997\", ldavis_el2304018794878997203303951997_data);\n",
       "            })\n",
       "         });\n",
       "}\n",
       "</script>"
      ],
      "text/plain": [
       "PreparedData(topic_coordinates=              x         y  topics  cluster       Freq\n",
       "topic                                                \n",
       "3     -0.137277 -0.063081       1        1  20.455187\n",
       "6     -0.097462  0.027597       2        1  18.983997\n",
       "4     -0.099006  0.070980       3        1  18.860930\n",
       "0     -0.054376 -0.011927       4        1  12.621658\n",
       "2     -0.007790 -0.095796       5        1  11.876299\n",
       "7      0.071090  0.203049       6        1  10.035661\n",
       "5      0.064315 -0.098413       7        1   6.666905\n",
       "1      0.260506 -0.032408       8        1   0.499362, topic_info=            Term         Freq        Total Category  logprob  loglift\n",
       "21         sauce  1164.000000  1164.000000  Default  30.0000  30.0000\n",
       "35         flour   649.000000   649.000000  Default  29.0000  29.0000\n",
       "33        cheese  1491.000000  1491.000000  Default  28.0000  28.0000\n",
       "13         lemon   385.000000   385.000000  Default  27.0000  27.0000\n",
       "51          milk   466.000000   466.000000  Default  26.0000  26.0000\n",
       "..           ...          ...          ...      ...      ...      ...\n",
       "563      scallop     0.491675    23.456138   Topic8  -6.1337   1.4345\n",
       "120       banana     0.463618    25.524776   Topic8  -6.1924   1.2912\n",
       "115        apple     0.476774    98.905831   Topic8  -6.1644  -0.0353\n",
       "12          dill     0.467812    72.718455   Topic8  -6.1834   0.2533\n",
       "225  unsweetened     0.458703    21.008731   Topic8  -6.2031   1.4753\n",
       "\n",
       "[431 rows x 6 columns], token_table=      Topic      Freq      Term\n",
       "term                           \n",
       "168       1  0.438634     adobo\n",
       "168       2  0.031331     adobo\n",
       "168       3  0.031331     adobo\n",
       "168       4  0.031331     adobo\n",
       "168       5  0.031331     adobo\n",
       "...     ...       ...       ...\n",
       "41        3  0.012885  zucchini\n",
       "41        4  0.012885  zucchini\n",
       "41        5  0.038654  zucchini\n",
       "41        6  0.012885  zucchini\n",
       "41        7  0.012885  zucchini\n",
       "\n",
       "[1997 rows x 3 columns], R=30, lambda_step=0.01, plot_opts={'xlab': 'PC1', 'ylab': 'PC2'}, topic_order=[4, 7, 5, 1, 3, 8, 6, 2])"
      ]
     },
     "execution_count": 109,
     "metadata": {},
     "output_type": "execute_result"
    }
   ],
   "source": [
    "# visualize the topics\n",
    "pyLDAvis.enable_notebook()\n",
    "LDAvis_prepared = gensimvis.prepare(lda_model_final, corpus, id2word)\n",
    "LDAvis_prepared"
   ]
  },
  {
   "cell_type": "code",
   "execution_count": 110,
   "metadata": {},
   "outputs": [],
   "source": [
    "pyLDAvis.save_html(LDAvis_prepared, 'recipe_lda.html')"
   ]
  },
  {
   "cell_type": "code",
   "execution_count": 111,
   "metadata": {},
   "outputs": [
    {
     "name": "stdout",
     "output_type": "stream",
     "text": [
      "[(0,\n",
      "  '0.098*\"pepper\" + 0.067*\"salt\" + 0.066*\"lemon\" + 0.054*\"juice\" + '\n",
      "  '0.044*\"onion\" + 0.038*\"oil\" + 0.031*\"salmon\" + 0.030*\"olive\" + '\n",
      "  '0.028*\"garlic\" + 0.026*\"mustard\"'),\n",
      " (1,\n",
      "  '0.007*\"pineapple\" + 0.006*\"organic\" + 0.006*\"cherry\" + 0.006*\"strawberry\" + '\n",
      "  '0.005*\"veggie\" + 0.005*\"margarine\" + 0.005*\"spectrum_natural\" + '\n",
      "  '0.004*\"tender\" + 0.004*\"orange\" + 0.004*\"cereal\"'),\n",
      " (2,\n",
      "  '0.076*\"oil\" + 0.069*\"sauce\" + 0.047*\"soy\" + 0.043*\"vegetable\" + '\n",
      "  '0.043*\"rice\" + 0.041*\"onion\" + 0.039*\"water\" + 0.039*\"pepper\" + '\n",
      "  '0.033*\"ginger\" + 0.026*\"salt\"'),\n",
      " (3,\n",
      "  '0.139*\"pepper\" + 0.078*\"onion\" + 0.051*\"salt\" + 0.050*\"oil\" + '\n",
      "  '0.046*\"tomato\" + 0.044*\"bean\" + 0.043*\"garlic\" + 0.030*\"olive\" + '\n",
      "  '0.024*\"sauce\" + 0.023*\"corn\"'),\n",
      " (4,\n",
      "  '0.083*\"onion\" + 0.082*\"pepper\" + 0.065*\"salt\" + 0.048*\"cream\" + '\n",
      "  '0.044*\"butter\" + 0.038*\"potato\" + 0.037*\"mushroom\" + 0.030*\"water\" + '\n",
      "  '0.027*\"chicken\" + 0.025*\"soup\"'),\n",
      " (5,\n",
      "  '0.090*\"sauce\" + 0.083*\"pepper\" + 0.061*\"pork\" + 0.040*\"salt\" + '\n",
      "  '0.037*\"onion\" + 0.026*\"worcestershire\" + 0.024*\"garlic\" + 0.019*\"mustard\" + '\n",
      "  '0.015*\"sugar\" + 0.014*\"vinegar\"'),\n",
      " (6,\n",
      "  '0.098*\"cheese\" + 0.084*\"pepper\" + 0.066*\"oil\" + 0.059*\"salt\" + '\n",
      "  '0.058*\"olive\" + 0.042*\"garlic\" + 0.038*\"onion\" + 0.030*\"italian\" + '\n",
      "  '0.023*\"basil\" + 0.022*\"sauce\"'),\n",
      " (7,\n",
      "  '0.087*\"flour\" + 0.069*\"milk\" + 0.065*\"butter\" + 0.065*\"cheese\" + '\n",
      "  '0.057*\"salt\" + 0.053*\"egg\" + 0.037*\"sugar\" + 0.029*\"bread\" + 0.019*\"baking\" '\n",
      "  '+ 0.016*\"water\"')]\n"
     ]
    }
   ],
   "source": [
    "# print keywords in the 8 topics\n",
    "pprint(lda_model_final.print_topics())\n",
    "doc_lda = lda_model_final[corpus]"
   ]
  },
  {
   "cell_type": "code",
   "execution_count": 112,
   "metadata": {},
   "outputs": [
    {
     "data": {
      "text/plain": [
       "[(4, 0.98284304)]"
      ]
     },
     "execution_count": 112,
     "metadata": {},
     "output_type": "execute_result"
    }
   ],
   "source": [
    "doc_lda[0]"
   ]
  },
  {
   "cell_type": "code",
   "execution_count": 113,
   "metadata": {},
   "outputs": [],
   "source": [
    "# create a df to show lda matrix\n",
    "lda_dict = {0: [], 1: [], 2: [], 3: [], 4: [], 5:[], 6:[], 7:[]}\n",
    "\n",
    "for _ in range(len(doc_lda)):\n",
    "    for key in list(lda_dict.keys()):\n",
    "        lda_dict[key].append(0)\n",
    "\n",
    "# create a df filled with 0\n",
    "lda_matrix = pd.DataFrame(lda_dict)\n",
    "\n",
    "# fill the probability distribution of topics for each row\n",
    "for i, row in enumerate(doc_lda):\n",
    "    for j, (topic, prop_topic) in enumerate(row):\n",
    "        lda_matrix.loc[i, topic] = prop_topic"
   ]
  },
  {
   "cell_type": "code",
   "execution_count": 114,
   "metadata": {},
   "outputs": [
    {
     "data": {
      "text/html": [
       "<div>\n",
       "<style scoped>\n",
       "    .dataframe tbody tr th:only-of-type {\n",
       "        vertical-align: middle;\n",
       "    }\n",
       "\n",
       "    .dataframe tbody tr th {\n",
       "        vertical-align: top;\n",
       "    }\n",
       "\n",
       "    .dataframe thead th {\n",
       "        text-align: right;\n",
       "    }\n",
       "</style>\n",
       "<table border=\"1\" class=\"dataframe\">\n",
       "  <thead>\n",
       "    <tr style=\"text-align: right;\">\n",
       "      <th></th>\n",
       "      <th>0</th>\n",
       "      <th>1</th>\n",
       "      <th>2</th>\n",
       "      <th>3</th>\n",
       "      <th>4</th>\n",
       "      <th>5</th>\n",
       "      <th>6</th>\n",
       "      <th>7</th>\n",
       "    </tr>\n",
       "  </thead>\n",
       "  <tbody>\n",
       "    <tr>\n",
       "      <th>0</th>\n",
       "      <td>0.000000</td>\n",
       "      <td>0.0</td>\n",
       "      <td>0.0</td>\n",
       "      <td>0.00000</td>\n",
       "      <td>0.982843</td>\n",
       "      <td>0.000000</td>\n",
       "      <td>0.0</td>\n",
       "      <td>0.0</td>\n",
       "    </tr>\n",
       "    <tr>\n",
       "      <th>1</th>\n",
       "      <td>0.000000</td>\n",
       "      <td>0.0</td>\n",
       "      <td>0.0</td>\n",
       "      <td>0.99229</td>\n",
       "      <td>0.000000</td>\n",
       "      <td>0.000000</td>\n",
       "      <td>0.0</td>\n",
       "      <td>0.0</td>\n",
       "    </tr>\n",
       "    <tr>\n",
       "      <th>2</th>\n",
       "      <td>0.992290</td>\n",
       "      <td>0.0</td>\n",
       "      <td>0.0</td>\n",
       "      <td>0.00000</td>\n",
       "      <td>0.000000</td>\n",
       "      <td>0.000000</td>\n",
       "      <td>0.0</td>\n",
       "      <td>0.0</td>\n",
       "    </tr>\n",
       "    <tr>\n",
       "      <th>3</th>\n",
       "      <td>0.000000</td>\n",
       "      <td>0.0</td>\n",
       "      <td>0.0</td>\n",
       "      <td>0.00000</td>\n",
       "      <td>0.000000</td>\n",
       "      <td>0.990113</td>\n",
       "      <td>0.0</td>\n",
       "      <td>0.0</td>\n",
       "    </tr>\n",
       "    <tr>\n",
       "      <th>4</th>\n",
       "      <td>0.993055</td>\n",
       "      <td>0.0</td>\n",
       "      <td>0.0</td>\n",
       "      <td>0.00000</td>\n",
       "      <td>0.000000</td>\n",
       "      <td>0.000000</td>\n",
       "      <td>0.0</td>\n",
       "      <td>0.0</td>\n",
       "    </tr>\n",
       "  </tbody>\n",
       "</table>\n",
       "</div>"
      ],
      "text/plain": [
       "          0    1    2        3         4         5    6    7\n",
       "0  0.000000  0.0  0.0  0.00000  0.982843  0.000000  0.0  0.0\n",
       "1  0.000000  0.0  0.0  0.99229  0.000000  0.000000  0.0  0.0\n",
       "2  0.992290  0.0  0.0  0.00000  0.000000  0.000000  0.0  0.0\n",
       "3  0.000000  0.0  0.0  0.00000  0.000000  0.990113  0.0  0.0\n",
       "4  0.993055  0.0  0.0  0.00000  0.000000  0.000000  0.0  0.0"
      ]
     },
     "execution_count": 114,
     "metadata": {},
     "output_type": "execute_result"
    }
   ],
   "source": [
    "lda_matrix.head()"
   ]
  },
  {
   "cell_type": "code",
   "execution_count": 115,
   "metadata": {},
   "outputs": [
    {
     "data": {
      "text/html": [
       "<div>\n",
       "<style scoped>\n",
       "    .dataframe tbody tr th:only-of-type {\n",
       "        vertical-align: middle;\n",
       "    }\n",
       "\n",
       "    .dataframe tbody tr th {\n",
       "        vertical-align: top;\n",
       "    }\n",
       "\n",
       "    .dataframe thead th {\n",
       "        text-align: right;\n",
       "    }\n",
       "</style>\n",
       "<table border=\"1\" class=\"dataframe\">\n",
       "  <thead>\n",
       "    <tr style=\"text-align: right;\">\n",
       "      <th></th>\n",
       "      <th>0</th>\n",
       "      <th>1</th>\n",
       "      <th>2</th>\n",
       "      <th>3</th>\n",
       "      <th>4</th>\n",
       "      <th>5</th>\n",
       "      <th>6</th>\n",
       "      <th>7</th>\n",
       "      <th>title</th>\n",
       "      <th>ingredients</th>\n",
       "    </tr>\n",
       "  </thead>\n",
       "  <tbody>\n",
       "    <tr>\n",
       "      <th>0</th>\n",
       "      <td>0.000000</td>\n",
       "      <td>0.0</td>\n",
       "      <td>0.0</td>\n",
       "      <td>0.00000</td>\n",
       "      <td>0.982843</td>\n",
       "      <td>0.000000</td>\n",
       "      <td>0.0</td>\n",
       "      <td>0.0</td>\n",
       "      <td>Chip Truck Fries</td>\n",
       "      <td>6 baking potatoes, cut into 1/4 inch slices,1/...</td>\n",
       "    </tr>\n",
       "    <tr>\n",
       "      <th>1</th>\n",
       "      <td>0.000000</td>\n",
       "      <td>0.0</td>\n",
       "      <td>0.0</td>\n",
       "      <td>0.99229</td>\n",
       "      <td>0.000000</td>\n",
       "      <td>0.000000</td>\n",
       "      <td>0.0</td>\n",
       "      <td>0.0</td>\n",
       "      <td>Irish Bacon And Cabbage Soup</td>\n",
       "      <td>1/2 pound Irish bacon, diced,2 large potatoes,...</td>\n",
       "    </tr>\n",
       "    <tr>\n",
       "      <th>2</th>\n",
       "      <td>0.992290</td>\n",
       "      <td>0.0</td>\n",
       "      <td>0.0</td>\n",
       "      <td>0.00000</td>\n",
       "      <td>0.000000</td>\n",
       "      <td>0.000000</td>\n",
       "      <td>0.0</td>\n",
       "      <td>0.0</td>\n",
       "      <td>Quick Salmon Salad</td>\n",
       "      <td>2 (6 ounce) cans pink salmon, drained,1/2 cup ...</td>\n",
       "    </tr>\n",
       "    <tr>\n",
       "      <th>3</th>\n",
       "      <td>0.000000</td>\n",
       "      <td>0.0</td>\n",
       "      <td>0.0</td>\n",
       "      <td>0.00000</td>\n",
       "      <td>0.000000</td>\n",
       "      <td>0.990113</td>\n",
       "      <td>0.0</td>\n",
       "      <td>0.0</td>\n",
       "      <td>Bills Seasoned Ketchup</td>\n",
       "      <td>1 (28 ounce) bottle ketchup,2 teaspoons hot pe...</td>\n",
       "    </tr>\n",
       "    <tr>\n",
       "      <th>4</th>\n",
       "      <td>0.993055</td>\n",
       "      <td>0.0</td>\n",
       "      <td>0.0</td>\n",
       "      <td>0.00000</td>\n",
       "      <td>0.000000</td>\n",
       "      <td>0.000000</td>\n",
       "      <td>0.0</td>\n",
       "      <td>0.0</td>\n",
       "      <td>Celery Salad</td>\n",
       "      <td>3/4 cup sliced celery,1/3 cup dried sweet cher...</td>\n",
       "    </tr>\n",
       "  </tbody>\n",
       "</table>\n",
       "</div>"
      ],
      "text/plain": [
       "          0    1    2        3         4         5    6    7  \\\n",
       "0  0.000000  0.0  0.0  0.00000  0.982843  0.000000  0.0  0.0   \n",
       "1  0.000000  0.0  0.0  0.99229  0.000000  0.000000  0.0  0.0   \n",
       "2  0.992290  0.0  0.0  0.00000  0.000000  0.000000  0.0  0.0   \n",
       "3  0.000000  0.0  0.0  0.00000  0.000000  0.990113  0.0  0.0   \n",
       "4  0.993055  0.0  0.0  0.00000  0.000000  0.000000  0.0  0.0   \n",
       "\n",
       "                          title  \\\n",
       "0              Chip Truck Fries   \n",
       "1  Irish Bacon And Cabbage Soup   \n",
       "2            Quick Salmon Salad   \n",
       "3        Bills Seasoned Ketchup   \n",
       "4                  Celery Salad   \n",
       "\n",
       "                                         ingredients  \n",
       "0  6 baking potatoes, cut into 1/4 inch slices,1/...  \n",
       "1  1/2 pound Irish bacon, diced,2 large potatoes,...  \n",
       "2  2 (6 ounce) cans pink salmon, drained,1/2 cup ...  \n",
       "3  1 (28 ounce) bottle ketchup,2 teaspoons hot pe...  \n",
       "4  3/4 cup sliced celery,1/3 cup dried sweet cher...  "
      ]
     },
     "execution_count": 115,
     "metadata": {},
     "output_type": "execute_result"
    }
   ],
   "source": [
    "# add recipe name\n",
    "lda_matrix = lda_matrix.merge(df, left_index=True, right_index=True, how='inner')\n",
    "lda_matrix.head()"
   ]
  },
  {
   "cell_type": "code",
   "execution_count": 116,
   "metadata": {},
   "outputs": [
    {
     "data": {
      "text/html": [
       "<div>\n",
       "<style scoped>\n",
       "    .dataframe tbody tr th:only-of-type {\n",
       "        vertical-align: middle;\n",
       "    }\n",
       "\n",
       "    .dataframe tbody tr th {\n",
       "        vertical-align: top;\n",
       "    }\n",
       "\n",
       "    .dataframe thead th {\n",
       "        text-align: right;\n",
       "    }\n",
       "</style>\n",
       "<table border=\"1\" class=\"dataframe\">\n",
       "  <thead>\n",
       "    <tr style=\"text-align: right;\">\n",
       "      <th></th>\n",
       "      <th>0</th>\n",
       "      <th>1</th>\n",
       "      <th>2</th>\n",
       "      <th>3</th>\n",
       "      <th>4</th>\n",
       "      <th>5</th>\n",
       "      <th>6</th>\n",
       "      <th>7</th>\n",
       "      <th>title</th>\n",
       "      <th>ingredients</th>\n",
       "    </tr>\n",
       "  </thead>\n",
       "  <tbody>\n",
       "    <tr>\n",
       "      <th>3755</th>\n",
       "      <td>0.997209</td>\n",
       "      <td>0.0</td>\n",
       "      <td>0.0</td>\n",
       "      <td>0.0</td>\n",
       "      <td>0.0</td>\n",
       "      <td>0.0</td>\n",
       "      <td>0.0</td>\n",
       "      <td>0.0</td>\n",
       "      <td>Fresh Salmon Burgers With Lemon Yogurt Sauce</td>\n",
       "      <td>Patties:,2 1/2 pounds salmon filet, skin and p...</td>\n",
       "    </tr>\n",
       "    <tr>\n",
       "      <th>2686</th>\n",
       "      <td>0.996128</td>\n",
       "      <td>0.0</td>\n",
       "      <td>0.0</td>\n",
       "      <td>0.0</td>\n",
       "      <td>0.0</td>\n",
       "      <td>0.0</td>\n",
       "      <td>0.0</td>\n",
       "      <td>0.0</td>\n",
       "      <td>Moms Shrimp Macaroni Salad</td>\n",
       "      <td>1 cup uncooked elbow macaroni,1 tablespoon fin...</td>\n",
       "    </tr>\n",
       "    <tr>\n",
       "      <th>4686</th>\n",
       "      <td>0.996128</td>\n",
       "      <td>0.0</td>\n",
       "      <td>0.0</td>\n",
       "      <td>0.0</td>\n",
       "      <td>0.0</td>\n",
       "      <td>0.0</td>\n",
       "      <td>0.0</td>\n",
       "      <td>0.0</td>\n",
       "      <td>Lemony Garlic Shrimp With Pasta</td>\n",
       "      <td>3/4 cup kosher salt,1 gallon cold water,2 poun...</td>\n",
       "    </tr>\n",
       "    <tr>\n",
       "      <th>1592</th>\n",
       "      <td>0.996128</td>\n",
       "      <td>0.0</td>\n",
       "      <td>0.0</td>\n",
       "      <td>0.0</td>\n",
       "      <td>0.0</td>\n",
       "      <td>0.0</td>\n",
       "      <td>0.0</td>\n",
       "      <td>0.0</td>\n",
       "      <td>Chef Johns Fresh Salmon Cakes</td>\n",
       "      <td>1 tablespoon extra-virgin olive oil,1/4 cup mi...</td>\n",
       "    </tr>\n",
       "    <tr>\n",
       "      <th>1540</th>\n",
       "      <td>0.995901</td>\n",
       "      <td>0.0</td>\n",
       "      <td>0.0</td>\n",
       "      <td>0.0</td>\n",
       "      <td>0.0</td>\n",
       "      <td>0.0</td>\n",
       "      <td>0.0</td>\n",
       "      <td>0.0</td>\n",
       "      <td>Chef Johns Crab Stuffed Sole</td>\n",
       "      <td>4 ounces fresh Dungeness crabmeat,1 tablespoon...</td>\n",
       "    </tr>\n",
       "  </tbody>\n",
       "</table>\n",
       "</div>"
      ],
      "text/plain": [
       "             0    1    2    3    4    5    6    7  \\\n",
       "3755  0.997209  0.0  0.0  0.0  0.0  0.0  0.0  0.0   \n",
       "2686  0.996128  0.0  0.0  0.0  0.0  0.0  0.0  0.0   \n",
       "4686  0.996128  0.0  0.0  0.0  0.0  0.0  0.0  0.0   \n",
       "1592  0.996128  0.0  0.0  0.0  0.0  0.0  0.0  0.0   \n",
       "1540  0.995901  0.0  0.0  0.0  0.0  0.0  0.0  0.0   \n",
       "\n",
       "                                             title  \\\n",
       "3755  Fresh Salmon Burgers With Lemon Yogurt Sauce   \n",
       "2686                    Moms Shrimp Macaroni Salad   \n",
       "4686               Lemony Garlic Shrimp With Pasta   \n",
       "1592                 Chef Johns Fresh Salmon Cakes   \n",
       "1540                  Chef Johns Crab Stuffed Sole   \n",
       "\n",
       "                                            ingredients  \n",
       "3755  Patties:,2 1/2 pounds salmon filet, skin and p...  \n",
       "2686  1 cup uncooked elbow macaroni,1 tablespoon fin...  \n",
       "4686  3/4 cup kosher salt,1 gallon cold water,2 poun...  \n",
       "1592  1 tablespoon extra-virgin olive oil,1/4 cup mi...  \n",
       "1540  4 ounces fresh Dungeness crabmeat,1 tablespoon...  "
      ]
     },
     "execution_count": 116,
     "metadata": {},
     "output_type": "execute_result"
    }
   ],
   "source": [
    "# assign topic names \n",
    "lda_matrix.sort_values(by=0, ascending=False)[:5]\n",
    "# topic 0 looks like seafood"
   ]
  },
  {
   "cell_type": "code",
   "execution_count": 117,
   "metadata": {},
   "outputs": [
    {
     "data": {
      "text/html": [
       "<div>\n",
       "<style scoped>\n",
       "    .dataframe tbody tr th:only-of-type {\n",
       "        vertical-align: middle;\n",
       "    }\n",
       "\n",
       "    .dataframe tbody tr th {\n",
       "        vertical-align: top;\n",
       "    }\n",
       "\n",
       "    .dataframe thead th {\n",
       "        text-align: right;\n",
       "    }\n",
       "</style>\n",
       "<table border=\"1\" class=\"dataframe\">\n",
       "  <thead>\n",
       "    <tr style=\"text-align: right;\">\n",
       "      <th></th>\n",
       "      <th>0</th>\n",
       "      <th>1</th>\n",
       "      <th>2</th>\n",
       "      <th>3</th>\n",
       "      <th>4</th>\n",
       "      <th>5</th>\n",
       "      <th>6</th>\n",
       "      <th>7</th>\n",
       "      <th>title</th>\n",
       "      <th>ingredients</th>\n",
       "    </tr>\n",
       "  </thead>\n",
       "  <tbody>\n",
       "    <tr>\n",
       "      <th>4071</th>\n",
       "      <td>0.0</td>\n",
       "      <td>0.991336</td>\n",
       "      <td>0.0</td>\n",
       "      <td>0.0</td>\n",
       "      <td>0.0</td>\n",
       "      <td>0.0</td>\n",
       "      <td>0.0</td>\n",
       "      <td>0.0</td>\n",
       "      <td>Smoked Turkey</td>\n",
       "      <td>1 (12 pound) whole turkey, neck and giblets re...</td>\n",
       "    </tr>\n",
       "    <tr>\n",
       "      <th>3391</th>\n",
       "      <td>0.0</td>\n",
       "      <td>0.991336</td>\n",
       "      <td>0.0</td>\n",
       "      <td>0.0</td>\n",
       "      <td>0.0</td>\n",
       "      <td>0.0</td>\n",
       "      <td>0.0</td>\n",
       "      <td>0.0</td>\n",
       "      <td>Slow Cooker Cinnamon Apple Steel Cut Oats</td>\n",
       "      <td>cooking spray,8 cups water,23 ounces unsweeten...</td>\n",
       "    </tr>\n",
       "    <tr>\n",
       "      <th>575</th>\n",
       "      <td>0.0</td>\n",
       "      <td>0.988486</td>\n",
       "      <td>0.0</td>\n",
       "      <td>0.0</td>\n",
       "      <td>0.0</td>\n",
       "      <td>0.0</td>\n",
       "      <td>0.0</td>\n",
       "      <td>0.0</td>\n",
       "      <td>Mandarin Orange Watergate Salad</td>\n",
       "      <td>2 (16 ounce) cans crushed pineapple, drained,2...</td>\n",
       "    </tr>\n",
       "    <tr>\n",
       "      <th>3956</th>\n",
       "      <td>0.0</td>\n",
       "      <td>0.982842</td>\n",
       "      <td>0.0</td>\n",
       "      <td>0.0</td>\n",
       "      <td>0.0</td>\n",
       "      <td>0.0</td>\n",
       "      <td>0.0</td>\n",
       "      <td>0.0</td>\n",
       "      <td>Quick Vegan Breakfast Bowl With Fruit</td>\n",
       "      <td>1 (6 ounce) container vegan strawberry yogurt,...</td>\n",
       "    </tr>\n",
       "    <tr>\n",
       "      <th>1840</th>\n",
       "      <td>0.0</td>\n",
       "      <td>0.977272</td>\n",
       "      <td>0.0</td>\n",
       "      <td>0.0</td>\n",
       "      <td>0.0</td>\n",
       "      <td>0.0</td>\n",
       "      <td>0.0</td>\n",
       "      <td>0.0</td>\n",
       "      <td>Ham With Honey And Brown Sugar Glaze</td>\n",
       "      <td>1 (5 pound) fully cooked sliced ham,1/4 cup wh...</td>\n",
       "    </tr>\n",
       "  </tbody>\n",
       "</table>\n",
       "</div>"
      ],
      "text/plain": [
       "        0         1    2    3    4    5    6    7  \\\n",
       "4071  0.0  0.991336  0.0  0.0  0.0  0.0  0.0  0.0   \n",
       "3391  0.0  0.991336  0.0  0.0  0.0  0.0  0.0  0.0   \n",
       "575   0.0  0.988486  0.0  0.0  0.0  0.0  0.0  0.0   \n",
       "3956  0.0  0.982842  0.0  0.0  0.0  0.0  0.0  0.0   \n",
       "1840  0.0  0.977272  0.0  0.0  0.0  0.0  0.0  0.0   \n",
       "\n",
       "                                          title  \\\n",
       "4071                              Smoked Turkey   \n",
       "3391  Slow Cooker Cinnamon Apple Steel Cut Oats   \n",
       "575             Mandarin Orange Watergate Salad   \n",
       "3956      Quick Vegan Breakfast Bowl With Fruit   \n",
       "1840       Ham With Honey And Brown Sugar Glaze   \n",
       "\n",
       "                                            ingredients  \n",
       "4071  1 (12 pound) whole turkey, neck and giblets re...  \n",
       "3391  cooking spray,8 cups water,23 ounces unsweeten...  \n",
       "575   2 (16 ounce) cans crushed pineapple, drained,2...  \n",
       "3956  1 (6 ounce) container vegan strawberry yogurt,...  \n",
       "1840  1 (5 pound) fully cooked sliced ham,1/4 cup wh...  "
      ]
     },
     "execution_count": 117,
     "metadata": {},
     "output_type": "execute_result"
    }
   ],
   "source": [
    "lda_matrix.sort_values(by=1, ascending=False)[:5]\n",
    "# topic 1 looks like salad"
   ]
  },
  {
   "cell_type": "code",
   "execution_count": 118,
   "metadata": {},
   "outputs": [
    {
     "data": {
      "text/html": [
       "<div>\n",
       "<style scoped>\n",
       "    .dataframe tbody tr th:only-of-type {\n",
       "        vertical-align: middle;\n",
       "    }\n",
       "\n",
       "    .dataframe tbody tr th {\n",
       "        vertical-align: top;\n",
       "    }\n",
       "\n",
       "    .dataframe thead th {\n",
       "        text-align: right;\n",
       "    }\n",
       "</style>\n",
       "<table border=\"1\" class=\"dataframe\">\n",
       "  <thead>\n",
       "    <tr style=\"text-align: right;\">\n",
       "      <th></th>\n",
       "      <th>0</th>\n",
       "      <th>1</th>\n",
       "      <th>2</th>\n",
       "      <th>3</th>\n",
       "      <th>4</th>\n",
       "      <th>5</th>\n",
       "      <th>6</th>\n",
       "      <th>7</th>\n",
       "      <th>title</th>\n",
       "      <th>ingredients</th>\n",
       "    </tr>\n",
       "  </thead>\n",
       "  <tbody>\n",
       "    <tr>\n",
       "      <th>3961</th>\n",
       "      <td>0.0</td>\n",
       "      <td>0.0</td>\n",
       "      <td>0.997093</td>\n",
       "      <td>0.0</td>\n",
       "      <td>0.0</td>\n",
       "      <td>0.0</td>\n",
       "      <td>0.0</td>\n",
       "      <td>0.0</td>\n",
       "      <td>Gluten Free Spicy Sesame Peanut Noodles</td>\n",
       "      <td>1 pound gluten-free brown rice noodles,4 table...</td>\n",
       "    </tr>\n",
       "    <tr>\n",
       "      <th>740</th>\n",
       "      <td>0.0</td>\n",
       "      <td>0.0</td>\n",
       "      <td>0.996967</td>\n",
       "      <td>0.0</td>\n",
       "      <td>0.0</td>\n",
       "      <td>0.0</td>\n",
       "      <td>0.0</td>\n",
       "      <td>0.0</td>\n",
       "      <td>Spring Rolls With Coconut Peanut Sauce</td>\n",
       "      <td>Spring Rolls:,2 carrots, julienned,1 red bell ...</td>\n",
       "    </tr>\n",
       "    <tr>\n",
       "      <th>4418</th>\n",
       "      <td>0.0</td>\n",
       "      <td>0.0</td>\n",
       "      <td>0.996830</td>\n",
       "      <td>0.0</td>\n",
       "      <td>0.0</td>\n",
       "      <td>0.0</td>\n",
       "      <td>0.0</td>\n",
       "      <td>0.0</td>\n",
       "      <td>Asian Lettuce Wraps</td>\n",
       "      <td>16 Boston Bibb or butter lettuce leaves,1 poun...</td>\n",
       "    </tr>\n",
       "    <tr>\n",
       "      <th>2974</th>\n",
       "      <td>0.0</td>\n",
       "      <td>0.0</td>\n",
       "      <td>0.996679</td>\n",
       "      <td>0.0</td>\n",
       "      <td>0.0</td>\n",
       "      <td>0.0</td>\n",
       "      <td>0.0</td>\n",
       "      <td>0.0</td>\n",
       "      <td>Turkey Lettuce Wraps With Shiitake Mushrooms</td>\n",
       "      <td>2 cups water,2 ounces mai fun (angel hair) ric...</td>\n",
       "    </tr>\n",
       "    <tr>\n",
       "      <th>1477</th>\n",
       "      <td>0.0</td>\n",
       "      <td>0.0</td>\n",
       "      <td>0.996679</td>\n",
       "      <td>0.0</td>\n",
       "      <td>0.0</td>\n",
       "      <td>0.0</td>\n",
       "      <td>0.0</td>\n",
       "      <td>0.0</td>\n",
       "      <td>Slow Cooker Red Curry Beef Pot Roast</td>\n",
       "      <td>1 (2 1/2 pound) boneless beef chuck roast,salt...</td>\n",
       "    </tr>\n",
       "  </tbody>\n",
       "</table>\n",
       "</div>"
      ],
      "text/plain": [
       "        0    1         2    3    4    5    6    7  \\\n",
       "3961  0.0  0.0  0.997093  0.0  0.0  0.0  0.0  0.0   \n",
       "740   0.0  0.0  0.996967  0.0  0.0  0.0  0.0  0.0   \n",
       "4418  0.0  0.0  0.996830  0.0  0.0  0.0  0.0  0.0   \n",
       "2974  0.0  0.0  0.996679  0.0  0.0  0.0  0.0  0.0   \n",
       "1477  0.0  0.0  0.996679  0.0  0.0  0.0  0.0  0.0   \n",
       "\n",
       "                                             title  \\\n",
       "3961       Gluten Free Spicy Sesame Peanut Noodles   \n",
       "740         Spring Rolls With Coconut Peanut Sauce   \n",
       "4418                           Asian Lettuce Wraps   \n",
       "2974  Turkey Lettuce Wraps With Shiitake Mushrooms   \n",
       "1477          Slow Cooker Red Curry Beef Pot Roast   \n",
       "\n",
       "                                            ingredients  \n",
       "3961  1 pound gluten-free brown rice noodles,4 table...  \n",
       "740   Spring Rolls:,2 carrots, julienned,1 red bell ...  \n",
       "4418  16 Boston Bibb or butter lettuce leaves,1 poun...  \n",
       "2974  2 cups water,2 ounces mai fun (angel hair) ric...  \n",
       "1477  1 (2 1/2 pound) boneless beef chuck roast,salt...  "
      ]
     },
     "execution_count": 118,
     "metadata": {},
     "output_type": "execute_result"
    }
   ],
   "source": [
    "lda_matrix.sort_values(by=2, ascending=False)[:5]\n",
    "# topic 2 looks like cream-based"
   ]
  },
  {
   "cell_type": "code",
   "execution_count": 119,
   "metadata": {},
   "outputs": [
    {
     "data": {
      "text/html": [
       "<div>\n",
       "<style scoped>\n",
       "    .dataframe tbody tr th:only-of-type {\n",
       "        vertical-align: middle;\n",
       "    }\n",
       "\n",
       "    .dataframe tbody tr th {\n",
       "        vertical-align: top;\n",
       "    }\n",
       "\n",
       "    .dataframe thead th {\n",
       "        text-align: right;\n",
       "    }\n",
       "</style>\n",
       "<table border=\"1\" class=\"dataframe\">\n",
       "  <thead>\n",
       "    <tr style=\"text-align: right;\">\n",
       "      <th></th>\n",
       "      <th>0</th>\n",
       "      <th>1</th>\n",
       "      <th>2</th>\n",
       "      <th>3</th>\n",
       "      <th>4</th>\n",
       "      <th>5</th>\n",
       "      <th>6</th>\n",
       "      <th>7</th>\n",
       "      <th>title</th>\n",
       "      <th>ingredients</th>\n",
       "    </tr>\n",
       "  </thead>\n",
       "  <tbody>\n",
       "    <tr>\n",
       "      <th>4538</th>\n",
       "      <td>0.0</td>\n",
       "      <td>0.0</td>\n",
       "      <td>0.0</td>\n",
       "      <td>0.997415</td>\n",
       "      <td>0.0</td>\n",
       "      <td>0.0</td>\n",
       "      <td>0.0</td>\n",
       "      <td>0.0</td>\n",
       "      <td>Boilermaker Tailgate Chili</td>\n",
       "      <td>2 pounds ground beef chuck,1 pound bulk Italia...</td>\n",
       "    </tr>\n",
       "    <tr>\n",
       "      <th>271</th>\n",
       "      <td>0.0</td>\n",
       "      <td>0.0</td>\n",
       "      <td>0.0</td>\n",
       "      <td>0.997093</td>\n",
       "      <td>0.0</td>\n",
       "      <td>0.0</td>\n",
       "      <td>0.0</td>\n",
       "      <td>0.0</td>\n",
       "      <td>Killer Chili</td>\n",
       "      <td>1 (1 pound) package bacon,3 pounds ground beef...</td>\n",
       "    </tr>\n",
       "    <tr>\n",
       "      <th>328</th>\n",
       "      <td>0.0</td>\n",
       "      <td>0.0</td>\n",
       "      <td>0.0</td>\n",
       "      <td>0.996830</td>\n",
       "      <td>0.0</td>\n",
       "      <td>0.0</td>\n",
       "      <td>0.0</td>\n",
       "      <td>0.0</td>\n",
       "      <td>Hearty Vegan Slow Cooker Chili</td>\n",
       "      <td>1 tablespoon olive oil,1 green bell pepper, ch...</td>\n",
       "    </tr>\n",
       "    <tr>\n",
       "      <th>4437</th>\n",
       "      <td>0.0</td>\n",
       "      <td>0.0</td>\n",
       "      <td>0.0</td>\n",
       "      <td>0.996830</td>\n",
       "      <td>0.0</td>\n",
       "      <td>0.0</td>\n",
       "      <td>0.0</td>\n",
       "      <td>0.0</td>\n",
       "      <td>The Best Vegetarian Chili In The World</td>\n",
       "      <td>1 tablespoon olive oil,1/2 medium onion, chopp...</td>\n",
       "    </tr>\n",
       "    <tr>\n",
       "      <th>4163</th>\n",
       "      <td>0.0</td>\n",
       "      <td>0.0</td>\n",
       "      <td>0.0</td>\n",
       "      <td>0.996679</td>\n",
       "      <td>0.0</td>\n",
       "      <td>0.0</td>\n",
       "      <td>0.0</td>\n",
       "      <td>0.0</td>\n",
       "      <td>Fusion Chili</td>\n",
       "      <td>10 dried ancho chiles - chopped, stemmed and s...</td>\n",
       "    </tr>\n",
       "  </tbody>\n",
       "</table>\n",
       "</div>"
      ],
      "text/plain": [
       "        0    1    2         3    4    5    6    7  \\\n",
       "4538  0.0  0.0  0.0  0.997415  0.0  0.0  0.0  0.0   \n",
       "271   0.0  0.0  0.0  0.997093  0.0  0.0  0.0  0.0   \n",
       "328   0.0  0.0  0.0  0.996830  0.0  0.0  0.0  0.0   \n",
       "4437  0.0  0.0  0.0  0.996830  0.0  0.0  0.0  0.0   \n",
       "4163  0.0  0.0  0.0  0.996679  0.0  0.0  0.0  0.0   \n",
       "\n",
       "                                       title  \\\n",
       "4538              Boilermaker Tailgate Chili   \n",
       "271                             Killer Chili   \n",
       "328           Hearty Vegan Slow Cooker Chili   \n",
       "4437  The Best Vegetarian Chili In The World   \n",
       "4163                            Fusion Chili   \n",
       "\n",
       "                                            ingredients  \n",
       "4538  2 pounds ground beef chuck,1 pound bulk Italia...  \n",
       "271   1 (1 pound) package bacon,3 pounds ground beef...  \n",
       "328   1 tablespoon olive oil,1 green bell pepper, ch...  \n",
       "4437  1 tablespoon olive oil,1/2 medium onion, chopp...  \n",
       "4163  10 dried ancho chiles - chopped, stemmed and s...  "
      ]
     },
     "execution_count": 119,
     "metadata": {},
     "output_type": "execute_result"
    }
   ],
   "source": [
    "lda_matrix.sort_values(by=3, ascending=False)[:5]"
   ]
  },
  {
   "cell_type": "code",
   "execution_count": 120,
   "metadata": {},
   "outputs": [
    {
     "data": {
      "text/html": [
       "<div>\n",
       "<style scoped>\n",
       "    .dataframe tbody tr th:only-of-type {\n",
       "        vertical-align: middle;\n",
       "    }\n",
       "\n",
       "    .dataframe tbody tr th {\n",
       "        vertical-align: top;\n",
       "    }\n",
       "\n",
       "    .dataframe thead th {\n",
       "        text-align: right;\n",
       "    }\n",
       "</style>\n",
       "<table border=\"1\" class=\"dataframe\">\n",
       "  <thead>\n",
       "    <tr style=\"text-align: right;\">\n",
       "      <th></th>\n",
       "      <th>0</th>\n",
       "      <th>1</th>\n",
       "      <th>2</th>\n",
       "      <th>3</th>\n",
       "      <th>4</th>\n",
       "      <th>5</th>\n",
       "      <th>6</th>\n",
       "      <th>7</th>\n",
       "      <th>title</th>\n",
       "      <th>ingredients</th>\n",
       "    </tr>\n",
       "  </thead>\n",
       "  <tbody>\n",
       "    <tr>\n",
       "      <th>1350</th>\n",
       "      <td>0.0</td>\n",
       "      <td>0.0</td>\n",
       "      <td>0.0</td>\n",
       "      <td>0.0</td>\n",
       "      <td>0.996679</td>\n",
       "      <td>0.0</td>\n",
       "      <td>0.0</td>\n",
       "      <td>0.0</td>\n",
       "      <td>Irish Shepherds Pie</td>\n",
       "      <td>1 tablespoon olive oil,1 tablespoon butter,1 o...</td>\n",
       "    </tr>\n",
       "    <tr>\n",
       "      <th>1700</th>\n",
       "      <td>0.0</td>\n",
       "      <td>0.0</td>\n",
       "      <td>0.0</td>\n",
       "      <td>0.0</td>\n",
       "      <td>0.996679</td>\n",
       "      <td>0.0</td>\n",
       "      <td>0.0</td>\n",
       "      <td>0.0</td>\n",
       "      <td>Stuffed Hasselback Turkey Breast</td>\n",
       "      <td>Basic Stuffing:,1/2 cup diced onion,1/2 cup di...</td>\n",
       "    </tr>\n",
       "    <tr>\n",
       "      <th>3432</th>\n",
       "      <td>0.0</td>\n",
       "      <td>0.0</td>\n",
       "      <td>0.0</td>\n",
       "      <td>0.0</td>\n",
       "      <td>0.996331</td>\n",
       "      <td>0.0</td>\n",
       "      <td>0.0</td>\n",
       "      <td>0.0</td>\n",
       "      <td>Chef Johns Make Ahead Turkey Gravy</td>\n",
       "      <td>1 large onion, chopped,2 carrots, chopped,2 ri...</td>\n",
       "    </tr>\n",
       "    <tr>\n",
       "      <th>1327</th>\n",
       "      <td>0.0</td>\n",
       "      <td>0.0</td>\n",
       "      <td>0.0</td>\n",
       "      <td>0.0</td>\n",
       "      <td>0.996128</td>\n",
       "      <td>0.0</td>\n",
       "      <td>0.0</td>\n",
       "      <td>0.0</td>\n",
       "      <td>Chef Johns Roast Turkey And Gravy</td>\n",
       "      <td>2 tablespoons kosher salt,1 tablespoon ground ...</td>\n",
       "    </tr>\n",
       "    <tr>\n",
       "      <th>1474</th>\n",
       "      <td>0.0</td>\n",
       "      <td>0.0</td>\n",
       "      <td>0.0</td>\n",
       "      <td>0.0</td>\n",
       "      <td>0.995902</td>\n",
       "      <td>0.0</td>\n",
       "      <td>0.0</td>\n",
       "      <td>0.0</td>\n",
       "      <td>Chef Johns Baked Mushroom Risotto</td>\n",
       "      <td>3 tablespoons butter,3 cups diced mushrooms,sa...</td>\n",
       "    </tr>\n",
       "  </tbody>\n",
       "</table>\n",
       "</div>"
      ],
      "text/plain": [
       "        0    1    2    3         4    5    6    7  \\\n",
       "1350  0.0  0.0  0.0  0.0  0.996679  0.0  0.0  0.0   \n",
       "1700  0.0  0.0  0.0  0.0  0.996679  0.0  0.0  0.0   \n",
       "3432  0.0  0.0  0.0  0.0  0.996331  0.0  0.0  0.0   \n",
       "1327  0.0  0.0  0.0  0.0  0.996128  0.0  0.0  0.0   \n",
       "1474  0.0  0.0  0.0  0.0  0.995902  0.0  0.0  0.0   \n",
       "\n",
       "                                   title  \\\n",
       "1350                 Irish Shepherds Pie   \n",
       "1700    Stuffed Hasselback Turkey Breast   \n",
       "3432  Chef Johns Make Ahead Turkey Gravy   \n",
       "1327   Chef Johns Roast Turkey And Gravy   \n",
       "1474   Chef Johns Baked Mushroom Risotto   \n",
       "\n",
       "                                            ingredients  \n",
       "1350  1 tablespoon olive oil,1 tablespoon butter,1 o...  \n",
       "1700  Basic Stuffing:,1/2 cup diced onion,1/2 cup di...  \n",
       "3432  1 large onion, chopped,2 carrots, chopped,2 ri...  \n",
       "1327  2 tablespoons kosher salt,1 tablespoon ground ...  \n",
       "1474  3 tablespoons butter,3 cups diced mushrooms,sa...  "
      ]
     },
     "execution_count": 120,
     "metadata": {},
     "output_type": "execute_result"
    }
   ],
   "source": [
    "lda_matrix.sort_values(by=4, ascending=False)[:5]"
   ]
  },
  {
   "cell_type": "code",
   "execution_count": 121,
   "metadata": {},
   "outputs": [
    {
     "data": {
      "text/html": [
       "<div>\n",
       "<style scoped>\n",
       "    .dataframe tbody tr th:only-of-type {\n",
       "        vertical-align: middle;\n",
       "    }\n",
       "\n",
       "    .dataframe tbody tr th {\n",
       "        vertical-align: top;\n",
       "    }\n",
       "\n",
       "    .dataframe thead th {\n",
       "        text-align: right;\n",
       "    }\n",
       "</style>\n",
       "<table border=\"1\" class=\"dataframe\">\n",
       "  <thead>\n",
       "    <tr style=\"text-align: right;\">\n",
       "      <th></th>\n",
       "      <th>0</th>\n",
       "      <th>1</th>\n",
       "      <th>2</th>\n",
       "      <th>3</th>\n",
       "      <th>4</th>\n",
       "      <th>5</th>\n",
       "      <th>6</th>\n",
       "      <th>7</th>\n",
       "      <th>title</th>\n",
       "      <th>ingredients</th>\n",
       "    </tr>\n",
       "  </thead>\n",
       "  <tbody>\n",
       "    <tr>\n",
       "      <th>1630</th>\n",
       "      <td>0.0</td>\n",
       "      <td>0.0</td>\n",
       "      <td>0.0</td>\n",
       "      <td>0.0</td>\n",
       "      <td>0.0</td>\n",
       "      <td>0.996331</td>\n",
       "      <td>0.0</td>\n",
       "      <td>0.0</td>\n",
       "      <td>Home Cured Holiday Ham</td>\n",
       "      <td>1 (7 pound) fresh, bone-in pork shoulder (\"pic...</td>\n",
       "    </tr>\n",
       "    <tr>\n",
       "      <th>1664</th>\n",
       "      <td>0.0</td>\n",
       "      <td>0.0</td>\n",
       "      <td>0.0</td>\n",
       "      <td>0.0</td>\n",
       "      <td>0.0</td>\n",
       "      <td>0.996128</td>\n",
       "      <td>0.0</td>\n",
       "      <td>0.0</td>\n",
       "      <td>North Carolina Style Pulled Pork</td>\n",
       "      <td>1 tablespoon mild paprika,2 teaspoons light br...</td>\n",
       "    </tr>\n",
       "    <tr>\n",
       "      <th>1288</th>\n",
       "      <td>0.0</td>\n",
       "      <td>0.0</td>\n",
       "      <td>0.0</td>\n",
       "      <td>0.0</td>\n",
       "      <td>0.0</td>\n",
       "      <td>0.995647</td>\n",
       "      <td>0.0</td>\n",
       "      <td>0.0</td>\n",
       "      <td>Smokey Chipotle Meatloaf</td>\n",
       "      <td>2 eggs,1/3 cup hickory flavored barbeque sauce...</td>\n",
       "    </tr>\n",
       "    <tr>\n",
       "      <th>1619</th>\n",
       "      <td>0.0</td>\n",
       "      <td>0.0</td>\n",
       "      <td>0.0</td>\n",
       "      <td>0.0</td>\n",
       "      <td>0.0</td>\n",
       "      <td>0.995647</td>\n",
       "      <td>0.0</td>\n",
       "      <td>0.0</td>\n",
       "      <td>Canadian Pork Loin Chops</td>\n",
       "      <td>Spice Rub:,1 1/2 tablespoons brown sugar,1 1/2...</td>\n",
       "    </tr>\n",
       "    <tr>\n",
       "      <th>769</th>\n",
       "      <td>0.0</td>\n",
       "      <td>0.0</td>\n",
       "      <td>0.0</td>\n",
       "      <td>0.0</td>\n",
       "      <td>0.0</td>\n",
       "      <td>0.995358</td>\n",
       "      <td>0.0</td>\n",
       "      <td>0.0</td>\n",
       "      <td>Coney Island Hot Dogs</td>\n",
       "      <td>1 1/2 pounds lean ground beef,2 cups water, or...</td>\n",
       "    </tr>\n",
       "  </tbody>\n",
       "</table>\n",
       "</div>"
      ],
      "text/plain": [
       "        0    1    2    3    4         5    6    7  \\\n",
       "1630  0.0  0.0  0.0  0.0  0.0  0.996331  0.0  0.0   \n",
       "1664  0.0  0.0  0.0  0.0  0.0  0.996128  0.0  0.0   \n",
       "1288  0.0  0.0  0.0  0.0  0.0  0.995647  0.0  0.0   \n",
       "1619  0.0  0.0  0.0  0.0  0.0  0.995647  0.0  0.0   \n",
       "769   0.0  0.0  0.0  0.0  0.0  0.995358  0.0  0.0   \n",
       "\n",
       "                                 title  \\\n",
       "1630            Home Cured Holiday Ham   \n",
       "1664  North Carolina Style Pulled Pork   \n",
       "1288          Smokey Chipotle Meatloaf   \n",
       "1619          Canadian Pork Loin Chops   \n",
       "769              Coney Island Hot Dogs   \n",
       "\n",
       "                                            ingredients  \n",
       "1630  1 (7 pound) fresh, bone-in pork shoulder (\"pic...  \n",
       "1664  1 tablespoon mild paprika,2 teaspoons light br...  \n",
       "1288  2 eggs,1/3 cup hickory flavored barbeque sauce...  \n",
       "1619  Spice Rub:,1 1/2 tablespoons brown sugar,1 1/2...  \n",
       "769   1 1/2 pounds lean ground beef,2 cups water, or...  "
      ]
     },
     "execution_count": 121,
     "metadata": {},
     "output_type": "execute_result"
    }
   ],
   "source": [
    "lda_matrix.sort_values(by=5, ascending=False)[:5]"
   ]
  },
  {
   "cell_type": "code",
   "execution_count": 122,
   "metadata": {},
   "outputs": [
    {
     "data": {
      "text/html": [
       "<div>\n",
       "<style scoped>\n",
       "    .dataframe tbody tr th:only-of-type {\n",
       "        vertical-align: middle;\n",
       "    }\n",
       "\n",
       "    .dataframe tbody tr th {\n",
       "        vertical-align: top;\n",
       "    }\n",
       "\n",
       "    .dataframe thead th {\n",
       "        text-align: right;\n",
       "    }\n",
       "</style>\n",
       "<table border=\"1\" class=\"dataframe\">\n",
       "  <thead>\n",
       "    <tr style=\"text-align: right;\">\n",
       "      <th></th>\n",
       "      <th>0</th>\n",
       "      <th>1</th>\n",
       "      <th>2</th>\n",
       "      <th>3</th>\n",
       "      <th>4</th>\n",
       "      <th>5</th>\n",
       "      <th>6</th>\n",
       "      <th>7</th>\n",
       "      <th>title</th>\n",
       "      <th>ingredients</th>\n",
       "    </tr>\n",
       "  </thead>\n",
       "  <tbody>\n",
       "    <tr>\n",
       "      <th>1483</th>\n",
       "      <td>0.0</td>\n",
       "      <td>0.0</td>\n",
       "      <td>0.0</td>\n",
       "      <td>0.0</td>\n",
       "      <td>0.0</td>\n",
       "      <td>0.0</td>\n",
       "      <td>0.996830</td>\n",
       "      <td>0.0</td>\n",
       "      <td>Chef Johns Meatless Meatballs</td>\n",
       "      <td>1 tablespoon olive oil,1 pound fresh white mus...</td>\n",
       "    </tr>\n",
       "    <tr>\n",
       "      <th>1742</th>\n",
       "      <td>0.0</td>\n",
       "      <td>0.0</td>\n",
       "      <td>0.0</td>\n",
       "      <td>0.0</td>\n",
       "      <td>0.0</td>\n",
       "      <td>0.0</td>\n",
       "      <td>0.996514</td>\n",
       "      <td>0.0</td>\n",
       "      <td>Meatball Stuffed Garlic Bread Sliders</td>\n",
       "      <td>2 tablespoons olive oil, divided,1 yellow onio...</td>\n",
       "    </tr>\n",
       "    <tr>\n",
       "      <th>1527</th>\n",
       "      <td>0.0</td>\n",
       "      <td>0.0</td>\n",
       "      <td>0.0</td>\n",
       "      <td>0.0</td>\n",
       "      <td>0.0</td>\n",
       "      <td>0.0</td>\n",
       "      <td>0.996514</td>\n",
       "      <td>0.0</td>\n",
       "      <td>Worlds Best Lasagna</td>\n",
       "      <td>1 pound sweet Italian sausage,3/4 pound lean g...</td>\n",
       "    </tr>\n",
       "    <tr>\n",
       "      <th>1446</th>\n",
       "      <td>0.0</td>\n",
       "      <td>0.0</td>\n",
       "      <td>0.0</td>\n",
       "      <td>0.0</td>\n",
       "      <td>0.0</td>\n",
       "      <td>0.0</td>\n",
       "      <td>0.996514</td>\n",
       "      <td>0.0</td>\n",
       "      <td>Chef Johns Steak Pizzaiola</td>\n",
       "      <td>1 pound beef tenderloin steaks, cut into 4 med...</td>\n",
       "    </tr>\n",
       "    <tr>\n",
       "      <th>1521</th>\n",
       "      <td>0.0</td>\n",
       "      <td>0.0</td>\n",
       "      <td>0.0</td>\n",
       "      <td>0.0</td>\n",
       "      <td>0.0</td>\n",
       "      <td>0.0</td>\n",
       "      <td>0.996331</td>\n",
       "      <td>0.0</td>\n",
       "      <td>Eggplant Parmesan Casserole</td>\n",
       "      <td>2 large eggplants,2 tablespoons olive oil,1 pi...</td>\n",
       "    </tr>\n",
       "  </tbody>\n",
       "</table>\n",
       "</div>"
      ],
      "text/plain": [
       "        0    1    2    3    4    5         6    7  \\\n",
       "1483  0.0  0.0  0.0  0.0  0.0  0.0  0.996830  0.0   \n",
       "1742  0.0  0.0  0.0  0.0  0.0  0.0  0.996514  0.0   \n",
       "1527  0.0  0.0  0.0  0.0  0.0  0.0  0.996514  0.0   \n",
       "1446  0.0  0.0  0.0  0.0  0.0  0.0  0.996514  0.0   \n",
       "1521  0.0  0.0  0.0  0.0  0.0  0.0  0.996331  0.0   \n",
       "\n",
       "                                      title  \\\n",
       "1483          Chef Johns Meatless Meatballs   \n",
       "1742  Meatball Stuffed Garlic Bread Sliders   \n",
       "1527                    Worlds Best Lasagna   \n",
       "1446             Chef Johns Steak Pizzaiola   \n",
       "1521           Eggplant Parmesan Casserole    \n",
       "\n",
       "                                            ingredients  \n",
       "1483  1 tablespoon olive oil,1 pound fresh white mus...  \n",
       "1742  2 tablespoons olive oil, divided,1 yellow onio...  \n",
       "1527  1 pound sweet Italian sausage,3/4 pound lean g...  \n",
       "1446  1 pound beef tenderloin steaks, cut into 4 med...  \n",
       "1521  2 large eggplants,2 tablespoons olive oil,1 pi...  "
      ]
     },
     "execution_count": 122,
     "metadata": {},
     "output_type": "execute_result"
    }
   ],
   "source": [
    "lda_matrix.sort_values(by=6, ascending=False)[:5]"
   ]
  },
  {
   "cell_type": "code",
   "execution_count": 123,
   "metadata": {},
   "outputs": [
    {
     "data": {
      "text/html": [
       "<div>\n",
       "<style scoped>\n",
       "    .dataframe tbody tr th:only-of-type {\n",
       "        vertical-align: middle;\n",
       "    }\n",
       "\n",
       "    .dataframe tbody tr th {\n",
       "        vertical-align: top;\n",
       "    }\n",
       "\n",
       "    .dataframe thead th {\n",
       "        text-align: right;\n",
       "    }\n",
       "</style>\n",
       "<table border=\"1\" class=\"dataframe\">\n",
       "  <thead>\n",
       "    <tr style=\"text-align: right;\">\n",
       "      <th></th>\n",
       "      <th>0</th>\n",
       "      <th>1</th>\n",
       "      <th>2</th>\n",
       "      <th>3</th>\n",
       "      <th>4</th>\n",
       "      <th>5</th>\n",
       "      <th>6</th>\n",
       "      <th>7</th>\n",
       "      <th>title</th>\n",
       "      <th>ingredients</th>\n",
       "    </tr>\n",
       "  </thead>\n",
       "  <tbody>\n",
       "    <tr>\n",
       "      <th>3140</th>\n",
       "      <td>0.0</td>\n",
       "      <td>0.0</td>\n",
       "      <td>0.0</td>\n",
       "      <td>0.0</td>\n",
       "      <td>0.0</td>\n",
       "      <td>0.0</td>\n",
       "      <td>0.0</td>\n",
       "      <td>0.996331</td>\n",
       "      <td>Classic Cinnamon Rolls</td>\n",
       "      <td>Rolls:,1 cup mashed potatoes,1 cup reserved po...</td>\n",
       "    </tr>\n",
       "    <tr>\n",
       "      <th>958</th>\n",
       "      <td>0.0</td>\n",
       "      <td>0.0</td>\n",
       "      <td>0.0</td>\n",
       "      <td>0.0</td>\n",
       "      <td>0.0</td>\n",
       "      <td>0.0</td>\n",
       "      <td>0.0</td>\n",
       "      <td>0.996128</td>\n",
       "      <td>Bread Machine Pumpernickel Bread</td>\n",
       "      <td>1 1/8 cups warm water,1 1/2 tablespoons vegeta...</td>\n",
       "    </tr>\n",
       "    <tr>\n",
       "      <th>66</th>\n",
       "      <td>0.0</td>\n",
       "      <td>0.0</td>\n",
       "      <td>0.0</td>\n",
       "      <td>0.0</td>\n",
       "      <td>0.0</td>\n",
       "      <td>0.0</td>\n",
       "      <td>0.0</td>\n",
       "      <td>0.996128</td>\n",
       "      <td>Seeduction Bread</td>\n",
       "      <td>1 1/4 cups warm water (105 degrees to 115 degr...</td>\n",
       "    </tr>\n",
       "    <tr>\n",
       "      <th>3524</th>\n",
       "      <td>0.0</td>\n",
       "      <td>0.0</td>\n",
       "      <td>0.0</td>\n",
       "      <td>0.0</td>\n",
       "      <td>0.0</td>\n",
       "      <td>0.0</td>\n",
       "      <td>0.0</td>\n",
       "      <td>0.995901</td>\n",
       "      <td>Chef Johns Sweet Potato Casserole</td>\n",
       "      <td>Sweet potatoes:,2 1/2 pounds sweet potatoes, p...</td>\n",
       "    </tr>\n",
       "    <tr>\n",
       "      <th>290</th>\n",
       "      <td>0.0</td>\n",
       "      <td>0.0</td>\n",
       "      <td>0.0</td>\n",
       "      <td>0.0</td>\n",
       "      <td>0.0</td>\n",
       "      <td>0.0</td>\n",
       "      <td>0.0</td>\n",
       "      <td>0.995028</td>\n",
       "      <td>Fried Monte Cristo Sandwich</td>\n",
       "      <td>12 slices sandwich bread, crusts removed,8 sli...</td>\n",
       "    </tr>\n",
       "  </tbody>\n",
       "</table>\n",
       "</div>"
      ],
      "text/plain": [
       "        0    1    2    3    4    5    6         7  \\\n",
       "3140  0.0  0.0  0.0  0.0  0.0  0.0  0.0  0.996331   \n",
       "958   0.0  0.0  0.0  0.0  0.0  0.0  0.0  0.996128   \n",
       "66    0.0  0.0  0.0  0.0  0.0  0.0  0.0  0.996128   \n",
       "3524  0.0  0.0  0.0  0.0  0.0  0.0  0.0  0.995901   \n",
       "290   0.0  0.0  0.0  0.0  0.0  0.0  0.0  0.995028   \n",
       "\n",
       "                                   title  \\\n",
       "3140              Classic Cinnamon Rolls   \n",
       "958     Bread Machine Pumpernickel Bread   \n",
       "66                      Seeduction Bread   \n",
       "3524  Chef Johns Sweet Potato Casserole    \n",
       "290          Fried Monte Cristo Sandwich   \n",
       "\n",
       "                                            ingredients  \n",
       "3140  Rolls:,1 cup mashed potatoes,1 cup reserved po...  \n",
       "958   1 1/8 cups warm water,1 1/2 tablespoons vegeta...  \n",
       "66    1 1/4 cups warm water (105 degrees to 115 degr...  \n",
       "3524  Sweet potatoes:,2 1/2 pounds sweet potatoes, p...  \n",
       "290   12 slices sandwich bread, crusts removed,8 sli...  "
      ]
     },
     "execution_count": 123,
     "metadata": {},
     "output_type": "execute_result"
    }
   ],
   "source": [
    "lda_matrix.sort_values(by=7, ascending=False)[:5]"
   ]
  },
  {
   "cell_type": "code",
   "execution_count": 125,
   "metadata": {},
   "outputs": [
    {
     "data": {
      "text/html": [
       "<div>\n",
       "<style scoped>\n",
       "    .dataframe tbody tr th:only-of-type {\n",
       "        vertical-align: middle;\n",
       "    }\n",
       "\n",
       "    .dataframe tbody tr th {\n",
       "        vertical-align: top;\n",
       "    }\n",
       "\n",
       "    .dataframe thead th {\n",
       "        text-align: right;\n",
       "    }\n",
       "</style>\n",
       "<table border=\"1\" class=\"dataframe\">\n",
       "  <thead>\n",
       "    <tr style=\"text-align: right;\">\n",
       "      <th></th>\n",
       "      <th>seafood</th>\n",
       "      <th>salad</th>\n",
       "      <th>cream_based</th>\n",
       "      <th>asian</th>\n",
       "      <th>baking_goods</th>\n",
       "      <th>meat</th>\n",
       "      <th>italian</th>\n",
       "      <th>mexican</th>\n",
       "      <th>title</th>\n",
       "    </tr>\n",
       "  </thead>\n",
       "  <tbody>\n",
       "    <tr>\n",
       "      <th>0</th>\n",
       "      <td>0.000000</td>\n",
       "      <td>0.0</td>\n",
       "      <td>0.0</td>\n",
       "      <td>0.00000</td>\n",
       "      <td>0.982843</td>\n",
       "      <td>0.000000</td>\n",
       "      <td>0.0</td>\n",
       "      <td>0.0</td>\n",
       "      <td>Chip Truck Fries</td>\n",
       "    </tr>\n",
       "    <tr>\n",
       "      <th>1</th>\n",
       "      <td>0.000000</td>\n",
       "      <td>0.0</td>\n",
       "      <td>0.0</td>\n",
       "      <td>0.99229</td>\n",
       "      <td>0.000000</td>\n",
       "      <td>0.000000</td>\n",
       "      <td>0.0</td>\n",
       "      <td>0.0</td>\n",
       "      <td>Irish Bacon And Cabbage Soup</td>\n",
       "    </tr>\n",
       "    <tr>\n",
       "      <th>2</th>\n",
       "      <td>0.992290</td>\n",
       "      <td>0.0</td>\n",
       "      <td>0.0</td>\n",
       "      <td>0.00000</td>\n",
       "      <td>0.000000</td>\n",
       "      <td>0.000000</td>\n",
       "      <td>0.0</td>\n",
       "      <td>0.0</td>\n",
       "      <td>Quick Salmon Salad</td>\n",
       "    </tr>\n",
       "    <tr>\n",
       "      <th>3</th>\n",
       "      <td>0.000000</td>\n",
       "      <td>0.0</td>\n",
       "      <td>0.0</td>\n",
       "      <td>0.00000</td>\n",
       "      <td>0.000000</td>\n",
       "      <td>0.990113</td>\n",
       "      <td>0.0</td>\n",
       "      <td>0.0</td>\n",
       "      <td>Bills Seasoned Ketchup</td>\n",
       "    </tr>\n",
       "    <tr>\n",
       "      <th>4</th>\n",
       "      <td>0.993055</td>\n",
       "      <td>0.0</td>\n",
       "      <td>0.0</td>\n",
       "      <td>0.00000</td>\n",
       "      <td>0.000000</td>\n",
       "      <td>0.000000</td>\n",
       "      <td>0.0</td>\n",
       "      <td>0.0</td>\n",
       "      <td>Celery Salad</td>\n",
       "    </tr>\n",
       "  </tbody>\n",
       "</table>\n",
       "</div>"
      ],
      "text/plain": [
       "    seafood  salad  cream_based    asian  baking_goods      meat  italian  \\\n",
       "0  0.000000    0.0          0.0  0.00000      0.982843  0.000000      0.0   \n",
       "1  0.000000    0.0          0.0  0.99229      0.000000  0.000000      0.0   \n",
       "2  0.992290    0.0          0.0  0.00000      0.000000  0.000000      0.0   \n",
       "3  0.000000    0.0          0.0  0.00000      0.000000  0.990113      0.0   \n",
       "4  0.993055    0.0          0.0  0.00000      0.000000  0.000000      0.0   \n",
       "\n",
       "   mexican                         title  \n",
       "0      0.0              Chip Truck Fries  \n",
       "1      0.0  Irish Bacon And Cabbage Soup  \n",
       "2      0.0            Quick Salmon Salad  \n",
       "3      0.0        Bills Seasoned Ketchup  \n",
       "4      0.0                  Celery Salad  "
      ]
     },
     "execution_count": 125,
     "metadata": {},
     "output_type": "execute_result"
    }
   ],
   "source": [
    "# drop ingredients columns \n",
    "lda_matrix.drop('ingredients', axis=1, inplace=True)\n",
    "\n",
    "# change column names according to the recipes belonging\n",
    "lda_matrix.columns = ['seafood','salad','cream_based','asian','baking_goods','meat','italian','mexican','title']\n",
    "lda_matrix.head()"
   ]
  },
  {
   "cell_type": "code",
   "execution_count": 126,
   "metadata": {},
   "outputs": [
    {
     "data": {
      "text/html": [
       "<div>\n",
       "<style scoped>\n",
       "    .dataframe tbody tr th:only-of-type {\n",
       "        vertical-align: middle;\n",
       "    }\n",
       "\n",
       "    .dataframe tbody tr th {\n",
       "        vertical-align: top;\n",
       "    }\n",
       "\n",
       "    .dataframe thead th {\n",
       "        text-align: right;\n",
       "    }\n",
       "</style>\n",
       "<table border=\"1\" class=\"dataframe\">\n",
       "  <thead>\n",
       "    <tr style=\"text-align: right;\">\n",
       "      <th></th>\n",
       "      <th>seafood</th>\n",
       "      <th>salad</th>\n",
       "      <th>cream_based</th>\n",
       "      <th>asian</th>\n",
       "      <th>baking_goods</th>\n",
       "      <th>meat</th>\n",
       "      <th>italian</th>\n",
       "      <th>mexican</th>\n",
       "    </tr>\n",
       "    <tr>\n",
       "      <th>title</th>\n",
       "      <th></th>\n",
       "      <th></th>\n",
       "      <th></th>\n",
       "      <th></th>\n",
       "      <th></th>\n",
       "      <th></th>\n",
       "      <th></th>\n",
       "      <th></th>\n",
       "    </tr>\n",
       "  </thead>\n",
       "  <tbody>\n",
       "    <tr>\n",
       "      <th>Chip Truck Fries</th>\n",
       "      <td>0.000000</td>\n",
       "      <td>0.0</td>\n",
       "      <td>0.0</td>\n",
       "      <td>0.00000</td>\n",
       "      <td>0.982843</td>\n",
       "      <td>0.000000</td>\n",
       "      <td>0.0</td>\n",
       "      <td>0.0</td>\n",
       "    </tr>\n",
       "    <tr>\n",
       "      <th>Irish Bacon And Cabbage Soup</th>\n",
       "      <td>0.000000</td>\n",
       "      <td>0.0</td>\n",
       "      <td>0.0</td>\n",
       "      <td>0.99229</td>\n",
       "      <td>0.000000</td>\n",
       "      <td>0.000000</td>\n",
       "      <td>0.0</td>\n",
       "      <td>0.0</td>\n",
       "    </tr>\n",
       "    <tr>\n",
       "      <th>Quick Salmon Salad</th>\n",
       "      <td>0.992290</td>\n",
       "      <td>0.0</td>\n",
       "      <td>0.0</td>\n",
       "      <td>0.00000</td>\n",
       "      <td>0.000000</td>\n",
       "      <td>0.000000</td>\n",
       "      <td>0.0</td>\n",
       "      <td>0.0</td>\n",
       "    </tr>\n",
       "    <tr>\n",
       "      <th>Bills Seasoned Ketchup</th>\n",
       "      <td>0.000000</td>\n",
       "      <td>0.0</td>\n",
       "      <td>0.0</td>\n",
       "      <td>0.00000</td>\n",
       "      <td>0.000000</td>\n",
       "      <td>0.990113</td>\n",
       "      <td>0.0</td>\n",
       "      <td>0.0</td>\n",
       "    </tr>\n",
       "    <tr>\n",
       "      <th>Celery Salad</th>\n",
       "      <td>0.993055</td>\n",
       "      <td>0.0</td>\n",
       "      <td>0.0</td>\n",
       "      <td>0.00000</td>\n",
       "      <td>0.000000</td>\n",
       "      <td>0.000000</td>\n",
       "      <td>0.0</td>\n",
       "      <td>0.0</td>\n",
       "    </tr>\n",
       "  </tbody>\n",
       "</table>\n",
       "</div>"
      ],
      "text/plain": [
       "                               seafood  salad  cream_based    asian  \\\n",
       "title                                                                 \n",
       "Chip Truck Fries              0.000000    0.0          0.0  0.00000   \n",
       "Irish Bacon And Cabbage Soup  0.000000    0.0          0.0  0.99229   \n",
       "Quick Salmon Salad            0.992290    0.0          0.0  0.00000   \n",
       "Bills Seasoned Ketchup        0.000000    0.0          0.0  0.00000   \n",
       "Celery Salad                  0.993055    0.0          0.0  0.00000   \n",
       "\n",
       "                              baking_goods      meat  italian  mexican  \n",
       "title                                                                   \n",
       "Chip Truck Fries                  0.982843  0.000000      0.0      0.0  \n",
       "Irish Bacon And Cabbage Soup      0.000000  0.000000      0.0      0.0  \n",
       "Quick Salmon Salad                0.000000  0.000000      0.0      0.0  \n",
       "Bills Seasoned Ketchup            0.000000  0.990113      0.0      0.0  \n",
       "Celery Salad                      0.000000  0.000000      0.0      0.0  "
      ]
     },
     "execution_count": 126,
     "metadata": {},
     "output_type": "execute_result"
    }
   ],
   "source": [
    "lda_matrix.set_index('title', inplace=True)\n",
    "lda_matrix.head()"
   ]
  },
  {
   "cell_type": "code",
   "execution_count": 127,
   "metadata": {},
   "outputs": [],
   "source": [
    "# save lda_matrix\n",
    "lda_matrix.to_csv('recipe_lda.csv')"
   ]
  },
  {
   "cell_type": "code",
   "execution_count": 128,
   "metadata": {},
   "outputs": [
    {
     "data": {
      "text/plain": [
       "(4776, 8)"
      ]
     },
     "execution_count": 128,
     "metadata": {},
     "output_type": "execute_result"
    }
   ],
   "source": [
    "lda_matrix.shape"
   ]
  },
  {
   "cell_type": "code",
   "execution_count": 136,
   "metadata": {},
   "outputs": [],
   "source": [
    "example = lda_matrix.loc[['Roast Beef Burritos', 'Bean With Bacon']]"
   ]
  },
  {
   "cell_type": "code",
   "execution_count": 137,
   "metadata": {},
   "outputs": [
    {
     "data": {
      "text/html": [
       "<div>\n",
       "<style scoped>\n",
       "    .dataframe tbody tr th:only-of-type {\n",
       "        vertical-align: middle;\n",
       "    }\n",
       "\n",
       "    .dataframe tbody tr th {\n",
       "        vertical-align: top;\n",
       "    }\n",
       "\n",
       "    .dataframe thead th {\n",
       "        text-align: right;\n",
       "    }\n",
       "</style>\n",
       "<table border=\"1\" class=\"dataframe\">\n",
       "  <thead>\n",
       "    <tr style=\"text-align: right;\">\n",
       "      <th></th>\n",
       "      <th>seafood</th>\n",
       "      <th>salad</th>\n",
       "      <th>cream_based</th>\n",
       "      <th>asian</th>\n",
       "      <th>baking_goods</th>\n",
       "      <th>meat</th>\n",
       "      <th>italian</th>\n",
       "      <th>mexican</th>\n",
       "    </tr>\n",
       "    <tr>\n",
       "      <th>title</th>\n",
       "      <th></th>\n",
       "      <th></th>\n",
       "      <th></th>\n",
       "      <th></th>\n",
       "      <th></th>\n",
       "      <th></th>\n",
       "      <th></th>\n",
       "      <th></th>\n",
       "    </tr>\n",
       "  </thead>\n",
       "  <tbody>\n",
       "    <tr>\n",
       "      <th>Roast Beef Burritos</th>\n",
       "      <td>0.0</td>\n",
       "      <td>0.0</td>\n",
       "      <td>0.0</td>\n",
       "      <td>0.836290</td>\n",
       "      <td>0.000000</td>\n",
       "      <td>0.158743</td>\n",
       "      <td>0.0</td>\n",
       "      <td>0.0</td>\n",
       "    </tr>\n",
       "    <tr>\n",
       "      <th>Bean With Bacon</th>\n",
       "      <td>0.0</td>\n",
       "      <td>0.0</td>\n",
       "      <td>0.0</td>\n",
       "      <td>0.323586</td>\n",
       "      <td>0.667939</td>\n",
       "      <td>0.000000</td>\n",
       "      <td>0.0</td>\n",
       "      <td>0.0</td>\n",
       "    </tr>\n",
       "  </tbody>\n",
       "</table>\n",
       "</div>"
      ],
      "text/plain": [
       "                     seafood  salad  cream_based     asian  baking_goods  \\\n",
       "title                                                                      \n",
       "Roast Beef Burritos      0.0    0.0          0.0  0.836290      0.000000   \n",
       "Bean With Bacon          0.0    0.0          0.0  0.323586      0.667939   \n",
       "\n",
       "                         meat  italian  mexican  \n",
       "title                                            \n",
       "Roast Beef Burritos  0.158743      0.0      0.0  \n",
       "Bean With Bacon      0.000000      0.0      0.0  "
      ]
     },
     "execution_count": 137,
     "metadata": {},
     "output_type": "execute_result"
    }
   ],
   "source": [
    "example"
   ]
  },
  {
   "cell_type": "code",
   "execution_count": 138,
   "metadata": {},
   "outputs": [
    {
     "data": {
      "text/plain": [
       "seafood         0.000000\n",
       "salad           0.000000\n",
       "cream_based     0.000000\n",
       "asian           0.836290\n",
       "baking_goods    0.000000\n",
       "meat            0.158743\n",
       "italian         0.000000\n",
       "mexican         0.000000\n",
       "Name: Roast Beef Burritos, dtype: float64"
      ]
     },
     "execution_count": 138,
     "metadata": {},
     "output_type": "execute_result"
    }
   ],
   "source": [
    "example.loc['Roast Beef Burritos']"
   ]
  },
  {
   "cell_type": "code",
   "execution_count": 140,
   "metadata": {},
   "outputs": [
    {
     "name": "stderr",
     "output_type": "stream",
     "text": [
      "C:\\Users\\chamo\\anaconda3\\lib\\site-packages\\seaborn\\categorical.py:340: DeprecationWarning: `np.float` is a deprecated alias for the builtin `float`. To silence this warning, use `float` by itself. Doing this will not modify any behavior and is safe. If you specifically wanted the numpy scalar type, use `np.float64` here.\n",
      "Deprecated in NumPy 1.20; for more details and guidance: https://numpy.org/devdocs/release/1.20.0-notes.html#deprecations\n",
      "  np.asarray(s, dtype=np.float)\n",
      "C:\\Users\\chamo\\anaconda3\\lib\\site-packages\\seaborn\\categorical.py:340: DeprecationWarning: `np.float` is a deprecated alias for the builtin `float`. To silence this warning, use `float` by itself. Doing this will not modify any behavior and is safe. If you specifically wanted the numpy scalar type, use `np.float64` here.\n",
      "Deprecated in NumPy 1.20; for more details and guidance: https://numpy.org/devdocs/release/1.20.0-notes.html#deprecations\n",
      "  np.asarray(s, dtype=np.float)\n",
      "C:\\Users\\chamo\\anaconda3\\lib\\site-packages\\seaborn\\utils.py:538: DeprecationWarning: `np.float` is a deprecated alias for the builtin `float`. To silence this warning, use `float` by itself. Doing this will not modify any behavior and is safe. If you specifically wanted the numpy scalar type, use `np.float64` here.\n",
      "Deprecated in NumPy 1.20; for more details and guidance: https://numpy.org/devdocs/release/1.20.0-notes.html#deprecations\n",
      "  np.asarray(values).astype(np.float)\n",
      "C:\\Users\\chamo\\anaconda3\\lib\\site-packages\\seaborn\\categorical.py:340: DeprecationWarning: `np.float` is a deprecated alias for the builtin `float`. To silence this warning, use `float` by itself. Doing this will not modify any behavior and is safe. If you specifically wanted the numpy scalar type, use `np.float64` here.\n",
      "Deprecated in NumPy 1.20; for more details and guidance: https://numpy.org/devdocs/release/1.20.0-notes.html#deprecations\n",
      "  np.asarray(s, dtype=np.float)\n",
      "C:\\Users\\chamo\\anaconda3\\lib\\site-packages\\seaborn\\categorical.py:340: DeprecationWarning: `np.float` is a deprecated alias for the builtin `float`. To silence this warning, use `float` by itself. Doing this will not modify any behavior and is safe. If you specifically wanted the numpy scalar type, use `np.float64` here.\n",
      "Deprecated in NumPy 1.20; for more details and guidance: https://numpy.org/devdocs/release/1.20.0-notes.html#deprecations\n",
      "  np.asarray(s, dtype=np.float)\n",
      "C:\\Users\\chamo\\anaconda3\\lib\\site-packages\\seaborn\\utils.py:538: DeprecationWarning: `np.float` is a deprecated alias for the builtin `float`. To silence this warning, use `float` by itself. Doing this will not modify any behavior and is safe. If you specifically wanted the numpy scalar type, use `np.float64` here.\n",
      "Deprecated in NumPy 1.20; for more details and guidance: https://numpy.org/devdocs/release/1.20.0-notes.html#deprecations\n",
      "  np.asarray(values).astype(np.float)\n"
     ]
    },
    {
     "data": {
      "image/png": "[encoded data removed]",
      "text/plain": [
       "<Figure size 1008x360 with 2 Axes>"
      ]
     },
     "metadata": {
      "needs_background": "light"
     },
     "output_type": "display_data"
    }
   ],
   "source": [
    "plt.figure(figsize=(14, 5))\n",
    "plt.subplot(1, 2, 1)\n",
    "sns.barplot(x=example.loc['Roast Beef Burritos'], y=example.columns.tolist(), color='green')\n",
    "plt.title('Roast Beef Burritos\\n', fontsize=16)\n",
    "plt.xlabel('')\n",
    "plt.xticks(fontsize='16')\n",
    "plt.yticks(fontsize='16');\n",
    "\n",
    "plt.subplot(1, 2, 2)\n",
    "sns.barplot(x=example.loc['Bean With Bacon'], y=example.columns.tolist(), color='green')\n",
    "plt.title('Bean With Bacon\\n', fontsize=16)\n",
    "plt.xlabel('')\n",
    "plt.xticks(fontsize='16')\n",
    "plt.yticks(fontsize='16')\n",
    "plt.subplots_adjust(wspace=0.5);"
   ]
  },
  {
   "cell_type": "code",
   "execution_count": null,
   "metadata": {},
   "outputs": [],
   "source": []
  }
 ],
 "metadata": {
  "kernelspec": {
   "display_name": "Python 3",
   "language": "python",
   "name": "python3"
  },
  "language_info": {
   "codemirror_mode": {
    "name": "ipython",
    "version": 3
   },
   "file_extension": ".py",
   "mimetype": "text/x-python",
   "name": "python",
   "nbconvert_exporter": "python",
   "pygments_lexer": "ipython3",
   "version": "3.7.6"
  }
 },
 "nbformat": 4,
 "nbformat_minor": 4
}
